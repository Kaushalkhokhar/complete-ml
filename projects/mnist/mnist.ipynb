{
 "cells": [
  {
   "cell_type": "code",
   "execution_count": 107,
   "id": "db5d2ced",
   "metadata": {},
   "outputs": [],
   "source": [
    "import numpy as np\n",
    "import pandas as pd\n",
    "import matplotlib.pyplot as plt\n",
    "%matplotlib inline"
   ]
  },
  {
   "cell_type": "code",
   "execution_count": 1,
   "id": "1397a821",
   "metadata": {},
   "outputs": [],
   "source": [
    "from sklearn.datasets import fetch_openml\n",
    "mnist = fetch_openml(\"mnist_784\" ,version=1)"
   ]
  },
  {
   "cell_type": "code",
   "execution_count": 2,
   "id": "1f82ba83",
   "metadata": {},
   "outputs": [
    {
     "data": {
      "text/plain": [
       "dict_keys(['data', 'target', 'frame', 'categories', 'feature_names', 'target_names', 'DESCR', 'details', 'url'])"
      ]
     },
     "execution_count": 2,
     "metadata": {},
     "output_type": "execute_result"
    }
   ],
   "source": [
    "mnist.keys()"
   ]
  },
  {
   "cell_type": "code",
   "execution_count": 7,
   "id": "559fb874",
   "metadata": {},
   "outputs": [
    {
     "data": {
      "text/plain": [
       "(70000, 784)"
      ]
     },
     "execution_count": 7,
     "metadata": {},
     "output_type": "execute_result"
    }
   ],
   "source": [
    "mnist.data.shape # features"
   ]
  },
  {
   "cell_type": "code",
   "execution_count": 8,
   "id": "9ede0bf8",
   "metadata": {},
   "outputs": [
    {
     "data": {
      "text/plain": [
       "(70000,)"
      ]
     },
     "execution_count": 8,
     "metadata": {},
     "output_type": "execute_result"
    }
   ],
   "source": [
    "mnist.target.shape # target"
   ]
  },
  {
   "cell_type": "code",
   "execution_count": 19,
   "id": "284daadb",
   "metadata": {},
   "outputs": [
    {
     "data": {
      "text/plain": [
       "(70000, 785)"
      ]
     },
     "execution_count": 19,
     "metadata": {},
     "output_type": "execute_result"
    }
   ],
   "source": [
    "mnist.frame.shape # combined"
   ]
  },
  {
   "cell_type": "code",
   "execution_count": 124,
   "id": "17cc2651",
   "metadata": {},
   "outputs": [],
   "source": [
    "X = mnist[\"data\"]\n",
    "y = mnist[\"target\"]"
   ]
  },
  {
   "cell_type": "markdown",
   "id": "d105a332",
   "metadata": {},
   "source": [
    "### Basis EDA"
   ]
  },
  {
   "cell_type": "code",
   "execution_count": 139,
   "id": "b738dd8a",
   "metadata": {},
   "outputs": [],
   "source": [
    "sample_digit = X.iloc[11]"
   ]
  },
  {
   "cell_type": "code",
   "execution_count": 140,
   "id": "e454e297",
   "metadata": {},
   "outputs": [],
   "source": [
    "sample_image = sample_digit.values.reshape(28, 28)"
   ]
  },
  {
   "cell_type": "code",
   "execution_count": 141,
   "id": "04f5f336",
   "metadata": {},
   "outputs": [
    {
     "data": {
      "image/png": "[encoded data removed]",
      "text/plain": [
       "<Figure size 432x288 with 1 Axes>"
      ]
     },
     "metadata": {
      "needs_background": "light"
     },
     "output_type": "display_data"
    }
   ],
   "source": [
    "plt.imshow(sample_image, cmap=\"binary\")\n",
    "# plt.axis(\"off\")\n",
    "plt.show()"
   ]
  },
  {
   "cell_type": "code",
   "execution_count": 142,
   "id": "357ea870",
   "metadata": {},
   "outputs": [
    {
     "data": {
      "text/plain": [
       "'5'"
      ]
     },
     "execution_count": 142,
     "metadata": {},
     "output_type": "execute_result"
    }
   ],
   "source": [
    "sample_label = y[11]\n",
    "sample_label"
   ]
  },
  {
   "cell_type": "code",
   "execution_count": 144,
   "id": "4b8c191b",
   "metadata": {},
   "outputs": [],
   "source": [
    "y = y.astype(np.uint8) # converting string labels to integers"
   ]
  },
  {
   "cell_type": "code",
   "execution_count": 145,
   "id": "373ae27b",
   "metadata": {},
   "outputs": [],
   "source": [
    "X_train, X_test, y_train, y_test = X.iloc[:60000], X.iloc[60000:], y.iloc[:60000], y.iloc[60000:]"
   ]
  },
  {
   "cell_type": "markdown",
   "id": "c61eddd3",
   "metadata": {},
   "source": [
    "### Implementing binary classifier"
   ]
  },
  {
   "cell_type": "code",
   "execution_count": 146,
   "id": "90c93e1a",
   "metadata": {},
   "outputs": [],
   "source": [
    "y_train_5 = (y_train == 5)\n",
    "y_test_5 = (y_test == 5)"
   ]
  },
  {
   "cell_type": "code",
   "execution_count": 147,
   "id": "de9616dd",
   "metadata": {},
   "outputs": [
    {
     "data": {
      "text/plain": [
       "SGDClassifier(random_state=42)"
      ]
     },
     "execution_count": 147,
     "metadata": {},
     "output_type": "execute_result"
    }
   ],
   "source": [
    "from sklearn.linear_model import SGDClassifier \n",
    "\n",
    "sgd_clf = SGDClassifier(random_state = 42)\n",
    "sgd_clf.fit(X_train, y_train_5)"
   ]
  },
  {
   "cell_type": "code",
   "execution_count": 148,
   "id": "75788881",
   "metadata": {},
   "outputs": [
    {
     "name": "stderr",
     "output_type": "stream",
     "text": [
      "D:\\TheCompleteML\\env\\lib\\site-packages\\sklearn\\base.py:450: UserWarning: X does not have valid feature names, but SGDClassifier was fitted with feature names\n",
      "  warnings.warn(\n"
     ]
    },
    {
     "data": {
      "text/plain": [
       "array([ True])"
      ]
     },
     "execution_count": 148,
     "metadata": {},
     "output_type": "execute_result"
    }
   ],
   "source": [
    "sgd_clf.predict([sample_digit])"
   ]
  },
  {
   "cell_type": "markdown",
   "id": "285e2eab",
   "metadata": {},
   "source": [
    "#### Performance measures"
   ]
  },
  {
   "cell_type": "code",
   "execution_count": 166,
   "id": "df8b8ca3",
   "metadata": {},
   "outputs": [
    {
     "name": "stdout",
     "output_type": "stream",
     "text": [
      "0.9669\n",
      "0.91625\n",
      "0.96785\n"
     ]
    }
   ],
   "source": [
    "\"\"\"Occasionally you will need more control over the cross-validation \n",
    "process than what Scikit-Learn provides off the shelf. \n",
    "In these cases, you can implement cross-validation yourself. \n",
    "The following code does roughly the same thing as Scikit-Learn’s \n",
    "cross_val_score() function, and it prints the same result:\"\"\"\n",
    "\n",
    "\n",
    "from sklearn.model_selection import StratifiedKFold\n",
    "from sklearn.base import clone\n",
    "\n",
    "sk_fold = StratifiedKFold(n_splits=3, shuffle=True, random_state=42)\n",
    "\n",
    "for train_index, test_index in sk_fold.split(X_train, y_train_5):\n",
    "    X_train_fold = X_train.iloc[train_index]\n",
    "    y_train_fold = y_train_5.iloc[train_index]\n",
    "    X_test_fold = X_train.iloc[test_index]\n",
    "    y_test_fold = y_train_5.iloc[test_index]\n",
    "    \n",
    "    clone_clf = clone(sgd_clf)\n",
    "    clone_clf.fit(X_train_fold, y_train_fold)\n",
    "    y_pred = clone_clf.predict(X_test_fold)\n",
    "    n_correct = sum(y_pred == y_test_fold)\n",
    "    print(n_correct/len(y_pred))"
   ]
  },
  {
   "cell_type": "code",
   "execution_count": 167,
   "id": "c72cb718",
   "metadata": {},
   "outputs": [
    {
     "data": {
      "text/plain": [
       "array([0.95035, 0.96035, 0.9604 ])"
      ]
     },
     "execution_count": 167,
     "metadata": {},
     "output_type": "execute_result"
    }
   ],
   "source": [
    "from sklearn.model_selection import cross_val_score\n",
    "\n",
    "clone_clf = clone(sgd_clf)\n",
    "cross_val_score(clone_clf, X_train, y_train_5, cv=3, scoring=\"accuracy\")"
   ]
  },
  {
   "cell_type": "markdown",
   "id": "002405cd",
   "metadata": {},
   "source": [
    "##### Observations \n",
    "    - Here accuracy is about 92% and also higher than it. But unfortunately it is due to more skewed datasets. It hase 90% false(not five) and 10% true(five) values.\n",
    "    - So accuracy is not preferred performance measure for classifiers specially when we have skewed datasets"
   ]
  },
  {
   "cell_type": "markdown",
   "id": "a4b7bddb",
   "metadata": {},
   "source": [
    "#### Confusion Matrix"
   ]
  },
  {
   "cell_type": "code",
   "execution_count": 173,
   "id": "c27963bb",
   "metadata": {},
   "outputs": [],
   "source": [
    "from sklearn.model_selection import cross_val_predict\n",
    "\n",
    "y_train_pred = cross_val_predict(sgd_clf, X_train, y_train_5, cv=3)"
   ]
  },
  {
   "cell_type": "code",
   "execution_count": 177,
   "id": "793818fd",
   "metadata": {},
   "outputs": [
    {
     "data": {
      "text/plain": [
       "array([[53892,   687],\n",
       "       [ 1891,  3530]], dtype=int64)"
      ]
     },
     "execution_count": 177,
     "metadata": {},
     "output_type": "execute_result"
    }
   ],
   "source": [
    "from sklearn.metrics import confusion_matrix\n",
    "confusion_matrix(y_train_5, y_train_pred)"
   ]
  },
  {
   "cell_type": "markdown",
   "id": "a2dc436c",
   "metadata": {},
   "source": [
    "##### Observations\n",
    "    - True Negative: 53892\n",
    "    - False Positive: 987\n",
    "    - False Negative: 1891\n",
    "    - True Positive: 3530\n",
    "    \n",
    "    Precision: \n",
    "        - measure of accuracy of postive predictions \n",
    "        - Equation: TP/TP + FP\n",
    "    Recall: \n",
    "        - measurre of positive instances that are correcly classified\n",
    "        - Equation: TP/TP + FN"
   ]
  },
  {
   "cell_type": "markdown",
   "id": "ad43f4cd",
   "metadata": {},
   "source": [
    "#### Precision and Recall"
   ]
  },
  {
   "cell_type": "code",
   "execution_count": 182,
   "id": "669cec37",
   "metadata": {},
   "outputs": [
    {
     "data": {
      "text/plain": [
       "0.8370879772350012"
      ]
     },
     "execution_count": 182,
     "metadata": {},
     "output_type": "execute_result"
    }
   ],
   "source": [
    "from sklearn.metrics import precision_score, recall_score\n",
    "\n",
    "precision_score(y_train_5, y_train_pred)"
   ]
  },
  {
   "cell_type": "code",
   "execution_count": 181,
   "id": "30d578d0",
   "metadata": {},
   "outputs": [
    {
     "data": {
      "text/plain": [
       "0.6511713705958311"
      ]
     },
     "execution_count": 181,
     "metadata": {},
     "output_type": "execute_result"
    }
   ],
   "source": [
    "recall_score(y_train_5, y_train_pred)"
   ]
  },
  {
   "cell_type": "markdown",
   "id": "6defb219",
   "metadata": {},
   "source": [
    "##### Observations\n",
    "    - when it claims an image represents a 5, it is coorect only 83.71% of time and it detects 65.12% of the 5s"
   ]
  },
  {
   "cell_type": "markdown",
   "id": "a88616ab",
   "metadata": {},
   "source": [
    "#### F1 score"
   ]
  },
  {
   "cell_type": "code",
   "execution_count": 183,
   "id": "c0e51039",
   "metadata": {},
   "outputs": [
    {
     "data": {
      "text/plain": [
       "0.7325171197343846"
      ]
     },
     "execution_count": 183,
     "metadata": {},
     "output_type": "execute_result"
    }
   ],
   "source": [
    "from sklearn.metrics import f1_score\n",
    "\n",
    "f1_score(y_train_5, y_train_pred)"
   ]
  },
  {
   "cell_type": "markdown",
   "id": "90b1a8ec",
   "metadata": {},
   "source": [
    "##### Notes\n",
    "    - The F1 score is hamrmonic mean of precision and recall. Regular mean treats all the values equally, the harmonis mean gives much more weight to low values. As a result, the classifier only get a high F1 score if both recall and precision are high"
   ]
  },
  {
   "cell_type": "markdown",
   "id": "6f945857",
   "metadata": {},
   "source": [
    "#### To get classifier score "
   ]
  },
  {
   "cell_type": "code",
   "execution_count": 185,
   "id": "ebe8fbd9",
   "metadata": {},
   "outputs": [
    {
     "name": "stderr",
     "output_type": "stream",
     "text": [
      "D:\\TheCompleteML\\env\\lib\\site-packages\\sklearn\\base.py:450: UserWarning: X does not have valid feature names, but SGDClassifier was fitted with feature names\n",
      "  warnings.warn(\n"
     ]
    }
   ],
   "source": [
    "y_scores = sgd_clf.decision_function([sample_digit])"
   ]
  },
  {
   "cell_type": "code",
   "execution_count": 187,
   "id": "27a3f586",
   "metadata": {},
   "outputs": [
    {
     "data": {
      "text/plain": [
       "array([4742.52813158])"
      ]
     },
     "execution_count": 187,
     "metadata": {},
     "output_type": "execute_result"
    }
   ],
   "source": [
    "y_scores"
   ]
  },
  {
   "cell_type": "code",
   "execution_count": 190,
   "id": "c00afb6e",
   "metadata": {},
   "outputs": [
    {
     "data": {
      "text/plain": [
       "array([ True])"
      ]
     },
     "execution_count": 190,
     "metadata": {},
     "output_type": "execute_result"
    }
   ],
   "source": [
    "threshold =  0\n",
    "(y_scores>threshold)"
   ]
  },
  {
   "cell_type": "code",
   "execution_count": 191,
   "id": "e2fb0748",
   "metadata": {},
   "outputs": [
    {
     "data": {
      "text/plain": [
       "array([False])"
      ]
     },
     "execution_count": 191,
     "metadata": {},
     "output_type": "execute_result"
    }
   ],
   "source": [
    "threshold =  8000\n",
    "(y_scores>threshold)"
   ]
  },
  {
   "cell_type": "markdown",
   "id": "1f39ab47",
   "metadata": {},
   "source": [
    "##### Observations\n",
    "    - as we increase the threshold recall score will decrease and precision score increases, and vice versa"
   ]
  },
  {
   "cell_type": "markdown",
   "id": "020f8b7c",
   "metadata": {},
   "source": [
    "#### Deciding the threshold?"
   ]
  },
  {
   "cell_type": "code",
   "execution_count": 273,
   "id": "7db4c3e5",
   "metadata": {},
   "outputs": [],
   "source": [
    "clone_clf = clone(sgd_clf)"
   ]
  },
  {
   "cell_type": "code",
   "execution_count": 274,
   "id": "f8f09979",
   "metadata": {},
   "outputs": [],
   "source": [
    "y_scores = cross_val_predict(clone_clf, X_train, y_train_5, cv=3, method=\"decision_function\")"
   ]
  },
  {
   "cell_type": "code",
   "execution_count": 275,
   "id": "ae4511ab",
   "metadata": {},
   "outputs": [],
   "source": [
    "from sklearn.metrics import precision_recall_curve\n",
    "\n",
    "precisions, recalls, thresholds = precision_recall_curve(y_train_5, y_scores)"
   ]
  },
  {
   "cell_type": "code",
   "execution_count": 276,
   "id": "cda15a84",
   "metadata": {},
   "outputs": [],
   "source": [
    "def plot_precision_recall_vs_threshold(precisions, recalls, thresholds):\n",
    "    plt.plot(thresholds, precisions[:-1], \"b--\", label=\"Precision\")\n",
    "    plt.plot(thresholds, recalls[:-1], \"g-\", label=\"Recall\")\n",
    "    plt.legend((\"Precision\", \"Recall\"))\n",
    "    plt.xlabel(\"Threshold\")\n",
    "    plt.ylabel(\"Score\")\n",
    "    plt.grid()\n",
    "    plt.show()"
   ]
  },
  {
   "cell_type": "code",
   "execution_count": 277,
   "id": "b89c869c",
   "metadata": {},
   "outputs": [
    {
     "data": {
      "image/png": "[encoded data removed]",
      "text/plain": [
       "<Figure size 432x288 with 1 Axes>"
      ]
     },
     "metadata": {
      "needs_background": "light"
     },
     "output_type": "display_data"
    }
   ],
   "source": [
    "plot_precision_recall_vs_threshold(precisions, recalls, thresholds)"
   ]
  },
  {
   "cell_type": "code",
   "execution_count": 297,
   "id": "0b898236",
   "metadata": {},
   "outputs": [],
   "source": [
    "def plot_precision_vs_recall(precisions, recalls):\n",
    "    plt.plot(recalls, precisions)\n",
    "    plt.xlabel(\"Recalls\")\n",
    "    plt.ylabel(\"Precisions\")\n",
    "    plt.grid()\n",
    "    plt.show()"
   ]
  },
  {
   "cell_type": "code",
   "execution_count": 298,
   "id": "c13a8650",
   "metadata": {},
   "outputs": [
    {
     "data": {
      "image/png": "[encoded data removed]",
      "text/plain": [
       "<Figure size 432x288 with 1 Axes>"
      ]
     },
     "metadata": {
      "needs_background": "light"
     },
     "output_type": "display_data"
    }
   ],
   "source": [
    "plot_precision_vs_recall(precisions, recalls)"
   ]
  },
  {
   "cell_type": "markdown",
   "id": "0c48359d",
   "metadata": {},
   "source": [
    "#### To get 90% precision values\n",
    "    - first we need to get the value of thresholds where precision is just crossing above 90%\n",
    "    - prediction should be done based on that threshold value rathre then predict method"
   ]
  },
  {
   "cell_type": "code",
   "execution_count": 305,
   "id": "3117e511",
   "metadata": {},
   "outputs": [],
   "source": [
    "threshold_90_precision = thresholds[np.argmax(precisions>=0.90)]"
   ]
  },
  {
   "cell_type": "code",
   "execution_count": 306,
   "id": "20f352b8",
   "metadata": {},
   "outputs": [],
   "source": [
    "y_train_pred_90 = (y_scores >= threshold_90_precision)"
   ]
  },
  {
   "cell_type": "code",
   "execution_count": 307,
   "id": "0e9385a2",
   "metadata": {},
   "outputs": [
    {
     "data": {
      "text/plain": [
       "0.9000345901072293"
      ]
     },
     "execution_count": 307,
     "metadata": {},
     "output_type": "execute_result"
    }
   ],
   "source": [
    "precision_score(y_train_5, y_train_pred_90)"
   ]
  },
  {
   "cell_type": "code",
   "execution_count": 308,
   "id": "adea90a4",
   "metadata": {},
   "outputs": [
    {
     "data": {
      "text/plain": [
       "0.4799852425751706"
      ]
     },
     "execution_count": 308,
     "metadata": {},
     "output_type": "execute_result"
    }
   ],
   "source": [
    "recall_score(y_train_5, y_train_pred_90)"
   ]
  },
  {
   "cell_type": "markdown",
   "id": "af8d6e12",
   "metadata": {},
   "source": [
    "##### Observations\n",
    "    - Thus like this we can get whatever precision and recall score.\n",
    "    - but high precision model with recall is too low can't be used much\n",
    "    \n",
    "    Note:\n",
    "        - If someone says, “Let’s reach 99% precision,” you should ask, “At what recall?”"
   ]
  },
  {
   "cell_type": "markdown",
   "id": "78e2d2f7",
   "metadata": {},
   "source": [
    "#### ROC(Receiver operating characteristic) Curve\n",
    "    - ROC curve the TPR(True positive rate) againts the FPR(False positive rate)\n",
    "    - FPR is the ratio negative instances that are incorrectly classified\n",
    "    - Equation: FPR = 1 - TNR\n",
    "    - TNR is ratio of negative instances that are correctly classsified. Which is also known as specificity\n",
    "    - Hence ROC curve plots sensitivity vs 1 - specificity "
   ]
  },
  {
   "cell_type": "code",
   "execution_count": 310,
   "id": "0896d5ec",
   "metadata": {},
   "outputs": [],
   "source": [
    "from sklearn.metrics import roc_curve\n",
    "\n",
    "fpr, tpr, thresholds = roc_curve(y_train_5, y_scores)"
   ]
  },
  {
   "cell_type": "code",
   "execution_count": 319,
   "id": "10fbbdce",
   "metadata": {},
   "outputs": [],
   "source": [
    "def plot_roc_curve(fpr, tpr, label=None):\n",
    "    plt.plot(fpr, tpr, linewidth=2, label=label)\n",
    "    plt.plot([0, 1], [0, 1], \"k--\")\n",
    "    plt.xlabel(\"False Positive Rate\")\n",
    "    plt.ylabel(\"True Negative Rate\")\n",
    "    plt.grid()\n",
    "    plt.show()"
   ]
  },
  {
   "cell_type": "code",
   "execution_count": 320,
   "id": "0c12eb57",
   "metadata": {},
   "outputs": [
    {
     "data": {
      "image/png": "[encoded data removed]",
      "text/plain": [
       "<Figure size 432x288 with 1 Axes>"
      ]
     },
     "metadata": {
      "needs_background": "light"
     },
     "output_type": "display_data"
    }
   ],
   "source": [
    "plot_roc_curve(fpr, tpr)"
   ]
  },
  {
   "cell_type": "markdown",
   "id": "db433307",
   "metadata": {},
   "source": [
    "##### Observations\n",
    "    - Again trade-off here, the higher the TPR lower the FPR\n",
    "    - The dotted line here represents the ROC curve of purely random cladssifier, a good classifier stays as far away from that line\n",
    "    \n",
    "##### Note:\n",
    "        - One way to compare the classifier is to measure the area under the curve(AUC).\n",
    "        - Perfect classifier will have a ROC AUC 1, where as random classfier will have ROC AUC value 0.5"
   ]
  },
  {
   "cell_type": "code",
   "execution_count": 321,
   "id": "90744384",
   "metadata": {},
   "outputs": [
    {
     "data": {
      "text/plain": [
       "0.9604938554008616"
      ]
     },
     "execution_count": 321,
     "metadata": {},
     "output_type": "execute_result"
    }
   ],
   "source": [
    "from sklearn.metrics import roc_auc_score\n",
    "\n",
    "roc_auc_score(y_train_5, y_scores)"
   ]
  },
  {
   "cell_type": "markdown",
   "id": "a035b1c1",
   "metadata": {},
   "source": [
    "##### Note\n",
    "    - As a rule of thumb, one should prefer the PR curve whenever the positive class is rare or when one care more about the "
   ]
  },
  {
   "cell_type": "code",
   "execution_count": null,
   "id": "f5f15675",
   "metadata": {},
   "outputs": [],
   "source": []
  }
 ],
 "metadata": {
  "kernelspec": {
   "display_name": "Python 3 (ipykernel)",
   "language": "python",
   "name": "python3"
  },
  "language_info": {
   "codemirror_mode": {
    "name": "ipython",
    "version": 3
   },
   "file_extension": ".py",
   "mimetype": "text/x-python",
   "name": "python",
   "nbconvert_exporter": "python",
   "pygments_lexer": "ipython3",
   "version": "3.9.10"
  }
 },
 "nbformat": 4,
 "nbformat_minor": 5
}
