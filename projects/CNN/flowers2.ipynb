{
 "cells": [
  {
   "cell_type": "code",
   "execution_count": 1,
   "id": "70c7c4bf",
   "metadata": {},
   "outputs": [
    {
     "data": {
      "text/plain": [
       "232"
      ]
     },
     "execution_count": 1,
     "metadata": {},
     "output_type": "execute_result"
    }
   ],
   "source": [
    "import gc\n",
    "gc.collect()"
   ]
  },
  {
   "cell_type": "code",
   "execution_count": 2,
   "id": "883870bc",
   "metadata": {},
   "outputs": [],
   "source": [
    "import numpy as np\n",
    "import pandas as pd\n",
    "import matplotlib as mpl\n",
    "import matplotlib.pyplot as plt\n",
    "%matplotlib inline"
   ]
  },
  {
   "cell_type": "code",
   "execution_count": 3,
   "id": "fb38fc87",
   "metadata": {},
   "outputs": [],
   "source": [
    "import tensorflow as tf\n",
    "from tensorflow import keras"
   ]
  },
  {
   "cell_type": "code",
   "execution_count": 4,
   "id": "ed745db3",
   "metadata": {},
   "outputs": [
    {
     "name": "stdout",
     "output_type": "stream",
     "text": [
      "Number of available GPU's:  0\n"
     ]
    }
   ],
   "source": [
    "print(\"Number of available GPU's: \", len(tf.config.experimental.list_physical_devices(\"GPU\")))"
   ]
  },
  {
   "cell_type": "code",
   "execution_count": 5,
   "id": "3c1e4528",
   "metadata": {},
   "outputs": [
    {
     "data": {
      "text/plain": [
       "'D:\\\\TheCompleteML\\\\projects'"
      ]
     },
     "execution_count": 5,
     "metadata": {},
     "output_type": "execute_result"
    }
   ],
   "source": [
    "import os\n",
    "if \"CNN\" in os.path.abspath(os.curdir): os.chdir(\"..\")\n",
    "BASE_DIR = os.path.abspath(os.curdir)\n",
    "BASE_DIR"
   ]
  },
  {
   "cell_type": "code",
   "execution_count": 7,
   "id": "3e1d571d",
   "metadata": {},
   "outputs": [],
   "source": [
    "data_dir = os.path.join(BASE_DIR, \"datasets\", \"classification\", \"flowers\")"
   ]
  },
  {
   "cell_type": "code",
   "execution_count": 8,
   "id": "050b9368",
   "metadata": {},
   "outputs": [
    {
     "data": {
      "text/plain": [
       "['D:\\\\TheCompleteML\\\\projects\\\\datasets\\\\classification\\\\flowers\\\\daisy',\n",
       " 'D:\\\\TheCompleteML\\\\projects\\\\datasets\\\\classification\\\\flowers\\\\dandelion',\n",
       " 'D:\\\\TheCompleteML\\\\projects\\\\datasets\\\\classification\\\\flowers\\\\rose',\n",
       " 'D:\\\\TheCompleteML\\\\projects\\\\datasets\\\\classification\\\\flowers\\\\sunflower',\n",
       " 'D:\\\\TheCompleteML\\\\projects\\\\datasets\\\\classification\\\\flowers\\\\tulip']"
      ]
     },
     "execution_count": 8,
     "metadata": {},
     "output_type": "execute_result"
    }
   ],
   "source": [
    "data_dirs = [os.path.join(data_dir, dir_) for dir_ in os.listdir(data_dir) if \"processed\" not in dir_]\n",
    "data_dirs"
   ]
  },
  {
   "cell_type": "markdown",
   "id": "062293b0",
   "metadata": {},
   "source": [
    "## Preprocessing"
   ]
  },
  {
   "cell_type": "code",
   "execution_count": 97,
   "id": "e24d425d",
   "metadata": {},
   "outputs": [],
   "source": [
    "import random\n",
    "from skimage import io\n",
    "\n",
    "class loading_and_splitting:\n",
    "    \n",
    "    def __init__(self, data_dirs, dims, channels=3, target_dir=data_dir, split_count=10):\n",
    "        self.total_images = 0\n",
    "        self.minh = np.inf\n",
    "        self.minw = np.inf\n",
    "        self.dims = dims\n",
    "        self.channels = channels\n",
    "        self.target_dir = target_dir\n",
    "        self.split_count = split_count\n",
    "        self.data_dirs = data_dirs\n",
    "        self.class_map = {k:v.split(\"\\\\\")[-1] for k, v in enumerate(data_dirs)}\n",
    "        \n",
    "        self.header_list = [f\"x{i}\" for i in range(self.dims[0]*self.dims[1]*self.channels)] + [\"label\"]\n",
    "        self.sample_list = [random.sample(range(len(os.listdir(path))), \n",
    "                                          len(os.listdir(path))) for path in data_dirs]\n",
    "        for item in self.sample_list:\n",
    "            self.total_images += len(item)\n",
    "        self.generate_samples()\n",
    "        self.max_train_instance = len(self.train_seq)\n",
    "        self.max_valid_instance = len(self.valid_seq)\n",
    "        self.max_test_instance = len(self.test_seq)\n",
    "    \n",
    "    def generate_csvs(self):\n",
    "        header_list = [f\"x{i}\" for i in range(self.dims[0]*self.dims[1]*self.channels)] + [\"label\"]\n",
    "        for set_ in [\"train\", \"valid\", \"test\"]:\n",
    "            with open(os.path.join(self.target_dir, f\"{set_}.csv\"), \"w\") as f:\n",
    "                df = pd.DataFrame(list(), columns=header_list)\n",
    "                df.to_csv(f, index=False)\n",
    "                \n",
    "    def generate_samples(self):\n",
    "        self.sample_seq = random.sample(range(self.total_images), self.total_images)\n",
    "        self.train_seq = self.sample_seq[:int(len(self.sample_seq)*0.8)]\n",
    "        self.valid_seq = self.sample_seq[int(len(self.sample_seq)*0.8):int(len(self.sample_seq)*0.9)]\n",
    "        self.test_seq = self.sample_seq[int(len(self.sample_seq)*0.9):]\n",
    "    \n",
    "    def crop_image(self, image):\n",
    "        h, w, d = image.shape\n",
    "        if h >= self.minh and w >= self.minw:\n",
    "            image = image[int(h/2)-64:int(h/2)+64, \n",
    "                          int(w/2)-64:int(w/2)+64, \n",
    "                          :]\n",
    "            return image\n",
    "    \n",
    "    def crop_or_pad(self, image):\n",
    "        image = tf.image.resize_with_crop_or_pad(image, self.dims[0], self.dims[0])\n",
    "        return image.numpy()\n",
    "    \n",
    "    def shuffle_and_save(self):\n",
    "        empty = []\n",
    "        train = np.zeros((1, self.dims[0]*self.dims[1]*self.channels + 1))\n",
    "        valid = np.zeros((1, self.dims[0]*self.dims[1]*self.channels + 1))\n",
    "        test = np.zeros((1, self.dims[0]*self.dims[1]*self.channels + 1))\n",
    "        count = 0\n",
    "        while len(empty) != len(self.data_dirs):\n",
    "            sel_dir = np.random.randint(0, len(self.data_dirs))\n",
    "            if sel_dir in empty: continue\n",
    "            dir_ = self.data_dirs[sel_dir]\n",
    "            if not self.sample_list[sel_dir]:\n",
    "                empty.append(sel_dir)\n",
    "            else:\n",
    "                count += 1\n",
    "                print(f\"Processing: {count}\")\n",
    "                sel_image = self.sample_list[sel_dir].pop()\n",
    "                image = io.imread(os.path.join(dir_, os.listdir(dir_)[sel_image]))\n",
    "                \n",
    "                h, w, d = image.shape\n",
    "                if h < self.minh: self.minh = h\n",
    "                if w < self.minw: self.minw = w\n",
    "                if self.minh < self.dims[0]: self.minh = self.dims[0]\n",
    "                if self.minw < self.dims[1]: self.minw = self.dims[1]\n",
    "                \n",
    "                # image = self.crop_image(image)\n",
    "                image = self.crop_or_pad(image)\n",
    "                \n",
    "                if not isinstance(image, np.ndarray): continue\n",
    "                if sel_image in self.train_seq: \n",
    "                    train = np.append(train, np.append(image.flatten(), sel_dir).reshape(1,-1), axis=0)\n",
    "                elif sel_image in self.valid_seq: \n",
    "                    valid = np.append(valid, np.append(image.flatten(), sel_dir).reshape(1,-1), axis=0)\n",
    "                elif sel_image in self.test_seq: \n",
    "                    test = np.append(test, np.append(image.flatten(), sel_dir).reshape(1,-1), axis=0)\n",
    "        \n",
    "        train = train[1:, :]\n",
    "        valid = valid[1:, :]\n",
    "        test = test[1:, :]\n",
    "        \n",
    "        for prefix, arr in zip([\"train\", \"valid\", \"test\"], [train, valid, test]):\n",
    "            self.split_and_save(arr, os.path.join(self.target_dir, \"processed\", prefix), prefix)\n",
    "        \n",
    "    def split_and_save(self, arr, target_dir, prefix):\n",
    "        os.makedirs(target_dir, exist_ok=True)\n",
    "        for i in range(self.split_count):\n",
    "            df = pd.DataFrame(arr[i*int(arr.shape[0]//self.split_count):(i+1)*int(arr.shape[0]//self.split_count), :], \n",
    "                             columns=self.header_list)\n",
    "            df.to_csv(os.path.join(target_dir, \"{}_{}.csv\".format(prefix, i+1)), index=False)"
   ]
  },
  {
   "cell_type": "code",
   "execution_count": 98,
   "id": "1c7dbe96",
   "metadata": {},
   "outputs": [
    {
     "data": {
      "text/plain": [
       "{0: 'daisy', 1: 'dandelion', 2: 'rose', 3: 'sunflower', 4: 'tulip'}"
      ]
     },
     "execution_count": 98,
     "metadata": {},
     "output_type": "execute_result"
    }
   ],
   "source": [
    "dims = (150, 150)\n",
    "channels = 3\n",
    "n_features = dims[0] * dims[1] * channels\n",
    "split_count = 10\n",
    "ls = loading_and_splitting(data_dirs=data_dirs, dims=dims, channels=channels, target_dir=data_dir, split_count=split_count)\n",
    "class_map = ls.class_map\n",
    "max_train_instance = (ls.max_train_instance//split_count)*split_count\n",
    "max_valid_instance = (ls.max_valid_instance//split_count)*split_count\n",
    "max_test_instance = (ls.max_test_instance//split_count)*split_count\n",
    "class_map\n",
    "# ls.shuffle_and_save()"
   ]
  },
  {
   "cell_type": "code",
   "execution_count": 99,
   "id": "eb4a2833",
   "metadata": {},
   "outputs": [
    {
     "data": {
      "text/plain": [
       "(3450, 430, 430)"
      ]
     },
     "execution_count": 99,
     "metadata": {},
     "output_type": "execute_result"
    }
   ],
   "source": [
    "max_train_instance, max_valid_instance, max_test_instance"
   ]
  },
  {
   "cell_type": "code",
   "execution_count": 11,
   "id": "50371adf",
   "metadata": {},
   "outputs": [],
   "source": [
    "set_dir = os.path.join(data_dir, \"processed\")\n",
    "train_paths = [f\"{os.path.join(set_dir, 'train')}\\\\{item}\" for item in os.listdir(os.path.join(set_dir, \"train\"))]\n",
    "valid_paths = [f\"{os.path.join(set_dir, 'valid')}\\\\{item}\" for item in os.listdir(os.path.join(set_dir, \"valid\"))]\n",
    "test_paths = [f\"{os.path.join(set_dir, 'test')}\\\\{item}\" for item in os.listdir(os.path.join(set_dir, \"test\"))]"
   ]
  },
  {
   "cell_type": "code",
   "execution_count": 138,
   "id": "5a00ff92",
   "metadata": {},
   "outputs": [],
   "source": [
    "data_augmentation = tf.keras.Sequential([keras.layers.RandomFlip(\"horizontal_and_vertical\"), \n",
    "                                         keras.layers.RandomRotation(0.2),\n",
    "                                         keras.layers.RandomContrast(0.5),\n",
    "                                         keras.layers.RandomZoom((-0.3, 0.3), (-0.3, 0.3))\n",
    "                                         ])\n",
    "\n",
    "def preprocess_tran_ler(line, \n",
    "                        augmentation=False, \n",
    "                        resize=(224, 224)):\n",
    "    defs = [tf.constant([], dtype = tf.float32)] * (n_features + 1)\n",
    "    xy = tf.io.decode_csv(line, record_defaults=defs)\n",
    "    X = tf.stack(xy[:-1])\n",
    "    y = tf.stack(xy[-1:])\n",
    "    \n",
    "    # prcessing steps\n",
    "    X = tf.reshape(X, [dims[0], dims[1], channels])\n",
    "    X = tf.image.resize(X, size=resize)\n",
    "    if augmentation:\n",
    "        X = data_augmentation(X)\n",
    "        X = tf.image.rot90(X)\n",
    "        X = tf.image.random_brightness(X, 0.2)\n",
    "    X = keras.applications.resnet50.preprocess_input(X)\n",
    "    return X, y\n",
    "\n",
    "\n",
    "def preprocess_test(X):\n",
    "    # prcessing steps\n",
    "    \n",
    "    X = tf.image.resize_with_crop_or_pad(X, 150 ,150)\n",
    "    X = data_augmentation(X)\n",
    "    X = tf.image.rot90(X)\n",
    "    X = tf.image.random_brightness(X, 0.2)\n",
    "    X = tf.divide(X, 255)\n",
    "    \n",
    "    return X"
   ]
  },
  {
   "cell_type": "code",
   "execution_count": 139,
   "id": "bd75f226",
   "metadata": {},
   "outputs": [],
   "source": [
    "from functools import partial\n",
    "\n",
    "def read_csv_pipeline(paths, \n",
    "                      n_readers, \n",
    "                      shuffle_buffer_size, \n",
    "                      n_read_threds, \n",
    "                      n_parse_threads, \n",
    "                      batch_size, \n",
    "                      augmentation=False,\n",
    "                      resize=(224, 224)):\n",
    "    \n",
    "    filepaths = tf.data.Dataset.list_files(paths, seed=42)\n",
    "    dataset = filepaths.interleave(lambda filepath: tf.data.TextLineDataset(filepath).skip(1), cycle_length=n_readers)\n",
    "    dataset = dataset.shuffle(shuffle_buffer_size)\n",
    "    if augmentation: dataset = dataset.repeat()\n",
    "    dataset = dataset.map(partial(preprocess_tran_ler, augmentation=augmentation, resize=resize), num_parallel_calls=n_parse_threads)\n",
    "    return dataset.batch(batch_size).prefetch(1)"
   ]
  },
  {
   "cell_type": "code",
   "execution_count": 150,
   "id": "c8b086a1",
   "metadata": {},
   "outputs": [],
   "source": [
    "n_readers = 5\n",
    "shuffle_buffer_size = 400\n",
    "n_read_threads = None\n",
    "n_parse_threads = 5\n",
    "batch_size = 32\n",
    "resize = (150, 150)\n",
    "\n",
    "train_set = read_csv_pipeline(train_paths, \n",
    "                              n_readers, \n",
    "                              shuffle_buffer_size, \n",
    "                              n_read_threads, \n",
    "                              n_parse_threads, \n",
    "                              batch_size, \n",
    "                              augmentation=True,\n",
    "                              resize=resize)\n",
    "\n",
    "valid_set = read_csv_pipeline(valid_paths, \n",
    "                              n_readers, \n",
    "                              shuffle_buffer_size, \n",
    "                              n_read_threads, \n",
    "                              n_parse_threads, \n",
    "                              batch_size, \n",
    "                              augmentation=False,\n",
    "                              resize=resize)\n",
    "\n",
    "test_set = read_csv_pipeline(test_paths, \n",
    "                             n_readers, \n",
    "                             shuffle_buffer_size, \n",
    "                             n_read_threads, \n",
    "                             n_parse_threads, \n",
    "                             batch_size, \n",
    "                             augmentation=False,\n",
    "                             resize=resize)"
   ]
  },
  {
   "cell_type": "markdown",
   "id": "5db29415",
   "metadata": {},
   "source": [
    "### Model Training"
   ]
  },
  {
   "cell_type": "code",
   "execution_count": 16,
   "id": "3d28334f",
   "metadata": {},
   "outputs": [],
   "source": [
    "class ResidualLayer(keras.layers.Layer):\n",
    "    \n",
    "    def __init__(self, fm, strides=1, ksize=3, padding=\"same\", activation=\"relu\", **kwargs):\n",
    "        super().__init__(**kwargs)\n",
    "        self.fm = fm\n",
    "        self.ksize = ksize\n",
    "        self.strides = strides\n",
    "        self.padding = padding\n",
    "        self.activation = keras.activations.get(activation)\n",
    "        self.normalization = keras.layers.BatchNormalization()\n",
    "        self.mainc_layers = [keras.layers.Conv2D(self.fm, \n",
    "                                                 kernel_size=self.ksize, \n",
    "                                                 strides=self.strides, \n",
    "                                                 padding=self.padding, \n",
    "                                                 use_bias=False),\n",
    "                            self.normalization, \n",
    "                            self.activation,\n",
    "                            keras.layers.Conv2D(self.fm, \n",
    "                                                kernel_size=self.ksize, \n",
    "                                                strides=1, \n",
    "                                                padding=self.padding, \n",
    "                                                use_bias=False),\n",
    "                            self.normalization]\n",
    "        self.skipc_layers = []\n",
    "        if strides > 1:\n",
    "            self.skipc_layers = [keras.layers.Conv2D(self.fm, \n",
    "                                                     kernel_size=1, \n",
    "                                                     strides=self.strides, \n",
    "                                                     padding=self.padding,\n",
    "                                                     use_bias=False),\n",
    "                                self.normalization]\n",
    "    def get_config(self):\n",
    "        config = super().get_config()\n",
    "        config.update({\"fm\": self.fm,\n",
    "                        \"ksize\": self.ksize,\n",
    "                        \"strides\": self.strides,\n",
    "                        \"padding\": self.padding,\n",
    "                        \"activation\": self.activation\n",
    "                        })\n",
    "        return config\n",
    "    \n",
    "    def call(self, inputs):\n",
    "        z = inputs\n",
    "        for layer in self.mainc_layers:\n",
    "            z = layer(z)\n",
    "        skip_z = inputs\n",
    "        for layer in self.skipc_layers:\n",
    "            skip_z = layer(skip_z)\n",
    "        return self.activation(z+skip_z)"
   ]
  },
  {
   "cell_type": "code",
   "execution_count": 33,
   "id": "4b008502",
   "metadata": {},
   "outputs": [],
   "source": [
    "keras.backend.clear_session()\n",
    "np.random.seed(42)\n",
    "tf.random.set_seed(42)\n",
    "\n",
    "\n",
    "def cnn_mp_r3_de_v2():\n",
    "    \"\"\"\n",
    "    name ecodes the model architecture\n",
    "    cnn followed by max pooling repeated three times, followed by dense layer\n",
    "    changes: dense layer size increased to 128\n",
    "             he_normal initilizatin is implemented\n",
    "             optimizer is changed from nadam to momentum with decay rate\n",
    "    \"\"\"\n",
    "\n",
    "    model = keras.models.Sequential()\n",
    "    model.add(keras.layers.Conv2D(64, kernel_size=5, \n",
    "                                  strides=2, padding=\"same\", \n",
    "                                  use_bias=False, \n",
    "                                  input_shape=[dims[0], dims[0], channels],\n",
    "                                  kernel_initializer=\"he_normal\",\n",
    "                                  activation=\"relu\"))\n",
    "    model.add(keras.layers.MaxPool2D(pool_size=2))\n",
    "    model.add(keras.layers.Conv2D(128, kernel_size=3, \n",
    "                                  strides=1, padding=\"same\", \n",
    "                                  use_bias=False,\n",
    "                                  kernel_initializer=\"he_normal\",\n",
    "                                  activation=\"relu\"))\n",
    "    model.add(keras.layers.MaxPool2D(pool_size=2))\n",
    "    model.add(keras.layers.Conv2D(256, kernel_size=3, \n",
    "                                  strides=1, padding=\"same\", \n",
    "                                  use_bias=False,\n",
    "                                  kernel_initializer=\"he_normal\",\n",
    "                                  activation=\"relu\"))\n",
    "    model.add(keras.layers.MaxPool2D(pool_size=2))\n",
    "    model.add(keras.layers.Flatten())\n",
    "    model.add(keras.layers.Dropout(0.3))\n",
    "    model.add(keras.layers.Dense(128, activation=\"relu\"))\n",
    "    model.add(keras.layers.Dropout(0.3))\n",
    "    model.add(keras.layers.Dense(5, activation=\"softmax\"))\n",
    "    \n",
    "    optimizer = keras.optimizers.SGD(learning_rate=0.2, momentum=0.9, decay=0.01)\n",
    "    model.compile(loss=keras.losses.sparse_categorical_crossentropy, \n",
    "                  optimizer=optimizer, \n",
    "                  metrics=keras.metrics.sparse_categorical_accuracy)\n",
    "    \n",
    "    \n",
    "    model_target = os.path.join(BASE_DIR, \"models\", \"cnn_mp_r3_de_v2.h5\")\n",
    "    checkpoint_cb = keras.callbacks.ModelCheckpoint(model_target, save_best_only=True)\n",
    "    early_stop_cb = keras.callbacks.EarlyStopping(patience=10)\n",
    "    callbacks = [checkpoint_cb, early_stop_cb]\n",
    "    \n",
    "    return model, callbacks"
   ]
  },
  {
   "cell_type": "code",
   "execution_count": 34,
   "id": "09011346",
   "metadata": {},
   "outputs": [],
   "source": [
    "model, callbacks = cnn_mp_r3_de_v2()"
   ]
  },
  {
   "cell_type": "code",
   "execution_count": 35,
   "id": "aa1c2b0c",
   "metadata": {},
   "outputs": [
    {
     "name": "stdout",
     "output_type": "stream",
     "text": [
      "Epoch 1/5\n",
      "97/97 [==============================] - 134s 1s/step - loss: nan - sparse_categorical_accuracy: 0.1814 - val_loss: nan - val_sparse_categorical_accuracy: 0.1719\n",
      "Epoch 2/5\n",
      "97/97 [==============================] - 130s 1s/step - loss: nan - sparse_categorical_accuracy: 0.1843 - val_loss: nan - val_sparse_categorical_accuracy: 0.1771\n",
      "Epoch 3/5\n",
      "97/97 [==============================] - 130s 1s/step - loss: nan - sparse_categorical_accuracy: 0.1775 - val_loss: nan - val_sparse_categorical_accuracy: 0.1719\n",
      "Epoch 4/5\n",
      "97/97 [==============================] - 132s 1s/step - loss: nan - sparse_categorical_accuracy: 0.1611 - val_loss: nan - val_sparse_categorical_accuracy: 0.1667\n",
      "Epoch 5/5\n",
      "97/97 [==============================] - 130s 1s/step - loss: nan - sparse_categorical_accuracy: 0.1817 - val_loss: nan - val_sparse_categorical_accuracy: 0.1693\n"
     ]
    }
   ],
   "source": [
    "history = model.fit(train_set, \n",
    "                    epochs=5, \n",
    "                    steps_per_epoch=int(0.9 * max_train_instance / batch_size),\n",
    "                    validation_data=valid_set, \n",
    "                    validation_steps=int(0.9 * max_valid_instance / batch_size),\n",
    "                    callbacks=callbacks)"
   ]
  },
  {
   "cell_type": "markdown",
   "id": "c1b04270",
   "metadata": {},
   "source": [
    "### Training with different optimizers"
   ]
  },
  {
   "cell_type": "code",
   "execution_count": 36,
   "id": "fa03a5cd",
   "metadata": {},
   "outputs": [],
   "source": [
    "keras.backend.clear_session()\n",
    "np.random.seed(42)\n",
    "tf.random.set_seed(42)\n",
    "\n",
    "\n",
    "def cnn_mp_r3_de_v2():\n",
    "   \n",
    "    model = keras.models.Sequential()\n",
    "    model.add(keras.layers.Conv2D(64, kernel_size=5, \n",
    "                                  strides=2, padding=\"same\", \n",
    "                                  use_bias=False, \n",
    "                                  input_shape=[dims[0], dims[0], channels],\n",
    "                                  activation=\"relu\"))\n",
    "    model.add(keras.layers.MaxPool2D(pool_size=2))\n",
    "    model.add(keras.layers.Conv2D(128, kernel_size=3, \n",
    "                                  strides=1, padding=\"same\", \n",
    "                                  use_bias=False,\n",
    "                                  activation=\"relu\"))\n",
    "    model.add(keras.layers.MaxPool2D(pool_size=2))\n",
    "    model.add(keras.layers.Conv2D(256, kernel_size=3, \n",
    "                                  strides=1, padding=\"same\", \n",
    "                                  use_bias=False,\n",
    "                                  activation=\"relu\"))\n",
    "    model.add(keras.layers.MaxPool2D(pool_size=2))\n",
    "    model.add(keras.layers.Flatten())\n",
    "    model.add(keras.layers.Dropout(0.3))\n",
    "    model.add(keras.layers.Dense(64, activation=\"relu\"))\n",
    "    model.add(keras.layers.Dropout(0.3))\n",
    "    model.add(keras.layers.Dense(5, activation=\"softmax\"))\n",
    "    \n",
    "#     optimizer = keras.optimizers.SGD(learning_rate=0.2, momentum=0.9, decay=0.01)\n",
    "    model.compile(loss=keras.losses.sparse_categorical_crossentropy, \n",
    "                  optimizer=\"nadam\", \n",
    "                  metrics=keras.metrics.sparse_categorical_accuracy)\n",
    "    \n",
    "    \n",
    "    model_target = os.path.join(BASE_DIR, \"models\", \"cnn_mp_r3_de_v2.h5\")\n",
    "    checkpoint_cb = keras.callbacks.ModelCheckpoint(model_target, save_best_only=True)\n",
    "    early_stop_cb = keras.callbacks.EarlyStopping(patience=10)\n",
    "    callbacks = [checkpoint_cb, early_stop_cb]\n",
    "    \n",
    "    return model, callbacks"
   ]
  },
  {
   "cell_type": "code",
   "execution_count": 37,
   "id": "cac14ac5",
   "metadata": {},
   "outputs": [],
   "source": [
    "model, callbacks = cnn_mp_r3_de_v2()"
   ]
  },
  {
   "cell_type": "code",
   "execution_count": 38,
   "id": "1cd4fc2c",
   "metadata": {},
   "outputs": [
    {
     "name": "stdout",
     "output_type": "stream",
     "text": [
      "Epoch 1/5\n",
      "97/97 [==============================] - 138s 1s/step - loss: 1.4514 - sparse_categorical_accuracy: 0.3553 - val_loss: 1.2857 - val_sparse_categorical_accuracy: 0.3854\n",
      "Epoch 2/5\n",
      "97/97 [==============================] - 137s 1s/step - loss: 1.3074 - sparse_categorical_accuracy: 0.4446 - val_loss: 1.3003 - val_sparse_categorical_accuracy: 0.4089\n",
      "Epoch 3/5\n",
      "97/97 [==============================] - 134s 1s/step - loss: 1.2394 - sparse_categorical_accuracy: 0.4726 - val_loss: 1.1672 - val_sparse_categorical_accuracy: 0.5469\n",
      "Epoch 4/5\n",
      "97/97 [==============================] - 133s 1s/step - loss: 1.2192 - sparse_categorical_accuracy: 0.5200 - val_loss: 1.1271 - val_sparse_categorical_accuracy: 0.5807\n",
      "Epoch 5/5\n",
      "97/97 [==============================] - 132s 1s/step - loss: 1.1396 - sparse_categorical_accuracy: 0.5467 - val_loss: 1.0547 - val_sparse_categorical_accuracy: 0.5781\n"
     ]
    }
   ],
   "source": [
    "history = model.fit(train_set, \n",
    "                    epochs=5, \n",
    "                    steps_per_epoch=int(0.9 * max_train_instance / batch_size),\n",
    "                    validation_data=valid_set, \n",
    "                    validation_steps=int(0.9 * max_valid_instance / batch_size),\n",
    "                    callbacks=callbacks)"
   ]
  },
  {
   "cell_type": "code",
   "execution_count": 39,
   "id": "dde21c32",
   "metadata": {},
   "outputs": [],
   "source": [
    " keras.backend.clear_session()\n",
    "np.random.seed(42)\n",
    "tf.random.set_seed(42)\n",
    "\n",
    "\n",
    "def cnn_mp_r3_de_v2():\n",
    "  \n",
    "\n",
    "    model = keras.models.Sequential()\n",
    "    model.add(keras.layers.Conv2D(64, kernel_size=5, \n",
    "                                  strides=2, padding=\"same\", \n",
    "                                  use_bias=False, \n",
    "                                  input_shape=[dims[0], dims[0], channels],\n",
    "                                  activation=\"relu\"))\n",
    "    model.add(keras.layers.MaxPool2D(pool_size=2))\n",
    "    model.add(keras.layers.Conv2D(128, kernel_size=3, \n",
    "                                  strides=1, padding=\"same\", \n",
    "                                  use_bias=False,\n",
    "                                  activation=\"relu\"))\n",
    "    model.add(keras.layers.MaxPool2D(pool_size=2))\n",
    "    model.add(keras.layers.Conv2D(256, kernel_size=3, \n",
    "                                  strides=1, padding=\"same\", \n",
    "                                  use_bias=False,\n",
    "                                  activation=\"relu\"))\n",
    "    model.add(keras.layers.MaxPool2D(pool_size=2))\n",
    "    model.add(keras.layers.Flatten())\n",
    "    model.add(keras.layers.Dropout(0.3))\n",
    "    model.add(keras.layers.Dense(64, activation=\"relu\"))\n",
    "    model.add(keras.layers.Dropout(0.3))\n",
    "    model.add(keras.layers.Dense(5, activation=\"softmax\"))\n",
    "    \n",
    "    optimizer = keras.optimizers.SGD(learning_rate=0.2, momentum=0.9, decay=0.01)\n",
    "    model.compile(loss=keras.losses.sparse_categorical_crossentropy, \n",
    "                  optimizer=optimizer, \n",
    "                  metrics=keras.metrics.sparse_categorical_accuracy)\n",
    "    \n",
    "    \n",
    "    model_target = os.path.join(BASE_DIR, \"models\", \"cnn_mp_r3_de_v2.h5\")\n",
    "    checkpoint_cb = keras.callbacks.ModelCheckpoint(model_target, save_best_only=True)\n",
    "    early_stop_cb = keras.callbacks.EarlyStopping(patience=10)\n",
    "    callbacks = [checkpoint_cb, early_stop_cb]\n",
    "    \n",
    "    return model, callbacks"
   ]
  },
  {
   "cell_type": "code",
   "execution_count": 40,
   "id": "33881432",
   "metadata": {},
   "outputs": [],
   "source": [
    "model, callbacks = cnn_mp_r3_de_v2()"
   ]
  },
  {
   "cell_type": "code",
   "execution_count": 41,
   "id": "e6833eca",
   "metadata": {},
   "outputs": [
    {
     "name": "stdout",
     "output_type": "stream",
     "text": [
      "Epoch 1/5\n",
      "97/97 [==============================] - 136s 1s/step - loss: 1.6377 - sparse_categorical_accuracy: 0.2574 - val_loss: 1.6638 - val_sparse_categorical_accuracy: 0.1745\n",
      "Epoch 2/5\n",
      "97/97 [==============================] - 130s 1s/step - loss: 1.6141 - sparse_categorical_accuracy: 0.2378 - val_loss: 1.6102 - val_sparse_categorical_accuracy: 0.2474\n",
      "Epoch 3/5\n",
      "97/97 [==============================] - 134s 1s/step - loss: 1.6052 - sparse_categorical_accuracy: 0.2239 - val_loss: 1.5973 - val_sparse_categorical_accuracy: 0.2474\n",
      "Epoch 4/5\n",
      "97/97 [==============================] - 133s 1s/step - loss: 1.5893 - sparse_categorical_accuracy: 0.2610 - val_loss: 1.5938 - val_sparse_categorical_accuracy: 0.2500\n",
      "Epoch 5/5\n",
      "54/97 [===============>..............] - ETA: 43s - loss: 1.6123 - sparse_categorical_accuracy: 0.1921"
     ]
    },
    {
     "ename": "KeyboardInterrupt",
     "evalue": "",
     "output_type": "error",
     "traceback": [
      "\u001b[1;31m---------------------------------------------------------------------------\u001b[0m",
      "\u001b[1;31mKeyboardInterrupt\u001b[0m                         Traceback (most recent call last)",
      "\u001b[1;32m~\\AppData\\Local\\Temp/ipykernel_4976/1190883073.py\u001b[0m in \u001b[0;36m<module>\u001b[1;34m\u001b[0m\n\u001b[1;32m----> 1\u001b[1;33m history = model.fit(train_set, \n\u001b[0m\u001b[0;32m      2\u001b[0m                     \u001b[0mepochs\u001b[0m\u001b[1;33m=\u001b[0m\u001b[1;36m5\u001b[0m\u001b[1;33m,\u001b[0m\u001b[1;33m\u001b[0m\u001b[1;33m\u001b[0m\u001b[0m\n\u001b[0;32m      3\u001b[0m                     \u001b[0msteps_per_epoch\u001b[0m\u001b[1;33m=\u001b[0m\u001b[0mint\u001b[0m\u001b[1;33m(\u001b[0m\u001b[1;36m0.9\u001b[0m \u001b[1;33m*\u001b[0m \u001b[0mmax_train_instance\u001b[0m \u001b[1;33m/\u001b[0m \u001b[0mbatch_size\u001b[0m\u001b[1;33m)\u001b[0m\u001b[1;33m,\u001b[0m\u001b[1;33m\u001b[0m\u001b[1;33m\u001b[0m\u001b[0m\n\u001b[0;32m      4\u001b[0m                     \u001b[0mvalidation_data\u001b[0m\u001b[1;33m=\u001b[0m\u001b[0mvalid_set\u001b[0m\u001b[1;33m,\u001b[0m\u001b[1;33m\u001b[0m\u001b[1;33m\u001b[0m\u001b[0m\n\u001b[0;32m      5\u001b[0m                     \u001b[0mvalidation_steps\u001b[0m\u001b[1;33m=\u001b[0m\u001b[0mint\u001b[0m\u001b[1;33m(\u001b[0m\u001b[1;36m0.9\u001b[0m \u001b[1;33m*\u001b[0m \u001b[0mmax_valid_instance\u001b[0m \u001b[1;33m/\u001b[0m \u001b[0mbatch_size\u001b[0m\u001b[1;33m)\u001b[0m\u001b[1;33m,\u001b[0m\u001b[1;33m\u001b[0m\u001b[1;33m\u001b[0m\u001b[0m\n",
      "\u001b[1;32mD:\\TheCompleteML\\env\\lib\\site-packages\\keras\\utils\\traceback_utils.py\u001b[0m in \u001b[0;36merror_handler\u001b[1;34m(*args, **kwargs)\u001b[0m\n\u001b[0;32m     62\u001b[0m     \u001b[0mfiltered_tb\u001b[0m \u001b[1;33m=\u001b[0m \u001b[1;32mNone\u001b[0m\u001b[1;33m\u001b[0m\u001b[1;33m\u001b[0m\u001b[0m\n\u001b[0;32m     63\u001b[0m     \u001b[1;32mtry\u001b[0m\u001b[1;33m:\u001b[0m\u001b[1;33m\u001b[0m\u001b[1;33m\u001b[0m\u001b[0m\n\u001b[1;32m---> 64\u001b[1;33m       \u001b[1;32mreturn\u001b[0m \u001b[0mfn\u001b[0m\u001b[1;33m(\u001b[0m\u001b[1;33m*\u001b[0m\u001b[0margs\u001b[0m\u001b[1;33m,\u001b[0m \u001b[1;33m**\u001b[0m\u001b[0mkwargs\u001b[0m\u001b[1;33m)\u001b[0m\u001b[1;33m\u001b[0m\u001b[1;33m\u001b[0m\u001b[0m\n\u001b[0m\u001b[0;32m     65\u001b[0m     \u001b[1;32mexcept\u001b[0m \u001b[0mException\u001b[0m \u001b[1;32mas\u001b[0m \u001b[0me\u001b[0m\u001b[1;33m:\u001b[0m  \u001b[1;31m# pylint: disable=broad-except\u001b[0m\u001b[1;33m\u001b[0m\u001b[1;33m\u001b[0m\u001b[0m\n\u001b[0;32m     66\u001b[0m       \u001b[0mfiltered_tb\u001b[0m \u001b[1;33m=\u001b[0m \u001b[0m_process_traceback_frames\u001b[0m\u001b[1;33m(\u001b[0m\u001b[0me\u001b[0m\u001b[1;33m.\u001b[0m\u001b[0m__traceback__\u001b[0m\u001b[1;33m)\u001b[0m\u001b[1;33m\u001b[0m\u001b[1;33m\u001b[0m\u001b[0m\n",
      "\u001b[1;32mD:\\TheCompleteML\\env\\lib\\site-packages\\keras\\engine\\training.py\u001b[0m in \u001b[0;36mfit\u001b[1;34m(self, x, y, batch_size, epochs, verbose, callbacks, validation_split, validation_data, shuffle, class_weight, sample_weight, initial_epoch, steps_per_epoch, validation_steps, validation_batch_size, validation_freq, max_queue_size, workers, use_multiprocessing)\u001b[0m\n\u001b[0;32m   1214\u001b[0m                 _r=1):\n\u001b[0;32m   1215\u001b[0m               \u001b[0mcallbacks\u001b[0m\u001b[1;33m.\u001b[0m\u001b[0mon_train_batch_begin\u001b[0m\u001b[1;33m(\u001b[0m\u001b[0mstep\u001b[0m\u001b[1;33m)\u001b[0m\u001b[1;33m\u001b[0m\u001b[1;33m\u001b[0m\u001b[0m\n\u001b[1;32m-> 1216\u001b[1;33m               \u001b[0mtmp_logs\u001b[0m \u001b[1;33m=\u001b[0m \u001b[0mself\u001b[0m\u001b[1;33m.\u001b[0m\u001b[0mtrain_function\u001b[0m\u001b[1;33m(\u001b[0m\u001b[0miterator\u001b[0m\u001b[1;33m)\u001b[0m\u001b[1;33m\u001b[0m\u001b[1;33m\u001b[0m\u001b[0m\n\u001b[0m\u001b[0;32m   1217\u001b[0m               \u001b[1;32mif\u001b[0m \u001b[0mdata_handler\u001b[0m\u001b[1;33m.\u001b[0m\u001b[0mshould_sync\u001b[0m\u001b[1;33m:\u001b[0m\u001b[1;33m\u001b[0m\u001b[1;33m\u001b[0m\u001b[0m\n\u001b[0;32m   1218\u001b[0m                 \u001b[0mcontext\u001b[0m\u001b[1;33m.\u001b[0m\u001b[0masync_wait\u001b[0m\u001b[1;33m(\u001b[0m\u001b[1;33m)\u001b[0m\u001b[1;33m\u001b[0m\u001b[1;33m\u001b[0m\u001b[0m\n",
      "\u001b[1;32mD:\\TheCompleteML\\env\\lib\\site-packages\\tensorflow\\python\\util\\traceback_utils.py\u001b[0m in \u001b[0;36merror_handler\u001b[1;34m(*args, **kwargs)\u001b[0m\n\u001b[0;32m    148\u001b[0m     \u001b[0mfiltered_tb\u001b[0m \u001b[1;33m=\u001b[0m \u001b[1;32mNone\u001b[0m\u001b[1;33m\u001b[0m\u001b[1;33m\u001b[0m\u001b[0m\n\u001b[0;32m    149\u001b[0m     \u001b[1;32mtry\u001b[0m\u001b[1;33m:\u001b[0m\u001b[1;33m\u001b[0m\u001b[1;33m\u001b[0m\u001b[0m\n\u001b[1;32m--> 150\u001b[1;33m       \u001b[1;32mreturn\u001b[0m \u001b[0mfn\u001b[0m\u001b[1;33m(\u001b[0m\u001b[1;33m*\u001b[0m\u001b[0margs\u001b[0m\u001b[1;33m,\u001b[0m \u001b[1;33m**\u001b[0m\u001b[0mkwargs\u001b[0m\u001b[1;33m)\u001b[0m\u001b[1;33m\u001b[0m\u001b[1;33m\u001b[0m\u001b[0m\n\u001b[0m\u001b[0;32m    151\u001b[0m     \u001b[1;32mexcept\u001b[0m \u001b[0mException\u001b[0m \u001b[1;32mas\u001b[0m \u001b[0me\u001b[0m\u001b[1;33m:\u001b[0m\u001b[1;33m\u001b[0m\u001b[1;33m\u001b[0m\u001b[0m\n\u001b[0;32m    152\u001b[0m       \u001b[0mfiltered_tb\u001b[0m \u001b[1;33m=\u001b[0m \u001b[0m_process_traceback_frames\u001b[0m\u001b[1;33m(\u001b[0m\u001b[0me\u001b[0m\u001b[1;33m.\u001b[0m\u001b[0m__traceback__\u001b[0m\u001b[1;33m)\u001b[0m\u001b[1;33m\u001b[0m\u001b[1;33m\u001b[0m\u001b[0m\n",
      "\u001b[1;32mD:\\TheCompleteML\\env\\lib\\site-packages\\tensorflow\\python\\eager\\def_function.py\u001b[0m in \u001b[0;36m__call__\u001b[1;34m(self, *args, **kwds)\u001b[0m\n\u001b[0;32m    908\u001b[0m \u001b[1;33m\u001b[0m\u001b[0m\n\u001b[0;32m    909\u001b[0m       \u001b[1;32mwith\u001b[0m \u001b[0mOptionalXlaContext\u001b[0m\u001b[1;33m(\u001b[0m\u001b[0mself\u001b[0m\u001b[1;33m.\u001b[0m\u001b[0m_jit_compile\u001b[0m\u001b[1;33m)\u001b[0m\u001b[1;33m:\u001b[0m\u001b[1;33m\u001b[0m\u001b[1;33m\u001b[0m\u001b[0m\n\u001b[1;32m--> 910\u001b[1;33m         \u001b[0mresult\u001b[0m \u001b[1;33m=\u001b[0m \u001b[0mself\u001b[0m\u001b[1;33m.\u001b[0m\u001b[0m_call\u001b[0m\u001b[1;33m(\u001b[0m\u001b[1;33m*\u001b[0m\u001b[0margs\u001b[0m\u001b[1;33m,\u001b[0m \u001b[1;33m**\u001b[0m\u001b[0mkwds\u001b[0m\u001b[1;33m)\u001b[0m\u001b[1;33m\u001b[0m\u001b[1;33m\u001b[0m\u001b[0m\n\u001b[0m\u001b[0;32m    911\u001b[0m \u001b[1;33m\u001b[0m\u001b[0m\n\u001b[0;32m    912\u001b[0m       \u001b[0mnew_tracing_count\u001b[0m \u001b[1;33m=\u001b[0m \u001b[0mself\u001b[0m\u001b[1;33m.\u001b[0m\u001b[0mexperimental_get_tracing_count\u001b[0m\u001b[1;33m(\u001b[0m\u001b[1;33m)\u001b[0m\u001b[1;33m\u001b[0m\u001b[1;33m\u001b[0m\u001b[0m\n",
      "\u001b[1;32mD:\\TheCompleteML\\env\\lib\\site-packages\\tensorflow\\python\\eager\\def_function.py\u001b[0m in \u001b[0;36m_call\u001b[1;34m(self, *args, **kwds)\u001b[0m\n\u001b[0;32m    940\u001b[0m       \u001b[1;31m# In this case we have created variables on the first call, so we run the\u001b[0m\u001b[1;33m\u001b[0m\u001b[1;33m\u001b[0m\u001b[0m\n\u001b[0;32m    941\u001b[0m       \u001b[1;31m# defunned version which is guaranteed to never create variables.\u001b[0m\u001b[1;33m\u001b[0m\u001b[1;33m\u001b[0m\u001b[0m\n\u001b[1;32m--> 942\u001b[1;33m       \u001b[1;32mreturn\u001b[0m \u001b[0mself\u001b[0m\u001b[1;33m.\u001b[0m\u001b[0m_stateless_fn\u001b[0m\u001b[1;33m(\u001b[0m\u001b[1;33m*\u001b[0m\u001b[0margs\u001b[0m\u001b[1;33m,\u001b[0m \u001b[1;33m**\u001b[0m\u001b[0mkwds\u001b[0m\u001b[1;33m)\u001b[0m  \u001b[1;31m# pylint: disable=not-callable\u001b[0m\u001b[1;33m\u001b[0m\u001b[1;33m\u001b[0m\u001b[0m\n\u001b[0m\u001b[0;32m    943\u001b[0m     \u001b[1;32melif\u001b[0m \u001b[0mself\u001b[0m\u001b[1;33m.\u001b[0m\u001b[0m_stateful_fn\u001b[0m \u001b[1;32mis\u001b[0m \u001b[1;32mnot\u001b[0m \u001b[1;32mNone\u001b[0m\u001b[1;33m:\u001b[0m\u001b[1;33m\u001b[0m\u001b[1;33m\u001b[0m\u001b[0m\n\u001b[0;32m    944\u001b[0m       \u001b[1;31m# Release the lock early so that multiple threads can perform the call\u001b[0m\u001b[1;33m\u001b[0m\u001b[1;33m\u001b[0m\u001b[0m\n",
      "\u001b[1;32mD:\\TheCompleteML\\env\\lib\\site-packages\\tensorflow\\python\\eager\\function.py\u001b[0m in \u001b[0;36m__call__\u001b[1;34m(self, *args, **kwargs)\u001b[0m\n\u001b[0;32m   3128\u001b[0m       (graph_function,\n\u001b[0;32m   3129\u001b[0m        filtered_flat_args) = self._maybe_define_function(args, kwargs)\n\u001b[1;32m-> 3130\u001b[1;33m     return graph_function._call_flat(\n\u001b[0m\u001b[0;32m   3131\u001b[0m         filtered_flat_args, captured_inputs=graph_function.captured_inputs)  # pylint: disable=protected-access\n\u001b[0;32m   3132\u001b[0m \u001b[1;33m\u001b[0m\u001b[0m\n",
      "\u001b[1;32mD:\\TheCompleteML\\env\\lib\\site-packages\\tensorflow\\python\\eager\\function.py\u001b[0m in \u001b[0;36m_call_flat\u001b[1;34m(self, args, captured_inputs, cancellation_manager)\u001b[0m\n\u001b[0;32m   1957\u001b[0m         and executing_eagerly):\n\u001b[0;32m   1958\u001b[0m       \u001b[1;31m# No tape is watching; skip to running the function.\u001b[0m\u001b[1;33m\u001b[0m\u001b[1;33m\u001b[0m\u001b[0m\n\u001b[1;32m-> 1959\u001b[1;33m       return self._build_call_outputs(self._inference_function.call(\n\u001b[0m\u001b[0;32m   1960\u001b[0m           ctx, args, cancellation_manager=cancellation_manager))\n\u001b[0;32m   1961\u001b[0m     forward_backward = self._select_forward_and_backward_functions(\n",
      "\u001b[1;32mD:\\TheCompleteML\\env\\lib\\site-packages\\tensorflow\\python\\eager\\function.py\u001b[0m in \u001b[0;36mcall\u001b[1;34m(self, ctx, args, cancellation_manager)\u001b[0m\n\u001b[0;32m    596\u001b[0m       \u001b[1;32mwith\u001b[0m \u001b[0m_InterpolateFunctionError\u001b[0m\u001b[1;33m(\u001b[0m\u001b[0mself\u001b[0m\u001b[1;33m)\u001b[0m\u001b[1;33m:\u001b[0m\u001b[1;33m\u001b[0m\u001b[1;33m\u001b[0m\u001b[0m\n\u001b[0;32m    597\u001b[0m         \u001b[1;32mif\u001b[0m \u001b[0mcancellation_manager\u001b[0m \u001b[1;32mis\u001b[0m \u001b[1;32mNone\u001b[0m\u001b[1;33m:\u001b[0m\u001b[1;33m\u001b[0m\u001b[1;33m\u001b[0m\u001b[0m\n\u001b[1;32m--> 598\u001b[1;33m           outputs = execute.execute(\n\u001b[0m\u001b[0;32m    599\u001b[0m               \u001b[0mstr\u001b[0m\u001b[1;33m(\u001b[0m\u001b[0mself\u001b[0m\u001b[1;33m.\u001b[0m\u001b[0msignature\u001b[0m\u001b[1;33m.\u001b[0m\u001b[0mname\u001b[0m\u001b[1;33m)\u001b[0m\u001b[1;33m,\u001b[0m\u001b[1;33m\u001b[0m\u001b[1;33m\u001b[0m\u001b[0m\n\u001b[0;32m    600\u001b[0m               \u001b[0mnum_outputs\u001b[0m\u001b[1;33m=\u001b[0m\u001b[0mself\u001b[0m\u001b[1;33m.\u001b[0m\u001b[0m_num_outputs\u001b[0m\u001b[1;33m,\u001b[0m\u001b[1;33m\u001b[0m\u001b[1;33m\u001b[0m\u001b[0m\n",
      "\u001b[1;32mD:\\TheCompleteML\\env\\lib\\site-packages\\tensorflow\\python\\eager\\execute.py\u001b[0m in \u001b[0;36mquick_execute\u001b[1;34m(op_name, num_outputs, inputs, attrs, ctx, name)\u001b[0m\n\u001b[0;32m     56\u001b[0m   \u001b[1;32mtry\u001b[0m\u001b[1;33m:\u001b[0m\u001b[1;33m\u001b[0m\u001b[1;33m\u001b[0m\u001b[0m\n\u001b[0;32m     57\u001b[0m     \u001b[0mctx\u001b[0m\u001b[1;33m.\u001b[0m\u001b[0mensure_initialized\u001b[0m\u001b[1;33m(\u001b[0m\u001b[1;33m)\u001b[0m\u001b[1;33m\u001b[0m\u001b[1;33m\u001b[0m\u001b[0m\n\u001b[1;32m---> 58\u001b[1;33m     tensors = pywrap_tfe.TFE_Py_Execute(ctx._handle, device_name, op_name,\n\u001b[0m\u001b[0;32m     59\u001b[0m                                         inputs, attrs, num_outputs)\n\u001b[0;32m     60\u001b[0m   \u001b[1;32mexcept\u001b[0m \u001b[0mcore\u001b[0m\u001b[1;33m.\u001b[0m\u001b[0m_NotOkStatusException\u001b[0m \u001b[1;32mas\u001b[0m \u001b[0me\u001b[0m\u001b[1;33m:\u001b[0m\u001b[1;33m\u001b[0m\u001b[1;33m\u001b[0m\u001b[0m\n",
      "\u001b[1;31mKeyboardInterrupt\u001b[0m: "
     ]
    }
   ],
   "source": [
    "history = model.fit(train_set, \n",
    "                    epochs=5, \n",
    "                    steps_per_epoch=int(0.9 * max_train_instance / batch_size),\n",
    "                    validation_data=valid_set, \n",
    "                    validation_steps=int(0.9 * max_valid_instance / batch_size),\n",
    "                    callbacks=callbacks)"
   ]
  },
  {
   "cell_type": "code",
   "execution_count": 42,
   "id": "54d8f5d1",
   "metadata": {},
   "outputs": [],
   "source": [
    " keras.backend.clear_session()\n",
    "np.random.seed(42)\n",
    "tf.random.set_seed(42)\n",
    "\n",
    "\n",
    "def cnn_mp_r3_de_v2():\n",
    "    \n",
    "    model = keras.models.Sequential()\n",
    "    model.add(keras.layers.Conv2D(64, kernel_size=5, \n",
    "                                  strides=2, padding=\"same\", \n",
    "                                  use_bias=False, \n",
    "                                  input_shape=[dims[0], dims[0], channels],\n",
    "                                  activation=\"relu\"))\n",
    "    model.add(keras.layers.MaxPool2D(pool_size=2))\n",
    "    model.add(keras.layers.Conv2D(128, kernel_size=3, \n",
    "                                  strides=1, padding=\"same\", \n",
    "                                  use_bias=False,\n",
    "                                  activation=\"relu\"))\n",
    "    model.add(keras.layers.MaxPool2D(pool_size=2))\n",
    "    model.add(keras.layers.Conv2D(256, kernel_size=3, \n",
    "                                  strides=1, padding=\"same\", \n",
    "                                  use_bias=False,\n",
    "                                  activation=\"relu\"))\n",
    "    model.add(keras.layers.MaxPool2D(pool_size=2))\n",
    "    model.add(keras.layers.Flatten())\n",
    "    model.add(keras.layers.Dropout(0.3))\n",
    "    model.add(keras.layers.Dense(64, activation=\"relu\"))\n",
    "    model.add(keras.layers.Dropout(0.3))\n",
    "    model.add(keras.layers.Dense(5, activation=\"softmax\"))\n",
    "    \n",
    "    optimizer = keras.optimizers.SGD(learning_rate=0.01, momentum=0.9, decay=0.01)\n",
    "    model.compile(loss=keras.losses.sparse_categorical_crossentropy, \n",
    "                  optimizer=optimizer, \n",
    "                  metrics=keras.metrics.sparse_categorical_accuracy)\n",
    "    \n",
    "    \n",
    "    model_target = os.path.join(BASE_DIR, \"models\", \"cnn_mp_r3_de_v2.h5\")\n",
    "    checkpoint_cb = keras.callbacks.ModelCheckpoint(model_target, save_best_only=True)\n",
    "    early_stop_cb = keras.callbacks.EarlyStopping(patience=10)\n",
    "    callbacks = [checkpoint_cb, early_stop_cb]\n",
    "    \n",
    "    return model, callbacks"
   ]
  },
  {
   "cell_type": "code",
   "execution_count": 43,
   "id": "b3d41665",
   "metadata": {},
   "outputs": [],
   "source": [
    "model, callbacks = cnn_mp_r3_de_v2()"
   ]
  },
  {
   "cell_type": "code",
   "execution_count": 44,
   "id": "e6b89766",
   "metadata": {},
   "outputs": [
    {
     "name": "stdout",
     "output_type": "stream",
     "text": [
      "Epoch 1/5\n",
      "97/97 [==============================] - 136s 1s/step - loss: 1.4953 - sparse_categorical_accuracy: 0.3283 - val_loss: 1.3413 - val_sparse_categorical_accuracy: 0.3750\n",
      "Epoch 2/5\n",
      "97/97 [==============================] - 133s 1s/step - loss: 1.3042 - sparse_categorical_accuracy: 0.4288 - val_loss: 1.2589 - val_sparse_categorical_accuracy: 0.4635\n",
      "Epoch 3/5\n",
      "97/97 [==============================] - 131s 1s/step - loss: 1.2657 - sparse_categorical_accuracy: 0.4555 - val_loss: 1.1900 - val_sparse_categorical_accuracy: 0.4948\n",
      "Epoch 4/5\n",
      "97/97 [==============================] - 134s 1s/step - loss: 1.2398 - sparse_categorical_accuracy: 0.4771 - val_loss: 1.1691 - val_sparse_categorical_accuracy: 0.4896\n",
      "Epoch 5/5\n",
      "97/97 [==============================] - 131s 1s/step - loss: 1.2400 - sparse_categorical_accuracy: 0.4733 - val_loss: 1.1564 - val_sparse_categorical_accuracy: 0.5130\n"
     ]
    }
   ],
   "source": [
    "history = model.fit(train_set, \n",
    "                    epochs=5, \n",
    "                    steps_per_epoch=int(0.9 * max_train_instance / batch_size),\n",
    "                    validation_data=valid_set, \n",
    "                    validation_steps=int(0.9 * max_valid_instance / batch_size),\n",
    "                    callbacks=callbacks)"
   ]
  },
  {
   "cell_type": "code",
   "execution_count": 45,
   "id": "d78cdbeb",
   "metadata": {},
   "outputs": [],
   "source": [
    " keras.backend.clear_session()\n",
    "np.random.seed(42)\n",
    "tf.random.set_seed(42)\n",
    "\n",
    "\n",
    "def cnn_mp_r3_de_v2():\n",
    "  \n",
    "    model = keras.models.Sequential()\n",
    "    model.add(keras.layers.Conv2D(64, kernel_size=5, \n",
    "                                  strides=2, padding=\"same\", \n",
    "                                  use_bias=False, \n",
    "                                  input_shape=[dims[0], dims[0], channels],\n",
    "                                  activation=\"relu\"))\n",
    "    model.add(keras.layers.MaxPool2D(pool_size=2))\n",
    "    model.add(keras.layers.Conv2D(128, kernel_size=3, \n",
    "                                  strides=1, padding=\"same\", \n",
    "                                  use_bias=False,\n",
    "                                  activation=\"relu\"))\n",
    "    model.add(keras.layers.MaxPool2D(pool_size=2))\n",
    "    model.add(keras.layers.Conv2D(256, kernel_size=3, \n",
    "                                  strides=1, padding=\"same\", \n",
    "                                  use_bias=False,\n",
    "                                  activation=\"relu\"))\n",
    "    model.add(keras.layers.MaxPool2D(pool_size=2))\n",
    "    model.add(keras.layers.Flatten())\n",
    "    model.add(keras.layers.Dropout(0.3))\n",
    "    model.add(keras.layers.Dense(64, activation=\"relu\"))\n",
    "    model.add(keras.layers.Dropout(0.3))\n",
    "    model.add(keras.layers.Dense(5, activation=\"softmax\"))\n",
    "    \n",
    "    optimizer = keras.optimizers.SGD(learning_rate=0.01, momentum=0.9)\n",
    "    model.compile(loss=keras.losses.sparse_categorical_crossentropy, \n",
    "                  optimizer=optimizer, \n",
    "                  metrics=keras.metrics.sparse_categorical_accuracy)\n",
    "    \n",
    "    \n",
    "    model_target = os.path.join(BASE_DIR, \"models\", \"cnn_mp_r3_de_v2.h5\")\n",
    "    checkpoint_cb = keras.callbacks.ModelCheckpoint(model_target, save_best_only=True)\n",
    "    early_stop_cb = keras.callbacks.EarlyStopping(patience=10)\n",
    "    callbacks = [checkpoint_cb, early_stop_cb]\n",
    "    \n",
    "    return model, callbacks"
   ]
  },
  {
   "cell_type": "code",
   "execution_count": 46,
   "id": "f88f25e7",
   "metadata": {},
   "outputs": [],
   "source": [
    "model, callbacks = cnn_mp_r3_de_v2()"
   ]
  },
  {
   "cell_type": "code",
   "execution_count": 47,
   "id": "c0a8dbb8",
   "metadata": {},
   "outputs": [
    {
     "name": "stdout",
     "output_type": "stream",
     "text": [
      "Epoch 1/5\n",
      "97/97 [==============================] - 133s 1s/step - loss: 1.5109 - sparse_categorical_accuracy: 0.3070 - val_loss: 1.2921 - val_sparse_categorical_accuracy: 0.3828\n",
      "Epoch 2/5\n",
      "97/97 [==============================] - 128s 1s/step - loss: 1.3329 - sparse_categorical_accuracy: 0.4162 - val_loss: 1.2634 - val_sparse_categorical_accuracy: 0.4896\n",
      "Epoch 3/5\n",
      "97/97 [==============================] - 131s 1s/step - loss: 1.3028 - sparse_categorical_accuracy: 0.4265 - val_loss: 1.2135 - val_sparse_categorical_accuracy: 0.4453\n",
      "Epoch 4/5\n",
      "97/97 [==============================] - 130s 1s/step - loss: 1.2508 - sparse_categorical_accuracy: 0.4671 - val_loss: 1.1935 - val_sparse_categorical_accuracy: 0.4870\n",
      "Epoch 5/5\n",
      "97/97 [==============================] - 130s 1s/step - loss: 1.1902 - sparse_categorical_accuracy: 0.5061 - val_loss: 1.1198 - val_sparse_categorical_accuracy: 0.5312\n"
     ]
    }
   ],
   "source": [
    "history = model.fit(train_set, \n",
    "                    epochs=5, \n",
    "                    steps_per_epoch=int(0.9 * max_train_instance / batch_size),\n",
    "                    validation_data=valid_set, \n",
    "                    validation_steps=int(0.9 * max_valid_instance / batch_size),\n",
    "                    callbacks=callbacks)"
   ]
  },
  {
   "cell_type": "code",
   "execution_count": 50,
   "id": "ef5730b3",
   "metadata": {},
   "outputs": [],
   "source": [
    "keras.backend.clear_session()\n",
    "np.random.seed(42)\n",
    "tf.random.set_seed(42)\n",
    "\n",
    "\n",
    "def cnn_mp_r3_de_v2():\n",
    "    \"\"\"\n",
    "    name ecodes the model architecture\n",
    "    cnn followed by max pooling repeated three times, followed by dense layer\n",
    "    changes: dense layer size increased to 128\n",
    "             he_normal initilizatin is implemented\n",
    "             optimizer is changed from nadam to momentum with decay rate\n",
    "    \"\"\"\n",
    "\n",
    "    model = keras.models.Sequential()\n",
    "    model.add(keras.layers.Conv2D(64, kernel_size=5, \n",
    "                                  strides=2, padding=\"same\", \n",
    "                                  use_bias=False, \n",
    "                                  input_shape=[dims[0], dims[0], channels],\n",
    "                                  activation=\"relu\"))\n",
    "    model.add(keras.layers.MaxPool2D(pool_size=2))\n",
    "    model.add(keras.layers.Conv2D(128, kernel_size=3, \n",
    "                                  strides=1, padding=\"same\", \n",
    "                                  use_bias=False,\n",
    "                                  activation=\"relu\"))\n",
    "    model.add(keras.layers.MaxPool2D(pool_size=2))\n",
    "    model.add(keras.layers.Conv2D(256, kernel_size=3, \n",
    "                                  strides=1, padding=\"same\", \n",
    "                                  use_bias=False,\n",
    "                                  activation=\"relu\"))\n",
    "    model.add(keras.layers.MaxPool2D(pool_size=2))\n",
    "    model.add(keras.layers.Flatten())\n",
    "    model.add(keras.layers.Dropout(0.3))\n",
    "    model.add(keras.layers.Dense(64, activation=\"relu\"))\n",
    "    model.add(keras.layers.Dropout(0.3))\n",
    "    model.add(keras.layers.Dense(5, activation=\"softmax\"))\n",
    "    \n",
    "    model.compile(loss=keras.losses.sparse_categorical_crossentropy, \n",
    "                  optimizer=\"adam\", \n",
    "                  metrics=keras.metrics.sparse_categorical_accuracy)\n",
    "    \n",
    "    \n",
    "    model_target = os.path.join(BASE_DIR, \"models\", \"cnn_mp_r3_de_v2.h5\")\n",
    "    checkpoint_cb = keras.callbacks.ModelCheckpoint(model_target, save_best_only=True)\n",
    "    early_stop_cb = keras.callbacks.EarlyStopping(patience=10)\n",
    "    callbacks = [checkpoint_cb, early_stop_cb]\n",
    "    \n",
    "    return model, callbacks"
   ]
  },
  {
   "cell_type": "code",
   "execution_count": 51,
   "id": "fc365e38",
   "metadata": {},
   "outputs": [],
   "source": [
    "model, callbacks = cnn_mp_r3_de_v2()"
   ]
  },
  {
   "cell_type": "code",
   "execution_count": 52,
   "id": "ae56280b",
   "metadata": {},
   "outputs": [
    {
     "name": "stdout",
     "output_type": "stream",
     "text": [
      "Epoch 1/5\n",
      "97/97 [==============================] - 133s 1s/step - loss: 1.4417 - sparse_categorical_accuracy: 0.3531 - val_loss: 1.2625 - val_sparse_categorical_accuracy: 0.4245\n",
      "Epoch 2/5\n",
      "97/97 [==============================] - 129s 1s/step - loss: 1.2789 - sparse_categorical_accuracy: 0.4433 - val_loss: 1.1716 - val_sparse_categorical_accuracy: 0.4609\n",
      "Epoch 3/5\n",
      "97/97 [==============================] - 129s 1s/step - loss: 1.2445 - sparse_categorical_accuracy: 0.4768 - val_loss: 1.1711 - val_sparse_categorical_accuracy: 0.5052\n",
      "Epoch 4/5\n",
      "97/97 [==============================] - 132s 1s/step - loss: 1.2316 - sparse_categorical_accuracy: 0.4739 - val_loss: 1.1175 - val_sparse_categorical_accuracy: 0.5469\n",
      "Epoch 5/5\n",
      "97/97 [==============================] - 130s 1s/step - loss: 1.1931 - sparse_categorical_accuracy: 0.4987 - val_loss: 1.0944 - val_sparse_categorical_accuracy: 0.5443\n"
     ]
    }
   ],
   "source": [
    "history = model.fit(train_set, \n",
    "                    epochs=5, \n",
    "                    steps_per_epoch=int(0.9 * max_train_instance / batch_size),\n",
    "                    validation_data=valid_set, \n",
    "                    validation_steps=int(0.9 * max_valid_instance / batch_size),\n",
    "                    callbacks=callbacks)"
   ]
  },
  {
   "cell_type": "code",
   "execution_count": 56,
   "id": "87859f57",
   "metadata": {},
   "outputs": [],
   "source": [
    " keras.backend.clear_session()\n",
    "np.random.seed(42)\n",
    "tf.random.set_seed(42)\n",
    "\n",
    "\n",
    "def cnn_mp_r3_de_v2():\n",
    "    \"\"\"\n",
    "    name ecodes the model architecture\n",
    "    cnn followed by max pooling repeated three times, followed by dense layer\n",
    "    changes: dense layer size increased to 128\n",
    "             he_normal initilizatin is implemented\n",
    "             optimizer is changed from nadam to momentum with decay rate\n",
    "    \"\"\"\n",
    "\n",
    "    model = keras.models.Sequential()\n",
    "    model.add(keras.layers.Conv2D(64, kernel_size=5, \n",
    "                                  strides=2, padding=\"same\", \n",
    "                                  use_bias=False, \n",
    "                                  input_shape=[dims[0], dims[0], channels],\n",
    "                                  activation=\"relu\"))\n",
    "    model.add(keras.layers.MaxPool2D(pool_size=2))\n",
    "    model.add(keras.layers.Conv2D(128, kernel_size=3, \n",
    "                                  strides=1, padding=\"same\", \n",
    "                                  use_bias=False,\n",
    "                                  activation=\"relu\"))\n",
    "    model.add(keras.layers.MaxPool2D(pool_size=2))\n",
    "    model.add(keras.layers.Conv2D(256, kernel_size=3, \n",
    "                                  strides=1, padding=\"same\", \n",
    "                                  use_bias=False,\n",
    "                                  activation=\"relu\"))\n",
    "    model.add(keras.layers.MaxPool2D(pool_size=2))\n",
    "    model.add(keras.layers.Flatten())\n",
    "    model.add(keras.layers.Dropout(0.3))\n",
    "    model.add(keras.layers.Dense(64, activation=\"relu\"))\n",
    "    model.add(keras.layers.Dropout(0.3))\n",
    "    model.add(keras.layers.Dense(5, activation=\"softmax\"))\n",
    "    \n",
    "    optimizer = keras.optimizers.RMSprop(learning_rate=0.001, rho=0.9)\n",
    "    model.compile(loss=keras.losses.sparse_categorical_crossentropy, \n",
    "                  optimizer=optimizer, \n",
    "                  metrics=keras.metrics.sparse_categorical_accuracy)\n",
    "    \n",
    "    \n",
    "    model_target = os.path.join(BASE_DIR, \"models\", \"cnn_mp_r3_de_v2.h5\")\n",
    "    checkpoint_cb = keras.callbacks.ModelCheckpoint(model_target, save_best_only=True)\n",
    "    early_stop_cb = keras.callbacks.EarlyStopping(patience=10)\n",
    "    callbacks = [checkpoint_cb, early_stop_cb]\n",
    "    \n",
    "    return model, callbacks"
   ]
  },
  {
   "cell_type": "code",
   "execution_count": 57,
   "id": "cdc98ff2",
   "metadata": {},
   "outputs": [],
   "source": [
    "model, callbacks = cnn_mp_r3_de_v2()"
   ]
  },
  {
   "cell_type": "code",
   "execution_count": 58,
   "id": "b5878d82",
   "metadata": {},
   "outputs": [
    {
     "name": "stdout",
     "output_type": "stream",
     "text": [
      "Epoch 1/5\n",
      "97/97 [==============================] - 145s 1s/step - loss: 1.4900 - sparse_categorical_accuracy: 0.3438 - val_loss: 1.2772 - val_sparse_categorical_accuracy: 0.4219\n",
      "Epoch 2/5\n",
      "97/97 [==============================] - 139s 1s/step - loss: 1.3380 - sparse_categorical_accuracy: 0.4214 - val_loss: 1.2705 - val_sparse_categorical_accuracy: 0.3854\n",
      "Epoch 3/5\n",
      "97/97 [==============================] - 139s 1s/step - loss: 1.2860 - sparse_categorical_accuracy: 0.4681 - val_loss: 1.2057 - val_sparse_categorical_accuracy: 0.5208\n",
      "Epoch 4/5\n",
      "97/97 [==============================] - 135s 1s/step - loss: 1.2318 - sparse_categorical_accuracy: 0.4974 - val_loss: 1.1199 - val_sparse_categorical_accuracy: 0.5260\n",
      "Epoch 5/5\n",
      "97/97 [==============================] - 141s 1s/step - loss: 1.2226 - sparse_categorical_accuracy: 0.5084 - val_loss: 1.1106 - val_sparse_categorical_accuracy: 0.5755\n"
     ]
    }
   ],
   "source": [
    "history = model.fit(train_set, \n",
    "                    epochs=5, \n",
    "                    steps_per_epoch=int(0.9 * max_train_instance / batch_size),\n",
    "                    validation_data=valid_set, \n",
    "                    validation_steps=int(0.9 * max_valid_instance / batch_size),\n",
    "                    callbacks=callbacks)"
   ]
  },
  {
   "cell_type": "markdown",
   "id": "c6be49fe",
   "metadata": {},
   "source": [
    "##### Observations\n",
    "\n",
    "Above results clearly concludes that nadam and RMSprop optimizer outperforms all others. Next, we can choose nadam.RMSprop and experiments with some other variables with model"
   ]
  },
  {
   "cell_type": "markdown",
   "id": "bebffbbe",
   "metadata": {},
   "source": [
    "## Different Model Architecture"
   ]
  },
  {
   "cell_type": "code",
   "execution_count": 62,
   "id": "8ee8f085",
   "metadata": {},
   "outputs": [],
   "source": [
    "keras.backend.clear_session()\n",
    "np.random.seed(42)\n",
    "tf.random.set_seed(42)\n",
    "\n",
    "\n",
    "def cnn_mp_r4_de():\n",
    "    \"\"\"\n",
    "    name ecodes the model architecture\n",
    "    cnn followed by max pooling repeated three times, followed by dense layer\n",
    "    changes copare to cnn_mp_r3_de:\n",
    "            extra cnn with kenel size of 512\n",
    "            dense layer size increased to 128\n",
    "            he_normal initilizatin is implemented\n",
    "    \"\"\"\n",
    "\n",
    "    model = keras.models.Sequential()\n",
    "    model.add(keras.layers.Conv2D(64, kernel_size=5, \n",
    "                                  strides=2, padding=\"same\", \n",
    "                                  use_bias=False, \n",
    "                                  input_shape=[dims[0], dims[0], channels],\n",
    "                                  kernel_initializer=\"he_normal\",\n",
    "                                  activation=\"relu\"))\n",
    "    model.add(keras.layers.MaxPool2D(pool_size=2))\n",
    "    model.add(keras.layers.Conv2D(128, kernel_size=3, \n",
    "                                  strides=1, padding=\"same\", \n",
    "                                  use_bias=False,\n",
    "                                  kernel_initializer=\"he_normal\",\n",
    "                                  activation=\"relu\"))\n",
    "    model.add(keras.layers.MaxPool2D(pool_size=2))\n",
    "    model.add(keras.layers.Conv2D(256, kernel_size=3, \n",
    "                                  strides=1, padding=\"same\", \n",
    "                                  use_bias=False,\n",
    "                                  kernel_initializer=\"he_normal\",\n",
    "                                  activation=\"relu\"))\n",
    "    model.add(keras.layers.MaxPool2D(pool_size=2))\n",
    "    model.add(keras.layers.Conv2D(512, kernel_size=3, \n",
    "                                  strides=1, padding=\"same\", \n",
    "                                  use_bias=False,\n",
    "                                  kernel_initializer=\"he_normal\",\n",
    "                                  activation=\"relu\"))\n",
    "    model.add(keras.layers.MaxPool2D(pool_size=2))\n",
    "    model.add(keras.layers.Flatten())\n",
    "    model.add(keras.layers.Dropout(0.3))\n",
    "    model.add(keras.layers.Dense(128, activation=\"relu\"))\n",
    "    model.add(keras.layers.Dropout(0.3))\n",
    "    model.add(keras.layers.Dense(5, activation=\"softmax\"))\n",
    "    \n",
    "    model.compile(loss=keras.losses.sparse_categorical_crossentropy, \n",
    "                  optimizer=\"nadam\", \n",
    "                  metrics=keras.metrics.sparse_categorical_accuracy)\n",
    "        \n",
    "    model_target = os.path.join(BASE_DIR, \"models\", \"cnn_mp_r4_de.h5\")\n",
    "    checkpoint_cb = keras.callbacks.ModelCheckpoint(model_target, save_best_only=True)\n",
    "    early_stop_cb = keras.callbacks.EarlyStopping(patience=10)\n",
    "    callbacks = [checkpoint_cb, early_stop_cb]\n",
    "    \n",
    "    return model, callbacks"
   ]
  },
  {
   "cell_type": "code",
   "execution_count": 63,
   "id": "c5a15e0b",
   "metadata": {},
   "outputs": [],
   "source": [
    "model, callbacks = cnn_mp_r4_de()"
   ]
  },
  {
   "cell_type": "code",
   "execution_count": 64,
   "id": "27cbe5ff",
   "metadata": {},
   "outputs": [
    {
     "name": "stdout",
     "output_type": "stream",
     "text": [
      "Epoch 1/5\n",
      "97/97 [==============================] - 155s 2s/step - loss: 1.6924 - sparse_categorical_accuracy: 0.3254 - val_loss: 1.3802 - val_sparse_categorical_accuracy: 0.3776\n",
      "Epoch 2/5\n",
      "97/97 [==============================] - 151s 2s/step - loss: 1.3186 - sparse_categorical_accuracy: 0.4166 - val_loss: 1.2118 - val_sparse_categorical_accuracy: 0.4401\n",
      "Epoch 3/5\n",
      "97/97 [==============================] - 156s 2s/step - loss: 1.2511 - sparse_categorical_accuracy: 0.4720 - val_loss: 1.1742 - val_sparse_categorical_accuracy: 0.5104\n",
      "Epoch 4/5\n",
      "97/97 [==============================] - 155s 2s/step - loss: 1.2143 - sparse_categorical_accuracy: 0.4932 - val_loss: 1.1436 - val_sparse_categorical_accuracy: 0.5052\n",
      "Epoch 5/5\n",
      "97/97 [==============================] - 150s 2s/step - loss: 1.1657 - sparse_categorical_accuracy: 0.5245 - val_loss: 1.0710 - val_sparse_categorical_accuracy: 0.5443\n"
     ]
    }
   ],
   "source": [
    "history = model.fit(train_set, \n",
    "                    epochs=5, \n",
    "                    steps_per_epoch=int(0.9 * max_train_instance / batch_size),\n",
    "                    validation_data=valid_set, \n",
    "                    validation_steps=int(0.9 * max_valid_instance / batch_size),\n",
    "                    callbacks=callbacks)"
   ]
  },
  {
   "cell_type": "code",
   "execution_count": 71,
   "id": "fa2b90d0",
   "metadata": {},
   "outputs": [],
   "source": [
    "keras.backend.clear_session()\n",
    "np.random.seed(42)\n",
    "tf.random.set_seed(42)\n",
    "\n",
    "\n",
    "def cnn_mp_r3_de_v2():\n",
    "    \"\"\"\n",
    "    name ecodes the model architecture\n",
    "    cnn followed by max pooling repeated three times, followed by dense layer\n",
    "    changes:\n",
    "            dense layer size increased to 128\n",
    "            he_normal initilizatin is implemented\n",
    "    \"\"\"\n",
    "\n",
    "    model = keras.models.Sequential()\n",
    "    model.add(keras.layers.Conv2D(64, kernel_size=5, \n",
    "                                  strides=2, padding=\"same\", \n",
    "                                  use_bias=False, \n",
    "                                  input_shape=[dims[0], dims[0], channels],\n",
    "                                  kernel_initializer=\"he_normal\",\n",
    "                                  activation=\"relu\"))\n",
    "    model.add(keras.layers.MaxPool2D(pool_size=2))\n",
    "    model.add(keras.layers.Conv2D(128, kernel_size=3, \n",
    "                                  strides=1, padding=\"same\", \n",
    "                                  use_bias=False,\n",
    "                                  kernel_initializer=\"he_normal\",\n",
    "                                  activation=\"relu\"))\n",
    "    model.add(keras.layers.MaxPool2D(pool_size=2))\n",
    "    model.add(keras.layers.Conv2D(256, kernel_size=3, \n",
    "                                  strides=1, padding=\"same\", \n",
    "                                  use_bias=False,\n",
    "                                  kernel_initializer=\"he_normal\",\n",
    "                                  activation=\"relu\"))\n",
    "    model.add(keras.layers.MaxPool2D(pool_size=2))\n",
    "    model.add(keras.layers.Flatten())\n",
    "    model.add(keras.layers.Dropout(0.3))\n",
    "    model.add(keras.layers.Dense(128, activation=\"relu\"))\n",
    "    model.add(keras.layers.Dropout(0.3))\n",
    "    model.add(keras.layers.Dense(5, activation=\"softmax\"))\n",
    "    \n",
    "    model.compile(loss=keras.losses.sparse_categorical_crossentropy, \n",
    "                  optimizer=\"nadam\", \n",
    "                  metrics=keras.metrics.sparse_categorical_accuracy)\n",
    "        \n",
    "    model_target = os.path.join(BASE_DIR, \"models\", \"cnn_mp_r3_de_v2.h5\")\n",
    "    checkpoint_cb = keras.callbacks.ModelCheckpoint(model_target, save_best_only=True)\n",
    "    early_stop_cb = keras.callbacks.EarlyStopping(patience=10)\n",
    "    callbacks = [checkpoint_cb, early_stop_cb]\n",
    "    \n",
    "    return model, callbacks"
   ]
  },
  {
   "cell_type": "code",
   "execution_count": 72,
   "id": "96267da3",
   "metadata": {},
   "outputs": [],
   "source": [
    "model, callbacks = cnn_mp_r3_de_v2()"
   ]
  },
  {
   "cell_type": "code",
   "execution_count": 68,
   "id": "5d8ab4c0",
   "metadata": {},
   "outputs": [
    {
     "name": "stdout",
     "output_type": "stream",
     "text": [
      "Epoch 1/5\n",
      "97/97 [==============================] - 144s 1s/step - loss: 1.7884 - sparse_categorical_accuracy: 0.3541 - val_loss: 1.2552 - val_sparse_categorical_accuracy: 0.4531\n",
      "Epoch 2/5\n",
      "97/97 [==============================] - 139s 1s/step - loss: 1.2972 - sparse_categorical_accuracy: 0.4443 - val_loss: 1.1778 - val_sparse_categorical_accuracy: 0.4948\n",
      "Epoch 3/5\n",
      "97/97 [==============================] - 138s 1s/step - loss: 1.2268 - sparse_categorical_accuracy: 0.5000 - val_loss: 1.1302 - val_sparse_categorical_accuracy: 0.5495\n",
      "Epoch 4/5\n",
      "97/97 [==============================] - 141s 1s/step - loss: 1.1826 - sparse_categorical_accuracy: 0.4971 - val_loss: 1.0885 - val_sparse_categorical_accuracy: 0.5521\n",
      "Epoch 5/5\n",
      "97/97 [==============================] - 143s 1s/step - loss: 1.1258 - sparse_categorical_accuracy: 0.5506 - val_loss: 1.0160 - val_sparse_categorical_accuracy: 0.6250\n"
     ]
    }
   ],
   "source": [
    "history = model.fit(train_set, \n",
    "                    epochs=5, \n",
    "                    steps_per_epoch=int(0.9 * max_train_instance / batch_size),\n",
    "                    validation_data=valid_set, \n",
    "                    validation_steps=int(0.9 * max_valid_instance / batch_size),\n",
    "                    callbacks=callbacks)"
   ]
  },
  {
   "cell_type": "code",
   "execution_count": 76,
   "id": "b4a2f789",
   "metadata": {},
   "outputs": [
    {
     "name": "stdout",
     "output_type": "stream",
     "text": [
      "Epoch 1/25\n",
      "97/97 [==============================] - 147s 2s/step - loss: 1.7125 - sparse_categorical_accuracy: 0.3576 - val_loss: 1.2798 - val_sparse_categorical_accuracy: 0.4167\n",
      "Epoch 2/25\n",
      "97/97 [==============================] - 141s 1s/step - loss: 1.3085 - sparse_categorical_accuracy: 0.4391 - val_loss: 1.2109 - val_sparse_categorical_accuracy: 0.4740\n",
      "Epoch 3/25\n",
      "97/97 [==============================] - 141s 1s/step - loss: 1.2280 - sparse_categorical_accuracy: 0.4742 - val_loss: 1.2233 - val_sparse_categorical_accuracy: 0.5078\n",
      "Epoch 4/25\n",
      "97/97 [==============================] - 134s 1s/step - loss: 1.2010 - sparse_categorical_accuracy: 0.5064 - val_loss: 1.0990 - val_sparse_categorical_accuracy: 0.5677\n",
      "Epoch 5/25\n",
      "97/97 [==============================] - 136s 1s/step - loss: 1.1398 - sparse_categorical_accuracy: 0.5370 - val_loss: 1.0768 - val_sparse_categorical_accuracy: 0.5573\n",
      "Epoch 6/25\n",
      "97/97 [==============================] - 135s 1s/step - loss: 1.1281 - sparse_categorical_accuracy: 0.5522 - val_loss: 1.0613 - val_sparse_categorical_accuracy: 0.5729\n",
      "Epoch 7/25\n",
      "97/97 [==============================] - 137s 1s/step - loss: 1.0861 - sparse_categorical_accuracy: 0.5660 - val_loss: 1.0771 - val_sparse_categorical_accuracy: 0.5443\n",
      "Epoch 8/25\n",
      "97/97 [==============================] - 134s 1s/step - loss: 1.0461 - sparse_categorical_accuracy: 0.5889 - val_loss: 1.0003 - val_sparse_categorical_accuracy: 0.6172\n",
      "Epoch 9/25\n",
      "79/97 [=======================>......] - ETA: 17s - loss: 1.0235 - sparse_categorical_accuracy: 0.5989WARNING:tensorflow:Your input ran out of data; interrupting training. Make sure that your dataset or generator can generate at least `steps_per_epoch * epochs` batches (in this case, 2425 batches). You may need to use the repeat() function when building your dataset.\n",
      "97/97 [==============================] - 113s 1s/step - loss: 1.0235 - sparse_categorical_accuracy: 0.5989 - val_loss: 0.9657 - val_sparse_categorical_accuracy: 0.5911\n"
     ]
    }
   ],
   "source": [
    "history = model.fit(train_set, \n",
    "                    epochs=25, \n",
    "                    steps_per_epoch=int(0.9 * max_train_instance / batch_size),\n",
    "                    validation_data=valid_set, \n",
    "                    validation_steps=int(0.9 * max_valid_instance / batch_size),\n",
    "                    callbacks=callbacks)"
   ]
  },
  {
   "cell_type": "markdown",
   "id": "a3c4c0ae",
   "metadata": {},
   "source": [
    "##### Note\n",
    "\n",
    "Done necessary adjustement to max_instances and steps_per_epochs to supress the warning message"
   ]
  },
  {
   "cell_type": "markdown",
   "id": "c13d2254",
   "metadata": {},
   "source": [
    "### Experiment with Learning Rate"
   ]
  },
  {
   "cell_type": "code",
   "execution_count": 105,
   "id": "bd334dd6",
   "metadata": {},
   "outputs": [],
   "source": [
    "K = keras.backend\n",
    "\n",
    "class ExponentialLearningRate(keras.callbacks.Callback):\n",
    "    def __init__(self, factor):\n",
    "        self.factor = factor\n",
    "        self.rates = []\n",
    "        self.losses = []\n",
    "        \n",
    "    def on_batch_end(self, batch, logs):\n",
    "        lr = K.get_value(self.model.optimizer.learning_rate)\n",
    "        self.rates.append(lr)\n",
    "        self.losses.append(logs[\"loss\"])\n",
    "        K.set_value(self.model.optimizer.learning_rate, lr*self.factor)\n",
    "        \n",
    "def find_learnig_rate(model, train_set, epochs=1, batch_size=32, min_rate=1e-5, max_rate=10):\n",
    "    init_weights = model.get_weights()\n",
    "    init_lr = K.get_value(model.optimizer.learning_rate)\n",
    "    iterations = np.math.ceil(0.85 * max_train_instance / batch_size) * epochs\n",
    "    factor = np.exp(np.log(max_rate / min_rate) / iterations)\n",
    "    exp_lr = ExponentialLearningRate(factor)\n",
    "    history = model.fit(train_set, \n",
    "                        epochs=epochs, \n",
    "                        steps_per_epoch=int(0.85 * max_train_instance / batch_size),\n",
    "                        batch_size=batch_size, \n",
    "                        callbacks=[exp_lr])\n",
    "    model.set_weights(init_weights)\n",
    "    K.set_value(model.optimizer.learning_rate, init_lr)\n",
    "    return exp_lr.rates, exp_lr.losses\n",
    "\n",
    "def plot_rates_vs_losses(rates, losses):\n",
    "    plt.plot(rates, losses)\n",
    "    plt.gca().set_xscale('log')\n",
    "    plt.hlines(min(losses), min(rates), max(rates))\n",
    "    plt.axis([min(rates), max(rates), min(losses), (losses[0] + min(losses)) / 2])\n",
    "    plt.xlabel(\"Learning rate\")\n",
    "    plt.ylabel(\"Loss\")"
   ]
  },
  {
   "cell_type": "code",
   "execution_count": 78,
   "id": "90733766",
   "metadata": {},
   "outputs": [],
   "source": [
    "class OneCycleScheduler(keras.callbacks.Callback):\n",
    "    def __init__(self, iterations, max_rate, start_rate=None,\n",
    "                 last_iterations=None, last_rate=None):\n",
    "        self.iterations = iterations\n",
    "        self.max_rate = max_rate\n",
    "        self.start_rate = start_rate or max_rate / 10\n",
    "        self.last_iterations = last_iterations or iterations // 10 + 1\n",
    "        self.half_iteration = (iterations - self.last_iterations) // 2\n",
    "        self.last_rate = last_rate or self.start_rate / 1000\n",
    "        self.iteration = 0\n",
    "    def _interpolate(self, iter1, iter2, rate1, rate2):\n",
    "        return ((rate2 - rate1) * (self.iteration - iter1)\n",
    "                / (iter2 - iter1) + rate1)\n",
    "    def on_batch_begin(self, batch, logs):\n",
    "        if self.iteration < self.half_iteration:\n",
    "            rate = self._interpolate(0, self.half_iteration, self.start_rate, self.max_rate)\n",
    "        elif self.iteration < 2 * self.half_iteration:\n",
    "            rate = self._interpolate(self.half_iteration, 2 * self.half_iteration,\n",
    "                                     self.max_rate, self.start_rate)\n",
    "        else:\n",
    "            rate = self._interpolate(2 * self.half_iteration, self.iterations,\n",
    "                                     self.start_rate, self.last_rate)\n",
    "        self.iteration += 1\n",
    "        K.set_value(self.model.optimizer.learning_rate, rate)"
   ]
  },
  {
   "cell_type": "code",
   "execution_count": 106,
   "id": "ee3558aa",
   "metadata": {},
   "outputs": [],
   "source": [
    "model, callbacks = cnn_mp_r3_de_v2()"
   ]
  },
  {
   "cell_type": "code",
   "execution_count": 107,
   "id": "aaf68050",
   "metadata": {},
   "outputs": [
    {
     "name": "stdout",
     "output_type": "stream",
     "text": [
      "Epoch 1/2\n",
      "91/91 [==============================] - 96s 1s/step - loss: 3085.5239 - sparse_categorical_accuracy: 0.2294\n",
      "Epoch 2/2\n",
      "91/91 [==============================] - 95s 1s/step - loss: 95.5725 - sparse_categorical_accuracy: 0.2215\n"
     ]
    },
    {
     "data": {
      "image/png": "[encoded data removed]",
      "text/plain": [
       "<Figure size 432x288 with 1 Axes>"
      ]
     },
     "metadata": {
      "needs_background": "light"
     },
     "output_type": "display_data"
    }
   ],
   "source": [
    "batch_size = 32\n",
    "rates, losses = find_learnig_rate(model, train_set, epochs=2, batch_size=batch_size)\n",
    "plot_rates_vs_losses(rates, losses)"
   ]
  },
  {
   "cell_type": "markdown",
   "id": "8237b82a",
   "metadata": {},
   "source": [
    "##### Observations\n",
    "\n",
    "From the above graph we can set the max learning rate to arroud 0.8 for 1cycle scheduling aproch"
   ]
  },
  {
   "cell_type": "markdown",
   "id": "49d69259",
   "metadata": {},
   "source": [
    "#### Applying the one cycle aproch"
   ]
  },
  {
   "cell_type": "code",
   "execution_count": 118,
   "id": "8ac20759",
   "metadata": {},
   "outputs": [],
   "source": [
    "model, callbacks = cnn_mp_r3_de_v2()\n",
    "\n",
    "steps_factor = 0.85\n",
    "epochs = 5\n",
    "max_learning_rate = 0.8\n",
    "one_cycle_cb = OneCycleScheduler(int(steps_factor * max_train_instance / batch_size) * epochs, max_rate=max_learning_rate)\n",
    "\n",
    "callbacks.append(one_cycle_cb)"
   ]
  },
  {
   "cell_type": "code",
   "execution_count": 119,
   "id": "8bef8e5d",
   "metadata": {},
   "outputs": [
    {
     "name": "stdout",
     "output_type": "stream",
     "text": [
      "Epoch 1/5\n",
      "91/91 [==============================] - 228s 3s/step - loss: 11959.7666 - sparse_categorical_accuracy: 0.2119 - val_loss: 1.6336 - val_sparse_categorical_accuracy: 0.2392\n",
      "Epoch 2/5\n",
      "91/91 [==============================] - 226s 3s/step - loss: 1.6242 - sparse_categorical_accuracy: 0.2157 - val_loss: 1.6138 - val_sparse_categorical_accuracy: 0.1791\n",
      "Epoch 3/5\n",
      "91/91 [==============================] - 222s 2s/step - loss: 1.6184 - sparse_categorical_accuracy: 0.2648 - val_loss: 1.6402 - val_sparse_categorical_accuracy: 0.2512\n",
      "Epoch 4/5\n",
      "91/91 [==============================] - 224s 2s/step - loss: 1.6072 - sparse_categorical_accuracy: 0.2438 - val_loss: 1.6235 - val_sparse_categorical_accuracy: 0.2512\n",
      "Epoch 5/5\n",
      "91/91 [==============================] - 224s 2s/step - loss: 1.6118 - sparse_categorical_accuracy: 0.2047 - val_loss: 1.6033 - val_sparse_categorical_accuracy: 0.2512\n"
     ]
    }
   ],
   "source": [
    "history = model.fit(train_set, \n",
    "                    epochs=epochs, \n",
    "                    steps_per_epoch=int(steps_factor * max_train_instance / batch_size),\n",
    "                    validation_data=valid_set, \n",
    "                    callbacks=callbacks)"
   ]
  },
  {
   "cell_type": "code",
   "execution_count": 120,
   "id": "a3eb4973",
   "metadata": {},
   "outputs": [],
   "source": [
    "model, callbacks = cnn_mp_r3_de_v2()\n",
    "\n",
    "steps_factor = 0.85\n",
    "epochs = 5\n",
    "max_learning_rate = 1.2\n",
    "one_cycle_cb = OneCycleScheduler(int(steps_factor * max_train_instance / batch_size) * epochs, max_rate=max_learning_rate)\n",
    "\n",
    "callbacks.append(one_cycle_cb)"
   ]
  },
  {
   "cell_type": "code",
   "execution_count": 121,
   "id": "0de3439f",
   "metadata": {},
   "outputs": [
    {
     "name": "stdout",
     "output_type": "stream",
     "text": [
      "Epoch 1/5\n",
      "91/91 [==============================] - 227s 2s/step - loss: 12666506.0000 - sparse_categorical_accuracy: 0.2376 - val_loss: 197.1367 - val_sparse_categorical_accuracy: 0.2509\n",
      "Epoch 2/5\n",
      "91/91 [==============================] - 225s 2s/step - loss: 33.2915 - sparse_categorical_accuracy: 0.2242 - val_loss: 1.6751 - val_sparse_categorical_accuracy: 0.2512\n",
      "Epoch 3/5\n",
      "91/91 [==============================] - 225s 2s/step - loss: 1.6692 - sparse_categorical_accuracy: 0.2294 - val_loss: 1.6285 - val_sparse_categorical_accuracy: 0.2395\n",
      "Epoch 4/5\n",
      "91/91 [==============================] - 223s 2s/step - loss: 1.6642 - sparse_categorical_accuracy: 0.2291 - val_loss: 1.6160 - val_sparse_categorical_accuracy: 0.1791\n",
      "Epoch 5/5\n",
      "91/91 [==============================] - 224s 2s/step - loss: 1.5953 - sparse_categorical_accuracy: 0.2473 - val_loss: 1.5978 - val_sparse_categorical_accuracy: 0.2512\n"
     ]
    }
   ],
   "source": [
    "history = model.fit(train_set, \n",
    "                    epochs=epochs, \n",
    "                    steps_per_epoch=int(steps_factor * max_train_instance / batch_size),\n",
    "                    validation_data=valid_set, \n",
    "                    callbacks=callbacks)"
   ]
  },
  {
   "cell_type": "markdown",
   "id": "61d378c0",
   "metadata": {},
   "source": [
    "### Loading tuned model from flowers"
   ]
  },
  {
   "cell_type": "code",
   "execution_count": 126,
   "id": "298fb00c",
   "metadata": {},
   "outputs": [],
   "source": [
    "model_target = os.path.join(BASE_DIR, \"models\", \"cnn_mp_r3_de_v23.h5\")\n",
    "load_model = keras.models.load_model(model_target)\n",
    "model = keras.models.clone_model(load_model)\n",
    "model.set_weights(load_model.get_weights())"
   ]
  },
  {
   "cell_type": "code",
   "execution_count": 127,
   "id": "3054bcaa",
   "metadata": {},
   "outputs": [],
   "source": [
    "model_target = os.path.join(BASE_DIR, \"models\", \"cnn_mp_r3_de_v23.h5\")\n",
    "checkpoint_cb = keras.callbacks.ModelCheckpoint(model_target, save_best_only=True)\n",
    "early_stop_cb = keras.callbacks.EarlyStopping(patience=10)\n",
    "callbacks = [checkpoint_cb, early_stop_cb]"
   ]
  },
  {
   "cell_type": "code",
   "execution_count": 128,
   "id": "89591f23",
   "metadata": {},
   "outputs": [],
   "source": [
    "def compile_model(model):\n",
    "    optimizer = keras.optimizers.Nadam(learning_rate=0.0009)\n",
    "    model.compile(loss=keras.losses.sparse_categorical_crossentropy, \n",
    "                  optimizer=optimizer,\n",
    "                  metrics=keras.metrics.sparse_categorical_accuracy)"
   ]
  },
  {
   "cell_type": "code",
   "execution_count": 129,
   "id": "173e2bb1",
   "metadata": {},
   "outputs": [],
   "source": [
    "compile_model(model)"
   ]
  },
  {
   "cell_type": "code",
   "execution_count": 130,
   "id": "a45c30e4",
   "metadata": {},
   "outputs": [
    {
     "name": "stdout",
     "output_type": "stream",
     "text": [
      "Epoch 1/50\n",
      "91/91 [==============================] - 291s 3s/step - loss: 1.3286 - sparse_categorical_accuracy: 0.4200 - val_loss: 1.1607 - val_sparse_categorical_accuracy: 0.4820\n",
      "Epoch 2/50\n",
      "91/91 [==============================] - 224s 2s/step - loss: 1.1828 - sparse_categorical_accuracy: 0.5282 - val_loss: 1.1286 - val_sparse_categorical_accuracy: 0.5459\n",
      "Epoch 3/50\n",
      "91/91 [==============================] - 220s 2s/step - loss: 1.1200 - sparse_categorical_accuracy: 0.5649 - val_loss: 1.0689 - val_sparse_categorical_accuracy: 0.5698\n",
      "Epoch 4/50\n",
      "91/91 [==============================] - 219s 2s/step - loss: 1.0705 - sparse_categorical_accuracy: 0.5735 - val_loss: 1.0686 - val_sparse_categorical_accuracy: 0.5884\n",
      "Epoch 5/50\n",
      "91/91 [==============================] - 218s 2s/step - loss: 1.0348 - sparse_categorical_accuracy: 0.5958 - val_loss: 0.9779 - val_sparse_categorical_accuracy: 0.6285\n",
      "Epoch 6/50\n",
      "91/91 [==============================] - 219s 2s/step - loss: 1.0146 - sparse_categorical_accuracy: 0.6051 - val_loss: 1.0058 - val_sparse_categorical_accuracy: 0.6119\n",
      "Epoch 7/50\n",
      "91/91 [==============================] - 218s 2s/step - loss: 1.0263 - sparse_categorical_accuracy: 0.6058 - val_loss: 0.9470 - val_sparse_categorical_accuracy: 0.6201\n",
      "Epoch 8/50\n",
      "91/91 [==============================] - 218s 2s/step - loss: 0.9639 - sparse_categorical_accuracy: 0.6154 - val_loss: 0.9873 - val_sparse_categorical_accuracy: 0.6180\n",
      "Epoch 9/50\n",
      "91/91 [==============================] - 219s 2s/step - loss: 0.9721 - sparse_categorical_accuracy: 0.6229 - val_loss: 0.9505 - val_sparse_categorical_accuracy: 0.6160\n",
      "Epoch 10/50\n",
      "36/91 [==========>...................] - ETA: 52s - loss: 0.9241 - sparse_categorical_accuracy: 0.6406WARNING:tensorflow:Your input ran out of data; interrupting training. Make sure that your dataset or generator can generate at least `steps_per_epoch * epochs` batches (in this case, 4550 batches). You may need to use the repeat() function when building your dataset.\n",
      "91/91 [==============================] - 51248s 569s/step - loss: 0.9241 - sparse_categorical_accuracy: 0.6406 - val_loss: 0.9306 - val_sparse_categorical_accuracy: 0.6372\n"
     ]
    }
   ],
   "source": [
    "epochs = 50\n",
    "history = model.fit(train_set, \n",
    "                    epochs=epochs, \n",
    "                    steps_per_epoch=int(steps_factor * max_train_instance / batch_size),\n",
    "                    validation_data=valid_set, \n",
    "                    callbacks=callbacks,\n",
    "                    initial_epoch=0)"
   ]
  },
  {
   "cell_type": "markdown",
   "id": "b5282563",
   "metadata": {},
   "source": [
    "##### Note\n",
    "\n",
    "Added repeat to validation set to supress the above warning."
   ]
  },
  {
   "cell_type": "code",
   "execution_count": 142,
   "id": "e839d081",
   "metadata": {},
   "outputs": [],
   "source": [
    "model_target = os.path.join(BASE_DIR, \"models\", \"cnn_mp_r3_de_v23.h5\")\n",
    "load_model = keras.models.load_model(model_target)\n",
    "model = keras.models.clone_model(load_model)\n",
    "model.set_weights(load_model.get_weights())"
   ]
  },
  {
   "cell_type": "code",
   "execution_count": 143,
   "id": "43a59468",
   "metadata": {},
   "outputs": [],
   "source": [
    "compile_model(model)"
   ]
  },
  {
   "cell_type": "code",
   "execution_count": 144,
   "id": "b9a0ee4f",
   "metadata": {},
   "outputs": [
    {
     "name": "stdout",
     "output_type": "stream",
     "text": [
      "Epoch 11/50\n",
      "91/91 [==============================] - 171s 2s/step - loss: 9.7253 - sparse_categorical_accuracy: 0.3630 - val_loss: 1.5808 - val_sparse_categorical_accuracy: 0.3726\n",
      "Epoch 12/50\n",
      "91/91 [==============================] - 163s 2s/step - loss: 1.5758 - sparse_categorical_accuracy: 0.3520 - val_loss: 1.4522 - val_sparse_categorical_accuracy: 0.3702\n",
      "Epoch 13/50\n",
      "91/91 [==============================] - 185s 2s/step - loss: 1.5023 - sparse_categorical_accuracy: 0.3462 - val_loss: 1.4363 - val_sparse_categorical_accuracy: 0.3678\n",
      "Epoch 14/50\n",
      "91/91 [==============================] - 181s 2s/step - loss: 1.4423 - sparse_categorical_accuracy: 0.3750 - val_loss: 1.4256 - val_sparse_categorical_accuracy: 0.3606\n",
      "Epoch 15/50\n",
      "91/91 [==============================] - 176s 2s/step - loss: 1.4453 - sparse_categorical_accuracy: 0.3719 - val_loss: 1.3717 - val_sparse_categorical_accuracy: 0.4255\n",
      "Epoch 16/50\n",
      "91/91 [==============================] - 169s 2s/step - loss: 1.4443 - sparse_categorical_accuracy: 0.3777 - val_loss: 1.3617 - val_sparse_categorical_accuracy: 0.4567\n",
      "Epoch 17/50\n",
      "91/91 [==============================] - 170s 2s/step - loss: 1.3892 - sparse_categorical_accuracy: 0.4148 - val_loss: 1.3258 - val_sparse_categorical_accuracy: 0.4255\n",
      "Epoch 18/50\n",
      "91/91 [==============================] - 165s 2s/step - loss: 1.4123 - sparse_categorical_accuracy: 0.4076 - val_loss: 1.3302 - val_sparse_categorical_accuracy: 0.4351\n",
      "Epoch 19/50\n",
      "91/91 [==============================] - 168s 2s/step - loss: 1.3751 - sparse_categorical_accuracy: 0.3959 - val_loss: 1.2949 - val_sparse_categorical_accuracy: 0.4447\n",
      "Epoch 20/50\n",
      "91/91 [==============================] - 171s 2s/step - loss: 1.3545 - sparse_categorical_accuracy: 0.4368 - val_loss: 1.3257 - val_sparse_categorical_accuracy: 0.4183\n",
      "Epoch 21/50\n",
      "91/91 [==============================] - 168s 2s/step - loss: 1.3636 - sparse_categorical_accuracy: 0.3911 - val_loss: 1.3726 - val_sparse_categorical_accuracy: 0.3822\n",
      "Epoch 22/50\n",
      "91/91 [==============================] - 171s 2s/step - loss: 1.3373 - sparse_categorical_accuracy: 0.4348 - val_loss: 1.3211 - val_sparse_categorical_accuracy: 0.4303\n",
      "Epoch 23/50\n",
      "91/91 [==============================] - 170s 2s/step - loss: 1.3213 - sparse_categorical_accuracy: 0.4317 - val_loss: 1.2633 - val_sparse_categorical_accuracy: 0.4591\n",
      "Epoch 24/50\n",
      "91/91 [==============================] - 174s 2s/step - loss: 1.2814 - sparse_categorical_accuracy: 0.4454 - val_loss: 1.3237 - val_sparse_categorical_accuracy: 0.4856\n",
      "Epoch 25/50\n",
      "91/91 [==============================] - 170s 2s/step - loss: 1.2952 - sparse_categorical_accuracy: 0.4475 - val_loss: 1.2862 - val_sparse_categorical_accuracy: 0.4519\n",
      "Epoch 26/50\n",
      "91/91 [==============================] - 181s 2s/step - loss: 1.2977 - sparse_categorical_accuracy: 0.4433 - val_loss: 1.2341 - val_sparse_categorical_accuracy: 0.4447\n",
      "Epoch 27/50\n",
      "91/91 [==============================] - 162s 2s/step - loss: 1.2970 - sparse_categorical_accuracy: 0.4327 - val_loss: 1.2557 - val_sparse_categorical_accuracy: 0.4447\n",
      "Epoch 28/50\n",
      "91/91 [==============================] - 164s 2s/step - loss: 1.2672 - sparse_categorical_accuracy: 0.4530 - val_loss: 1.2024 - val_sparse_categorical_accuracy: 0.4712\n",
      "Epoch 29/50\n",
      "91/91 [==============================] - 159s 2s/step - loss: 1.2848 - sparse_categorical_accuracy: 0.4612 - val_loss: 1.2268 - val_sparse_categorical_accuracy: 0.4760\n",
      "Epoch 30/50\n",
      "91/91 [==============================] - 159s 2s/step - loss: 1.2828 - sparse_categorical_accuracy: 0.4478 - val_loss: 1.1949 - val_sparse_categorical_accuracy: 0.4736\n",
      "Epoch 31/50\n",
      "91/91 [==============================] - 157s 2s/step - loss: 1.3128 - sparse_categorical_accuracy: 0.4423 - val_loss: 1.1783 - val_sparse_categorical_accuracy: 0.5024\n",
      "Epoch 32/50\n",
      "91/91 [==============================] - 161s 2s/step - loss: 1.2310 - sparse_categorical_accuracy: 0.4736 - val_loss: 1.1654 - val_sparse_categorical_accuracy: 0.5048\n",
      "Epoch 33/50\n",
      "91/91 [==============================] - 158s 2s/step - loss: 1.2430 - sparse_categorical_accuracy: 0.4883 - val_loss: 1.1938 - val_sparse_categorical_accuracy: 0.4976\n",
      "Epoch 34/50\n",
      "91/91 [==============================] - 158s 2s/step - loss: 1.2473 - sparse_categorical_accuracy: 0.4681 - val_loss: 1.1924 - val_sparse_categorical_accuracy: 0.4808\n",
      "Epoch 35/50\n",
      "91/91 [==============================] - 158s 2s/step - loss: 1.2562 - sparse_categorical_accuracy: 0.4481 - val_loss: 1.1786 - val_sparse_categorical_accuracy: 0.4952\n",
      "Epoch 36/50\n",
      "91/91 [==============================] - 158s 2s/step - loss: 1.2005 - sparse_categorical_accuracy: 0.5069 - val_loss: 1.1289 - val_sparse_categorical_accuracy: 0.5192\n",
      "Epoch 37/50\n",
      "91/91 [==============================] - 158s 2s/step - loss: 1.2145 - sparse_categorical_accuracy: 0.4876 - val_loss: 1.1263 - val_sparse_categorical_accuracy: 0.5048\n",
      "Epoch 38/50\n",
      "91/91 [==============================] - 159s 2s/step - loss: 1.1913 - sparse_categorical_accuracy: 0.4924 - val_loss: 1.2798 - val_sparse_categorical_accuracy: 0.4375\n",
      "Epoch 39/50\n",
      "91/91 [==============================] - 159s 2s/step - loss: 1.2399 - sparse_categorical_accuracy: 0.4729 - val_loss: 1.1572 - val_sparse_categorical_accuracy: 0.5216\n",
      "Epoch 40/50\n",
      "91/91 [==============================] - 158s 2s/step - loss: 1.1855 - sparse_categorical_accuracy: 0.5027 - val_loss: 1.1446 - val_sparse_categorical_accuracy: 0.5072\n",
      "Epoch 41/50\n",
      "91/91 [==============================] - 158s 2s/step - loss: 1.3395 - sparse_categorical_accuracy: 0.4770 - val_loss: 1.2580 - val_sparse_categorical_accuracy: 0.4279\n",
      "Epoch 42/50\n",
      "91/91 [==============================] - 156s 2s/step - loss: 2.3662 - sparse_categorical_accuracy: 0.2157 - val_loss: 1.6220 - val_sparse_categorical_accuracy: 0.2476\n",
      "Epoch 43/50\n",
      "91/91 [==============================] - 154s 2s/step - loss: 1.6258 - sparse_categorical_accuracy: 0.2569 - val_loss: 1.6223 - val_sparse_categorical_accuracy: 0.2524\n",
      "Epoch 44/50\n",
      "91/91 [==============================] - 155s 2s/step - loss: 1.6152 - sparse_categorical_accuracy: 0.2438 - val_loss: 1.6076 - val_sparse_categorical_accuracy: 0.2500\n",
      "Epoch 45/50\n",
      "91/91 [==============================] - 155s 2s/step - loss: 1.6143 - sparse_categorical_accuracy: 0.2503 - val_loss: 1.6019 - val_sparse_categorical_accuracy: 0.2500\n",
      "Epoch 46/50\n",
      "91/91 [==============================] - 154s 2s/step - loss: 1.6194 - sparse_categorical_accuracy: 0.2146 - val_loss: 1.6014 - val_sparse_categorical_accuracy: 0.2452\n",
      "Epoch 47/50\n",
      "91/91 [==============================] - 154s 2s/step - loss: 1.5886 - sparse_categorical_accuracy: 0.2665 - val_loss: 1.5974 - val_sparse_categorical_accuracy: 0.2500\n"
     ]
    }
   ],
   "source": [
    "epochs = 50\n",
    "history = model.fit(train_set, \n",
    "                    epochs=epochs, \n",
    "                    steps_per_epoch=int(steps_factor * max_train_instance / batch_size),\n",
    "                    validation_data=valid_set,\n",
    "                    validation_steps=int(max_valid_instance / batch_size),\n",
    "                    callbacks=callbacks,\n",
    "                    initial_epoch=10)"
   ]
  },
  {
   "cell_type": "code",
   "execution_count": 151,
   "id": "71544bd3",
   "metadata": {},
   "outputs": [],
   "source": [
    "model_target = os.path.join(BASE_DIR, \"models\", \"cnn_mp_r3_de_v23.h5\")\n",
    "load_model = keras.models.load_model(model_target)\n",
    "model = keras.models.clone_model(load_model)\n",
    "model.set_weights(load_model.get_weights())"
   ]
  },
  {
   "cell_type": "code",
   "execution_count": 152,
   "id": "a370e0b7",
   "metadata": {},
   "outputs": [],
   "source": [
    "model_target = os.path.join(BASE_DIR, \"models\", \"cnn_mp_r3_de_v23_lr005.h5\")\n",
    "checkpoint_cb = keras.callbacks.ModelCheckpoint(model_target, save_best_only=True)\n",
    "early_stop_cb = keras.callbacks.EarlyStopping(patience=10)\n",
    "callbacks = [checkpoint_cb, early_stop_cb]"
   ]
  },
  {
   "cell_type": "code",
   "execution_count": 153,
   "id": "de7cfb4c",
   "metadata": {},
   "outputs": [],
   "source": [
    "def compile_model(model):\n",
    "    optimizer = keras.optimizers.Nadam(learning_rate=0.005)\n",
    "    model.compile(loss=keras.losses.sparse_categorical_crossentropy, \n",
    "                  optimizer=optimizer,\n",
    "                  metrics=keras.metrics.sparse_categorical_accuracy)"
   ]
  },
  {
   "cell_type": "code",
   "execution_count": 154,
   "id": "d3a0dea9",
   "metadata": {},
   "outputs": [],
   "source": [
    "compile_model(model)"
   ]
  },
  {
   "cell_type": "code",
   "execution_count": 155,
   "id": "bf0d5eb9",
   "metadata": {},
   "outputs": [
    {
     "name": "stdout",
     "output_type": "stream",
     "text": [
      "Epoch 11/50\n",
      "91/91 [==============================] - 136s 1s/step - loss: 12.2356 - sparse_categorical_accuracy: 0.3125 - val_loss: 1.4845 - val_sparse_categorical_accuracy: 0.3438\n",
      "Epoch 12/50\n",
      "91/91 [==============================] - 131s 1s/step - loss: 10.5128 - sparse_categorical_accuracy: 0.2685 - val_loss: 1.6000 - val_sparse_categorical_accuracy: 0.2596\n",
      "Epoch 13/50\n",
      "91/91 [==============================] - 131s 1s/step - loss: 1.6085 - sparse_categorical_accuracy: 0.2373 - val_loss: 1.5957 - val_sparse_categorical_accuracy: 0.2500\n",
      "Epoch 14/50\n",
      "91/91 [==============================] - 131s 1s/step - loss: 1.6034 - sparse_categorical_accuracy: 0.2435 - val_loss: 1.5936 - val_sparse_categorical_accuracy: 0.2500\n",
      "Epoch 15/50\n",
      "91/91 [==============================] - 131s 1s/step - loss: 3.0765 - sparse_categorical_accuracy: 0.2304 - val_loss: 1.5929 - val_sparse_categorical_accuracy: 0.2524\n",
      "Epoch 16/50\n",
      "91/91 [==============================] - 130s 1s/step - loss: 1.6059 - sparse_categorical_accuracy: 0.2294 - val_loss: 1.5965 - val_sparse_categorical_accuracy: 0.2476\n",
      "Epoch 17/50\n",
      "91/91 [==============================] - 130s 1s/step - loss: 1.7950 - sparse_categorical_accuracy: 0.2448 - val_loss: 1.5937 - val_sparse_categorical_accuracy: 0.2428\n",
      "Epoch 18/50\n",
      "91/91 [==============================] - 130s 1s/step - loss: 1.5989 - sparse_categorical_accuracy: 0.2510 - val_loss: 1.5936 - val_sparse_categorical_accuracy: 0.2524\n",
      "Epoch 19/50\n",
      "91/91 [==============================] - 139s 2s/step - loss: 1.6451 - sparse_categorical_accuracy: 0.2263 - val_loss: 1.5948 - val_sparse_categorical_accuracy: 0.2332\n",
      "Epoch 20/50\n",
      "91/91 [==============================] - 129s 1s/step - loss: 1.6029 - sparse_categorical_accuracy: 0.2579 - val_loss: 1.5911 - val_sparse_categorical_accuracy: 0.2500\n",
      "Epoch 21/50\n",
      "91/91 [==============================] - 129s 1s/step - loss: 1.6129 - sparse_categorical_accuracy: 0.2040 - val_loss: 1.5967 - val_sparse_categorical_accuracy: 0.2596\n"
     ]
    }
   ],
   "source": [
    "epochs = 50\n",
    "history = model.fit(train_set, \n",
    "                    epochs=epochs, \n",
    "                    steps_per_epoch=int(steps_factor * max_train_instance / batch_size),\n",
    "                    validation_data=valid_set,\n",
    "                    validation_steps=int(max_valid_instance / batch_size),\n",
    "                    callbacks=callbacks,\n",
    "                    initial_epoch=10)"
   ]
  },
  {
   "cell_type": "markdown",
   "id": "8c14741c",
   "metadata": {},
   "source": [
    "##### Note\n",
    "\n",
    "Benchmark is taken from flowers to make jump to SGD as optimizer."
   ]
  },
  {
   "cell_type": "code",
   "execution_count": 162,
   "id": "7fce1565",
   "metadata": {},
   "outputs": [],
   "source": [
    "class OneCycleSchedulerSGD(keras.callbacks.Callback):\n",
    "    def __init__(self, iterations, \n",
    "                 max_lrate, \n",
    "                 start_lrate=None,\n",
    "                 last_iterations=None, \n",
    "                 last_lrate=None,\n",
    "                 max_momentum=0.95,\n",
    "                 min_momentum=0.85):\n",
    "        \n",
    "        self.iterations = iterations\n",
    "        self.last_iterations = last_iterations or iterations // 10 + 1\n",
    "        self.half_iteration = (iterations - self.last_iterations) // 2\n",
    "        \n",
    "        self.max_lrate = max_lrate\n",
    "        self.start_lrate = start_lrate or max_lrate / 10\n",
    "        self.last_lrate = last_lrate or self.start_lrate / 1000\n",
    "        \n",
    "        self.max_momentum = max_momentum\n",
    "        self.min_momentum = min_momentum\n",
    "        self.last_momentum = max_momentum\n",
    "        \n",
    "        self.iteration = 0\n",
    "        \n",
    "        self.rate = []\n",
    "        self.momentum = []\n",
    "\n",
    "        self.loss = []\n",
    "        self.val_loss = []\n",
    "        self.accuracy = []\n",
    "        self.val_accuracy = []\n",
    "    \n",
    "    def _interpolate(self, iter1, iter2, lrate1, lrate2):\n",
    "        return ((lrate2 - lrate1) * (self.iteration - iter1)\n",
    "                / (iter2 - iter1) + lrate1)\n",
    "    \n",
    "    def on_batch_begin(self, batch, logs):\n",
    "        if self.iteration < self.half_iteration:\n",
    "            rate = self._interpolate(0, self.half_iteration, self.start_lrate, self.max_lrate)\n",
    "            momentum = self._interpolate(0, self.half_iteration, self.max_momentum, self.min_momentum)\n",
    "        elif self.iteration < 2 * self.half_iteration:\n",
    "            rate = self._interpolate(self.half_iteration, 2 * self.half_iteration, self.max_lrate, self.start_lrate)\n",
    "            momentum = self._interpolate(self.half_iteration, 2 * self.half_iteration, self.min_momentum, self.max_momentum)\n",
    "        else:\n",
    "            rate = self._interpolate(2 * self.half_iteration, self.iterations, self.start_lrate, self.last_lrate)\n",
    "            momentum = self.last_momentum\n",
    "            \n",
    "        self.iteration += 1\n",
    "        K.set_value(self.model.optimizer.learning_rate, rate)\n",
    "        K.set_value(self.model.optimizer.momentum, momentum)\n",
    "        \n",
    "    def on_batch_end(self, batch, logs):\n",
    "        self.rate.append(K.get_value(self.model.optimizer.learning_rate))\n",
    "        self.momentum.append(K.get_value(self.model.optimizer.momentum))\n",
    "\n",
    "        self.loss.append(logs[\"loss\"])\n",
    "        self.accuracy.append(logs[\"sparse_categorical_accuracy\"])"
   ]
  },
  {
   "cell_type": "code",
   "execution_count": 171,
   "id": "0f6f1282",
   "metadata": {},
   "outputs": [],
   "source": [
    "model_target = os.path.join(BASE_DIR, \"models\", \"cnn_mp_r3_de_v22.h5\")\n",
    "load_model = keras.models.load_model(model_target)\n",
    "model = keras.models.clone_model(load_model)\n",
    "model.set_weights(load_model.get_weights())"
   ]
  },
  {
   "cell_type": "code",
   "execution_count": 172,
   "id": "6272447d",
   "metadata": {},
   "outputs": [],
   "source": [
    "def compile_model(model):\n",
    "    optimizer = keras.optimizers.SGD(nesterov=True)\n",
    "    model.compile(loss=keras.losses.sparse_categorical_crossentropy, \n",
    "                  optimizer=optimizer,\n",
    "                  metrics=keras.metrics.sparse_categorical_accuracy)"
   ]
  },
  {
   "cell_type": "code",
   "execution_count": 173,
   "id": "e6454e5c",
   "metadata": {},
   "outputs": [],
   "source": [
    "compile_model(model)"
   ]
  },
  {
   "cell_type": "code",
   "execution_count": 174,
   "id": "3d77d5e4",
   "metadata": {},
   "outputs": [],
   "source": [
    "model_target = os.path.join(BASE_DIR, \"models\", \"cnn_mp_r3_de_v22_1c_sgd_nes.h5\")\n",
    "\n",
    "checkpoint_cb = keras.callbacks.ModelCheckpoint(model_target, save_best_only=True)\n",
    "early_stop_cb = keras.callbacks.EarlyStopping(patience=10)\n",
    "\n",
    "callbacks = [checkpoint_cb, early_stop_cb]"
   ]
  },
  {
   "cell_type": "code",
   "execution_count": 175,
   "id": "9d5132e1",
   "metadata": {},
   "outputs": [],
   "source": [
    "epochs = 50\n",
    "max_learning_rate = 0.01\n",
    "onecycle_cb = OneCycleSchedulerSGD (int(steps_factor * max_train_instance / batch_size) * epochs, max_lrate=max_learning_rate)\n",
    "\n",
    "callbacks.append(onecycle_cb)"
   ]
  },
  {
   "cell_type": "code",
   "execution_count": 176,
   "id": "2e18a29f",
   "metadata": {},
   "outputs": [
    {
     "name": "stdout",
     "output_type": "stream",
     "text": [
      "Epoch 1/50\n",
      "91/91 [==============================] - 158s 2s/step - loss: 1.0810 - sparse_categorical_accuracy: 0.5807 - val_loss: 1.3357 - val_sparse_categorical_accuracy: 0.5385\n",
      "Epoch 2/50\n",
      "91/91 [==============================] - 155s 2s/step - loss: 1.0622 - sparse_categorical_accuracy: 0.5725 - val_loss: 0.9774 - val_sparse_categorical_accuracy: 0.6202\n",
      "Epoch 3/50\n",
      "91/91 [==============================] - 154s 2s/step - loss: 1.0935 - sparse_categorical_accuracy: 0.5450 - val_loss: 1.0018 - val_sparse_categorical_accuracy: 0.5841\n",
      "Epoch 4/50\n",
      "91/91 [==============================] - 144s 2s/step - loss: 1.0556 - sparse_categorical_accuracy: 0.5731 - val_loss: 0.9838 - val_sparse_categorical_accuracy: 0.5625\n",
      "Epoch 5/50\n",
      "91/91 [==============================] - 124s 1s/step - loss: 1.0855 - sparse_categorical_accuracy: 0.5659 - val_loss: 0.9641 - val_sparse_categorical_accuracy: 0.6274\n",
      "Epoch 6/50\n",
      "91/91 [==============================] - 124s 1s/step - loss: 1.1059 - sparse_categorical_accuracy: 0.5536 - val_loss: 1.0196 - val_sparse_categorical_accuracy: 0.5793\n",
      "Epoch 7/50\n",
      "91/91 [==============================] - 125s 1s/step - loss: 1.0733 - sparse_categorical_accuracy: 0.5766 - val_loss: 1.0638 - val_sparse_categorical_accuracy: 0.5817\n",
      "Epoch 8/50\n",
      "91/91 [==============================] - 124s 1s/step - loss: 1.0653 - sparse_categorical_accuracy: 0.5824 - val_loss: 0.9748 - val_sparse_categorical_accuracy: 0.5986\n",
      "Epoch 9/50\n",
      "91/91 [==============================] - 124s 1s/step - loss: 1.0946 - sparse_categorical_accuracy: 0.5625 - val_loss: 0.9702 - val_sparse_categorical_accuracy: 0.6298\n",
      "Epoch 10/50\n",
      "91/91 [==============================] - 123s 1s/step - loss: 1.0905 - sparse_categorical_accuracy: 0.5536 - val_loss: 1.0209 - val_sparse_categorical_accuracy: 0.6082\n",
      "Epoch 11/50\n",
      "91/91 [==============================] - 125s 1s/step - loss: 1.1249 - sparse_categorical_accuracy: 0.5361 - val_loss: 1.0702 - val_sparse_categorical_accuracy: 0.5697\n",
      "Epoch 12/50\n",
      "91/91 [==============================] - 124s 1s/step - loss: 1.0956 - sparse_categorical_accuracy: 0.5608 - val_loss: 1.0108 - val_sparse_categorical_accuracy: 0.5793\n",
      "Epoch 13/50\n",
      "91/91 [==============================] - 124s 1s/step - loss: 1.1139 - sparse_categorical_accuracy: 0.5422 - val_loss: 1.0152 - val_sparse_categorical_accuracy: 0.6130\n",
      "Epoch 14/50\n",
      "91/91 [==============================] - 124s 1s/step - loss: 1.1325 - sparse_categorical_accuracy: 0.5333 - val_loss: 1.0014 - val_sparse_categorical_accuracy: 0.6058\n",
      "Epoch 15/50\n",
      "91/91 [==============================] - 124s 1s/step - loss: 1.1055 - sparse_categorical_accuracy: 0.5591 - val_loss: 1.0328 - val_sparse_categorical_accuracy: 0.5817\n"
     ]
    }
   ],
   "source": [
    "history = model.fit(train_set, \n",
    "                    epochs=epochs, \n",
    "                    steps_per_epoch=int(steps_factor * max_train_instance / batch_size),\n",
    "                    validation_data=valid_set,\n",
    "                    validation_steps=int(max_valid_instance / batch_size),\n",
    "                    callbacks=callbacks)"
   ]
  },
  {
   "cell_type": "code",
   "execution_count": 178,
   "id": "e899db4e",
   "metadata": {},
   "outputs": [],
   "source": [
    "summary = {\"lrate\": onecycle_cb.rate,\n",
    "           \"b1\": onecycle_cb.momentum,\n",
    "           \"loss\": onecycle_cb.loss,\n",
    "           \"accuracy\": onecycle_cb.accuracy}"
   ]
  },
  {
   "cell_type": "code",
   "execution_count": 179,
   "id": "f2434d11",
   "metadata": {},
   "outputs": [
    {
     "data": {
      "image/png": "[encoded data removed]",
      "text/plain": [
       "<Figure size 576x864 with 2 Axes>"
      ]
     },
     "metadata": {
      "needs_background": "light"
     },
     "output_type": "display_data"
    }
   ],
   "source": [
    "fig, axs = plt.subplots(2, figsize=(8, 12))\n",
    "axs[0].plot(summary[\"lrate\"], summary[\"loss\"])\n",
    "axs[0].legend([\"lrate Vs loss\"])\n",
    "axs[1].plot(summary[\"lrate\"], summary[\"accuracy\"])\n",
    "axs[1].legend([\"lrate Vs accuracy\"])\n",
    "plt.show()"
   ]
  },
  {
   "cell_type": "code",
   "execution_count": 182,
   "id": "b82853e3",
   "metadata": {},
   "outputs": [],
   "source": [
    "class OneCycleSchedulerNadam(keras.callbacks.Callback):\n",
    "    def __init__(self, iterations, \n",
    "                 max_lrate, \n",
    "                 start_lrate=None,\n",
    "                 last_iterations=None, \n",
    "                 last_lrate=None,\n",
    "                 max_b1rate=0.95,\n",
    "                 min_b1rate=0.85,\n",
    "                 max_b2rate=0.9995,\n",
    "                 min_b2rate=0.9985):\n",
    "        \n",
    "        self.iterations = iterations\n",
    "        self.last_iterations = last_iterations or iterations // 10 + 1\n",
    "        self.half_iteration = (iterations - self.last_iterations) // 2\n",
    "        \n",
    "        self.max_lrate = max_lrate\n",
    "        self.start_lrate = start_lrate or max_lrate / 10\n",
    "        self.last_lrate = last_lrate or self.start_lrate / 1000\n",
    "        \n",
    "        self.max_b1rate = max_b1rate\n",
    "        self.min_b1rate = min_b1rate\n",
    "        self.last_b1rate = max_b1rate\n",
    "        \n",
    "        self.max_b2rate = max_b2rate\n",
    "        self.min_b2rate = min_b2rate\n",
    "        self.last_b2rate = max_b2rate\n",
    "\n",
    "        self.iteration = 0\n",
    "        \n",
    "        self.rate = []\n",
    "        self.b1 = []\n",
    "        self.b2 = []\n",
    "\n",
    "        self.loss = []\n",
    "        self.val_loss = []\n",
    "        self.accuracy = []\n",
    "        self.val_accuracy = []\n",
    "    \n",
    "    def _interpolate(self, iter1, iter2, lrate1, lrate2):\n",
    "        return ((lrate2 - lrate1) * (self.iteration - iter1)\n",
    "                / (iter2 - iter1) + lrate1)\n",
    "    \n",
    "    def on_batch_begin(self, batch, logs):\n",
    "        if self.iteration < self.half_iteration:\n",
    "            rate = self._interpolate(0, self.half_iteration, self.start_lrate, self.max_lrate)\n",
    "            b1 = self._interpolate(0, self.half_iteration, self.max_b1rate, self.min_b1rate)\n",
    "            b2 = self._interpolate(0, self.half_iteration, self.max_b2rate, self.min_b2rate)\n",
    "        elif self.iteration < 2 * self.half_iteration:\n",
    "            rate = self._interpolate(self.half_iteration, 2 * self.half_iteration, self.max_lrate, self.start_lrate)\n",
    "            b1 = self._interpolate(self.half_iteration, 2 * self.half_iteration, self.min_b1rate, self.max_b1rate)\n",
    "            b2 = self._interpolate(self.half_iteration, 2 * self.half_iteration, self.min_b2rate, self.max_b2rate)\n",
    "        else:\n",
    "            rate = self._interpolate(2 * self.half_iteration, self.iterations, self.start_lrate, self.last_lrate)\n",
    "            b1 = self.last_b1rate\n",
    "            b2 = self.last_b2rate\n",
    "            \n",
    "        self.iteration += 1\n",
    "        K.set_value(self.model.optimizer.learning_rate, rate)\n",
    "        K.set_value(self.model.optimizer.beta_1, b1)\n",
    "        K.set_value(self.model.optimizer.beta_2, b2)\n",
    "        \n",
    "    def on_batch_end(self, batch, logs):\n",
    "        self.rate.append(K.get_value(self.model.optimizer.learning_rate))\n",
    "        self.b1.append(K.get_value(self.model.optimizer.beta_1))\n",
    "        self.b2.append(K.get_value(self.model.optimizer.beta_2))\n",
    "\n",
    "        self.loss.append(logs[\"loss\"])\n",
    "        self.accuracy.append(logs[\"sparse_categorical_accuracy\"])"
   ]
  },
  {
   "cell_type": "code",
   "execution_count": 194,
   "id": "773e87d6",
   "metadata": {},
   "outputs": [],
   "source": [
    "keras.backend.clear_session()\n",
    "np.random.seed(42)\n",
    "tf.random.set_seed(42)\n",
    "\n",
    "def mini_resnet_9cl():\n",
    "    \n",
    "    model = keras.models.Sequential()\n",
    "    model.add(keras.layers.Conv2D(filters=64,\n",
    "                                kernel_size=5, \n",
    "                                strides=2, \n",
    "                                padding=\"same\", \n",
    "                                use_bias=False, \n",
    "                                input_shape=[dims[0], dims[1], channels]))\n",
    "    model.add(keras.layers.BatchNormalization())\n",
    "    model.add(keras.layers.Activation(\"relu\"))\n",
    "    model.add(keras.layers.MaxPool2D(pool_size=3, strides=2, padding=\"same\"))\n",
    "    pfm = 64\n",
    "    for fm in [64, 64, 128, 128]:\n",
    "        strides = 1 if pfm == fm else 2\n",
    "        model.add(ResidualLayer(fm=fm, strides=strides))\n",
    "        pfm = fm\n",
    "    model.add(keras.layers.GlobalAvgPool2D())\n",
    "    model.add(keras.layers.Flatten())\n",
    "    model.add(keras.layers.Dense(5, activation=\"softmax\"))\n",
    "           \n",
    "    return model"
   ]
  },
  {
   "cell_type": "code",
   "execution_count": 195,
   "id": "01793a8e",
   "metadata": {},
   "outputs": [],
   "source": [
    "model = mini_resnet_9cl()"
   ]
  },
  {
   "cell_type": "code",
   "execution_count": 196,
   "id": "ceed5f32",
   "metadata": {},
   "outputs": [],
   "source": [
    "optimizer = keras.optimizers.Nadam()\n",
    "model.compile(loss=keras.losses.sparse_categorical_crossentropy, \n",
    "                  optimizer=optimizer, \n",
    "                  metrics=keras.metrics.sparse_categorical_accuracy)"
   ]
  },
  {
   "cell_type": "code",
   "execution_count": 197,
   "id": "e1d7c9fa",
   "metadata": {},
   "outputs": [],
   "source": [
    "model_target = os.path.join(BASE_DIR, \"models\", \"mini_resnet_9cl_nadam_1cycle.h5\")\n",
    "checkpoint_cb = keras.callbacks.ModelCheckpoint(model_target, save_best_only=True)\n",
    "early_stop_cb = keras.callbacks.EarlyStopping(patience=10)\n",
    "callbacks = [checkpoint_cb, early_stop_cb]"
   ]
  },
  {
   "cell_type": "code",
   "execution_count": 198,
   "id": "87117283",
   "metadata": {},
   "outputs": [],
   "source": [
    "epochs = 25\n",
    "max_learning_rate = 0.001\n",
    "onecycle_cb = OneCycle SchedulerNadam(int(steps_factor * max_train_instance / batch_size) * epochs, max_lrate=max_learning_rate)\n",
    "\n",
    "callbacks.append(onecycle_cb)"
   ]
  },
  {
   "cell_type": "code",
   "execution_count": 199,
   "id": "701668a6",
   "metadata": {},
   "outputs": [
    {
     "name": "stdout",
     "output_type": "stream",
     "text": [
      "Epoch 1/25\n",
      "91/91 [==============================] - 229s 2s/step - loss: 1.2529 - sparse_categorical_accuracy: 0.4801 - val_loss: 2.3152 - val_sparse_categorical_accuracy: 0.2524\n",
      "Epoch 2/25\n",
      "91/91 [==============================] - 219s 2s/step - loss: 1.1210 - sparse_categorical_accuracy: 0.5419 - val_loss: 2.5931 - val_sparse_categorical_accuracy: 0.2620\n",
      "Epoch 3/25\n",
      "91/91 [==============================] - 227s 3s/step - loss: 1.0868 - sparse_categorical_accuracy: 0.5622 - val_loss: 2.5422 - val_sparse_categorical_accuracy: 0.2957\n",
      "Epoch 4/25\n",
      "91/91 [==============================] - 221s 2s/step - loss: 1.0150 - sparse_categorical_accuracy: 0.6082 - val_loss: 1.2896 - val_sparse_categorical_accuracy: 0.4880\n",
      "Epoch 5/25\n",
      "91/91 [==============================] - 222s 2s/step - loss: 0.9970 - sparse_categorical_accuracy: 0.6147 - val_loss: 1.5739 - val_sparse_categorical_accuracy: 0.4375\n",
      "Epoch 6/25\n",
      "91/91 [==============================] - 218s 2s/step - loss: 0.9766 - sparse_categorical_accuracy: 0.6195 - val_loss: 1.3870 - val_sparse_categorical_accuracy: 0.4928\n",
      "Epoch 7/25\n",
      "91/91 [==============================] - 217s 2s/step - loss: 0.9652 - sparse_categorical_accuracy: 0.6250 - val_loss: 1.1167 - val_sparse_categorical_accuracy: 0.5361\n",
      "Epoch 8/25\n",
      "91/91 [==============================] - 220s 2s/step - loss: 0.9417 - sparse_categorical_accuracy: 0.6322 - val_loss: 1.3415 - val_sparse_categorical_accuracy: 0.3654\n",
      "Epoch 9/25\n",
      "91/91 [==============================] - 219s 2s/step - loss: 0.9230 - sparse_categorical_accuracy: 0.6518 - val_loss: 1.1064 - val_sparse_categorical_accuracy: 0.5745\n",
      "Epoch 10/25\n",
      "91/91 [==============================] - 217s 2s/step - loss: 0.9066 - sparse_categorical_accuracy: 0.6477 - val_loss: 1.5678 - val_sparse_categorical_accuracy: 0.3606\n",
      "Epoch 11/25\n",
      "91/91 [==============================] - 219s 2s/step - loss: 0.9088 - sparse_categorical_accuracy: 0.6429 - val_loss: 1.3993 - val_sparse_categorical_accuracy: 0.3726\n",
      "Epoch 12/25\n",
      "91/91 [==============================] - 220s 2s/step - loss: 0.8512 - sparse_categorical_accuracy: 0.6645 - val_loss: 1.5188 - val_sparse_categorical_accuracy: 0.3870\n",
      "Epoch 13/25\n",
      "91/91 [==============================] - 223s 2s/step - loss: 0.8457 - sparse_categorical_accuracy: 0.6834 - val_loss: 1.1760 - val_sparse_categorical_accuracy: 0.4856\n",
      "Epoch 14/25\n",
      "91/91 [==============================] - 223s 2s/step - loss: 0.8228 - sparse_categorical_accuracy: 0.6799 - val_loss: 1.3943 - val_sparse_categorical_accuracy: 0.4303\n",
      "Epoch 15/25\n",
      "91/91 [==============================] - 222s 2s/step - loss: 0.8083 - sparse_categorical_accuracy: 0.6947 - val_loss: 1.3222 - val_sparse_categorical_accuracy: 0.3630\n",
      "Epoch 16/25\n",
      "91/91 [==============================] - 219s 2s/step - loss: 0.7843 - sparse_categorical_accuracy: 0.6933 - val_loss: 1.0756 - val_sparse_categorical_accuracy: 0.6202\n",
      "Epoch 17/25\n",
      "91/91 [==============================] - 226s 2s/step - loss: 0.7562 - sparse_categorical_accuracy: 0.7081 - val_loss: 1.2096 - val_sparse_categorical_accuracy: 0.4712\n",
      "Epoch 18/25\n",
      "91/91 [==============================] - 222s 2s/step - loss: 0.7402 - sparse_categorical_accuracy: 0.7273 - val_loss: 1.1639 - val_sparse_categorical_accuracy: 0.5120\n",
      "Epoch 19/25\n",
      "91/91 [==============================] - 219s 2s/step - loss: 0.7100 - sparse_categorical_accuracy: 0.7325 - val_loss: 1.5891 - val_sparse_categorical_accuracy: 0.3462\n",
      "Epoch 20/25\n",
      "91/91 [==============================] - 220s 2s/step - loss: 0.6694 - sparse_categorical_accuracy: 0.7534 - val_loss: 1.2284 - val_sparse_categorical_accuracy: 0.4760\n",
      "Epoch 21/25\n",
      "91/91 [==============================] - 218s 2s/step - loss: 0.6657 - sparse_categorical_accuracy: 0.7552 - val_loss: 1.5685 - val_sparse_categorical_accuracy: 0.3413\n",
      "Epoch 22/25\n",
      "91/91 [==============================] - 222s 2s/step - loss: 0.6426 - sparse_categorical_accuracy: 0.7514 - val_loss: 1.3231 - val_sparse_categorical_accuracy: 0.4207\n",
      "Epoch 23/25\n",
      "91/91 [==============================] - 224s 2s/step - loss: 0.6223 - sparse_categorical_accuracy: 0.7661 - val_loss: 1.5777 - val_sparse_categorical_accuracy: 0.3534\n",
      "Epoch 24/25\n",
      "91/91 [==============================] - 230s 3s/step - loss: 0.6159 - sparse_categorical_accuracy: 0.7651 - val_loss: 1.5379 - val_sparse_categorical_accuracy: 0.3606\n",
      "Epoch 25/25\n",
      "91/91 [==============================] - 226s 2s/step - loss: 0.5962 - sparse_categorical_accuracy: 0.7778 - val_loss: 1.5612 - val_sparse_categorical_accuracy: 0.3582\n"
     ]
    }
   ],
   "source": [
    "history = model.fit(train_set, \n",
    "                    epochs=epochs, \n",
    "                    steps_per_epoch=int(steps_factor * max_train_instance / batch_size),\n",
    "                    validation_data=valid_set,\n",
    "                    validation_steps=int(max_valid_instance / batch_size),\n",
    "                    callbacks=callbacks)"
   ]
  },
  {
   "cell_type": "code",
   "execution_count": 200,
   "id": "9ea2e902",
   "metadata": {},
   "outputs": [],
   "source": [
    "keras.backend.clear_session()\n",
    "np.random.seed(42)\n",
    "tf.random.set_seed(42)\n",
    "\n",
    "def mini_resnet_7cl():\n",
    "    \n",
    "    model = keras.models.Sequential()\n",
    "    model.add(keras.layers.Conv2D(filters=64,\n",
    "                                kernel_size=5, \n",
    "                                strides=2, \n",
    "                                padding=\"same\", \n",
    "                                use_bias=False, \n",
    "                                input_shape=[dims[0], dims[1], channels]))\n",
    "    model.add(keras.layers.BatchNormalization())\n",
    "    model.add(keras.layers.Activation(\"relu\"))\n",
    "    model.add(keras.layers.MaxPool2D(pool_size=3, strides=2, padding=\"same\"))\n",
    "    pfm = 64\n",
    "    for fm in [64, 64, 64]:\n",
    "        strides = 1 if pfm == fm else 2\n",
    "        model.add(ResidualLayer(fm=fm, strides=strides))\n",
    "        pfm = fm\n",
    "    model.add(keras.layers.GlobalAvgPool2D())\n",
    "    model.add(keras.layers.Flatten())\n",
    "    model.add(keras.layers.Dense(5, activation=\"softmax\"))\n",
    "           \n",
    "    return model"
   ]
  },
  {
   "cell_type": "code",
   "execution_count": 201,
   "id": "adc83ab8",
   "metadata": {},
   "outputs": [],
   "source": [
    "model = mini_resnet_7cl()"
   ]
  },
  {
   "cell_type": "code",
   "execution_count": 202,
   "id": "c885fb5c",
   "metadata": {},
   "outputs": [],
   "source": [
    "optimizer = keras.optimizers.Nadam()\n",
    "model.compile(loss=keras.losses.sparse_categorical_crossentropy, \n",
    "                  optimizer=optimizer, \n",
    "                  metrics=keras.metrics.sparse_categorical_accuracy)"
   ]
  },
  {
   "cell_type": "code",
   "execution_count": 203,
   "id": "e0acf161",
   "metadata": {},
   "outputs": [],
   "source": [
    "model_target = os.path.join(BASE_DIR, \"models\", \"mini_resnet_7cl_nadam_1cycle.h5\")\n",
    "checkpoint_cb = keras.callbacks.ModelCheckpoint(model_target, save_best_only=True)\n",
    "early_stop_cb = keras.callbacks.EarlyStopping(patience=10)\n",
    "callbacks = [checkpoint_cb, early_stop_cb]"
   ]
  },
  {
   "cell_type": "code",
   "execution_count": 204,
   "id": "735872f3",
   "metadata": {},
   "outputs": [],
   "source": [
    "epochs = 25\n",
    "max_learning_rate = 0.001\n",
    "onecycle_cb = OneCycleSchedulerNadam(int(steps_factor * max_train_instance / batch_size) * epochs, max_lrate=max_learning_rate)\n",
    "\n",
    "callbacks.append(onecycle_cb)"
   ]
  },
  {
   "cell_type": "code",
   "execution_count": 205,
   "id": "9ffbf75d",
   "metadata": {},
   "outputs": [
    {
     "name": "stdout",
     "output_type": "stream",
     "text": [
      "Epoch 1/25\n",
      "91/91 [==============================] - 215s 2s/step - loss: 1.6043 - sparse_categorical_accuracy: 0.4227 - val_loss: 3.2268 - val_sparse_categorical_accuracy: 0.3510\n",
      "Epoch 2/25\n",
      "91/91 [==============================] - 210s 2s/step - loss: 1.1646 - sparse_categorical_accuracy: 0.5268 - val_loss: 2.1866 - val_sparse_categorical_accuracy: 0.4159\n",
      "Epoch 3/25\n",
      "91/91 [==============================] - 222s 2s/step - loss: 1.1334 - sparse_categorical_accuracy: 0.5512 - val_loss: 1.8089 - val_sparse_categorical_accuracy: 0.3822\n",
      "Epoch 4/25\n",
      "91/91 [==============================] - 208s 2s/step - loss: 1.0949 - sparse_categorical_accuracy: 0.5598 - val_loss: 1.7691 - val_sparse_categorical_accuracy: 0.4062\n",
      "Epoch 5/25\n",
      "91/91 [==============================] - 210s 2s/step - loss: 1.0875 - sparse_categorical_accuracy: 0.5807 - val_loss: 1.2856 - val_sparse_categorical_accuracy: 0.4399\n",
      "Epoch 6/25\n",
      "91/91 [==============================] - 209s 2s/step - loss: 1.0395 - sparse_categorical_accuracy: 0.5855 - val_loss: 1.4078 - val_sparse_categorical_accuracy: 0.4495\n",
      "Epoch 7/25\n",
      "91/91 [==============================] - 209s 2s/step - loss: 1.0556 - sparse_categorical_accuracy: 0.5852 - val_loss: 1.3574 - val_sparse_categorical_accuracy: 0.4471\n",
      "Epoch 8/25\n",
      "91/91 [==============================] - 174s 2s/step - loss: 0.9951 - sparse_categorical_accuracy: 0.6123 - val_loss: 1.4289 - val_sparse_categorical_accuracy: 0.4615\n",
      "Epoch 9/25\n",
      "91/91 [==============================] - 172s 2s/step - loss: 1.0051 - sparse_categorical_accuracy: 0.6068 - val_loss: 1.2871 - val_sparse_categorical_accuracy: 0.5096\n",
      "Epoch 10/25\n",
      "91/91 [==============================] - 172s 2s/step - loss: 0.9686 - sparse_categorical_accuracy: 0.6078 - val_loss: 1.2596 - val_sparse_categorical_accuracy: 0.4303\n",
      "Epoch 11/25\n",
      "91/91 [==============================] - 172s 2s/step - loss: 0.9511 - sparse_categorical_accuracy: 0.6195 - val_loss: 1.3894 - val_sparse_categorical_accuracy: 0.4279\n",
      "Epoch 12/25\n",
      "91/91 [==============================] - 172s 2s/step - loss: 0.9511 - sparse_categorical_accuracy: 0.6243 - val_loss: 1.1472 - val_sparse_categorical_accuracy: 0.5216\n",
      "Epoch 13/25\n",
      "91/91 [==============================] - 172s 2s/step - loss: 0.9287 - sparse_categorical_accuracy: 0.6319 - val_loss: 1.2118 - val_sparse_categorical_accuracy: 0.5072\n",
      "Epoch 14/25\n",
      "91/91 [==============================] - 173s 2s/step - loss: 0.8869 - sparse_categorical_accuracy: 0.6648 - val_loss: 1.3524 - val_sparse_categorical_accuracy: 0.4447\n",
      "Epoch 15/25\n",
      "91/91 [==============================] - 172s 2s/step - loss: 0.8809 - sparse_categorical_accuracy: 0.6604 - val_loss: 1.1332 - val_sparse_categorical_accuracy: 0.5433\n",
      "Epoch 16/25\n",
      "91/91 [==============================] - 173s 2s/step - loss: 0.8419 - sparse_categorical_accuracy: 0.6834 - val_loss: 1.2676 - val_sparse_categorical_accuracy: 0.4663\n",
      "Epoch 17/25\n",
      "91/91 [==============================] - 172s 2s/step - loss: 0.8311 - sparse_categorical_accuracy: 0.6823 - val_loss: 1.4505 - val_sparse_categorical_accuracy: 0.4087\n",
      "Epoch 18/25\n",
      "91/91 [==============================] - 3156s 35s/step - loss: 0.8274 - sparse_categorical_accuracy: 0.6865 - val_loss: 1.1334 - val_sparse_categorical_accuracy: 0.5264\n",
      "Epoch 19/25\n",
      "91/91 [==============================] - 216s 2s/step - loss: 0.7930 - sparse_categorical_accuracy: 0.6999 - val_loss: 1.0909 - val_sparse_categorical_accuracy: 0.5433\n",
      "Epoch 20/25\n",
      "91/91 [==============================] - 192s 2s/step - loss: 0.7871 - sparse_categorical_accuracy: 0.6971 - val_loss: 1.2118 - val_sparse_categorical_accuracy: 0.5216\n",
      "Epoch 21/25\n",
      "91/91 [==============================] - 179s 2s/step - loss: 0.7641 - sparse_categorical_accuracy: 0.7064 - val_loss: 1.2190 - val_sparse_categorical_accuracy: 0.5072\n",
      "Epoch 22/25\n",
      "91/91 [==============================] - 176s 2s/step - loss: 0.7464 - sparse_categorical_accuracy: 0.7184 - val_loss: 1.1674 - val_sparse_categorical_accuracy: 0.5216\n",
      "Epoch 23/25\n",
      "91/91 [==============================] - 175s 2s/step - loss: 0.7457 - sparse_categorical_accuracy: 0.7139 - val_loss: 1.2380 - val_sparse_categorical_accuracy: 0.5024\n",
      "Epoch 24/25\n",
      "91/91 [==============================] - 177s 2s/step - loss: 0.7326 - sparse_categorical_accuracy: 0.7194 - val_loss: 1.1807 - val_sparse_categorical_accuracy: 0.5096\n",
      "Epoch 25/25\n",
      "91/91 [==============================] - 175s 2s/step - loss: 0.7119 - sparse_categorical_accuracy: 0.7342 - val_loss: 1.1749 - val_sparse_categorical_accuracy: 0.5096\n"
     ]
    }
   ],
   "source": [
    "history = model.fit(train_set, \n",
    "                    epochs=epochs, \n",
    "                    steps_per_epoch=int(steps_factor * max_train_instance / batch_size),\n",
    "                    validation_data=valid_set,\n",
    "                    validation_steps=int(max_valid_instance / batch_size),\n",
    "                    callbacks=callbacks)"
   ]
  },
  {
   "cell_type": "code",
   "execution_count": 206,
   "id": "3dec885a",
   "metadata": {},
   "outputs": [],
   "source": [
    "keras.backend.clear_session()\n",
    "np.random.seed(42)\n",
    "tf.random.set_seed(42)\n",
    "\n",
    "def mini_resnet_5cl_de():\n",
    "    \n",
    "    model = keras.models.Sequential()\n",
    "    model.add(keras.layers.Conv2D(filters=64,\n",
    "                                kernel_size=5, \n",
    "                                strides=2, \n",
    "                                padding=\"same\", \n",
    "                                use_bias=False, \n",
    "                                input_shape=[dims[0], dims[1], channels]))\n",
    "    model.add(keras.layers.BatchNormalization())\n",
    "    model.add(keras.layers.Activation(\"relu\"))\n",
    "    model.add(keras.layers.MaxPool2D(pool_size=3, strides=2, padding=\"same\"))\n",
    "    pfm = 64\n",
    "    for fm in [64, 64]:\n",
    "        strides = 1 if pfm == fm else 2\n",
    "        model.add(ResidualLayer(fm=fm, strides=strides))\n",
    "        pfm = fm\n",
    "    model.add(keras.layers.GlobalAvgPool2D())\n",
    "    model.add(keras.layers.Flatten())\n",
    "    model.add(keras.layers.Dropout(0.2))\n",
    "    model.add(keras.layers.Dense(64, activation=\"relu\"))\n",
    "    model.add(keras.layers.Dropout(0.2))\n",
    "    model.add(keras.layers.Dense(5, activation=\"softmax\"))\n",
    "           \n",
    "    return model"
   ]
  },
  {
   "cell_type": "code",
   "execution_count": 207,
   "id": "e248c2d5",
   "metadata": {},
   "outputs": [],
   "source": [
    "model = mini_resnet_5cl_de()"
   ]
  },
  {
   "cell_type": "code",
   "execution_count": 208,
   "id": "062e5864",
   "metadata": {},
   "outputs": [],
   "source": [
    "optimizer = keras.optimizers.Nadam()\n",
    "model.compile(loss=keras.losses.sparse_categorical_crossentropy, \n",
    "                  optimizer=optimizer, \n",
    "                  metrics=keras.metrics.sparse_categorical_accuracy)"
   ]
  },
  {
   "cell_type": "code",
   "execution_count": 209,
   "id": "47dddf2b",
   "metadata": {},
   "outputs": [],
   "source": [
    "model_target = os.path.join(BASE_DIR, \"models\", \"mini_resnet_5cl_de_nadam_1cycle.h5\")\n",
    "checkpoint_cb = keras.callbacks.ModelCheckpoint(model_target, save_best_only=True)\n",
    "early_stop_cb = keras.callbacks.EarlyStopping(patience=10)\n",
    "callbacks = [checkpoint_cb, early_stop_cb]"
   ]
  },
  {
   "cell_type": "code",
   "execution_count": 210,
   "id": "1105f35c",
   "metadata": {},
   "outputs": [],
   "source": [
    "epochs = 25\n",
    "max_learning_rate = 0.001\n",
    "onecycle_cb = OneCycleSchedulerNadam(int(steps_factor * max_train_instance / batch_size) * epochs, max_lrate=max_learning_rate)\n",
    "\n",
    "callbacks.append(onecycle_cb)"
   ]
  },
  {
   "cell_type": "code",
   "execution_count": 211,
   "id": "39e6d236",
   "metadata": {},
   "outputs": [
    {
     "name": "stdout",
     "output_type": "stream",
     "text": [
      "Epoch 1/25\n",
      "91/91 [==============================] - 157s 2s/step - loss: 1.5470 - sparse_categorical_accuracy: 0.3434 - val_loss: 1.4556 - val_sparse_categorical_accuracy: 0.4038\n",
      "Epoch 2/25\n",
      "91/91 [==============================] - 153s 2s/step - loss: 1.3323 - sparse_categorical_accuracy: 0.4368 - val_loss: 1.2791 - val_sparse_categorical_accuracy: 0.4447\n",
      "Epoch 3/25\n",
      "91/91 [==============================] - 157s 2s/step - loss: 1.2762 - sparse_categorical_accuracy: 0.4519 - val_loss: 1.3265 - val_sparse_categorical_accuracy: 0.4255\n",
      "Epoch 4/25\n",
      "91/91 [==============================] - 155s 2s/step - loss: 1.2307 - sparse_categorical_accuracy: 0.4842 - val_loss: 1.2054 - val_sparse_categorical_accuracy: 0.4447\n",
      "Epoch 5/25\n",
      "91/91 [==============================] - 153s 2s/step - loss: 1.1910 - sparse_categorical_accuracy: 0.5034 - val_loss: 1.3078 - val_sparse_categorical_accuracy: 0.4471\n",
      "Epoch 6/25\n",
      "91/91 [==============================] - 153s 2s/step - loss: 1.1637 - sparse_categorical_accuracy: 0.5182 - val_loss: 1.3117 - val_sparse_categorical_accuracy: 0.4135\n",
      "Epoch 7/25\n",
      "91/91 [==============================] - 153s 2s/step - loss: 1.1433 - sparse_categorical_accuracy: 0.5337 - val_loss: 1.2560 - val_sparse_categorical_accuracy: 0.4591\n",
      "Epoch 8/25\n",
      "91/91 [==============================] - 155s 2s/step - loss: 1.1297 - sparse_categorical_accuracy: 0.5309 - val_loss: 1.4422 - val_sparse_categorical_accuracy: 0.3678\n",
      "Epoch 9/25\n",
      "91/91 [==============================] - 153s 2s/step - loss: 1.0936 - sparse_categorical_accuracy: 0.5570 - val_loss: 1.2277 - val_sparse_categorical_accuracy: 0.4712\n",
      "Epoch 10/25\n",
      "91/91 [==============================] - 153s 2s/step - loss: 1.1160 - sparse_categorical_accuracy: 0.5398 - val_loss: 1.6371 - val_sparse_categorical_accuracy: 0.3221\n",
      "Epoch 11/25\n",
      "91/91 [==============================] - 153s 2s/step - loss: 1.1109 - sparse_categorical_accuracy: 0.5560 - val_loss: 1.2310 - val_sparse_categorical_accuracy: 0.4832\n",
      "Epoch 12/25\n",
      "91/91 [==============================] - 154s 2s/step - loss: 1.0519 - sparse_categorical_accuracy: 0.5697 - val_loss: 1.2584 - val_sparse_categorical_accuracy: 0.4495\n",
      "Epoch 13/25\n",
      "91/91 [==============================] - 153s 2s/step - loss: 1.0323 - sparse_categorical_accuracy: 0.5859 - val_loss: 1.2960 - val_sparse_categorical_accuracy: 0.4976\n",
      "Epoch 14/25\n",
      "91/91 [==============================] - 154s 2s/step - loss: 1.0218 - sparse_categorical_accuracy: 0.5958 - val_loss: 1.3077 - val_sparse_categorical_accuracy: 0.4904\n"
     ]
    }
   ],
   "source": [
    "history = model.fit(train_set, \n",
    "                    epochs=epochs, \n",
    "                    steps_per_epoch=int(steps_factor * max_train_instance / batch_size),\n",
    "                    validation_data=valid_set,\n",
    "                    validation_steps=int(max_valid_instance / batch_size),\n",
    "                    callbacks=callbacks)"
   ]
  },
  {
   "cell_type": "code",
   "execution_count": 212,
   "id": "3e870cac",
   "metadata": {},
   "outputs": [],
   "source": [
    "keras.backend.clear_session()\n",
    "np.random.seed(42)\n",
    "tf.random.set_seed(42)\n",
    "\n",
    "\n",
    "def cnn_bn_mp_r2_cnn_bn_r2_mp_de():\n",
    "    \"\"\"\n",
    "    name ecodes the model architecture\n",
    "    architecture:\n",
    "        first            CNN ---> BN ---> MP ---> repeated twice\n",
    "        second           CNN ---> CNN ---> BN ---> Mp repeared twice\n",
    "        dense            Dense ---> including dropout\n",
    "    \"\"\"\n",
    "\n",
    "    model = keras.models.Sequential()\n",
    "    model.add(keras.layers.Conv2D(64, kernel_size=5, \n",
    "                                  strides=1,  \n",
    "                                  use_bias=False, \n",
    "                                  input_shape=[dims[0], dims[0], channels], \n",
    "                                  ))\n",
    "    model.add(keras.layers.BatchNormalization())\n",
    "    model.add(keras.layers.Activation(\"relu\"))\n",
    "    model.add(keras.layers.MaxPool2D(pool_size=2, padding=\"same\"))\n",
    "    model.add(keras.layers.Conv2D(128, kernel_size=3, \n",
    "                                  strides=1,  \n",
    "                                  use_bias=False, \n",
    "                                  ))\n",
    "    model.add(keras.layers.BatchNormalization())\n",
    "    model.add(keras.layers.Activation(\"relu\"))\n",
    "    model.add(keras.layers.MaxPool2D(pool_size=2, padding=\"same\"))\n",
    "    model.add(keras.layers.Conv2D(256, kernel_size=3, \n",
    "                                  strides=1,  \n",
    "                                  use_bias=False, \n",
    "                                  ))\n",
    "    model.add(keras.layers.BatchNormalization())\n",
    "    model.add(keras.layers.Activation(\"relu\"))\n",
    "    model.add(keras.layers.Conv2D(256, kernel_size=3, \n",
    "                                  strides=1,  \n",
    "                                  use_bias=False, \n",
    "                                  ))\n",
    "    model.add(keras.layers.BatchNormalization())\n",
    "    model.add(keras.layers.Activation(\"relu\"))\n",
    "    model.add(keras.layers.MaxPool2D(pool_size=2, padding=\"same\"))\n",
    "    model.add(keras.layers.Conv2D(512, kernel_size=3, \n",
    "                                  strides=1,  \n",
    "                                  use_bias=False, \n",
    "                                  ))\n",
    "    model.add(keras.layers.BatchNormalization())\n",
    "    model.add(keras.layers.Activation(\"relu\"))\n",
    "    model.add(keras.layers.Conv2D(512, kernel_size=3, \n",
    "                                  strides=1,  \n",
    "                                  use_bias=False, \n",
    "                                  ))\n",
    "    model.add(keras.layers.BatchNormalization())\n",
    "    model.add(keras.layers.Activation(\"relu\"))\n",
    "    model.add(keras.layers.MaxPool2D(pool_size=2, padding=\"same\"))\n",
    "    model.add(keras.layers.Flatten())\n",
    "    model.add(keras.layers.Dropout(0.3))\n",
    "    model.add(keras.layers.Dense(64, activation=\"relu\"))\n",
    "    model.add(keras.layers.Dropout(0.3))\n",
    "    model.add(keras.layers.Dense(5, activation=\"softmax\"))\n",
    "    \n",
    "    return model"
   ]
  },
  {
   "cell_type": "code",
   "execution_count": 213,
   "id": "9465719b",
   "metadata": {},
   "outputs": [],
   "source": [
    "model = cnn_bn_mp_r2_cnn_bn_r2_mp_de()"
   ]
  },
  {
   "cell_type": "code",
   "execution_count": 214,
   "id": "01a9c8e9",
   "metadata": {},
   "outputs": [],
   "source": [
    "optimizer = keras.optimizers.Nadam()\n",
    "model.compile(loss=keras.losses.sparse_categorical_crossentropy, \n",
    "              optimizer=optimizer,\n",
    "              metrics=keras.metrics.sparse_categorical_accuracy)"
   ]
  },
  {
   "cell_type": "code",
   "execution_count": 215,
   "id": "a83b79a3",
   "metadata": {},
   "outputs": [],
   "source": [
    "model_target = os.path.join(BASE_DIR, \"models\", \"cnn_bn_mp_r2_cnn_bn_r2_mp_de.h5\")\n",
    "\n",
    "checkpoint_cb = keras.callbacks.ModelCheckpoint(model_target, save_best_only=True)\n",
    "early_stop_cb = keras.callbacks.EarlyStopping(patience=10)\n",
    "\n",
    "callbacks = [checkpoint_cb, early_stop_cb]"
   ]
  },
  {
   "cell_type": "code",
   "execution_count": 216,
   "id": "b2591518",
   "metadata": {},
   "outputs": [],
   "source": [
    "epochs = 25\n",
    "max_learning_rate = 0.001\n",
    "onecycle_cb = OneCycleSchedulerNadam(int(steps_factor * max_train_instance / batch_size) * epochs, max_lrate=max_learning_rate)\n",
    "\n",
    "callbacks.append(onecycle_cb)"
   ]
  },
  {
   "cell_type": "code",
   "execution_count": null,
   "id": "8ba99ba5",
   "metadata": {},
   "outputs": [
    {
     "name": "stdout",
     "output_type": "stream",
     "text": [
      "Epoch 1/25\n",
      "91/91 [==============================] - 408s 4s/step - loss: 1.5246 - sparse_categorical_accuracy: 0.3668 - val_loss: 1.4680 - val_sparse_categorical_accuracy: 0.3317\n",
      "Epoch 2/25\n",
      "91/91 [==============================] - 407s 4s/step - loss: 1.3742 - sparse_categorical_accuracy: 0.3788 - val_loss: 1.3115 - val_sparse_categorical_accuracy: 0.4014\n",
      "Epoch 3/25\n",
      "91/91 [==============================] - 442s 5s/step - loss: 1.3344 - sparse_categorical_accuracy: 0.4193 - val_loss: 1.3736 - val_sparse_categorical_accuracy: 0.4279\n",
      "Epoch 4/25\n",
      "91/91 [==============================] - 447s 5s/step - loss: 1.3460 - sparse_categorical_accuracy: 0.4210 - val_loss: 1.3581 - val_sparse_categorical_accuracy: 0.4519\n",
      "Epoch 5/25\n",
      "91/91 [==============================] - 435s 5s/step - loss: 1.3063 - sparse_categorical_accuracy: 0.4299 - val_loss: 1.3861 - val_sparse_categorical_accuracy: 0.4688\n",
      "Epoch 6/25\n",
      "91/91 [==============================] - 448s 5s/step - loss: 1.3013 - sparse_categorical_accuracy: 0.4468 - val_loss: 1.3010 - val_sparse_categorical_accuracy: 0.5120\n",
      "Epoch 7/25\n",
      "91/91 [==============================] - 457s 5s/step - loss: 1.3155 - sparse_categorical_accuracy: 0.4457 - val_loss: 1.3258 - val_sparse_categorical_accuracy: 0.4712\n",
      "Epoch 8/25\n",
      "91/91 [==============================] - 447s 5s/step - loss: 1.3057 - sparse_categorical_accuracy: 0.4571 - val_loss: 1.4422 - val_sparse_categorical_accuracy: 0.3894\n",
      "Epoch 9/25\n",
      "91/91 [==============================] - 414s 5s/step - loss: 1.3865 - sparse_categorical_accuracy: 0.4688 - val_loss: 1.3060 - val_sparse_categorical_accuracy: 0.5024\n",
      "Epoch 10/25\n",
      "91/91 [==============================] - 413s 5s/step - loss: 1.3736 - sparse_categorical_accuracy: 0.4643 - val_loss: 1.2182 - val_sparse_categorical_accuracy: 0.5024\n",
      "Epoch 11/25\n",
      "91/91 [==============================] - 448s 5s/step - loss: 1.3221 - sparse_categorical_accuracy: 0.4595 - val_loss: 1.2675 - val_sparse_categorical_accuracy: 0.4327\n",
      "Epoch 12/25\n",
      "91/91 [==============================] - 428s 5s/step - loss: 1.2841 - sparse_categorical_accuracy: 0.4736 - val_loss: 1.1224 - val_sparse_categorical_accuracy: 0.5216\n",
      "Epoch 13/25\n",
      "91/91 [==============================] - 462s 5s/step - loss: 1.2342 - sparse_categorical_accuracy: 0.4900 - val_loss: 1.0734 - val_sparse_categorical_accuracy: 0.5481\n",
      "Epoch 14/25\n",
      "91/91 [==============================] - 478s 5s/step - loss: 1.1813 - sparse_categorical_accuracy: 0.5161 - val_loss: 1.0554 - val_sparse_categorical_accuracy: 0.5721\n",
      "Epoch 15/25\n",
      "91/91 [==============================] - 470s 5s/step - loss: 1.2027 - sparse_categorical_accuracy: 0.5096 - val_loss: 1.0998 - val_sparse_categorical_accuracy: 0.5697\n",
      "Epoch 16/25\n",
      "91/91 [==============================] - 408s 4s/step - loss: 1.1533 - sparse_categorical_accuracy: 0.5343 - val_loss: 1.0604 - val_sparse_categorical_accuracy: 0.5986\n",
      "Epoch 17/25\n",
      "91/91 [==============================] - 403s 4s/step - loss: 1.1372 - sparse_categorical_accuracy: 0.5158 - val_loss: 1.0928 - val_sparse_categorical_accuracy: 0.5745\n",
      "Epoch 18/25\n",
      "91/91 [==============================] - 400s 4s/step - loss: 1.1299 - sparse_categorical_accuracy: 0.5364 - val_loss: 0.9435 - val_sparse_categorical_accuracy: 0.6178\n",
      "Epoch 19/25\n",
      "52/91 [================>.............] - ETA: 2:32 - loss: 1.0947 - sparse_categorical_accuracy: 0.5595"
     ]
    }
   ],
   "source": [
    "history = model.fit(train_set, \n",
    "                    epochs=epochs, \n",
    "                    steps_per_epoch=int(steps_factor * max_train_instance / batch_size),\n",
    "                    validation_data=valid_set,\n",
    "                    validation_steps=int(max_valid_instance / batch_size),\n",
    "                    callbacks=callbacks)"
   ]
  },
  {
   "cell_type": "code",
   "execution_count": null,
   "id": "9f800835",
   "metadata": {},
   "outputs": [],
   "source": [
    "def googlenet_mini():\n",
    "    \"\"\"\n",
    "    name ecodes the model architecture\n",
    "    architecture:\n",
    "        first            CNN ---> MP ---> LRN ---> Repeated twice\n",
    "        second           IL ---> IL ---> MP ---> IL ---> IL\n",
    "        third            GAP\n",
    "        fourth            Dense ---> including dropout\n",
    "    \"\"\"\n",
    "\n",
    "    model = keras.models.Sequential()\n",
    "    model.add(keras.layers.Conv2D(64, \n",
    "                                  kernel_size=5, \n",
    "                                  strides=2,  \n",
    "                                  use_bias=False,\n",
    "                                  padding=\"same\", \n",
    "                                  input_shape=[dims[0], dims[0], channels], \n",
    "                                  ))\n",
    "    model.add(keras.layers.Activation(\"relu\"))\n",
    "    model.add(keras.layers.MaxPool2D(pool_size=3, \n",
    "                                     strides=2,\n",
    "                                     padding=\"same\"))\n",
    "    \n",
    "    model.add(keras.layers.Lambda(lambda inputs: tf.nn.local_response_normalization(inputs)))\n",
    "    \n",
    "    model.add(keras.layers.Conv2D(64, \n",
    "                                  kernel_size=1, \n",
    "                                  strides=1,  \n",
    "                                  use_bias=False,\n",
    "                                  padding=\"same\", \n",
    "                                  ))\n",
    "    model.add(keras.layers.Activation(\"relu\"))\n",
    "    model.add(keras.layers.Conv2D(192, \n",
    "                                  kernel_size=3, \n",
    "                                  strides=1,  \n",
    "                                  use_bias=False,\n",
    "                                  padding=\"same\", \n",
    "                                  ))\n",
    "    model.add(keras.layers.Activation(\"relu\"))\n",
    "    \n",
    "    model.add(keras.layers.Lambda(lambda inputs: tf.nn.local_response_normalization(inputs)))\n",
    "\n",
    "    model.add(keras.layers.MaxPool2D(pool_size=3, \n",
    "                                     strides=2,\n",
    "                                     padding=\"same\"))\n",
    "\n",
    "\n",
    "    model.add(InceptionLayer([64, 128, 32, 32, 96, 16]))\n",
    "    model.add(InceptionLayer([128, 192, 96, 94, 128, 32]))\n",
    "    model.add(keras.layers.MaxPool2D(pool_size=3, \n",
    "                                     strides=2,\n",
    "                                     padding=\"same\"))\n",
    "    model.add(InceptionLayer([192, 208, 48, 94, 96, 16]))\n",
    "    model.add(InceptionLayer([160, 224, 64, 64, 112, 24]))\n",
    "    model.add(keras.layers.GlobalAveragePooling2D())\n",
    "    model.add(keras.layers.Dropout(0.1))\n",
    "    \n",
    "    model.add(keras.layers.Dense(5, activation=\"softmax\"))\n",
    "    \n",
    "    return model"
   ]
  },
  {
   "cell_type": "code",
   "execution_count": null,
   "id": "7897a0fa",
   "metadata": {},
   "outputs": [],
   "source": [
    "model = googlenet_mini()"
   ]
  },
  {
   "cell_type": "code",
   "execution_count": null,
   "id": "a4e9257a",
   "metadata": {},
   "outputs": [],
   "source": [
    "optimizer = keras.optimizers.Nadam()\n",
    "model.compile(loss=keras.losses.sparse_categorical_crossentropy, \n",
    "              optimizer=optimizer,\n",
    "              metrics=keras.metrics.sparse_categorical_accuracy)"
   ]
  },
  {
   "cell_type": "code",
   "execution_count": null,
   "id": "104e961a",
   "metadata": {},
   "outputs": [],
   "source": [
    "model_target = os.path.join(BASE_DIR, \"models\", \"googlenet_mini.h5\")\n",
    "\n",
    "checkpoint_cb = keras.callbacks.ModelCheckpoint(model_target, save_best_only=True)\n",
    "early_stop_cb = keras.callbacks.EarlyStopping(patience=10)\n",
    "\n",
    "callbacks = [checkpoint_cb, early_stop_cb]"
   ]
  },
  {
   "cell_type": "code",
   "execution_count": null,
   "id": "d68039b2",
   "metadata": {},
   "outputs": [],
   "source": [
    "epochs = 25\n",
    "max_learning_rate = 0.001\n",
    "onecycle_cb = OneCycleSchedulerNadam(int(steps_factor * max_train_instance / batch_size) * epochs, max_lrate=max_learning_rate)\n",
    "\n",
    "callbacks.append(onecycle_cb)"
   ]
  },
  {
   "cell_type": "code",
   "execution_count": null,
   "id": "9c909eaf",
   "metadata": {},
   "outputs": [],
   "source": [
    "history = model.fit(train_set, \n",
    "                    epochs=epochs, \n",
    "                    steps_per_epoch=int(steps_factor * max_train_instance / batch_size),\n",
    "                    validation_data=valid_set,\n",
    "                    validation_steps=int(max_valid_instance / batch_size),\n",
    "                    callbacks=callbacks)"
   ]
  },
  {
   "cell_type": "code",
   "execution_count": null,
   "id": "9d8b0e02",
   "metadata": {},
   "outputs": [],
   "source": []
  },
  {
   "cell_type": "code",
   "execution_count": null,
   "id": "20f3bb93",
   "metadata": {},
   "outputs": [],
   "source": []
  },
  {
   "cell_type": "code",
   "execution_count": null,
   "id": "b4062ea7",
   "metadata": {},
   "outputs": [],
   "source": []
  },
  {
   "cell_type": "code",
   "execution_count": null,
   "id": "fbf04799",
   "metadata": {},
   "outputs": [],
   "source": []
  }
 ],
 "metadata": {
  "kernelspec": {
   "display_name": "Python 3 (ipykernel)",
   "language": "python",
   "name": "python3"
  },
  "language_info": {
   "codemirror_mode": {
    "name": "ipython",
    "version": 3
   },
   "file_extension": ".py",
   "mimetype": "text/x-python",
   "name": "python",
   "nbconvert_exporter": "python",
   "pygments_lexer": "ipython3",
   "version": "3.9.10"
  }
 },
 "nbformat": 4,
 "nbformat_minor": 5
}
