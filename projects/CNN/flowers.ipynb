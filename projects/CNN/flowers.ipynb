{
 "cells": [
  {
   "cell_type": "code",
   "execution_count": 1,
   "id": "ed320900",
   "metadata": {},
   "outputs": [
    {
     "data": {
      "text/plain": [
       "227"
      ]
     },
     "execution_count": 1,
     "metadata": {},
     "output_type": "execute_result"
    }
   ],
   "source": [
    "import gc\n",
    "gc.collect()"
   ]
  },
  {
   "cell_type": "code",
   "execution_count": 2,
   "id": "f8548c11",
   "metadata": {},
   "outputs": [],
   "source": [
    "import numpy as np\n",
    "import pandas as pd\n",
    "import matplotlib as mpl\n",
    "import matplotlib.pyplot as plt\n",
    "%matplotlib inline"
   ]
  },
  {
   "cell_type": "code",
   "execution_count": 3,
   "id": "0ccb23e2",
   "metadata": {},
   "outputs": [],
   "source": [
    "import tensorflow as tf\n",
    "from tensorflow import keras"
   ]
  },
  {
   "cell_type": "code",
   "execution_count": 4,
   "id": "fc779a2d",
   "metadata": {},
   "outputs": [
    {
     "name": "stdout",
     "output_type": "stream",
     "text": [
      "Number of available GPU's:  1\n"
     ]
    }
   ],
   "source": [
    "print(\"Number of available GPU's: \", len(tf.config.experimental.list_physical_devices(\"GPU\")))"
   ]
  },
  {
   "cell_type": "code",
   "execution_count": 5,
   "id": "eaba9ec8",
   "metadata": {},
   "outputs": [
    {
     "data": {
      "text/plain": [
       "'D:\\\\TheCompleteML\\\\projects'"
      ]
     },
     "execution_count": 5,
     "metadata": {},
     "output_type": "execute_result"
    }
   ],
   "source": [
    "import os\n",
    "if \"CNN\" in os.path.abspath(os.curdir): os.chdir(\"..\")\n",
    "BASE_DIR = os.path.abspath(os.curdir)\n",
    "BASE_DIR"
   ]
  },
  {
   "cell_type": "code",
   "execution_count": 6,
   "id": "a4a7d8f3",
   "metadata": {},
   "outputs": [],
   "source": [
    "data_dir = os.path.join(BASE_DIR, \"datasets\", \"classification\", \"flowers\")"
   ]
  },
  {
   "cell_type": "code",
   "execution_count": 7,
   "id": "1158c94c",
   "metadata": {},
   "outputs": [],
   "source": [
    "data_dirs = [os.path.join(data_dir, dir_) for dir_ in os.listdir(data_dir) if \"processed\" not in dir_]"
   ]
  },
  {
   "cell_type": "code",
   "execution_count": 8,
   "id": "7b26ede8",
   "metadata": {},
   "outputs": [
    {
     "data": {
      "text/plain": [
       "['D:\\\\TheCompleteML\\\\projects\\\\datasets\\\\classification\\\\flowers\\\\daisy',\n",
       " 'D:\\\\TheCompleteML\\\\projects\\\\datasets\\\\classification\\\\flowers\\\\dandelion',\n",
       " 'D:\\\\TheCompleteML\\\\projects\\\\datasets\\\\classification\\\\flowers\\\\rose',\n",
       " 'D:\\\\TheCompleteML\\\\projects\\\\datasets\\\\classification\\\\flowers\\\\sunflower',\n",
       " 'D:\\\\TheCompleteML\\\\projects\\\\datasets\\\\classification\\\\flowers\\\\tulip']"
      ]
     },
     "execution_count": 8,
     "metadata": {},
     "output_type": "execute_result"
    }
   ],
   "source": [
    "data_dirs"
   ]
  },
  {
   "cell_type": "markdown",
   "id": "d683dd01",
   "metadata": {},
   "source": [
    "## Preprocessing"
   ]
  },
  {
   "cell_type": "code",
   "execution_count": 72,
   "id": "0de12a6c",
   "metadata": {},
   "outputs": [],
   "source": [
    "import random\n",
    "from skimage import io\n",
    "\n",
    "class loading_and_splitting:\n",
    "    \n",
    "    def __init__(self, data_dirs, dims, channels=3, target_dir=data_dir, split_count=10):\n",
    "        self.total_images = 0\n",
    "        self.minh = np.inf\n",
    "        self.minw = np.inf\n",
    "        self.dims = dims\n",
    "        self.channels = channels\n",
    "        self.target_dir = target_dir\n",
    "        self.split_count = split_count\n",
    "        self.data_dirs = data_dirs\n",
    "        self.class_map = {k:v.split(\"\\\\\")[-1] for k, v in enumerate(data_dirs)}\n",
    "        \n",
    "        self.header_list = [f\"x{i}\" for i in range(self.dims[0]*self.dims[1]*self.channels)] + [\"label\"]\n",
    "        self.sample_list = [random.sample(range(len(os.listdir(path))), \n",
    "                                          len(os.listdir(path))) for path in data_dirs]\n",
    "        for item in self.sample_list:\n",
    "            self.total_images += len(item)\n",
    "        self.generate_samples()\n",
    "        self.max_train_instance = len(self.train_seq)\n",
    "        self.max_valid_instance = len(self.valid_seq)\n",
    "        self.max_test_instance = len(self.test_seq)\n",
    "    \n",
    "    def generate_csvs(self):\n",
    "        header_list = [f\"x{i}\" for i in range(self.dims[0]*self.dims[1]*self.channels)] + [\"label\"]\n",
    "        for set_ in [\"train\", \"valid\", \"test\"]:\n",
    "            with open(os.path.join(self.target_dir, f\"{set_}.csv\"), \"w\") as f:\n",
    "                df = pd.DataFrame(list(), columns=header_list)\n",
    "                df.to_csv(f, index=False)\n",
    "                \n",
    "    def generate_samples(self):\n",
    "        self.sample_seq = random.sample(range(self.total_images), self.total_images)\n",
    "        self.train_seq = self.sample_seq[:int(len(self.sample_seq)*0.8)]\n",
    "        self.valid_seq = self.sample_seq[int(len(self.sample_seq)*0.8):int(len(self.sample_seq)*0.9)]\n",
    "        self.test_seq = self.sample_seq[int(len(self.sample_seq)*0.9):]\n",
    "    \n",
    "    def crop_image(self, image):\n",
    "        h, w, d = image.shape\n",
    "        if h >= self.minh and w >= self.minw:\n",
    "            image = image[int(h/2)-64:int(h/2)+64, \n",
    "                          int(w/2)-64:int(w/2)+64, \n",
    "                          :]\n",
    "            return image\n",
    "    \n",
    "    def crop_or_pad(self, image):\n",
    "        image = tf.image.resize_with_crop_or_pad(image, self.dims[0], self.dims[0])\n",
    "        return image.numpy()\n",
    "    \n",
    "    def shuffle_and_save(self):\n",
    "        empty = []\n",
    "        train = np.zeros((1, self.dims[0]*self.dims[1]*self.channels + 1))\n",
    "        valid = np.zeros((1, self.dims[0]*self.dims[1]*self.channels + 1))\n",
    "        test = np.zeros((1, self.dims[0]*self.dims[1]*self.channels + 1))\n",
    "        count = 0\n",
    "        while len(empty) != len(self.data_dirs):\n",
    "            sel_dir = np.random.randint(0, len(self.data_dirs))\n",
    "            if sel_dir in empty: continue\n",
    "            dir_ = self.data_dirs[sel_dir]\n",
    "            if not self.sample_list[sel_dir]:\n",
    "                empty.append(sel_dir)\n",
    "            else:\n",
    "                count += 1\n",
    "                print(f\"Processing: {count}\")\n",
    "                sel_image = self.sample_list[sel_dir].pop()\n",
    "                image = io.imread(os.path.join(dir_, os.listdir(dir_)[sel_image]))\n",
    "                \n",
    "                h, w, d = image.shape\n",
    "                if h < self.minh: self.minh = h\n",
    "                if w < self.minw: self.minw = w\n",
    "                if self.minh < self.dims[0]: self.minh = self.dims[0]\n",
    "                if self.minw < self.dims[1]: self.minw = self.dims[1]\n",
    "                \n",
    "                # image = self.crop_image(image)\n",
    "                image = self.crop_or_pad(image)\n",
    "                \n",
    "                if not isinstance(image, np.ndarray): continue\n",
    "                if sel_image in self.train_seq: \n",
    "                    train = np.append(train, np.append(image.flatten(), sel_dir).reshape(1,-1), axis=0)\n",
    "                elif sel_image in self.valid_seq: \n",
    "                    valid = np.append(valid, np.append(image.flatten(), sel_dir).reshape(1,-1), axis=0)\n",
    "                elif sel_image in self.test_seq: \n",
    "                    test = np.append(test, np.append(image.flatten(), sel_dir).reshape(1,-1), axis=0)\n",
    "        \n",
    "        train = train[1:, :]\n",
    "        valid = valid[1:, :]\n",
    "        test = test[1:, :]\n",
    "        \n",
    "        for prefix, arr in zip([\"train\", \"valid\", \"test\"], [train, valid, test]):\n",
    "            self.split_and_save(arr, os.path.join(self.target_dir, \"processed\", prefix), prefix)\n",
    "        \n",
    "    def split_and_save(self, arr, target_dir, prefix):\n",
    "        os.makedirs(target_dir, exist_ok=True)\n",
    "        for i in range(self.split_count):\n",
    "            df = pd.DataFrame(arr[i*int(arr.shape[0]//self.split_count):(i+1)*int(arr.shape[0]//self.split_count), :], \n",
    "                             columns=self.header_list)\n",
    "            df.to_csv(os.path.join(target_dir, \"{}_{}.csv\".format(prefix, i+1)), index=False)"
   ]
  },
  {
   "cell_type": "code",
   "execution_count": 73,
   "id": "5caf76c8",
   "metadata": {},
   "outputs": [
    {
     "data": {
      "text/plain": [
       "{0: 'daisy', 1: 'dandelion', 2: 'rose', 3: 'sunflower', 4: 'tulip'}"
      ]
     },
     "execution_count": 73,
     "metadata": {},
     "output_type": "execute_result"
    }
   ],
   "source": [
    "dims = (150, 150)\n",
    "channels = 3\n",
    "split_count = 10\n",
    "n_features = dims[0] * dims[1] * channels\n",
    "ls = loading_and_splitting(data_dirs=data_dirs, dims=dims, channels=channels, target_dir=data_dir)\n",
    "class_map = ls.class_map\n",
    "max_train_instance = (ls.max_train_instance//split_count)*split_count\n",
    "max_valid_instance = (ls.max_valid_instance//split_count)*split_count\n",
    "max_test_instance = (ls.max_test_instance//split_count)*split_count\n",
    "class_map\n",
    "# ls.shuffle_and_save()"
   ]
  },
  {
   "cell_type": "code",
   "execution_count": 14,
   "id": "5ae2df9e",
   "metadata": {},
   "outputs": [],
   "source": [
    "set_dir = os.path.join(data_dir, \"processed\")\n",
    "train_paths = [f\"{os.path.join(set_dir, 'train')}\\\\{item}\" for item in os.listdir(os.path.join(set_dir, \"train\"))]\n",
    "valid_paths = [f\"{os.path.join(set_dir, 'valid')}\\\\{item}\" for item in os.listdir(os.path.join(set_dir, \"valid\"))]\n",
    "test_paths = [f\"{os.path.join(set_dir, 'test')}\\\\{item}\" for item in os.listdir(os.path.join(set_dir, \"test\"))]"
   ]
  },
  {
   "cell_type": "code",
   "execution_count": 20,
   "id": "37a7146c",
   "metadata": {},
   "outputs": [],
   "source": [
    "data_augmentation = tf.keras.Sequential([keras.layers.RandomFlip(\"horizontal_and_vertical\"), \n",
    "                                         keras.layers.RandomRotation(0.2),\n",
    "                                         keras.layers.RandomContrast(0.5),\n",
    "                                         keras.layers.RandomZoom((-0.3, 0.3), (-0.3, 0.3))\n",
    "                                         ])\n",
    "\n",
    "def preprocess(line, augmentation=False):\n",
    "    defs = [tf.constant([], dtype = tf.float32)] * (n_features + 1)\n",
    "    xy = tf.io.decode_csv(line, record_defaults=defs)\n",
    "    X = tf.stack(xy[:-1])\n",
    "    y = tf.stack(xy[-1:])\n",
    "    \n",
    "    # prcessing steps\n",
    "    X = tf.divide(X, 255)\n",
    "    X = tf.reshape(X, [dims[0], dims[1], channels])\n",
    "    if augmentation:\n",
    "        X = data_augmentation(X)\n",
    "        X = tf.image.rot90(X)\n",
    "        X = tf.image.random_brightness(X, 0.2)\n",
    "    \n",
    "    return X, y\n",
    "\n",
    "\n",
    "def preprocess_test(X):\n",
    "    # prcessing steps\n",
    "    \n",
    "    X = tf.image.resize_with_crop_or_pad(X, 150 ,150)\n",
    "    X = data_augmentation(X)\n",
    "    X = tf.image.rot90(X)\n",
    "    X = tf.image.random_brightness(X, 0.2)\n",
    "    X = tf.divide(X, 255)\n",
    "    \n",
    "    return X"
   ]
  },
  {
   "cell_type": "code",
   "execution_count": 21,
   "id": "8d419350",
   "metadata": {},
   "outputs": [],
   "source": [
    "from functools import partial\n",
    "\n",
    "def read_csv_pipeline(paths, \n",
    "                      n_readers, \n",
    "                      shuffle_buffer_size, \n",
    "                      n_read_threds, \n",
    "                      n_parse_threads, \n",
    "                      batch_size, \n",
    "                      augmentation=False):\n",
    "    \n",
    "    filepaths = tf.data.Dataset.list_files(paths, seed=42)\n",
    "    dataset = filepaths.interleave(lambda filepath: tf.data.TextLineDataset(filepath).skip(1), cycle_length=n_readers)\n",
    "    dataset = dataset.shuffle(shuffle_buffer_size)\n",
    "    if augmentation: dataset = dataset.repeat()\n",
    "    dataset = dataset.map(partial(preprocess, augmentation=augmentation), num_parallel_calls=n_parse_threads)\n",
    "    return dataset.batch(batch_size).prefetch(1)"
   ]
  },
  {
   "cell_type": "code",
   "execution_count": 22,
   "id": "7532e586",
   "metadata": {},
   "outputs": [],
   "source": [
    "n_readers = 5\n",
    "shuffle_buffer_size = 400\n",
    "n_read_threads = None\n",
    "n_parse_threads = 5\n",
    "batch_size = 32\n",
    "\n",
    "train_set = read_csv_pipeline(train_paths, \n",
    "                              n_readers, \n",
    "                              shuffle_buffer_size, \n",
    "                              n_read_threads, \n",
    "                              n_parse_threads, \n",
    "                              batch_size, \n",
    "                              augmentation=True)\n",
    "\n",
    "valid_set = read_csv_pipeline(valid_paths, \n",
    "                              n_readers, \n",
    "                              shuffle_buffer_size, \n",
    "                              n_read_threads, \n",
    "                              n_parse_threads, \n",
    "                              batch_size, \n",
    "                              augmentation=False)\n",
    "\n",
    "test_set = read_csv_pipeline(test_paths, \n",
    "                             n_readers, \n",
    "                             shuffle_buffer_size, \n",
    "                             n_read_threads, \n",
    "                             n_parse_threads, \n",
    "                             batch_size, \n",
    "                             augmentation=False)"
   ]
  },
  {
   "cell_type": "markdown",
   "id": "c2c5fd09",
   "metadata": {},
   "source": [
    "### Model Training"
   ]
  },
  {
   "cell_type": "code",
   "execution_count": 15,
   "id": "fc997a88",
   "metadata": {},
   "outputs": [],
   "source": [
    "class ResidualLayer(keras.layers.Layer):\n",
    "    \n",
    "    def __init__(self, fm, strides=1, ksize=3, padding=\"same\", activation=\"relu\", **kwargs):\n",
    "        super().__init__(**kwargs)\n",
    "        self.fm = fm\n",
    "        self.ksize = ksize\n",
    "        self.strides = strides\n",
    "        self.padding = padding\n",
    "        self.activation = keras.activations.get(activation)\n",
    "        self.normalization = keras.layers.BatchNormalization()\n",
    "        self.mainc_layers = [keras.layers.Conv2D(self.fm, \n",
    "                                                 kernel_size=self.ksize, \n",
    "                                                 strides=self.strides, \n",
    "                                                 padding=self.padding, \n",
    "                                                 use_bias=False),\n",
    "                            self.normalization, \n",
    "                            self.activation,\n",
    "                            keras.layers.Conv2D(self.fm, \n",
    "                                                kernel_size=self.ksize, \n",
    "                                                strides=1, \n",
    "                                                padding=self.padding, \n",
    "                                                use_bias=False),\n",
    "                            self.normalization]\n",
    "        self.skipc_layers = []\n",
    "        if strides > 1:\n",
    "            self.skipc_layers = [keras.layers.Conv2D(self.fm, \n",
    "                                                     kernel_size=1, \n",
    "                                                     strides=self.strides, \n",
    "                                                     padding=self.padding,\n",
    "                                                     use_bias=False),\n",
    "                                self.normalization]\n",
    "    def get_config(self):\n",
    "        config = super().get_config()\n",
    "        config.update({\"fm\": self.fm,\n",
    "                        \"ksize\": self.ksize,\n",
    "                        \"strides\": self.strides,\n",
    "                        \"padding\": self.padding,\n",
    "                        \"activation\": self.activation\n",
    "                        })\n",
    "        return config\n",
    "    \n",
    "    def call(self, inputs):\n",
    "        z = inputs\n",
    "        for layer in self.mainc_layers:\n",
    "            z = layer(z)\n",
    "        skip_z = inputs\n",
    "        for layer in self.skipc_layers:\n",
    "            skip_z = layer(skip_z)\n",
    "        return self.activation(z+skip_z)"
   ]
  },
  {
   "cell_type": "code",
   "execution_count": 27,
   "id": "0a060eef",
   "metadata": {},
   "outputs": [],
   "source": [
    "keras.backend.clear_session()\n",
    "np.random.seed(42)\n",
    "tf.random.set_seed(42)\n",
    "\n",
    "def resnet_model():\n",
    "\n",
    "    model = keras.models.Sequential()\n",
    "    model.add(keras.layers.Conv2D(filters=64, kernel_size=7, \n",
    "                                  strides=2, padding=\"same\", \n",
    "                                  use_bias=False,\n",
    "                                  input_shape=[dims[0], dims[1], channels]))\n",
    "    model.add(keras.layers.Normalization())\n",
    "    model.add(keras.layers.Activation(\"relu\"))\n",
    "    model.add(keras.layers.MaxPool2D(pool_size=2)) # pool size is three, strides is 2 and padding is same\n",
    "    pfm = 64\n",
    "    for fm in [64] * 3 + [128] * 4 + [256] * 6 + [512] * 6: # 512 should be repeated 3 times instead of 6\n",
    "        strides = 1 if fm == pfm else 2\n",
    "        model.add(ResidualLayer(fm=fm, strides=strides))\n",
    "        pfm = fm\n",
    "    model.add(keras.layers.GlobalAvgPool2D())\n",
    "    model.add(keras.layers.Flatten())\n",
    "    model.add(keras.layers.Dense(5, activation=\"softmax\"))\n",
    "    \n",
    "    model.compile(loss=keras.losses.sparse_categorical_crossentropy, \n",
    "              optimizer=keras.optimizers.Nadam(),\n",
    "              metrics=keras.metrics.sparse_categorical_accuracy)\n",
    "    \n",
    "    model_target = os.path.join(BASE_DIR, \"models\", \"flowers_cnn_with_resnet_model.h5\")\n",
    "    checkpoint_cb = keras.callbacks.ModelCheckpoint(model_target, save_best_only=True)\n",
    "    early_stop_cb = keras.callbacks.EarlyStopping(patience=10)\n",
    "    callbacks = [checkpoint_cb, early_stop_cb]\n",
    "    \n",
    "    return model, callbacks    "
   ]
  },
  {
   "cell_type": "code",
   "execution_count": 24,
   "id": "41e35806",
   "metadata": {},
   "outputs": [],
   "source": [
    "model, callbacks = resnet_model()"
   ]
  },
  {
   "cell_type": "code",
   "execution_count": 26,
   "id": "701d65b4",
   "metadata": {},
   "outputs": [
    {
     "name": "stdout",
     "output_type": "stream",
     "text": [
      "Epoch 1/25\n",
      "325/325 [==============================] - 534s 2s/step - loss: 1.5389 - sparse_categorical_accuracy: 0.4515 - val_loss: 2.0277 - val_sparse_categorical_accuracy: 0.2937\n",
      "Epoch 2/25\n",
      "325/325 [==============================] - 445s 1s/step - loss: 1.0884 - sparse_categorical_accuracy: 0.5789 - val_loss: 1.4646 - val_sparse_categorical_accuracy: 0.3603\n",
      "Epoch 3/25\n",
      "325/325 [==============================] - 351s 1s/step - loss: 0.9444 - sparse_categorical_accuracy: 0.6408 - val_loss: 1.6137 - val_sparse_categorical_accuracy: 0.2341\n",
      "Epoch 4/25\n",
      "325/325 [==============================] - 356s 1s/step - loss: 0.8733 - sparse_categorical_accuracy: 0.6674 - val_loss: 1.9676 - val_sparse_categorical_accuracy: 0.2389\n",
      "Epoch 5/25\n",
      "325/325 [==============================] - 349s 1s/step - loss: 0.7960 - sparse_categorical_accuracy: 0.6980 - val_loss: 1.6316 - val_sparse_categorical_accuracy: 0.3865\n",
      "Epoch 6/25\n",
      "325/325 [==============================] - 360s 1s/step - loss: 0.7178 - sparse_categorical_accuracy: 0.7359 - val_loss: 8.0242 - val_sparse_categorical_accuracy: 0.2198\n",
      "Epoch 7/25\n",
      "325/325 [==============================] - 339s 1s/step - loss: 0.6914 - sparse_categorical_accuracy: 0.7455 - val_loss: 3.6096 - val_sparse_categorical_accuracy: 0.2841\n",
      "Epoch 8/25\n",
      "325/325 [==============================] - 339s 1s/step - loss: 0.6408 - sparse_categorical_accuracy: 0.7649 - val_loss: 1.6123 - val_sparse_categorical_accuracy: 0.3143\n",
      "Epoch 9/25\n",
      "325/325 [==============================] - 343s 1s/step - loss: 0.5900 - sparse_categorical_accuracy: 0.7805 - val_loss: 1.4210 - val_sparse_categorical_accuracy: 0.3500\n",
      "Epoch 10/25\n",
      "325/325 [==============================] - 344s 1s/step - loss: 0.5553 - sparse_categorical_accuracy: 0.7950 - val_loss: 3.8512 - val_sparse_categorical_accuracy: 0.3302\n",
      "Epoch 11/25\n",
      "325/325 [==============================] - 344s 1s/step - loss: 0.5025 - sparse_categorical_accuracy: 0.8101 - val_loss: 1.7140 - val_sparse_categorical_accuracy: 0.2571\n",
      "Epoch 12/25\n",
      "325/325 [==============================] - 343s 1s/step - loss: 0.4803 - sparse_categorical_accuracy: 0.8227 - val_loss: 1.5824 - val_sparse_categorical_accuracy: 0.3460\n",
      "Epoch 13/25\n",
      "325/325 [==============================] - 342s 1s/step - loss: 0.4257 - sparse_categorical_accuracy: 0.8391 - val_loss: 1.5369 - val_sparse_categorical_accuracy: 0.3873\n",
      "Epoch 14/25\n",
      "325/325 [==============================] - 441s 1s/step - loss: 0.3981 - sparse_categorical_accuracy: 0.8531 - val_loss: 2.0978 - val_sparse_categorical_accuracy: 0.2325\n",
      "Epoch 15/25\n",
      "325/325 [==============================] - 498s 2s/step - loss: 0.3378 - sparse_categorical_accuracy: 0.8753 - val_loss: 1.5181 - val_sparse_categorical_accuracy: 0.4206\n",
      "Epoch 16/25\n",
      "325/325 [==============================] - 737s 2s/step - loss: 0.3031 - sparse_categorical_accuracy: 0.8866 - val_loss: 1.5073 - val_sparse_categorical_accuracy: 0.3008\n",
      "Epoch 17/25\n",
      "325/325 [==============================] - 538s 2s/step - loss: 0.2743 - sparse_categorical_accuracy: 0.9027 - val_loss: 1.7893 - val_sparse_categorical_accuracy: 0.2579\n",
      "Epoch 18/25\n",
      "325/325 [==============================] - 517s 2s/step - loss: 0.2292 - sparse_categorical_accuracy: 0.9152 - val_loss: 1.7341 - val_sparse_categorical_accuracy: 0.2579\n",
      "Epoch 19/25\n",
      "325/325 [==============================] - 504s 2s/step - loss: 0.2045 - sparse_categorical_accuracy: 0.9302 - val_loss: 1.6915 - val_sparse_categorical_accuracy: 0.2238\n"
     ]
    }
   ],
   "source": [
    "history = model.fit(train_set, epochs=25, validation_data=valid_set,\n",
    "                   callbacks=callbacks)"
   ]
  },
  {
   "cell_type": "code",
   "execution_count": 63,
   "id": "eee35e9c",
   "metadata": {},
   "outputs": [],
   "source": [
    "def plot_losses_and_accuracy(history, ylim=(0, 1)):\n",
    "    pd.DataFrame(history.history).plot(figsize=(8, 5)) \n",
    "    plt.grid(True) \n",
    "    plt.gca().set_ylim(*ylim) # set the vertical range to [0-1] \n",
    "    plt.show()"
   ]
  },
  {
   "cell_type": "code",
   "execution_count": 67,
   "id": "da83244d",
   "metadata": {
    "collapsed": true
   },
   "outputs": [
    {
     "data": {
      "image/png": "[encoded data removed]",
      "text/plain": [
       "<Figure size 576x360 with 1 Axes>"
      ]
     },
     "metadata": {
      "needs_background": "light"
     },
     "output_type": "display_data"
    }
   ],
   "source": [
    "plot_losses_and_accuracy(history, ylim=(0, 3))"
   ]
  },
  {
   "cell_type": "markdown",
   "id": "90a1cfe2",
   "metadata": {},
   "source": [
    "##### Observations\n",
    "\n",
    "Here model clearly seems to have overfitting. So we need to put some constraints to reduce the overfitting\n",
    "\n",
    "Constraints to reduce overfitting for CNN\n",
    "- Reduce layers and hidden units\n",
    "- Regularization\n",
    "- Weight Initilizatin\n",
    "- Dropout Regularization\n",
    "- Weight Constraints\n",
    "- Other methods"
   ]
  },
  {
   "cell_type": "code",
   "execution_count": 187,
   "id": "2ed13df8",
   "metadata": {},
   "outputs": [],
   "source": [
    "keras.backend.clear_session()\n",
    "np.random.seed(42)\n",
    "tf.random.set_seed(42)\n",
    "\n",
    "\n",
    "def cnn_mp_r3_de():\n",
    "    \"\"\"\n",
    "    name ecodes the model architecture\n",
    "    cnn followed by max pooling repeated three times, followed by dense layer\n",
    "    \"\"\"\n",
    "\n",
    "    model = keras.models.Sequential()\n",
    "    model.add(keras.layers.Conv2D(64, kernel_size=5, \n",
    "                                  strides=2, padding=\"same\", \n",
    "                                  use_bias=False, \n",
    "                                  input_shape=[dims[0], dims[0], channels], \n",
    "                                  activation=\"relu\"))\n",
    "    model.add(keras.layers.MaxPool2D(pool_size=2))\n",
    "    model.add(keras.layers.Conv2D(128, kernel_size=3, \n",
    "                                  strides=1, padding=\"same\", \n",
    "                                  use_bias=False, \n",
    "                                  activation=\"relu\"))\n",
    "    model.add(keras.layers.MaxPool2D(pool_size=2))\n",
    "    model.add(keras.layers.Conv2D(256, kernel_size=3, \n",
    "                                  strides=1, padding=\"same\", \n",
    "                                  use_bias=False, \n",
    "                                  activation=\"relu\"))\n",
    "    model.add(keras.layers.MaxPool2D(pool_size=2))\n",
    "    model.add(keras.layers.Flatten())\n",
    "    model.add(keras.layers.Dropout(0.3))\n",
    "    model.add(keras.layers.Dense(64, activation=\"relu\"))\n",
    "    model.add(keras.layers.Dropout(0.3))\n",
    "    model.add(keras.layers.Dense(5, activation=\"softmax\"))\n",
    "    \n",
    "    model.compile(loss=keras.losses.sparse_categorical_crossentropy, \n",
    "                  optimizer=\"nadam\", \n",
    "                  metrics=keras.metrics.sparse_categorical_accuracy)\n",
    "    \n",
    "    model_target = os.path.join(BASE_DIR, \"models\", \"flowers_cnn_mp_r3_de.h5\")\n",
    "    checkpoint_cb = keras.callbacks.ModelCheckpoint(model_target, save_best_only=True)\n",
    "    early_stop_cb = keras.callbacks.EarlyStopping(patience=10)\n",
    "    callbacks = [checkpoint_cb, early_stop_cb]\n",
    "    \n",
    "    return model, callbacks"
   ]
  },
  {
   "cell_type": "code",
   "execution_count": 188,
   "id": "6cf352e8",
   "metadata": {},
   "outputs": [],
   "source": [
    "model, callbacks = cnn_mp_r3_de()"
   ]
  },
  {
   "cell_type": "code",
   "execution_count": 192,
   "id": "ec1b13da",
   "metadata": {},
   "outputs": [
    {
     "name": "stdout",
     "output_type": "stream",
     "text": [
      "Epoch 1/25\n",
      "865/865 [==============================] - 901s 1s/step - loss: 1.2241 - sparse_categorical_accuracy: 0.4967 - val_loss: 1.0431 - val_sparse_categorical_accuracy: 0.5890\n",
      "Epoch 2/25\n",
      "865/865 [==============================] - 919s 1s/step - loss: 1.0072 - sparse_categorical_accuracy: 0.6105 - val_loss: 0.9015 - val_sparse_categorical_accuracy: 0.6292\n",
      "Epoch 3/25\n",
      "865/865 [==============================] - 950s 1s/step - loss: 0.8769 - sparse_categorical_accuracy: 0.6632 - val_loss: 0.8222 - val_sparse_categorical_accuracy: 0.6676\n",
      "Epoch 4/25\n",
      "865/865 [==============================] - 920s 1s/step - loss: 0.8119 - sparse_categorical_accuracy: 0.6933 - val_loss: 0.7644 - val_sparse_categorical_accuracy: 0.7042\n",
      "Epoch 5/25\n",
      "865/865 [==============================] - 913s 1s/step - loss: 0.7554 - sparse_categorical_accuracy: 0.7133 - val_loss: 0.7606 - val_sparse_categorical_accuracy: 0.7065\n",
      "Epoch 6/25\n",
      "865/865 [==============================] - 923s 1s/step - loss: 0.6971 - sparse_categorical_accuracy: 0.7374 - val_loss: 0.7478 - val_sparse_categorical_accuracy: 0.7146\n",
      "Epoch 7/25\n",
      "865/865 [==============================] - 926s 1s/step - loss: 0.6548 - sparse_categorical_accuracy: 0.7531 - val_loss: 0.7039 - val_sparse_categorical_accuracy: 0.7375\n",
      "Epoch 8/25\n",
      "865/865 [==============================] - 1597s 2s/step - loss: 0.6293 - sparse_categorical_accuracy: 0.7603 - val_loss: 0.7217 - val_sparse_categorical_accuracy: 0.7324\n",
      "Epoch 9/25\n",
      "865/865 [==============================] - 908s 1s/step - loss: 0.6105 - sparse_categorical_accuracy: 0.7697 - val_loss: 0.6650 - val_sparse_categorical_accuracy: 0.7458\n",
      "Epoch 10/25\n",
      "865/865 [==============================] - 874s 1s/step - loss: 0.5823 - sparse_categorical_accuracy: 0.7775 - val_loss: 0.7178 - val_sparse_categorical_accuracy: 0.7452\n",
      "Epoch 11/25\n",
      "865/865 [==============================] - 1390s 2s/step - loss: 0.5547 - sparse_categorical_accuracy: 0.7865 - val_loss: 0.6564 - val_sparse_categorical_accuracy: 0.7473\n",
      "Epoch 12/25\n",
      "865/865 [==============================] - 931s 1s/step - loss: 0.5368 - sparse_categorical_accuracy: 0.7948 - val_loss: 0.6829 - val_sparse_categorical_accuracy: 0.7574\n",
      "Epoch 13/25\n",
      "865/865 [==============================] - 930s 1s/step - loss: 0.5272 - sparse_categorical_accuracy: 0.8010 - val_loss: 0.7226 - val_sparse_categorical_accuracy: 0.7435\n",
      "Epoch 14/25\n",
      "865/865 [==============================] - 933s 1s/step - loss: 0.5096 - sparse_categorical_accuracy: 0.8051 - val_loss: 0.6982 - val_sparse_categorical_accuracy: 0.7545\n",
      "Epoch 15/25\n",
      "865/865 [==============================] - 1065s 1s/step - loss: 0.4958 - sparse_categorical_accuracy: 0.8121 - val_loss: 0.6867 - val_sparse_categorical_accuracy: 0.7512\n",
      "Epoch 16/25\n",
      "865/865 [==============================] - 883s 1s/step - loss: 0.4945 - sparse_categorical_accuracy: 0.8130 - val_loss: 0.6920 - val_sparse_categorical_accuracy: 0.7711\n",
      "Epoch 17/25\n",
      "865/865 [==============================] - 890s 1s/step - loss: 0.4747 - sparse_categorical_accuracy: 0.8200 - val_loss: 0.6996 - val_sparse_categorical_accuracy: 0.7616\n",
      "Epoch 18/25\n",
      "865/865 [==============================] - 888s 1s/step - loss: 0.4798 - sparse_categorical_accuracy: 0.8201 - val_loss: 0.7401 - val_sparse_categorical_accuracy: 0.7473\n",
      "Epoch 19/25\n",
      "865/865 [==============================] - 892s 1s/step - loss: 0.4596 - sparse_categorical_accuracy: 0.8283 - val_loss: 0.7139 - val_sparse_categorical_accuracy: 0.7455\n",
      "Epoch 20/25\n",
      "865/865 [==============================] - 885s 1s/step - loss: 0.4431 - sparse_categorical_accuracy: 0.8324 - val_loss: 0.6929 - val_sparse_categorical_accuracy: 0.7693\n",
      "Epoch 21/25\n",
      "865/865 [==============================] - 894s 1s/step - loss: 0.4259 - sparse_categorical_accuracy: 0.8407 - val_loss: 0.7567 - val_sparse_categorical_accuracy: 0.7482\n"
     ]
    }
   ],
   "source": [
    "history = model.fit(train_set, epochs=25, \n",
    "                    validation_data=valid_set, callbacks=callbacks)"
   ]
  },
  {
   "cell_type": "markdown",
   "id": "09b38fe9",
   "metadata": {},
   "source": [
    "##### Observations\n",
    "\n",
    "Here we have a vanishing gradient problem, we can use following aproch to reduce it. \n",
    "\n",
    "- He normal initializer with relu activations\n",
    "- Batch Normalization\n",
    "- Add some layers with reidualnetwork \n",
    "- Dropouts should be added to reduce the overfitting\n",
    "\n",
    "\n",
    "One approch is to use lower layers of already trained netowrk and implement some normalization, initilization and dropout techniques to appended layers and make freeze all the pretrained layer during training this updated model. But important point is that tranfer learning aproch will not work well for small dense network as compare to DNN,beacause lower layers in DNN learned more general patterns so can be usefull and improved."
   ]
  },
  {
   "cell_type": "code",
   "execution_count": 16,
   "id": "cbf1bc55",
   "metadata": {},
   "outputs": [],
   "source": [
    "keras.backend.clear_session()\n",
    "np.random.seed(42)\n",
    "tf.random.set_seed(42)\n",
    "\n",
    "def mini_resnet_9cl():\n",
    "    \n",
    "    model = keras.models.Sequential()\n",
    "    model.add(keras.layers.Conv2D(filters=64,\n",
    "                                kernel_size=5, \n",
    "                                strides=2, \n",
    "                                padding=\"same\", \n",
    "                                use_bias=False, \n",
    "                                input_shape=[dims[0], dims[1], channels]))\n",
    "    model.add(keras.layers.BatchNormalization())\n",
    "    model.add(keras.layers.Activation(\"relu\"))\n",
    "    model.add(keras.layers.MaxPool2D(pool_size=3, strides=2, padding=\"same\"))\n",
    "    pfm = 64\n",
    "    for fm in [64, 128, 256, 512]:\n",
    "        strides = 1 if pfm == fm else 2\n",
    "        model.add(ResidualLayer(fm=fm, strides=strides))\n",
    "        pfm = fm\n",
    "    model.add(keras.layers.GlobalAvgPool2D())\n",
    "    model.add(keras.layers.Flatten())\n",
    "    model.add(keras.layers.Dense(5, activation=\"softmax\"))\n",
    "    \n",
    "    model.compile(loss=keras.losses.sparse_categorical_crossentropy, \n",
    "                  optimizer=\"nadam\", \n",
    "                  metrics=keras.metrics.sparse_categorical_accuracy)\n",
    "    \n",
    "    model_target = os.path.join(BASE_DIR, \"models\", \"mini_resnet_9cl.h5\")\n",
    "    checkpoint_cb = keras.callbacks.ModelCheckpoint(model_target, save_best_only=True)\n",
    "    early_stop_cb = keras.callbacks.EarlyStopping(patience=10)\n",
    "    callbacks = [checkpoint_cb, early_stop_cb]\n",
    "    \n",
    "    return model, callbacks"
   ]
  },
  {
   "cell_type": "code",
   "execution_count": 17,
   "id": "b8287bee",
   "metadata": {},
   "outputs": [],
   "source": [
    "model, callbacks = mini_resnet_9cl()"
   ]
  },
  {
   "cell_type": "code",
   "execution_count": 18,
   "id": "c20e576f",
   "metadata": {},
   "outputs": [
    {
     "name": "stdout",
     "output_type": "stream",
     "text": [
      "Epoch 1/25\n",
      "865/865 [==============================] - 953s 1s/step - loss: 1.0987 - sparse_categorical_accuracy: 0.5666 - val_loss: 1.6325 - val_sparse_categorical_accuracy: 0.2571\n",
      "Epoch 2/25\n",
      "865/865 [==============================] - 903s 1s/step - loss: 0.8711 - sparse_categorical_accuracy: 0.6618 - val_loss: 1.8039 - val_sparse_categorical_accuracy: 0.2342\n",
      "Epoch 3/25\n",
      "865/865 [==============================] - 837s 966ms/step - loss: 0.7801 - sparse_categorical_accuracy: 0.6971 - val_loss: 1.7594 - val_sparse_categorical_accuracy: 0.2363\n",
      "Epoch 4/25\n",
      "865/865 [==============================] - 838s 968ms/step - loss: 0.7111 - sparse_categorical_accuracy: 0.7254 - val_loss: 1.6702 - val_sparse_categorical_accuracy: 0.2756\n",
      "Epoch 5/25\n",
      "865/865 [==============================] - 852s 983ms/step - loss: 0.6415 - sparse_categorical_accuracy: 0.7535 - val_loss: 1.8698 - val_sparse_categorical_accuracy: 0.2991\n",
      "Epoch 6/25\n",
      "865/865 [==============================] - 873s 1s/step - loss: 0.5834 - sparse_categorical_accuracy: 0.7776 - val_loss: 1.8976 - val_sparse_categorical_accuracy: 0.2223\n",
      "Epoch 7/25\n",
      "865/865 [==============================] - 1006s 1s/step - loss: 0.5313 - sparse_categorical_accuracy: 0.7978 - val_loss: 1.6400 - val_sparse_categorical_accuracy: 0.2810\n",
      "Epoch 8/25\n",
      "865/865 [==============================] - 1003s 1s/step - loss: 0.4892 - sparse_categorical_accuracy: 0.8128 - val_loss: 1.7845 - val_sparse_categorical_accuracy: 0.2810\n",
      "Epoch 9/25\n",
      "865/865 [==============================] - 914s 1s/step - loss: 0.4506 - sparse_categorical_accuracy: 0.8291 - val_loss: 2.2287 - val_sparse_categorical_accuracy: 0.2568\n",
      "Epoch 10/25\n",
      "865/865 [==============================] - 891s 1s/step - loss: 0.4170 - sparse_categorical_accuracy: 0.8393 - val_loss: 2.6193 - val_sparse_categorical_accuracy: 0.2577\n",
      "Epoch 11/25\n",
      "865/865 [==============================] - 892s 1s/step - loss: 0.3887 - sparse_categorical_accuracy: 0.8502 - val_loss: 2.3774 - val_sparse_categorical_accuracy: 0.2494\n"
     ]
    }
   ],
   "source": [
    "history = model.fit(train_set, epochs=25, validation_data=valid_set, callbacks=callbacks)"
   ]
  },
  {
   "cell_type": "code",
   "execution_count": 26,
   "id": "68526f6a",
   "metadata": {},
   "outputs": [],
   "source": [
    "keras.backend.clear_session()\n",
    "np.random.seed(42)\n",
    "tf.random.set_seed(42)\n",
    "\n",
    "\n",
    "def cnn_bn_mp_r3_de():\n",
    "    \"\"\"\n",
    "    name ecodes the model architecture\n",
    "    cnn followed by batch normlization and max pooling repeated four times, followed by dense layer\n",
    "    also modified, padding as valid, and strides as 2 for cnn and padding as same for max-pooling\n",
    "    dropour rate is decreased\n",
    "    \"\"\"\n",
    "\n",
    "    model = keras.models.Sequential()\n",
    "    model.add(keras.layers.Conv2D(64, kernel_size=5, \n",
    "                                  strides=1,  \n",
    "                                  use_bias=False, \n",
    "                                  input_shape=[dims[0], dims[0], channels], \n",
    "                                  ))\n",
    "    model.add(keras.layers.BatchNormalization())\n",
    "    model.add(keras.layers.Activation(\"relu\"))\n",
    "    model.add(keras.layers.MaxPool2D(pool_size=2, padding=\"same\"))\n",
    "    model.add(keras.layers.Conv2D(128, kernel_size=3, \n",
    "                                  strides=1,  \n",
    "                                  use_bias=False, \n",
    "                                  ))\n",
    "    model.add(keras.layers.BatchNormalization())\n",
    "    model.add(keras.layers.Activation(\"relu\"))\n",
    "    model.add(keras.layers.MaxPool2D(pool_size=2, padding=\"same\"))\n",
    "    model.add(keras.layers.Conv2D(256, kernel_size=3, \n",
    "                                  strides=1,  \n",
    "                                  use_bias=False, \n",
    "                                  ))\n",
    "    model.add(keras.layers.BatchNormalization())\n",
    "    model.add(keras.layers.Activation(\"relu\"))\n",
    "    model.add(keras.layers.MaxPool2D(pool_size=2, padding=\"same\"))\n",
    "    model.add(keras.layers.Flatten())\n",
    "    model.add(keras.layers.Dropout(0.2))\n",
    "    model.add(keras.layers.Dense(64, activation=\"relu\"))\n",
    "    model.add(keras.layers.Dropout(0.2))\n",
    "    model.add(keras.layers.Dense(5, activation=\"softmax\"))\n",
    "    \n",
    "    model.compile(loss=keras.losses.sparse_categorical_crossentropy, \n",
    "                  optimizer=\"nadam\", \n",
    "                  metrics=keras.metrics.sparse_categorical_accuracy)\n",
    "    \n",
    "    model_target = os.path.join(BASE_DIR, \"models\", \"cnn_bn_mp_r3_de.h5\")\n",
    "    checkpoint_cb = keras.callbacks.ModelCheckpoint(model_target, save_best_only=True)\n",
    "    early_stop_cb = keras.callbacks.EarlyStopping(patience=10)\n",
    "    callbacks = [checkpoint_cb, early_stop_cb]\n",
    "    \n",
    "    return model, callbacks"
   ]
  },
  {
   "cell_type": "code",
   "execution_count": 27,
   "id": "08b8612b",
   "metadata": {},
   "outputs": [],
   "source": [
    "model, callbacks = cnn_bn_mp_r3_de()"
   ]
  },
  {
   "cell_type": "code",
   "execution_count": 28,
   "id": "f60747c2",
   "metadata": {},
   "outputs": [
    {
     "name": "stdout",
     "output_type": "stream",
     "text": [
      "Epoch 1/25\n",
      "865/865 [==============================] - 18757s 22s/step - loss: 1.7212 - sparse_categorical_accuracy: 0.2415 - val_loss: 1.6023 - val_sparse_categorical_accuracy: 0.2405\n",
      "Epoch 2/25\n",
      "865/865 [==============================] - 873s 1s/step - loss: 1.5990 - sparse_categorical_accuracy: 0.2434 - val_loss: 1.6027 - val_sparse_categorical_accuracy: 0.2405\n",
      "Epoch 3/25\n",
      "865/865 [==============================] - 846s 974ms/step - loss: 1.5990 - sparse_categorical_accuracy: 0.2434 - val_loss: 1.6027 - val_sparse_categorical_accuracy: 0.2405\n",
      "Epoch 4/25\n",
      "865/865 [==============================] - 833s 962ms/step - loss: 1.5990 - sparse_categorical_accuracy: 0.2434 - val_loss: 1.6026 - val_sparse_categorical_accuracy: 0.2405\n",
      "Epoch 5/25\n",
      "865/865 [==============================] - 830s 958ms/step - loss: 1.5990 - sparse_categorical_accuracy: 0.2434 - val_loss: 1.6024 - val_sparse_categorical_accuracy: 0.2405\n",
      "Epoch 6/25\n",
      "865/865 [==============================] - 833s 962ms/step - loss: 1.5990 - sparse_categorical_accuracy: 0.2434 - val_loss: 1.6026 - val_sparse_categorical_accuracy: 0.2405\n",
      "Epoch 7/25\n",
      "865/865 [==============================] - 834s 963ms/step - loss: 1.5990 - sparse_categorical_accuracy: 0.2434 - val_loss: 1.6025 - val_sparse_categorical_accuracy: 0.2405\n",
      "Epoch 8/25\n",
      "865/865 [==============================] - 829s 957ms/step - loss: 1.5991 - sparse_categorical_accuracy: 0.2434 - val_loss: 1.6026 - val_sparse_categorical_accuracy: 0.2405\n",
      "Epoch 9/25\n",
      "865/865 [==============================] - 826s 954ms/step - loss: 1.5990 - sparse_categorical_accuracy: 0.2434 - val_loss: 1.6027 - val_sparse_categorical_accuracy: 0.2405\n",
      "Epoch 10/25\n",
      "865/865 [==============================] - 832s 961ms/step - loss: 1.5990 - sparse_categorical_accuracy: 0.2434 - val_loss: 1.6027 - val_sparse_categorical_accuracy: 0.2405\n",
      "Epoch 11/25\n",
      "865/865 [==============================] - 833s 962ms/step - loss: 1.5990 - sparse_categorical_accuracy: 0.2434 - val_loss: 1.6025 - val_sparse_categorical_accuracy: 0.2405\n"
     ]
    }
   ],
   "source": [
    "history = model.fit(train_set, epochs=25, validation_data=valid_set, callbacks=callbacks)"
   ]
  },
  {
   "cell_type": "markdown",
   "id": "8c02a765",
   "metadata": {},
   "source": [
    " ##### Observations\n",
    " \n",
    " Here, clearly the models stops learning from the start is may be due to batch normalization layer, which is needed only for deep neural network not the shallow one"
   ]
  },
  {
   "cell_type": "markdown",
   "id": "26e5c9b0",
   "metadata": {},
   "source": [
    "## Transfer Learning On ResNet"
   ]
  },
  {
   "cell_type": "code",
   "execution_count": 67,
   "id": "9fdb0b6c",
   "metadata": {},
   "outputs": [],
   "source": [
    "from functools import partial\n",
    "\n",
    "def preprocess_tran_ler(line, \n",
    "                        augmentation=False, \n",
    "                        resize=(224, 224)):\n",
    "    defs = [tf.constant([], dtype = tf.float32)] * (n_features + 1)\n",
    "    xy = tf.io.decode_csv(line, record_defaults=defs)\n",
    "    X = tf.stack(xy[:-1])\n",
    "    y = tf.stack(xy[-1:])\n",
    "    \n",
    "    # prcessing steps\n",
    "    X = tf.reshape(X, [dims[0], dims[1], channels])\n",
    "    X = tf.image.resize(X, size=resize)\n",
    "    if augmentation:\n",
    "        X = data_augmentation(X)\n",
    "        X = tf.image.rot90(X)\n",
    "        X = tf.image.random_brightness(X, 0.2)\n",
    "    X = keras.applications.resnet50.preprocess_input(X)\n",
    "    return X, y\n",
    "\n",
    "\n",
    "def read_csv_pipeline_tran_ler(paths, \n",
    "                               n_readers, \n",
    "                               shuffle_buffer_size, \n",
    "                               n_read_threds, \n",
    "                               n_parse_threads, \n",
    "                               batch_size, \n",
    "                               augmentation=False,\n",
    "                               resize=(224, 224)):\n",
    "    \n",
    "    filepaths = tf.data.Dataset.list_files(paths, seed=42)\n",
    "    dataset = filepaths.interleave(lambda filepath: tf.data.TextLineDataset(filepath).skip(1), cycle_length=n_readers)\n",
    "    dataset = dataset.shuffle(shuffle_buffer_size)\n",
    "    if augmentation: dataset = dataset.repeat()\n",
    "    dataset = dataset.map(partial(preprocess_tran_ler, augmentation=augmentation, resize=resize), num_parallel_calls=n_parse_threads)\n",
    "    return dataset.batch(batch_size).prefetch(1)"
   ]
  },
  {
   "cell_type": "code",
   "execution_count": 68,
   "id": "2da55c4e",
   "metadata": {},
   "outputs": [],
   "source": [
    "n_readers = 5\n",
    "shuffle_buffer_size = 400\n",
    "n_read_threads = None\n",
    "n_parse_threads = 5\n",
    "batch_size = 32\n",
    "resize = (224, 224)\n",
    "\n",
    "train_set = read_csv_pipeline_tran_ler(train_paths, \n",
    "                              n_readers, \n",
    "                              shuffle_buffer_size, \n",
    "                              n_read_threads, \n",
    "                              n_parse_threads, \n",
    "                              batch_size, \n",
    "                              augmentation=True,\n",
    "                              resize=resize)\n",
    "\n",
    "valid_set = read_csv_pipeline_tran_ler(valid_paths, \n",
    "                              n_readers, \n",
    "                              shuffle_buffer_size, \n",
    "                              n_read_threads, \n",
    "                              n_parse_threads, \n",
    "                              batch_size, \n",
    "                              augmentation=False,\n",
    "                              resize=resize)\n",
    "\n",
    "test_set = read_csv_pipeline_tran_ler(test_paths, \n",
    "                             n_readers, \n",
    "                             shuffle_buffer_size, \n",
    "                             n_read_threads, \n",
    "                             n_parse_threads, \n",
    "                             batch_size, \n",
    "                             augmentation=False,\n",
    "                             resize=resize)"
   ]
  },
  {
   "cell_type": "code",
   "execution_count": 31,
   "id": "cef36992",
   "metadata": {},
   "outputs": [
    {
     "name": "stdout",
     "output_type": "stream",
     "text": [
      "Downloading data from https://storage.googleapis.com/tensorflow/keras-applications/resnet/resnet50_weights_tf_dim_ordering_tf_kernels_notop.h5\n",
      "94773248/94765736 [==============================] - 29s 0us/step\n",
      "94781440/94765736 [==============================] - 29s 0us/step\n"
     ]
    }
   ],
   "source": [
    "base_model = keras.applications.resnet50.ResNet50(weights=\"imagenet\", include_top=False)"
   ]
  },
  {
   "cell_type": "markdown",
   "id": "ceb753a5",
   "metadata": {},
   "source": [
    "### Tunning Optimizer"
   ]
  },
  {
   "cell_type": "code",
   "execution_count": 39,
   "id": "c35a6394",
   "metadata": {},
   "outputs": [],
   "source": [
    "def transfer_learning_on_resnet():\n",
    "    avg = keras.layers.GlobalAvgPool2D()(base_model.output)\n",
    "    output = keras.layers.Dense(5, activation=\"softmax\")(avg)\n",
    "    model = keras.Model(inputs=base_model.input, outputs=output)\n",
    "    \n",
    "    model.compile(loss=keras.losses.sparse_categorical_crossentropy, \n",
    "                  optimizer=\"nadam\", \n",
    "                  metrics=keras.metrics.sparse_categorical_accuracy)\n",
    "    \n",
    "    model_target = os.path.join(BASE_DIR, \"models\", \"transfer_learning_on_resnet.h5\")\n",
    "    checkpoint_cb = keras.callbacks.ModelCheckpoint(model_target, save_best_only=True)\n",
    "    early_stop_cb = keras.callbacks.EarlyStopping(patience=10)\n",
    "    callbacks = [checkpoint_cb, early_stop_cb]\n",
    "    \n",
    "    return model, callbacks, base_model"
   ]
  },
  {
   "cell_type": "code",
   "execution_count": 40,
   "id": "f2685d65",
   "metadata": {},
   "outputs": [],
   "source": [
    "model, callbacks, base_model = transfer_learning_on_resnet()"
   ]
  },
  {
   "cell_type": "code",
   "execution_count": 41,
   "id": "19701520",
   "metadata": {},
   "outputs": [],
   "source": [
    "for layer in base_model.layers:\n",
    "    layer.trainable = False"
   ]
  },
  {
   "cell_type": "code",
   "execution_count": 44,
   "id": "62bb1dd7",
   "metadata": {},
   "outputs": [
    {
     "name": "stdout",
     "output_type": "stream",
     "text": [
      "Epoch 1/5\n",
      "97/97 [==============================] - ETA: 0s - loss: 0.8026 - sparse_categorical_accuracy: 0.6962"
     ]
    },
    {
     "name": "stderr",
     "output_type": "stream",
     "text": [
      "D:\\TheCompleteML\\env\\lib\\site-packages\\keras\\engine\\functional.py:1410: CustomMaskWarning: Custom mask layers require a config and must override get_config. When loading, the custom mask layer must be passed to the custom_objects argument.\n",
      "  layer_config = serialize_layer_fn(layer)\n"
     ]
    },
    {
     "name": "stdout",
     "output_type": "stream",
     "text": [
      "97/97 [==============================] - 283s 3s/step - loss: 0.8026 - sparse_categorical_accuracy: 0.6962 - val_loss: 0.4972 - val_sparse_categorical_accuracy: 0.8143\n",
      "Epoch 2/5\n",
      "97/97 [==============================] - 250s 3s/step - loss: 0.4719 - sparse_categorical_accuracy: 0.8299 - val_loss: 0.4191 - val_sparse_categorical_accuracy: 0.8690\n",
      "Epoch 3/5\n",
      "97/97 [==============================] - 250s 3s/step - loss: 0.4055 - sparse_categorical_accuracy: 0.8483 - val_loss: 0.3964 - val_sparse_categorical_accuracy: 0.8714\n",
      "Epoch 4/5\n",
      "97/97 [==============================] - 242s 3s/step - loss: 0.3605 - sparse_categorical_accuracy: 0.8715 - val_loss: 0.3730 - val_sparse_categorical_accuracy: 0.8833\n",
      "Epoch 5/5\n",
      "97/97 [==============================] - 146s 2s/step - loss: 0.3399 - sparse_categorical_accuracy: 0.8808 - val_loss: 0.3595 - val_sparse_categorical_accuracy: 0.8786\n"
     ]
    }
   ],
   "source": [
    "history = model.fit(train_set, \n",
    "                    epochs=5, \n",
    "                    steps_per_epoch=int(0.9*max_train_instance/batch_size),\n",
    "                    validation_data=valid_set, \n",
    "                    callbacks=callbacks)"
   ]
  },
  {
   "cell_type": "code",
   "execution_count": 48,
   "id": "a2482114",
   "metadata": {},
   "outputs": [],
   "source": [
    "def transfer_learning_on_resnet():\n",
    "    avg = keras.layers.GlobalAvgPool2D()(base_model.output)\n",
    "    output = keras.layers.Dense(5, activation=\"softmax\")(avg)\n",
    "    model = keras.Model(inputs=base_model.input, outputs=output)\n",
    "    \n",
    "    optimizer = keras.optimizers.SGD(learning_rate=2e-2, momentum=0.9, decay=0.1)\n",
    "    model.compile(loss=keras.losses.sparse_categorical_crossentropy, \n",
    "                  optimizer=optimizer,\n",
    "                  metrics=keras.metrics.sparse_categorical_accuracy)\n",
    "    \n",
    "    model_target = os.path.join(BASE_DIR, \"models\", \"transfer_learning_on_resnet.h5\")\n",
    "    checkpoint_cb = keras.callbacks.ModelCheckpoint(model_target, save_best_only=True)\n",
    "    early_stop_cb = keras.callbacks.EarlyStopping(patience=10)\n",
    "    callbacks = [checkpoint_cb, early_stop_cb]\n",
    "    \n",
    "    return model, callbacks, base_model"
   ]
  },
  {
   "cell_type": "code",
   "execution_count": 49,
   "id": "25b46e1d",
   "metadata": {},
   "outputs": [],
   "source": [
    "model, callbacks, base_model = transfer_learning_on_resnet()"
   ]
  },
  {
   "cell_type": "code",
   "execution_count": 50,
   "id": "50e6042c",
   "metadata": {},
   "outputs": [],
   "source": [
    "for layer in base_model.layers:\n",
    "    layer.trainable = False"
   ]
  },
  {
   "cell_type": "code",
   "execution_count": 51,
   "id": "282bf5e4",
   "metadata": {},
   "outputs": [
    {
     "name": "stdout",
     "output_type": "stream",
     "text": [
      "Epoch 1/5\n",
      "97/97 [==============================] - ETA: 0s - loss: 0.9586 - sparse_categorical_accuracy: 0.7568"
     ]
    },
    {
     "name": "stderr",
     "output_type": "stream",
     "text": [
      "D:\\TheCompleteML\\env\\lib\\site-packages\\keras\\engine\\functional.py:1410: CustomMaskWarning: Custom mask layers require a config and must override get_config. When loading, the custom mask layer must be passed to the custom_objects argument.\n",
      "  layer_config = serialize_layer_fn(layer)\n"
     ]
    },
    {
     "name": "stdout",
     "output_type": "stream",
     "text": [
      "97/97 [==============================] - 150s 2s/step - loss: 0.9586 - sparse_categorical_accuracy: 0.7568 - val_loss: 0.5401 - val_sparse_categorical_accuracy: 0.8595\n",
      "Epoch 2/5\n",
      "97/97 [==============================] - 147s 2s/step - loss: 0.5230 - sparse_categorical_accuracy: 0.8521 - val_loss: 0.4750 - val_sparse_categorical_accuracy: 0.8667\n",
      "Epoch 3/5\n",
      "97/97 [==============================] - 149s 2s/step - loss: 0.4292 - sparse_categorical_accuracy: 0.8660 - val_loss: 0.4569 - val_sparse_categorical_accuracy: 0.8690\n",
      "Epoch 4/5\n",
      "97/97 [==============================] - 148s 2s/step - loss: 0.4035 - sparse_categorical_accuracy: 0.8644 - val_loss: 0.4492 - val_sparse_categorical_accuracy: 0.8571\n",
      "Epoch 5/5\n",
      "97/97 [==============================] - 154s 2s/step - loss: 0.3922 - sparse_categorical_accuracy: 0.8708 - val_loss: 0.4189 - val_sparse_categorical_accuracy: 0.8762\n"
     ]
    }
   ],
   "source": [
    "history = model.fit(train_set, \n",
    "                    epochs=5, \n",
    "                    steps_per_epoch=int(0.9*max_train_instance/batch_size),\n",
    "                    validation_data=valid_set, \n",
    "                    callbacks=callbacks)"
   ]
  },
  {
   "cell_type": "code",
   "execution_count": 52,
   "id": "48ea3145",
   "metadata": {},
   "outputs": [],
   "source": [
    "def transfer_learning_on_resnet():\n",
    "    avg = keras.layers.GlobalAvgPool2D()(base_model.output)\n",
    "    output = keras.layers.Dense(5, activation=\"softmax\")(avg)\n",
    "    model = keras.Model(inputs=base_model.input, outputs=output)\n",
    "    \n",
    "    optimizer = keras.optimizers.SGD(learning_rate=2e-2, momentum=0.9)\n",
    "    model.compile(loss=keras.losses.sparse_categorical_crossentropy, \n",
    "                  optimizer=optimizer,\n",
    "                  metrics=keras.metrics.sparse_categorical_accuracy)\n",
    "    \n",
    "    model_target = os.path.join(BASE_DIR, \"models\", \"transfer_learning_on_resnet.h5\")\n",
    "    checkpoint_cb = keras.callbacks.ModelCheckpoint(model_target, save_best_only=True)\n",
    "    early_stop_cb = keras.callbacks.EarlyStopping(patience=10)\n",
    "    callbacks = [checkpoint_cb, early_stop_cb]\n",
    "    \n",
    "    return model, callbacks, base_model"
   ]
  },
  {
   "cell_type": "code",
   "execution_count": 53,
   "id": "ea0a804d",
   "metadata": {},
   "outputs": [],
   "source": [
    "model, callbacks, base_model = transfer_learning_on_resnet()"
   ]
  },
  {
   "cell_type": "code",
   "execution_count": 54,
   "id": "3fd1dd2b",
   "metadata": {},
   "outputs": [],
   "source": [
    "for layer in base_model.layers:\n",
    "    layer.trainable = False"
   ]
  },
  {
   "cell_type": "code",
   "execution_count": 55,
   "id": "561e4ab9",
   "metadata": {},
   "outputs": [
    {
     "name": "stdout",
     "output_type": "stream",
     "text": [
      "Epoch 1/5\n",
      "97/97 [==============================] - 152s 2s/step - loss: 1.1843 - sparse_categorical_accuracy: 0.7539 - val_loss: 0.8397 - val_sparse_categorical_accuracy: 0.8333\n",
      "Epoch 2/5\n",
      "97/97 [==============================] - 146s 2s/step - loss: 1.0154 - sparse_categorical_accuracy: 0.8196 - val_loss: 1.2575 - val_sparse_categorical_accuracy: 0.7952\n",
      "Epoch 3/5\n",
      "97/97 [==============================] - 146s 2s/step - loss: 1.0368 - sparse_categorical_accuracy: 0.8296 - val_loss: 1.1101 - val_sparse_categorical_accuracy: 0.8381\n",
      "Epoch 4/5\n",
      "97/97 [==============================] - 148s 2s/step - loss: 0.8775 - sparse_categorical_accuracy: 0.8524 - val_loss: 1.1872 - val_sparse_categorical_accuracy: 0.8262\n",
      "Epoch 5/5\n",
      "97/97 [==============================] - 147s 2s/step - loss: 0.9991 - sparse_categorical_accuracy: 0.8344 - val_loss: 1.4196 - val_sparse_categorical_accuracy: 0.8286\n"
     ]
    }
   ],
   "source": [
    "history = model.fit(train_set, \n",
    "                    epochs=5, \n",
    "                    steps_per_epoch=int(0.9*max_train_instance/batch_size),\n",
    "                    validation_data=valid_set, \n",
    "                    callbacks=callbacks)"
   ]
  },
  {
   "cell_type": "code",
   "execution_count": 56,
   "id": "8ab92dcf",
   "metadata": {},
   "outputs": [],
   "source": [
    "def transfer_learning_on_resnet():\n",
    "    avg = keras.layers.GlobalAvgPool2D()(base_model.output)\n",
    "    output = keras.layers.Dense(5, activation=\"softmax\")(avg)\n",
    "    model = keras.Model(inputs=base_model.input, outputs=output)\n",
    "    \n",
    "    optimizer = keras.optimizers.RMSprop(learning_rate=0.01, rho=0.9)\n",
    "    model.compile(loss=keras.losses.sparse_categorical_crossentropy, \n",
    "                  optimizer=optimizer, \n",
    "                  metrics=keras.metrics.sparse_categorical_accuracy)\n",
    "    \n",
    "    model_target = os.path.join(BASE_DIR, \"models\", \"transfer_learning_on_resnet.h5\")\n",
    "    checkpoint_cb = keras.callbacks.ModelCheckpoint(model_target, save_best_only=True)\n",
    "    early_stop_cb = keras.callbacks.EarlyStopping(patience=10)\n",
    "    callbacks = [checkpoint_cb, early_stop_cb]\n",
    "    \n",
    "    return model, callbacks, base_model"
   ]
  },
  {
   "cell_type": "code",
   "execution_count": 57,
   "id": "abbfd3bd",
   "metadata": {},
   "outputs": [],
   "source": [
    "model, callbacks, base_model = transfer_learning_on_resnet()"
   ]
  },
  {
   "cell_type": "code",
   "execution_count": 58,
   "id": "bf396965",
   "metadata": {},
   "outputs": [],
   "source": [
    "for layer in base_model.layers:\n",
    "    layer.trainable = False"
   ]
  },
  {
   "cell_type": "code",
   "execution_count": 59,
   "id": "55815890",
   "metadata": {},
   "outputs": [
    {
     "name": "stdout",
     "output_type": "stream",
     "text": [
      "Epoch 1/5\n",
      "97/97 [==============================] - ETA: 0s - loss: 2.3875 - sparse_categorical_accuracy: 0.6678"
     ]
    },
    {
     "name": "stderr",
     "output_type": "stream",
     "text": [
      "D:\\TheCompleteML\\env\\lib\\site-packages\\keras\\engine\\functional.py:1410: CustomMaskWarning: Custom mask layers require a config and must override get_config. When loading, the custom mask layer must be passed to the custom_objects argument.\n",
      "  layer_config = serialize_layer_fn(layer)\n"
     ]
    },
    {
     "name": "stdout",
     "output_type": "stream",
     "text": [
      "97/97 [==============================] - 270s 3s/step - loss: 2.3875 - sparse_categorical_accuracy: 0.6678 - val_loss: 0.6766 - val_sparse_categorical_accuracy: 0.8548\n",
      "Epoch 2/5\n",
      "97/97 [==============================] - 203s 2s/step - loss: 1.3788 - sparse_categorical_accuracy: 0.7874 - val_loss: 0.8960 - val_sparse_categorical_accuracy: 0.8500\n",
      "Epoch 3/5\n",
      "97/97 [==============================] - 274s 3s/step - loss: 1.3297 - sparse_categorical_accuracy: 0.7980 - val_loss: 1.4540 - val_sparse_categorical_accuracy: 0.7857\n",
      "Epoch 4/5\n",
      "97/97 [==============================] - 243s 3s/step - loss: 1.1636 - sparse_categorical_accuracy: 0.8202 - val_loss: 0.8659 - val_sparse_categorical_accuracy: 0.8786\n",
      "Epoch 5/5\n",
      "97/97 [==============================] - 261s 3s/step - loss: 1.0530 - sparse_categorical_accuracy: 0.8299 - val_loss: 0.9979 - val_sparse_categorical_accuracy: 0.8500\n"
     ]
    }
   ],
   "source": [
    "history = model.fit(train_set, \n",
    "                    epochs=5, \n",
    "                    steps_per_epoch=int(0.9*max_train_instance/batch_size),\n",
    "                    validation_data=valid_set, \n",
    "                    callbacks=callbacks)"
   ]
  },
  {
   "cell_type": "markdown",
   "id": "1649d078",
   "metadata": {},
   "source": [
    "##### Observations\n",
    "\n",
    "Nadam outperforms all the other optimizers. We choose it to have more fine tunning other variables and parameters."
   ]
  },
  {
   "cell_type": "code",
   "execution_count": 60,
   "id": "6dae5a81",
   "metadata": {},
   "outputs": [],
   "source": [
    "K = keras.backend\n",
    "\n",
    "class ExponentialLearningRate(keras.callbacks.Callback):\n",
    "    def __init__(self, factor):\n",
    "        self.factor = factor\n",
    "        self.rates = []\n",
    "        self.losses = []\n",
    "        \n",
    "    def on_batch_end(self, batch, logs):\n",
    "        lr = K.get_value(self.model.optimizer.learning_rate)\n",
    "        self.rates.append(lr)\n",
    "        self.losses.append(logs[\"loss\"])\n",
    "        K.set_value(self.model.optimizer.learning_rate, lr*self.factor)\n",
    "        \n",
    "def find_learnig_rate(model, train_set, epochs=1, batch_size=32, min_rate=1e-5, max_rate=10):\n",
    "    init_weights = model.get_weights()\n",
    "    init_lr = K.get_value(model.optimizer.learning_rate)\n",
    "    iterations = np.math.ceil(0.85 * max_train_instance / batch_size) * epochs\n",
    "    factor = np.exp(np.log(max_rate / min_rate) / iterations)\n",
    "    exp_lr = ExponentialLearningRate(factor)\n",
    "    history = model.fit(train_set, \n",
    "                        epochs=epochs, \n",
    "                        steps_per_epoch=int(0.85 * max_train_instance / batch_size),\n",
    "                        batch_size=batch_size, \n",
    "                        callbacks=[exp_lr])\n",
    "    model.set_weights(init_weights)\n",
    "    K.set_value(model.optimizer.learning_rate, init_lr)\n",
    "    return exp_lr.rates, exp_lr.losses\n",
    "\n",
    "def plot_rates_vs_losses(rates, losses):\n",
    "    plt.plot(rates, losses)\n",
    "    plt.gca().set_xscale('log')\n",
    "    plt.hlines(min(losses), min(rates), max(rates))\n",
    "    plt.axis([min(rates), max(rates), min(losses), (losses[0] + min(losses)) / 2])\n",
    "    plt.xlabel(\"Learning rate\")\n",
    "    plt.ylabel(\"Loss\")"
   ]
  },
  {
   "cell_type": "code",
   "execution_count": 61,
   "id": "34cab450",
   "metadata": {},
   "outputs": [],
   "source": [
    "class OneCycleScheduler(keras.callbacks.Callback):\n",
    "    def __init__(self, iterations, max_rate, start_rate=None,\n",
    "                 last_iterations=None, last_rate=None):\n",
    "        self.iterations = iterations\n",
    "        self.max_rate = max_rate\n",
    "        self.start_rate = start_rate or max_rate / 10\n",
    "        self.last_iterations = last_iterations or iterations // 10 + 1\n",
    "        self.half_iteration = (iterations - self.last_iterations) // 2\n",
    "        self.last_rate = last_rate or self.start_rate / 1000\n",
    "        self.iteration = 0\n",
    "    def _interpolate(self, iter1, iter2, rate1, rate2):\n",
    "        return ((rate2 - rate1) * (self.iteration - iter1)\n",
    "                / (iter2 - iter1) + rate1)\n",
    "    def on_batch_begin(self, batch, logs):\n",
    "        if self.iteration < self.half_iteration:\n",
    "            rate = self._interpolate(0, self.half_iteration, self.start_rate, self.max_rate)\n",
    "        elif self.iteration < 2 * self.half_iteration:\n",
    "            rate = self._interpolate(self.half_iteration, 2 * self.half_iteration,\n",
    "                                     self.max_rate, self.start_rate)\n",
    "        else:\n",
    "            rate = self._interpolate(2 * self.half_iteration, self.iterations,\n",
    "                                     self.start_rate, self.last_rate)\n",
    "        self.iteration += 1\n",
    "        K.set_value(self.model.optimizer.learning_rate, rate)"
   ]
  },
  {
   "cell_type": "code",
   "execution_count": 62,
   "id": "e1808d1c",
   "metadata": {},
   "outputs": [],
   "source": [
    "keras.backend.clear_session()\n",
    "np.random.seed(42)\n",
    "tf.random.set_seed(42)\n",
    "\n",
    "\n",
    "def cnn_mp_r3_de_v2():\n",
    "    \"\"\"\n",
    "    name ecodes the model architecture\n",
    "    cnn followed by max pooling repeated three times, followed by dense layer\n",
    "    changes:\n",
    "            dense layer size increased to 128\n",
    "            he_normal initilizatin is implemented\n",
    "    \"\"\"\n",
    "\n",
    "    model = keras.models.Sequential()\n",
    "    model.add(keras.layers.Conv2D(64, kernel_size=5, \n",
    "                                  strides=2, padding=\"same\", \n",
    "                                  use_bias=False, \n",
    "                                  input_shape=[dims[0], dims[0], channels],\n",
    "                                  kernel_initializer=\"he_normal\",\n",
    "                                  activation=\"relu\"))\n",
    "    model.add(keras.layers.MaxPool2D(pool_size=2))\n",
    "    model.add(keras.layers.Conv2D(128, kernel_size=3, \n",
    "                                  strides=1, padding=\"same\", \n",
    "                                  use_bias=False,\n",
    "                                  kernel_initializer=\"he_normal\",\n",
    "                                  activation=\"relu\"))\n",
    "    model.add(keras.layers.MaxPool2D(pool_size=2))\n",
    "    model.add(keras.layers.Conv2D(256, kernel_size=3, \n",
    "                                  strides=1, padding=\"same\", \n",
    "                                  use_bias=False,\n",
    "                                  kernel_initializer=\"he_normal\",\n",
    "                                  activation=\"relu\"))\n",
    "    model.add(keras.layers.MaxPool2D(pool_size=2))\n",
    "    model.add(keras.layers.Flatten())\n",
    "    model.add(keras.layers.Dropout(0.3))\n",
    "    model.add(keras.layers.Dense(128, activation=\"relu\"))\n",
    "    model.add(keras.layers.Dropout(0.3))\n",
    "    model.add(keras.layers.Dense(5, activation=\"softmax\"))\n",
    "        \n",
    "    model_target = os.path.join(BASE_DIR, \"models\", \"cnn_mp_r3_de_v2.h5\")\n",
    "    checkpoint_cb = keras.callbacks.ModelCheckpoint(model_target, save_best_only=True)\n",
    "    early_stop_cb = keras.callbacks.EarlyStopping(patience=10)\n",
    "    callbacks = [checkpoint_cb, early_stop_cb]\n",
    "    \n",
    "    return model, callbacks"
   ]
  },
  {
   "cell_type": "code",
   "execution_count": 64,
   "id": "cdb1a697",
   "metadata": {},
   "outputs": [],
   "source": [
    "def compile_model(model):\n",
    "    model.compile(loss=keras.losses.sparse_categorical_crossentropy, \n",
    "                  optimizer=\"nadam\", \n",
    "                  metrics=keras.metrics.sparse_categorical_accuracy)"
   ]
  },
  {
   "cell_type": "markdown",
   "id": "de88c08b",
   "metadata": {},
   "source": [
    "##### Note\n",
    "\n",
    "Image should resized as per need of model"
   ]
  },
  {
   "cell_type": "code",
   "execution_count": 151,
   "id": "5e60257c",
   "metadata": {},
   "outputs": [],
   "source": [
    "n_readers = 5\n",
    "shuffle_buffer_size = 400\n",
    "n_read_threads = None\n",
    "n_parse_threads = 5\n",
    "batch_size = 32\n",
    "resize = (150, 150)\n",
    "\n",
    "train_set = read_csv_pipeline_tran_ler(train_paths, \n",
    "                              n_readers, \n",
    "                              shuffle_buffer_size, \n",
    "                              n_read_threads, \n",
    "                              n_parse_threads, \n",
    "                              batch_size, \n",
    "                              augmentation=True,\n",
    "                              resize=resize)\n",
    "\n",
    "valid_set = read_csv_pipeline_tran_ler(valid_paths, \n",
    "                              n_readers, \n",
    "                              shuffle_buffer_size, \n",
    "                              n_read_threads, \n",
    "                              n_parse_threads, \n",
    "                              batch_size, \n",
    "                              augmentation=False,\n",
    "                              resize=resize)\n",
    "\n",
    "test_set = read_csv_pipeline_tran_ler(test_paths, \n",
    "                             n_readers, \n",
    "                             shuffle_buffer_size, \n",
    "                             n_read_threads, \n",
    "                             n_parse_threads, \n",
    "                             batch_size, \n",
    "                             augmentation=False,\n",
    "                             resize=resize)"
   ]
  },
  {
   "cell_type": "markdown",
   "id": "942dfd19",
   "metadata": {},
   "source": [
    "##### Note\n",
    "\n",
    "Max learning rate is choosen from flowers2 configuration"
   ]
  },
  {
   "cell_type": "code",
   "execution_count": 65,
   "id": "b90bd396",
   "metadata": {},
   "outputs": [],
   "source": [
    "model, callbacks = cnn_mp_r3_de_v2()\n",
    "\n",
    "steps_factor = 0.85\n",
    "epochs = 5\n",
    "max_learning_rate = 0.2\n",
    "one_cycle_cb = OneCycleScheduler(int(steps_factor * max_train_instance / batch_size) * epochs, max_rate=max_learning_rate)\n",
    "\n",
    "callbacks.append(one_cycle_cb)"
   ]
  },
  {
   "cell_type": "code",
   "execution_count": 70,
   "id": "0829f39d",
   "metadata": {},
   "outputs": [
    {
     "name": "stdout",
     "output_type": "stream",
     "text": [
      "Epoch 1/5\n",
      "97/97 [==============================] - 129s 1s/step - loss: 8550.7188 - sparse_categorical_accuracy: 0.2358 - val_loss: 1.6065 - val_sparse_categorical_accuracy: 0.2396\n",
      "Epoch 2/5\n",
      "97/97 [==============================] - 132s 1s/step - loss: 1.5977 - sparse_categorical_accuracy: 0.2358 - val_loss: 1.6193 - val_sparse_categorical_accuracy: 0.1797\n",
      "Epoch 3/5\n",
      "97/97 [==============================] - 125s 1s/step - loss: 1.6072 - sparse_categorical_accuracy: 0.2178 - val_loss: 1.6264 - val_sparse_categorical_accuracy: 0.1667\n",
      "Epoch 4/5\n",
      "97/97 [==============================] - 120s 1s/step - loss: 1.5963 - sparse_categorical_accuracy: 0.2494 - val_loss: 1.5996 - val_sparse_categorical_accuracy: 0.2500\n",
      "Epoch 5/5\n",
      "97/97 [==============================] - 120s 1s/step - loss: 1.6052 - sparse_categorical_accuracy: 0.2345 - val_loss: 1.6165 - val_sparse_categorical_accuracy: 0.1875\n"
     ]
    }
   ],
   "source": [
    "compile_model(model)\n",
    "\n",
    "history = model.fit(train_set, \n",
    "                    epochs=5, \n",
    "                    steps_per_epoch=int(0.9 * max_train_instance / batch_size),\n",
    "                    validation_data=valid_set, \n",
    "                    validation_steps=int(0.9 * max_valid_instance / batch_size),\n",
    "                    callbacks=callbacks)"
   ]
  },
  {
   "cell_type": "code",
   "execution_count": 74,
   "id": "bdda03ca",
   "metadata": {},
   "outputs": [],
   "source": [
    "model, callbacks = cnn_mp_r3_de_v2()\n",
    "\n",
    "steps_factor = 0.85\n",
    "epochs = 5\n",
    "max_learning_rate = 0.08\n",
    "one_cycle_cb = OneCycleScheduler(int(steps_factor * max_train_instance / batch_size) * epochs, max_rate=max_learning_rate)\n",
    "\n",
    "callbacks.append(one_cycle_cb)"
   ]
  },
  {
   "cell_type": "code",
   "execution_count": 75,
   "id": "c66ef5eb",
   "metadata": {},
   "outputs": [
    {
     "name": "stdout",
     "output_type": "stream",
     "text": [
      "Epoch 1/5\n",
      "97/97 [==============================] - 126s 1s/step - loss: 828.3959 - sparse_categorical_accuracy: 0.2780 - val_loss: 1.5161 - val_sparse_categorical_accuracy: 0.3984\n",
      "Epoch 2/5\n",
      "97/97 [==============================] - 134s 1s/step - loss: 1.5909 - sparse_categorical_accuracy: 0.2832 - val_loss: 1.6046 - val_sparse_categorical_accuracy: 0.2396\n",
      "Epoch 3/5\n",
      "97/97 [==============================] - 124s 1s/step - loss: 1.6096 - sparse_categorical_accuracy: 0.2294 - val_loss: 1.6049 - val_sparse_categorical_accuracy: 0.2422\n",
      "Epoch 4/5\n",
      "97/97 [==============================] - 120s 1s/step - loss: 1.5868 - sparse_categorical_accuracy: 0.2606 - val_loss: 1.6052 - val_sparse_categorical_accuracy: 0.2422\n",
      "Epoch 5/5\n",
      "97/97 [==============================] - 120s 1s/step - loss: 1.6129 - sparse_categorical_accuracy: 0.2023 - val_loss: 1.6046 - val_sparse_categorical_accuracy: 0.2344\n"
     ]
    }
   ],
   "source": [
    "compile_model(model)\n",
    "\n",
    "history = model.fit(train_set, \n",
    "                    epochs=5, \n",
    "                    steps_per_epoch=int(0.9 * max_train_instance / batch_size),\n",
    "                    validation_data=valid_set, \n",
    "                    validation_steps=int(0.9 * max_valid_instance / batch_size),\n",
    "                    callbacks=callbacks)"
   ]
  },
  {
   "cell_type": "markdown",
   "id": "a1a77a7d",
   "metadata": {},
   "source": [
    "##### Observations\n",
    "\n",
    "From combine observations of flower and flower2 it is quite clear that model converge well enough when learning rate is at around defalut 0.001, so we can do some experiments for that value"
   ]
  },
  {
   "cell_type": "code",
   "execution_count": 76,
   "id": "e387fe41",
   "metadata": {},
   "outputs": [],
   "source": [
    "model, callbacks = cnn_mp_r3_de_v2()\n",
    "\n",
    "steps_factor = 0.85\n",
    "epochs = 5\n",
    "max_learning_rate = 0.02\n",
    "one_cycle_cb = OneCycleScheduler(int(steps_factor * max_train_instance / batch_size) * epochs, max_rate=max_learning_rate)\n",
    "\n",
    "callbacks.append(one_cycle_cb)"
   ]
  },
  {
   "cell_type": "code",
   "execution_count": 77,
   "id": "bacb607b",
   "metadata": {},
   "outputs": [
    {
     "name": "stdout",
     "output_type": "stream",
     "text": [
      "Epoch 1/5\n",
      "97/97 [==============================] - 127s 1s/step - loss: 79.0324 - sparse_categorical_accuracy: 0.2423 - val_loss: 1.6062 - val_sparse_categorical_accuracy: 0.2240\n",
      "Epoch 2/5\n",
      "97/97 [==============================] - 121s 1s/step - loss: 14703.5732 - sparse_categorical_accuracy: 0.2361 - val_loss: 1.5979 - val_sparse_categorical_accuracy: 0.2526\n",
      "Epoch 3/5\n",
      "97/97 [==============================] - 122s 1s/step - loss: 2.8260 - sparse_categorical_accuracy: 0.2181 - val_loss: 1.6033 - val_sparse_categorical_accuracy: 0.2422\n",
      "Epoch 4/5\n",
      "97/97 [==============================] - 118s 1s/step - loss: 1.5972 - sparse_categorical_accuracy: 0.2545 - val_loss: 1.6032 - val_sparse_categorical_accuracy: 0.2396\n",
      "Epoch 5/5\n",
      "97/97 [==============================] - 119s 1s/step - loss: 1.5946 - sparse_categorical_accuracy: 0.2513 - val_loss: 1.6041 - val_sparse_categorical_accuracy: 0.2344\n"
     ]
    }
   ],
   "source": [
    "compile_model(model)\n",
    "\n",
    "history = model.fit(train_set, \n",
    "                    epochs=5, \n",
    "                    steps_per_epoch=int(0.9 * max_train_instance / batch_size),\n",
    "                    validation_data=valid_set, \n",
    "                    validation_steps=int(0.9 * max_valid_instance / batch_size),\n",
    "                    callbacks=callbacks)"
   ]
  },
  {
   "cell_type": "markdown",
   "id": "2af0a700",
   "metadata": {},
   "source": [
    "##### Observations\n",
    "\n",
    "For nadam optimizer once cycle scheduling should be done with learning rate as well as momentum parameter to get better result. As of now, swithc to default params for nadam and just run for 25 epochs"
   ]
  },
  {
   "cell_type": "code",
   "execution_count": 79,
   "id": "82bcbb1d",
   "metadata": {},
   "outputs": [],
   "source": [
    "steps_factor = 0.85\n",
    "epochs = 25\n",
    "model, callbacks = cnn_mp_r3_de_v2()\n",
    "compile_model(model)"
   ]
  },
  {
   "cell_type": "code",
   "execution_count": 80,
   "id": "15b1d346",
   "metadata": {},
   "outputs": [
    {
     "name": "stdout",
     "output_type": "stream",
     "text": [
      "Epoch 1/25\n",
      "91/91 [==============================] - 158s 2s/step - loss: 61.9759 - sparse_categorical_accuracy: 0.2902 - val_loss: 1.5551 - val_sparse_categorical_accuracy: 0.3119\n",
      "Epoch 2/25\n",
      "91/91 [==============================] - 152s 2s/step - loss: 1.5799 - sparse_categorical_accuracy: 0.3190 - val_loss: 1.4578 - val_sparse_categorical_accuracy: 0.3929\n",
      "Epoch 3/25\n",
      "91/91 [==============================] - 151s 2s/step - loss: 1.5811 - sparse_categorical_accuracy: 0.3019 - val_loss: 1.5419 - val_sparse_categorical_accuracy: 0.3262\n",
      "Epoch 4/25\n",
      "91/91 [==============================] - 148s 2s/step - loss: 1.4924 - sparse_categorical_accuracy: 0.3420 - val_loss: 1.4057 - val_sparse_categorical_accuracy: 0.3429\n",
      "Epoch 5/25\n",
      "91/91 [==============================] - 165s 2s/step - loss: 1.4980 - sparse_categorical_accuracy: 0.3410 - val_loss: 1.3787 - val_sparse_categorical_accuracy: 0.3857\n",
      "Epoch 6/25\n",
      "91/91 [==============================] - 150s 2s/step - loss: 1.4508 - sparse_categorical_accuracy: 0.3506 - val_loss: 1.4044 - val_sparse_categorical_accuracy: 0.3905\n",
      "Epoch 7/25\n",
      "91/91 [==============================] - 151s 2s/step - loss: 1.4718 - sparse_categorical_accuracy: 0.3589 - val_loss: 1.3837 - val_sparse_categorical_accuracy: 0.3381\n",
      "Epoch 8/25\n",
      "91/91 [==============================] - 151s 2s/step - loss: 1.4176 - sparse_categorical_accuracy: 0.3578 - val_loss: 1.3848 - val_sparse_categorical_accuracy: 0.3833\n",
      "Epoch 9/25\n",
      "91/91 [==============================] - 145s 2s/step - loss: 1.3880 - sparse_categorical_accuracy: 0.3860 - val_loss: 1.2856 - val_sparse_categorical_accuracy: 0.4310\n",
      "Epoch 10/25\n",
      "91/91 [==============================] - 143s 2s/step - loss: 1.3577 - sparse_categorical_accuracy: 0.4090 - val_loss: 1.3417 - val_sparse_categorical_accuracy: 0.4643\n",
      "Epoch 11/25\n",
      "91/91 [==============================] - 139s 2s/step - loss: 1.3751 - sparse_categorical_accuracy: 0.3970 - val_loss: 1.3273 - val_sparse_categorical_accuracy: 0.4048\n",
      "Epoch 12/25\n",
      "91/91 [==============================] - 138s 2s/step - loss: 1.3901 - sparse_categorical_accuracy: 0.4032 - val_loss: 1.3063 - val_sparse_categorical_accuracy: 0.4405\n",
      "Epoch 13/25\n",
      "91/91 [==============================] - 138s 2s/step - loss: 1.3640 - sparse_categorical_accuracy: 0.4049 - val_loss: 1.2842 - val_sparse_categorical_accuracy: 0.4690\n",
      "Epoch 14/25\n",
      "91/91 [==============================] - 138s 2s/step - loss: 1.3085 - sparse_categorical_accuracy: 0.4258 - val_loss: 1.2137 - val_sparse_categorical_accuracy: 0.4571\n",
      "Epoch 15/25\n",
      "91/91 [==============================] - 135s 1s/step - loss: 1.3598 - sparse_categorical_accuracy: 0.4224 - val_loss: 1.2334 - val_sparse_categorical_accuracy: 0.4524\n",
      "Epoch 16/25\n",
      "91/91 [==============================] - 135s 1s/step - loss: 1.3318 - sparse_categorical_accuracy: 0.4306 - val_loss: 1.2176 - val_sparse_categorical_accuracy: 0.4690\n",
      "Epoch 17/25\n",
      "91/91 [==============================] - 137s 2s/step - loss: 1.2914 - sparse_categorical_accuracy: 0.4437 - val_loss: 1.2117 - val_sparse_categorical_accuracy: 0.4429\n",
      "Epoch 18/25\n",
      "91/91 [==============================] - 137s 2s/step - loss: 1.3276 - sparse_categorical_accuracy: 0.4310 - val_loss: 1.1948 - val_sparse_categorical_accuracy: 0.5333\n",
      "Epoch 19/25\n",
      "91/91 [==============================] - 136s 2s/step - loss: 1.3056 - sparse_categorical_accuracy: 0.4337 - val_loss: 1.1895 - val_sparse_categorical_accuracy: 0.4881\n",
      "Epoch 20/25\n",
      "91/91 [==============================] - 137s 2s/step - loss: 1.2701 - sparse_categorical_accuracy: 0.4536 - val_loss: 1.1671 - val_sparse_categorical_accuracy: 0.4762\n",
      "Epoch 21/25\n",
      "91/91 [==============================] - 138s 2s/step - loss: 1.2678 - sparse_categorical_accuracy: 0.4488 - val_loss: 1.1620 - val_sparse_categorical_accuracy: 0.5000\n",
      "Epoch 22/25\n",
      "91/91 [==============================] - 135s 1s/step - loss: 1.2301 - sparse_categorical_accuracy: 0.4873 - val_loss: 1.2000 - val_sparse_categorical_accuracy: 0.4595\n",
      "Epoch 23/25\n",
      "91/91 [==============================] - 137s 2s/step - loss: 1.2399 - sparse_categorical_accuracy: 0.4749 - val_loss: 1.1165 - val_sparse_categorical_accuracy: 0.5238\n",
      "Epoch 24/25\n",
      "91/91 [==============================] - 137s 2s/step - loss: 1.2308 - sparse_categorical_accuracy: 0.4729 - val_loss: 1.1486 - val_sparse_categorical_accuracy: 0.4976\n",
      "Epoch 25/25\n",
      "91/91 [==============================] - 137s 2s/step - loss: 1.2106 - sparse_categorical_accuracy: 0.4979 - val_loss: 1.1072 - val_sparse_categorical_accuracy: 0.5214\n"
     ]
    }
   ],
   "source": [
    "history = model.fit(train_set, \n",
    "                    epochs=epochs, \n",
    "                    steps_per_epoch=int(steps_factor * max_train_instance / batch_size),\n",
    "                    validation_data=valid_set, \n",
    "                    callbacks=callbacks)"
   ]
  },
  {
   "cell_type": "markdown",
   "id": "3cc4d4c1",
   "metadata": {},
   "source": [
    "##### Note\n",
    "\n",
    "Let's have some experiments with learning rate on this model. Make sure not to overwrite save model."
   ]
  },
  {
   "cell_type": "code",
   "execution_count": 87,
   "id": "eb7acd74",
   "metadata": {},
   "outputs": [],
   "source": [
    "model_target = os.path.join(BASE_DIR, \"models\", \"cnn_mp_r3_de_v22.h5\")\n",
    "checkpoint_cb = keras.callbacks.ModelCheckpoint(model_target, save_best_only=True)\n",
    "early_stop_cb = keras.callbacks.EarlyStopping(patience=10)\n",
    "callbacks = [checkpoint_cb, early_stop_cb]"
   ]
  },
  {
   "cell_type": "code",
   "execution_count": 91,
   "id": "3905943e",
   "metadata": {},
   "outputs": [
    {
     "name": "stdout",
     "output_type": "stream",
     "text": [
      "Epoch 26/50\n",
      "91/91 [==============================] - 159s 2s/step - loss: 1.3652 - sparse_categorical_accuracy: 0.4440 - val_loss: 1.1785 - val_sparse_categorical_accuracy: 0.4976\n",
      "Epoch 27/50\n",
      "91/91 [==============================] - 172s 2s/step - loss: 1.2372 - sparse_categorical_accuracy: 0.4821 - val_loss: 1.1138 - val_sparse_categorical_accuracy: 0.5310\n",
      "Epoch 28/50\n",
      "91/91 [==============================] - 157s 2s/step - loss: 1.2188 - sparse_categorical_accuracy: 0.4876 - val_loss: 1.1001 - val_sparse_categorical_accuracy: 0.5381\n",
      "Epoch 29/50\n",
      "91/91 [==============================] - 155s 2s/step - loss: 1.2424 - sparse_categorical_accuracy: 0.4722 - val_loss: 1.0609 - val_sparse_categorical_accuracy: 0.5452\n",
      "Epoch 30/50\n",
      "91/91 [==============================] - 157s 2s/step - loss: 1.2562 - sparse_categorical_accuracy: 0.4595 - val_loss: 1.0688 - val_sparse_categorical_accuracy: 0.5381\n",
      "Epoch 31/50\n",
      "91/91 [==============================] - 155s 2s/step - loss: 1.1975 - sparse_categorical_accuracy: 0.5196 - val_loss: 1.0048 - val_sparse_categorical_accuracy: 0.5500\n",
      "Epoch 32/50\n",
      "91/91 [==============================] - 154s 2s/step - loss: 1.1875 - sparse_categorical_accuracy: 0.4983 - val_loss: 1.0388 - val_sparse_categorical_accuracy: 0.5500\n",
      "Epoch 33/50\n",
      "91/91 [==============================] - 158s 2s/step - loss: 1.1779 - sparse_categorical_accuracy: 0.5137 - val_loss: 1.0395 - val_sparse_categorical_accuracy: 0.5286\n",
      "Epoch 34/50\n",
      "91/91 [==============================] - 152s 2s/step - loss: 1.1949 - sparse_categorical_accuracy: 0.5106 - val_loss: 1.0672 - val_sparse_categorical_accuracy: 0.5333\n",
      "Epoch 35/50\n",
      "91/91 [==============================] - 152s 2s/step - loss: 1.1743 - sparse_categorical_accuracy: 0.5165 - val_loss: 1.0967 - val_sparse_categorical_accuracy: 0.5714\n",
      "Epoch 36/50\n",
      "91/91 [==============================] - 149s 2s/step - loss: 1.1580 - sparse_categorical_accuracy: 0.5206 - val_loss: 1.0241 - val_sparse_categorical_accuracy: 0.5357\n",
      "Epoch 37/50\n",
      "91/91 [==============================] - 153s 2s/step - loss: 1.1324 - sparse_categorical_accuracy: 0.5282 - val_loss: 1.0267 - val_sparse_categorical_accuracy: 0.5619\n",
      "Epoch 38/50\n",
      "91/91 [==============================] - 152s 2s/step - loss: 1.1783 - sparse_categorical_accuracy: 0.5192 - val_loss: 0.9932 - val_sparse_categorical_accuracy: 0.5548\n",
      "Epoch 39/50\n",
      "91/91 [==============================] - 162s 2s/step - loss: 1.1687 - sparse_categorical_accuracy: 0.5127 - val_loss: 0.9962 - val_sparse_categorical_accuracy: 0.5738\n",
      "Epoch 40/50\n",
      "91/91 [==============================] - 149s 2s/step - loss: 1.1299 - sparse_categorical_accuracy: 0.5488 - val_loss: 0.9889 - val_sparse_categorical_accuracy: 0.5905\n",
      "Epoch 41/50\n",
      "91/91 [==============================] - 148s 2s/step - loss: 1.1162 - sparse_categorical_accuracy: 0.5402 - val_loss: 0.9339 - val_sparse_categorical_accuracy: 0.6095\n",
      "Epoch 42/50\n",
      "91/91 [==============================] - 150s 2s/step - loss: 1.1179 - sparse_categorical_accuracy: 0.5312 - val_loss: 0.9370 - val_sparse_categorical_accuracy: 0.5667\n",
      "Epoch 43/50\n",
      "91/91 [==============================] - 148s 2s/step - loss: 1.1109 - sparse_categorical_accuracy: 0.5422 - val_loss: 0.9751 - val_sparse_categorical_accuracy: 0.5429\n",
      "Epoch 44/50\n",
      "91/91 [==============================] - 146s 2s/step - loss: 1.1120 - sparse_categorical_accuracy: 0.5649 - val_loss: 0.9812 - val_sparse_categorical_accuracy: 0.5952\n",
      "Epoch 45/50\n",
      "91/91 [==============================] - 147s 2s/step - loss: 1.0904 - sparse_categorical_accuracy: 0.5680 - val_loss: 0.9547 - val_sparse_categorical_accuracy: 0.5714\n",
      "Epoch 46/50\n",
      "91/91 [==============================] - 144s 2s/step - loss: 1.1827 - sparse_categorical_accuracy: 0.5594 - val_loss: 1.5436 - val_sparse_categorical_accuracy: 0.3667\n",
      "Epoch 47/50\n",
      "91/91 [==============================] - 147s 2s/step - loss: 1.2373 - sparse_categorical_accuracy: 0.4753 - val_loss: 1.0303 - val_sparse_categorical_accuracy: 0.5762\n",
      "Epoch 48/50\n",
      "91/91 [==============================] - 144s 2s/step - loss: 1.1185 - sparse_categorical_accuracy: 0.5563 - val_loss: 1.0314 - val_sparse_categorical_accuracy: 0.5810\n",
      "Epoch 49/50\n",
      "91/91 [==============================] - 150s 2s/step - loss: 1.1083 - sparse_categorical_accuracy: 0.5549 - val_loss: 0.9925 - val_sparse_categorical_accuracy: 0.5857\n",
      "Epoch 50/50\n",
      "91/91 [==============================] - 151s 2s/step - loss: 1.1001 - sparse_categorical_accuracy: 0.5683 - val_loss: 0.9538 - val_sparse_categorical_accuracy: 0.6048\n"
     ]
    }
   ],
   "source": [
    "epochs = 50\n",
    "history = model.fit(train_set, \n",
    "                    epochs=epochs, \n",
    "                    steps_per_epoch=int(steps_factor * max_train_instance / batch_size),\n",
    "                    validation_data=valid_set, \n",
    "                    callbacks=callbacks,\n",
    "                    initial_epoch=25)"
   ]
  },
  {
   "cell_type": "markdown",
   "id": "a2e9fabe",
   "metadata": {},
   "source": [
    "##### Note\n",
    "\n",
    "It is saved as 'cnn_mp_r3_de_v22' file for future use"
   ]
  },
  {
   "cell_type": "markdown",
   "id": "9d83f81f",
   "metadata": {},
   "source": [
    "### Let's have some experiment with learnig rate"
   ]
  },
  {
   "cell_type": "code",
   "execution_count": 140,
   "id": "dc65b2c7",
   "metadata": {},
   "outputs": [],
   "source": [
    "model_target = os.path.join(BASE_DIR, \"models\", \"cnn_mp_r3_de_v22.h5\")\n",
    "load_model = keras.models.load_model(model_target)\n",
    "model = keras.models.clone_model(load_model)\n",
    "model.set_weights(load_model.get_weights())"
   ]
  },
  {
   "cell_type": "code",
   "execution_count": 141,
   "id": "c4570aeb",
   "metadata": {},
   "outputs": [],
   "source": [
    "model_target = os.path.join(BASE_DIR, \"models\", \"cnn_mp_r3_de_v24.h5\")\n",
    "checkpoint_cb = keras.callbacks.ModelCheckpoint(model_target, save_best_only=True)\n",
    "early_stop_cb = keras.callbacks.EarlyStopping(patience=10)\n",
    "callbacks = [checkpoint_cb, early_stop_cb]"
   ]
  },
  {
   "cell_type": "code",
   "execution_count": 142,
   "id": "6fa54d1a",
   "metadata": {},
   "outputs": [],
   "source": [
    "def compile_model(model):\n",
    "    optimizer = keras.optimizers.Nadam(learning_rate=0.0008)\n",
    "    model.compile(loss=keras.losses.sparse_categorical_crossentropy, \n",
    "                  optimizer=optimizer,\n",
    "                  metrics=keras.metrics.sparse_categorical_accuracy)"
   ]
  },
  {
   "cell_type": "code",
   "execution_count": 143,
   "id": "b409fe24",
   "metadata": {},
   "outputs": [],
   "source": [
    "compile_model(model)"
   ]
  },
  {
   "cell_type": "markdown",
   "id": "40df1c24",
   "metadata": {},
   "source": [
    "##### Benchmark"
   ]
  },
  {
   "cell_type": "code",
   "execution_count": 144,
   "id": "b9b2e407",
   "metadata": {},
   "outputs": [
    {
     "name": "stdout",
     "output_type": "stream",
     "text": [
      "Epoch 1/5\n",
      "91/91 [==============================] - 175s 2s/step - loss: 1.2351 - sparse_categorical_accuracy: 0.5106 - val_loss: 1.2874 - val_sparse_categorical_accuracy: 0.4238\n",
      "Epoch 2/5\n",
      "91/91 [==============================] - 170s 2s/step - loss: 1.2133 - sparse_categorical_accuracy: 0.4849 - val_loss: 1.0217 - val_sparse_categorical_accuracy: 0.5667\n",
      "Epoch 3/5\n",
      "91/91 [==============================] - 216s 2s/step - loss: 1.1915 - sparse_categorical_accuracy: 0.5299 - val_loss: 0.9978 - val_sparse_categorical_accuracy: 0.5738\n",
      "Epoch 4/5\n",
      "91/91 [==============================] - 1030s 11s/step - loss: 1.1430 - sparse_categorical_accuracy: 0.5185 - val_loss: 0.9912 - val_sparse_categorical_accuracy: 0.5857\n",
      "Epoch 5/5\n",
      "91/91 [==============================] - 1046s 12s/step - loss: 1.1495 - sparse_categorical_accuracy: 0.5388 - val_loss: 0.9707 - val_sparse_categorical_accuracy: 0.5810\n"
     ]
    }
   ],
   "source": [
    "# learning rate = 0.0008, saved as cnn_mp_r3_de_v24\n",
    "epochs = 5\n",
    "history = model.fit(train_set, \n",
    "                    epochs=epochs, \n",
    "                    steps_per_epoch=int(steps_factor * max_train_instance / batch_size),\n",
    "                    validation_data=valid_set, \n",
    "                    callbacks=callbacks,\n",
    "                    initial_epoch=0)"
   ]
  },
  {
   "cell_type": "code",
   "execution_count": 135,
   "id": "fbcbb0b3",
   "metadata": {},
   "outputs": [
    {
     "name": "stdout",
     "output_type": "stream",
     "text": [
      "Epoch 1/5\n",
      "91/91 [==============================] - 176s 2s/step - loss: 1.2915 - sparse_categorical_accuracy: 0.5127 - val_loss: 1.1704 - val_sparse_categorical_accuracy: 0.5476\n",
      "Epoch 2/5\n",
      "91/91 [==============================] - 163s 2s/step - loss: 1.1967 - sparse_categorical_accuracy: 0.5199 - val_loss: 0.9790 - val_sparse_categorical_accuracy: 0.5929\n",
      "Epoch 3/5\n",
      "91/91 [==============================] - 179s 2s/step - loss: 1.2103 - sparse_categorical_accuracy: 0.5326 - val_loss: 1.0406 - val_sparse_categorical_accuracy: 0.5429\n",
      "Epoch 4/5\n",
      "91/91 [==============================] - 189s 2s/step - loss: 1.1881 - sparse_categorical_accuracy: 0.5103 - val_loss: 1.0770 - val_sparse_categorical_accuracy: 0.5333\n",
      "Epoch 5/5\n",
      "91/91 [==============================] - 159s 2s/step - loss: 1.1155 - sparse_categorical_accuracy: 0.5498 - val_loss: 0.9514 - val_sparse_categorical_accuracy: 0.6000\n"
     ]
    }
   ],
   "source": [
    "#learnig rate = 0.0009, saved as cnn_mp_r3_de_v23\n",
    "epochs = 5\n",
    "history = model.fit(train_set, \n",
    "                    epochs=epochs, \n",
    "                    steps_per_epoch=int(steps_factor * max_train_instance / batch_size),\n",
    "                    validation_data=valid_set, \n",
    "                    callbacks=callbacks,\n",
    "                    initial_epoch=0)"
   ]
  },
  {
   "cell_type": "code",
   "execution_count": 110,
   "id": "dbf5aefb",
   "metadata": {},
   "outputs": [
    {
     "name": "stdout",
     "output_type": "stream",
     "text": [
      "Epoch 1/5\n",
      "91/91 [==============================] - 157s 2s/step - loss: 1.3353 - sparse_categorical_accuracy: 0.4519 - val_loss: 1.2102 - val_sparse_categorical_accuracy: 0.4881\n",
      "Epoch 2/5\n",
      "91/91 [==============================] - 157s 2s/step - loss: 1.2424 - sparse_categorical_accuracy: 0.4911 - val_loss: 1.0526 - val_sparse_categorical_accuracy: 0.5500\n",
      "Epoch 3/5\n",
      "91/91 [==============================] - 152s 2s/step - loss: 1.2688 - sparse_categorical_accuracy: 0.4866 - val_loss: 1.2017 - val_sparse_categorical_accuracy: 0.4952\n",
      "Epoch 4/5\n",
      "91/91 [==============================] - 156s 2s/step - loss: 1.2422 - sparse_categorical_accuracy: 0.4952 - val_loss: 1.0622 - val_sparse_categorical_accuracy: 0.5452\n",
      "Epoch 5/5\n",
      "91/91 [==============================] - 152s 2s/step - loss: 1.2763 - sparse_categorical_accuracy: 0.4955 - val_loss: 1.1629 - val_sparse_categorical_accuracy: 0.5190\n"
     ]
    }
   ],
   "source": [
    "# learning rate = 0.001\n",
    "epochs = 5\n",
    "history = model.fit(train_set, \n",
    "                    epochs=epochs, \n",
    "                    steps_per_epoch=int(steps_factor * max_train_instance / batch_size),\n",
    "                    validation_data=valid_set, \n",
    "                    callbacks=callbacks,\n",
    "                    initial_epoch=0)"
   ]
  },
  {
   "cell_type": "markdown",
   "id": "f58ec0fd",
   "metadata": {},
   "source": [
    "##### Observations\n",
    "\n",
    "- Learning rate: 0.05, val_accuracy: 0.2405(4 epochs)\n",
    "- Learning rate: 0.005, val_accuracy: 0.2405(4 epochs)\n",
    "- Learning rate: 0.002, val_accuracy: 0.2405(5 epochs)"
   ]
  },
  {
   "cell_type": "code",
   "execution_count": 153,
   "id": "41df9920",
   "metadata": {},
   "outputs": [],
   "source": [
    "model_target = os.path.join(BASE_DIR, \"models\", \"cnn_mp_r3_de_v23.h5\")\n",
    "load_model = keras.models.load_model(model_target)\n",
    "model = keras.models.clone_model(load_model)\n",
    "model.set_weights(load_model.get_weights())"
   ]
  },
  {
   "cell_type": "code",
   "execution_count": 149,
   "id": "cc35d1a1",
   "metadata": {},
   "outputs": [],
   "source": [
    "compile_model(model)"
   ]
  },
  {
   "cell_type": "code",
   "execution_count": 152,
   "id": "1fa39467",
   "metadata": {},
   "outputs": [
    {
     "name": "stdout",
     "output_type": "stream",
     "text": [
      "14/14 [==============================] - 80s 870ms/step - loss: 0.9514 - sparse_categorical_accuracy: 0.6000\n"
     ]
    },
    {
     "data": {
      "text/plain": [
       "[0.9514333009719849, 0.6000000238418579]"
      ]
     },
     "execution_count": 152,
     "metadata": {},
     "output_type": "execute_result"
    }
   ],
   "source": [
    "model.evaluate(valid_set)"
   ]
  },
  {
   "cell_type": "code",
   "execution_count": 154,
   "id": "c6066f37",
   "metadata": {},
   "outputs": [],
   "source": [
    "model_target = os.path.join(BASE_DIR, \"models\", \"cnn_mp_r3_de_v22.h5\")\n",
    "load_model = keras.models.load_model(model_target)\n",
    "model = keras.models.clone_model(load_model)\n",
    "model.set_weights(load_model.get_weights())"
   ]
  },
  {
   "cell_type": "code",
   "execution_count": 155,
   "id": "76af9db3",
   "metadata": {},
   "outputs": [],
   "source": [
    "compile_model(model)"
   ]
  },
  {
   "cell_type": "code",
   "execution_count": 156,
   "id": "f02dc41b",
   "metadata": {},
   "outputs": [
    {
     "name": "stdout",
     "output_type": "stream",
     "text": [
      "14/14 [==============================] - 76s 823ms/step - loss: 0.9339 - sparse_categorical_accuracy: 0.6095\n"
     ]
    },
    {
     "data": {
      "text/plain": [
       "[0.9339394569396973, 0.6095238327980042]"
      ]
     },
     "execution_count": 156,
     "metadata": {},
     "output_type": "execute_result"
    }
   ],
   "source": [
    "model.evaluate(valid_set)"
   ]
  },
  {
   "cell_type": "markdown",
   "id": "7a09f7ac",
   "metadata": {},
   "source": [
    "##### Observations\n",
    "\n",
    "From the different approches specific to learning rate brings some benchmark from which we can fly. \n",
    "First model performs quite when the learning rate is between the 0.0009 to 0.001(default). But at same time it does not learn or learn very slowly. So there may be chance of local minima or vanishing gradients. As of now by by implementing learning rate scheduling for nadam optimizer may bounce from local minima. Previously we applied 1cycle for the max rate 0.2, 0.02, 0.08 which is far aprat from our optimal lr neer 0.0009 to 0.001. So this time just experiments within those range and also try to schedule for momentum as well."
   ]
  },
  {
   "cell_type": "code",
   "execution_count": 231,
   "id": "a489f934",
   "metadata": {},
   "outputs": [],
   "source": [
    "class OneCycleSchedulerNadam(keras.callbacks.Callback):\n",
    "    def __init__(self, iterations, \n",
    "                 max_lrate, \n",
    "                 start_lrate=None,\n",
    "                 last_iterations=None, \n",
    "                 last_lrate=None,\n",
    "                 max_b1rate=0.95,\n",
    "                 min_b1rate=0.85,\n",
    "                 max_b2rate=0.9995,\n",
    "                 min_b2rate=0.9985):\n",
    "        \n",
    "        self.iterations = iterations\n",
    "        self.last_iterations = last_iterations or iterations // 10 + 1\n",
    "        self.half_iteration = (iterations - self.last_iterations) // 2\n",
    "        \n",
    "        self.max_lrate = max_lrate\n",
    "        self.start_lrate = start_lrate or max_lrate / 10\n",
    "        self.last_lrate = last_lrate or self.start_lrate / 1000\n",
    "        \n",
    "        self.max_b1rate = max_b1rate\n",
    "        self.min_b1rate = min_b1rate\n",
    "        self.last_b1rate = max_b1rate\n",
    "        \n",
    "        self.max_b2rate = max_b2rate\n",
    "        self.min_b2rate = min_b2rate\n",
    "        self.last_b2rate = max_b2rate\n",
    "\n",
    "        self.iteration = 0\n",
    "        \n",
    "        self.rate = []\n",
    "        self.b1 = []\n",
    "        self.b2 = []\n",
    "\n",
    "        self.loss = []\n",
    "        self.val_loss = []\n",
    "        self.accuracy = []\n",
    "        self.val_accuracy = []\n",
    "    \n",
    "    def _interpolate(self, iter1, iter2, lrate1, lrate2):\n",
    "        return ((lrate2 - lrate1) * (self.iteration - iter1)\n",
    "                / (iter2 - iter1) + lrate1)\n",
    "    \n",
    "    def on_batch_begin(self, batch, logs):\n",
    "        if self.iteration < self.half_iteration:\n",
    "            rate = self._interpolate(0, self.half_iteration, self.start_lrate, self.max_lrate)\n",
    "            b1 = self._interpolate(0, self.half_iteration, self.max_b1rate, self.min_b1rate)\n",
    "            b2 = self._interpolate(0, self.half_iteration, self.max_b2rate, self.min_b2rate)\n",
    "        elif self.iteration < 2 * self.half_iteration:\n",
    "            rate = self._interpolate(self.half_iteration, 2 * self.half_iteration, self.max_lrate, self.start_lrate)\n",
    "            b1 = self._interpolate(self.half_iteration, 2 * self.half_iteration, self.min_b1rate, self.max_b1rate)\n",
    "            b2 = self._interpolate(self.half_iteration, 2 * self.half_iteration, self.min_b2rate, self.max_b2rate)\n",
    "        else:\n",
    "            rate = self._interpolate(2 * self.half_iteration, self.iterations, self.start_lrate, self.last_lrate)\n",
    "            b1 = self.last_b1rate\n",
    "            b2 = self.last_b2rate\n",
    "            \n",
    "        self.iteration += 1\n",
    "        K.set_value(self.model.optimizer.learning_rate, rate)\n",
    "        K.set_value(self.model.optimizer.beta_1, b1)\n",
    "        K.set_value(self.model.optimizer.beta_2, b2)\n",
    "        \n",
    "    def on_batch_end(self, batch, logs):\n",
    "        self.rate.append(K.get_value(self.model.optimizer.learning_rate))\n",
    "        self.b1.append(K.get_value(self.model.optimizer.beta_1))\n",
    "        self.b2.append(K.get_value(self.model.optimizer.beta_2))\n",
    "\n",
    "        self.loss.append(logs[\"loss\"])\n",
    "        self.accuracy.append(logs[\"sparse_categorical_accuracy\"])"
   ]
  },
  {
   "cell_type": "code",
   "execution_count": 232,
   "id": "ed41e8c4",
   "metadata": {},
   "outputs": [],
   "source": [
    "model_target = os.path.join(BASE_DIR, \"models\", \"cnn_mp_r3_de_v22.h5\")\n",
    "load_model = keras.models.load_model(model_target)\n",
    "model = keras.models.clone_model(load_model)\n",
    "model.set_weights(load_model.get_weights())"
   ]
  },
  {
   "cell_type": "code",
   "execution_count": 233,
   "id": "254d4312",
   "metadata": {},
   "outputs": [],
   "source": [
    "def compile_model(model):\n",
    "    optimizer = keras.optimizers.Nadam()\n",
    "    model.compile(loss=keras.losses.sparse_categorical_crossentropy, \n",
    "                  optimizer=optimizer,\n",
    "                  metrics=keras.metrics.sparse_categorical_accuracy)"
   ]
  },
  {
   "cell_type": "code",
   "execution_count": 234,
   "id": "ef1af65c",
   "metadata": {},
   "outputs": [],
   "source": [
    "compile_model(model)"
   ]
  },
  {
   "cell_type": "code",
   "execution_count": 236,
   "id": "656864be",
   "metadata": {},
   "outputs": [],
   "source": [
    "model_target = os.path.join(BASE_DIR, \"models\", \"cnn_mp_r3_de_v22_1c.h5\")\n",
    "\n",
    "checkpoint_cb = keras.callbacks.ModelCheckpoint(model_target, save_best_only=True)\n",
    "early_stop_cb = keras.callbacks.EarlyStopping(patience=10)\n",
    "\n",
    "callbacks = [checkpoint_cb, early_stop_cb]"
   ]
  },
  {
   "cell_type": "code",
   "execution_count": 237,
   "id": "7839759c",
   "metadata": {},
   "outputs": [],
   "source": [
    "epochs = 25\n",
    "max_learning_rate = 0.001\n",
    "onecycle_cb = OneCycleSchedulerNadam(int(steps_factor * max_train_instance / batch_size) * epochs, max_lrate=max_learning_rate)\n",
    "\n",
    "callbacks.append(onecycle_cb)"
   ]
  },
  {
   "cell_type": "code",
   "execution_count": 238,
   "id": "d294b434",
   "metadata": {},
   "outputs": [
    {
     "name": "stdout",
     "output_type": "stream",
     "text": [
      "Epoch 1/25\n",
      "91/91 [==============================] - 139s 1s/step - loss: 1.0627 - sparse_categorical_accuracy: 0.5766 - val_loss: 0.9138 - val_sparse_categorical_accuracy: 0.6130\n",
      "Epoch 2/25\n",
      "91/91 [==============================] - 133s 1s/step - loss: 1.0540 - sparse_categorical_accuracy: 0.5759 - val_loss: 0.9166 - val_sparse_categorical_accuracy: 0.6082\n",
      "Epoch 3/25\n",
      "91/91 [==============================] - 133s 1s/step - loss: 1.0949 - sparse_categorical_accuracy: 0.5573 - val_loss: 0.9481 - val_sparse_categorical_accuracy: 0.6082\n",
      "Epoch 4/25\n",
      "91/91 [==============================] - 134s 1s/step - loss: 1.0961 - sparse_categorical_accuracy: 0.5680 - val_loss: 0.9736 - val_sparse_categorical_accuracy: 0.5913\n",
      "Epoch 5/25\n",
      "91/91 [==============================] - 140s 2s/step - loss: 1.1157 - sparse_categorical_accuracy: 0.5639 - val_loss: 1.0084 - val_sparse_categorical_accuracy: 0.5721\n",
      "Epoch 6/25\n",
      "91/91 [==============================] - 131s 1s/step - loss: 1.1269 - sparse_categorical_accuracy: 0.5419 - val_loss: 0.9880 - val_sparse_categorical_accuracy: 0.5793\n",
      "Epoch 7/25\n",
      "91/91 [==============================] - 131s 1s/step - loss: 1.1154 - sparse_categorical_accuracy: 0.5670 - val_loss: 0.9315 - val_sparse_categorical_accuracy: 0.6130\n",
      "Epoch 8/25\n",
      "91/91 [==============================] - 134s 1s/step - loss: 1.1406 - sparse_categorical_accuracy: 0.5429 - val_loss: 1.0053 - val_sparse_categorical_accuracy: 0.5721\n",
      "Epoch 9/25\n",
      "91/91 [==============================] - 149s 2s/step - loss: 1.1687 - sparse_categorical_accuracy: 0.5192 - val_loss: 1.0410 - val_sparse_categorical_accuracy: 0.5385\n",
      "Epoch 10/25\n",
      "91/91 [==============================] - 141s 2s/step - loss: 1.7029 - sparse_categorical_accuracy: 0.3736 - val_loss: 1.5776 - val_sparse_categorical_accuracy: 0.2764\n",
      "Epoch 11/25\n",
      "91/91 [==============================] - 131s 1s/step - loss: 1.4812 - sparse_categorical_accuracy: 0.3575 - val_loss: 1.4468 - val_sparse_categorical_accuracy: 0.3702\n"
     ]
    }
   ],
   "source": [
    "history = model.fit(train_set, \n",
    "                    epochs=epochs, \n",
    "                    steps_per_epoch=int(steps_factor * max_train_instance / batch_size),\n",
    "                    validation_data=valid_set,\n",
    "                    validation_steps=int(max_valid_instance / batch_size),\n",
    "                    callbacks=callbacks)"
   ]
  },
  {
   "cell_type": "code",
   "execution_count": 240,
   "id": "6b17b7ff",
   "metadata": {},
   "outputs": [],
   "source": [
    "summary = {\"lrate\": onecycle_cb.rate,\n",
    "           \"b1\": onecycle_cb.b1,\n",
    "           \"b2\": onecycle_cb.b2,\n",
    "           \"loss\": onecycle_cb.loss,\n",
    "           \"accuracy\": onecycle_cb.accuracy}"
   ]
  },
  {
   "cell_type": "code",
   "execution_count": 272,
   "id": "2c743c04",
   "metadata": {},
   "outputs": [
    {
     "data": {
      "image/png": "[encoded data removed]",
      "text/plain": [
       "<Figure size 576x864 with 3 Axes>"
      ]
     },
     "metadata": {
      "needs_background": "light"
     },
     "output_type": "display_data"
    }
   ],
   "source": [
    "fig, axs = plt.subplots(3, figsize=(8, 12))\n",
    "axs[0].plot(summary[\"loss\"])\n",
    "axs[0].plot(summary[\"accuracy\"])\n",
    "axs[0].legend([\"loss\", \"accuracy\"])\n",
    "axs[1].plot(summary[\"lrate\"])\n",
    "axs[1].legend([\"learnig rate\"])\n",
    "axs[2].plot(summary[\"b1\"])\n",
    "axs[2].plot(summary[\"b2\"])\n",
    "axs[2].legend([\"b1\", \"b2\"])\n",
    "plt.show()"
   ]
  },
  {
   "cell_type": "markdown",
   "id": "7b6ef288",
   "metadata": {},
   "source": [
    "##### Note\n",
    "\n",
    "If RMSprop, adam or nadam not performs well then just swith to plain Nesterov Accelerated Gradient\n",
    "\n",
    "##### Observations\n",
    "\n",
    "For small learning rate model jumps around 60% accuracy, so one chance of improving it using smaller learnig rate. Indeed, second option is to change the optimizer as we will be doing now."
   ]
  },
  {
   "cell_type": "code",
   "execution_count": 294,
   "id": "6f3b5cc1",
   "metadata": {},
   "outputs": [],
   "source": [
    "class OneCycleSchedulerSGD(keras.callbacks.Callback):\n",
    "    def __init__(self, iterations, \n",
    "                 max_lrate, \n",
    "                 start_lrate=None,\n",
    "                 last_iterations=None, \n",
    "                 last_lrate=None,\n",
    "                 max_momentum=0.95,\n",
    "                 min_momentum=0.85):\n",
    "        \n",
    "        self.iterations = iterations\n",
    "        self.last_iterations = last_iterations or iterations // 10 + 1\n",
    "        self.half_iteration = (iterations - self.last_iterations) // 2\n",
    "        \n",
    "        self.max_lrate = max_lrate\n",
    "        self.start_lrate = start_lrate or max_lrate / 10\n",
    "        self.last_lrate = last_lrate or self.start_lrate / 1000\n",
    "        \n",
    "        self.max_momentum = max_momentum\n",
    "        self.min_momentum = min_momentum\n",
    "        self.last_momentum = max_momentum\n",
    "        \n",
    "        self.iteration = 0\n",
    "        \n",
    "        self.rate = []\n",
    "        self.momentum = []\n",
    "\n",
    "        self.loss = []\n",
    "        self.val_loss = []\n",
    "        self.accuracy = []\n",
    "        self.val_accuracy = []\n",
    "    \n",
    "    def _interpolate(self, iter1, iter2, lrate1, lrate2):\n",
    "        return ((lrate2 - lrate1) * (self.iteration - iter1)\n",
    "                / (iter2 - iter1) + lrate1)\n",
    "    \n",
    "    def on_batch_begin(self, batch, logs):\n",
    "        if self.iteration < self.half_iteration:\n",
    "            rate = self._interpolate(0, self.half_iteration, self.start_lrate, self.max_lrate)\n",
    "            momentum = self._interpolate(0, self.half_iteration, self.max_momentum, self.min_momentum)\n",
    "        elif self.iteration < 2 * self.half_iteration:\n",
    "            rate = self._interpolate(self.half_iteration, 2 * self.half_iteration, self.max_lrate, self.start_lrate)\n",
    "            momentum = self._interpolate(self.half_iteration, 2 * self.half_iteration, self.min_momentum, self.max_momentum)\n",
    "        else:\n",
    "            rate = self._interpolate(2 * self.half_iteration, self.iterations, self.start_lrate, self.last_lrate)\n",
    "            momentum = self.last_momentum\n",
    "            \n",
    "        self.iteration += 1\n",
    "        K.set_value(self.model.optimizer.learning_rate, rate)\n",
    "        K.set_value(self.model.optimizer.momentum, momentum)\n",
    "        \n",
    "    def on_batch_end(self, batch, logs):\n",
    "        self.rate.append(K.get_value(self.model.optimizer.learning_rate))\n",
    "        self.momentum.append(K.get_value(self.model.optimizer.momentum))\n",
    "\n",
    "        self.loss.append(logs[\"loss\"])\n",
    "        self.accuracy.append(logs[\"sparse_categorical_accuracy\"])"
   ]
  },
  {
   "cell_type": "markdown",
   "id": "05cffb74",
   "metadata": {},
   "source": [
    "##### Observations \n",
    "\n",
    "Model seems to perform well below learnig rate 0.003(As it is not displayed but done in background). Also by doing lots of experiment with 3 conv layer model, it semms to have undefitting our model. So we should design more complex model to improve accuracy."
   ]
  },
  {
   "cell_type": "code",
   "execution_count": 324,
   "id": "9eec217c",
   "metadata": {},
   "outputs": [
    {
     "name": "stdout",
     "output_type": "stream",
     "text": [
      "WARNING:tensorflow:Error in loading the saved optimizer state. As a result, your model is starting with a freshly initialized optimizer.\n"
     ]
    }
   ],
   "source": [
    "model_target = os.path.join(BASE_DIR, \"models\", \"cnn_mp_r3_de_v22_1c_sgd.h5\")\n",
    "load_model = keras.models.load_model(model_target)\n",
    "model = keras.models.clone_model(load_model)\n",
    "model.set_weights(load_model.get_weights())"
   ]
  },
  {
   "cell_type": "code",
   "execution_count": 325,
   "id": "af7abd9d",
   "metadata": {},
   "outputs": [],
   "source": [
    "def compile_model(model):\n",
    "    optimizer = keras.optimizers.SGD()\n",
    "    model.compile(loss=keras.losses.sparse_categorical_crossentropy, \n",
    "                  optimizer=optimizer,\n",
    "                  metrics=keras.metrics.sparse_categorical_accuracy)"
   ]
  },
  {
   "cell_type": "code",
   "execution_count": 326,
   "id": "26472155",
   "metadata": {},
   "outputs": [],
   "source": [
    "compile_model(model)"
   ]
  },
  {
   "cell_type": "code",
   "execution_count": 327,
   "id": "189400fb",
   "metadata": {},
   "outputs": [],
   "source": [
    "model_target = os.path.join(BASE_DIR, \"models\", \"cnn_mp_r3_de_v22_1c_sgd.h5\")\n",
    "\n",
    "checkpoint_cb = keras.callbacks.ModelCheckpoint(model_target, save_best_only=True)\n",
    "early_stop_cb = keras.callbacks.EarlyStopping(patience=10)\n",
    "\n",
    "callbacks = [checkpoint_cb, early_stop_cb]"
   ]
  },
  {
   "cell_type": "code",
   "execution_count": 328,
   "id": "60f3da78",
   "metadata": {},
   "outputs": [],
   "source": [
    "epochs = 25\n",
    "max_learning_rate = 0.004\n",
    "onecycle_cb = OneCycleSchedulerSGD(int(steps_factor * max_train_instance / batch_size) * epochs, max_lrate=max_learning_rate)\n",
    "\n",
    "callbacks.append(onecycle_cb)"
   ]
  },
  {
   "cell_type": "code",
   "execution_count": 329,
   "id": "533859a3",
   "metadata": {},
   "outputs": [
    {
     "name": "stdout",
     "output_type": "stream",
     "text": [
      "Epoch 1/25\n",
      "91/91 [==============================] - 153s 2s/step - loss: 1.0457 - sparse_categorical_accuracy: 0.5824 - val_loss: 0.9103 - val_sparse_categorical_accuracy: 0.5986\n",
      "Epoch 2/25\n",
      "91/91 [==============================] - 138s 2s/step - loss: 1.0617 - sparse_categorical_accuracy: 0.5725 - val_loss: 0.8955 - val_sparse_categorical_accuracy: 0.6058\n",
      "Epoch 3/25\n",
      "91/91 [==============================] - 135s 1s/step - loss: 1.0584 - sparse_categorical_accuracy: 0.5718 - val_loss: 0.9021 - val_sparse_categorical_accuracy: 0.6298\n",
      "Epoch 4/25\n",
      "91/91 [==============================] - 138s 2s/step - loss: 1.0171 - sparse_categorical_accuracy: 0.5783 - val_loss: 0.8918 - val_sparse_categorical_accuracy: 0.6226\n",
      "Epoch 5/25\n",
      "91/91 [==============================] - 139s 2s/step - loss: 1.0904 - sparse_categorical_accuracy: 0.5718 - val_loss: 0.9461 - val_sparse_categorical_accuracy: 0.5962\n",
      "Epoch 6/25\n",
      "91/91 [==============================] - 141s 2s/step - loss: 1.0649 - sparse_categorical_accuracy: 0.5625 - val_loss: 0.9366 - val_sparse_categorical_accuracy: 0.6178\n",
      "Epoch 7/25\n",
      "91/91 [==============================] - 139s 2s/step - loss: 1.0787 - sparse_categorical_accuracy: 0.5598 - val_loss: 0.9195 - val_sparse_categorical_accuracy: 0.6010\n",
      "Epoch 8/25\n",
      "91/91 [==============================] - 137s 2s/step - loss: 1.0665 - sparse_categorical_accuracy: 0.5687 - val_loss: 0.9335 - val_sparse_categorical_accuracy: 0.5913\n",
      "Epoch 9/25\n",
      "91/91 [==============================] - 137s 2s/step - loss: 1.0631 - sparse_categorical_accuracy: 0.5783 - val_loss: 0.9080 - val_sparse_categorical_accuracy: 0.6202\n",
      "Epoch 10/25\n",
      "91/91 [==============================] - 137s 2s/step - loss: 1.0718 - sparse_categorical_accuracy: 0.5745 - val_loss: 0.9392 - val_sparse_categorical_accuracy: 0.6082\n",
      "Epoch 11/25\n",
      "91/91 [==============================] - 140s 2s/step - loss: 1.0629 - sparse_categorical_accuracy: 0.5714 - val_loss: 0.9252 - val_sparse_categorical_accuracy: 0.5793\n",
      "Epoch 12/25\n",
      "91/91 [==============================] - 150s 2s/step - loss: 1.0467 - sparse_categorical_accuracy: 0.5749 - val_loss: 1.0929 - val_sparse_categorical_accuracy: 0.5793\n",
      "Epoch 13/25\n",
      "91/91 [==============================] - 166s 2s/step - loss: 1.0532 - sparse_categorical_accuracy: 0.5790 - val_loss: 0.8876 - val_sparse_categorical_accuracy: 0.6082\n",
      "Epoch 14/25\n",
      "91/91 [==============================] - 141s 2s/step - loss: 1.0666 - sparse_categorical_accuracy: 0.5639 - val_loss: 0.9092 - val_sparse_categorical_accuracy: 0.6058\n",
      "Epoch 15/25\n",
      "91/91 [==============================] - 136s 2s/step - loss: 1.0279 - sparse_categorical_accuracy: 0.5810 - val_loss: 0.9411 - val_sparse_categorical_accuracy: 0.6010\n",
      "Epoch 16/25\n",
      "91/91 [==============================] - 134s 1s/step - loss: 1.0324 - sparse_categorical_accuracy: 0.5879 - val_loss: 0.8792 - val_sparse_categorical_accuracy: 0.6394\n",
      "Epoch 17/25\n",
      "91/91 [==============================] - 134s 1s/step - loss: 1.0261 - sparse_categorical_accuracy: 0.5869 - val_loss: 0.8754 - val_sparse_categorical_accuracy: 0.6274\n",
      "Epoch 18/25\n",
      "91/91 [==============================] - 135s 1s/step - loss: 0.9962 - sparse_categorical_accuracy: 0.6016 - val_loss: 0.8626 - val_sparse_categorical_accuracy: 0.6178\n",
      "Epoch 19/25\n",
      "91/91 [==============================] - 133s 1s/step - loss: 0.9928 - sparse_categorical_accuracy: 0.5996 - val_loss: 0.8709 - val_sparse_categorical_accuracy: 0.6370\n",
      "Epoch 20/25\n",
      "91/91 [==============================] - 137s 2s/step - loss: 0.9840 - sparse_categorical_accuracy: 0.6044 - val_loss: 0.8575 - val_sparse_categorical_accuracy: 0.6298\n",
      "Epoch 21/25\n",
      "91/91 [==============================] - 132s 1s/step - loss: 0.9805 - sparse_categorical_accuracy: 0.6102 - val_loss: 0.8681 - val_sparse_categorical_accuracy: 0.6154\n",
      "Epoch 22/25\n",
      "91/91 [==============================] - 137s 2s/step - loss: 0.9491 - sparse_categorical_accuracy: 0.6350 - val_loss: 0.8326 - val_sparse_categorical_accuracy: 0.6418\n",
      "Epoch 23/25\n",
      "91/91 [==============================] - 140s 2s/step - loss: 0.9766 - sparse_categorical_accuracy: 0.6099 - val_loss: 0.8384 - val_sparse_categorical_accuracy: 0.6322\n",
      "Epoch 24/25\n",
      "91/91 [==============================] - 137s 2s/step - loss: 0.9845 - sparse_categorical_accuracy: 0.6003 - val_loss: 0.8550 - val_sparse_categorical_accuracy: 0.6418\n",
      "Epoch 25/25\n",
      "91/91 [==============================] - 137s 2s/step - loss: 0.9539 - sparse_categorical_accuracy: 0.6140 - val_loss: 0.8331 - val_sparse_categorical_accuracy: 0.6466\n"
     ]
    }
   ],
   "source": [
    "history = model.fit(train_set, \n",
    "                    epochs=epochs, \n",
    "                    steps_per_epoch=int(steps_factor * max_train_instance / batch_size),\n",
    "                    validation_data=valid_set,\n",
    "                    validation_steps=int(max_valid_instance / batch_size),\n",
    "                    callbacks=callbacks)"
   ]
  },
  {
   "cell_type": "code",
   "execution_count": 330,
   "id": "ebbafe82",
   "metadata": {},
   "outputs": [
    {
     "name": "stdout",
     "output_type": "stream",
     "text": [
      "Epoch 1/50\n",
      "91/91 [==============================] - 142s 2s/step - loss: 0.9506 - sparse_categorical_accuracy: 0.6102 - val_loss: 0.8450 - val_sparse_categorical_accuracy: 0.6298\n",
      "Epoch 2/50\n",
      "91/91 [==============================] - 129s 1s/step - loss: nan - sparse_categorical_accuracy: 0.3668 - val_loss: nan - val_sparse_categorical_accuracy: 0.1803\n",
      "Epoch 3/50\n",
      "91/91 [==============================] - 129s 1s/step - loss: nan - sparse_categorical_accuracy: 0.1854 - val_loss: nan - val_sparse_categorical_accuracy: 0.1779\n",
      "Epoch 4/50\n",
      "91/91 [==============================] - 128s 1s/step - loss: nan - sparse_categorical_accuracy: 0.1559 - val_loss: nan - val_sparse_categorical_accuracy: 0.1803\n",
      "Epoch 5/50\n",
      "91/91 [==============================] - 127s 1s/step - loss: nan - sparse_categorical_accuracy: 0.1854 - val_loss: nan - val_sparse_categorical_accuracy: 0.1755\n",
      "Epoch 6/50\n",
      "91/91 [==============================] - 131s 1s/step - loss: nan - sparse_categorical_accuracy: 0.1813 - val_loss: nan - val_sparse_categorical_accuracy: 0.1779\n",
      "Epoch 7/50\n",
      "91/91 [==============================] - 132s 1s/step - loss: nan - sparse_categorical_accuracy: 0.1820 - val_loss: nan - val_sparse_categorical_accuracy: 0.1803\n",
      "Epoch 8/50\n",
      "91/91 [==============================] - 130s 1s/step - loss: nan - sparse_categorical_accuracy: 0.1827 - val_loss: nan - val_sparse_categorical_accuracy: 0.1779\n",
      "Epoch 9/50\n",
      "91/91 [==============================] - 130s 1s/step - loss: nan - sparse_categorical_accuracy: 0.1593 - val_loss: nan - val_sparse_categorical_accuracy: 0.1779\n",
      "Epoch 10/50\n",
      "91/91 [==============================] - 127s 1s/step - loss: nan - sparse_categorical_accuracy: 0.2012 - val_loss: nan - val_sparse_categorical_accuracy: 0.1803\n",
      "Epoch 11/50\n",
      "91/91 [==============================] - 128s 1s/step - loss: nan - sparse_categorical_accuracy: 0.1593 - val_loss: nan - val_sparse_categorical_accuracy: 0.1779\n"
     ]
    }
   ],
   "source": [
    "epochs = 50\n",
    "history = model.fit(train_set, \n",
    "                    epochs=epochs, \n",
    "                    steps_per_epoch=int(steps_factor * max_train_instance / batch_size),\n",
    "                    validation_data=valid_set,\n",
    "                    validation_steps=int(max_valid_instance / batch_size),\n",
    "                    callbacks=callbacks)"
   ]
  },
  {
   "cell_type": "markdown",
   "id": "47a5b12e",
   "metadata": {},
   "source": [
    "##### Observations\n",
    "\n",
    "There are some of reasons to get loss as Nan value. \n",
    "- Nan value in dataset\n",
    "- Gradients got exploded\n",
    "- SGD optimizer\n",
    "- and others\n",
    "\n",
    "Now first we will check by changing optimizer to adam as suggested by some of  google blogs"
   ]
  },
  {
   "cell_type": "code",
   "execution_count": 347,
   "id": "84d5bcf4",
   "metadata": {
    "scrolled": true
   },
   "outputs": [],
   "source": [
    "model_target = os.path.join(BASE_DIR, \"models\", \"cnn_mp_r3_de_v22_1c_adam.h5\")\n",
    "load_model = keras.models.load_model(model_target)\n",
    "model = keras.models.clone_model(load_model)\n",
    "model.set_weights(load_model.get_weights())"
   ]
  },
  {
   "cell_type": "code",
   "execution_count": 348,
   "id": "0d731f35",
   "metadata": {},
   "outputs": [],
   "source": [
    "model_target = os.path.join(BASE_DIR, \"models\", \"cnn_mp_r3_de_v22_1c_adam.h5\")\n",
    "\n",
    "checkpoint_cb = keras.callbacks.ModelCheckpoint(model_target, save_best_only=True)\n",
    "early_stop_cb = keras.callbacks.EarlyStopping(patience=10)\n",
    "\n",
    "callbacks = [checkpoint_cb, early_stop_cb]"
   ]
  },
  {
   "cell_type": "code",
   "execution_count": 349,
   "id": "83fa2a59",
   "metadata": {},
   "outputs": [],
   "source": [
    "def compile_model(model):\n",
    "    optimizer = keras.optimizers.Adam()\n",
    "    model.compile(loss=keras.losses.sparse_categorical_crossentropy, \n",
    "                  optimizer=optimizer,\n",
    "                  metrics=keras.metrics.sparse_categorical_accuracy)"
   ]
  },
  {
   "cell_type": "code",
   "execution_count": 350,
   "id": "cb8796c1",
   "metadata": {},
   "outputs": [],
   "source": [
    "compile_model(model)"
   ]
  },
  {
   "cell_type": "code",
   "execution_count": 351,
   "id": "52eadd70",
   "metadata": {},
   "outputs": [],
   "source": [
    "epochs = 25\n",
    "max_learning_rate = 0.00007\n",
    "onecycle_cb = OneCycleSchedulerNadam(int(steps_factor * max_train_instance / batch_size) * epochs, max_lrate=max_learning_rate)\n",
    "\n",
    "callbacks.append(onecycle_cb)"
   ]
  },
  {
   "cell_type": "code",
   "execution_count": 352,
   "id": "aabc0ef7",
   "metadata": {},
   "outputs": [
    {
     "name": "stdout",
     "output_type": "stream",
     "text": [
      "Epoch 1/25\n",
      "91/91 [==============================] - 182s 2s/step - loss: 0.9498 - sparse_categorical_accuracy: 0.6250 - val_loss: 0.8325 - val_sparse_categorical_accuracy: 0.6394\n",
      "Epoch 2/25\n",
      "91/91 [==============================] - 156s 2s/step - loss: 0.9564 - sparse_categorical_accuracy: 0.6346 - val_loss: 0.8229 - val_sparse_categorical_accuracy: 0.6490\n",
      "Epoch 3/25\n",
      "91/91 [==============================] - 155s 2s/step - loss: 0.9700 - sparse_categorical_accuracy: 0.6047 - val_loss: 0.8278 - val_sparse_categorical_accuracy: 0.6490\n",
      "Epoch 4/25\n",
      "91/91 [==============================] - 148s 2s/step - loss: 0.9251 - sparse_categorical_accuracy: 0.6308 - val_loss: 0.8265 - val_sparse_categorical_accuracy: 0.6514\n",
      "Epoch 5/25\n",
      "91/91 [==============================] - 146s 2s/step - loss: 0.9680 - sparse_categorical_accuracy: 0.6161 - val_loss: 0.8411 - val_sparse_categorical_accuracy: 0.6394\n",
      "Epoch 6/25\n",
      "91/91 [==============================] - 150s 2s/step - loss: 0.9555 - sparse_categorical_accuracy: 0.6277 - val_loss: 0.8361 - val_sparse_categorical_accuracy: 0.6298\n",
      "Epoch 7/25\n",
      "91/91 [==============================] - 145s 2s/step - loss: 0.9432 - sparse_categorical_accuracy: 0.6291 - val_loss: 0.8305 - val_sparse_categorical_accuracy: 0.6418\n",
      "Epoch 8/25\n",
      "91/91 [==============================] - 152s 2s/step - loss: 0.9519 - sparse_categorical_accuracy: 0.6161 - val_loss: 0.8410 - val_sparse_categorical_accuracy: 0.6466\n",
      "Epoch 9/25\n",
      "91/91 [==============================] - 153s 2s/step - loss: 0.9269 - sparse_categorical_accuracy: 0.6374 - val_loss: 0.8509 - val_sparse_categorical_accuracy: 0.6538\n",
      "Epoch 10/25\n",
      "91/91 [==============================] - 150s 2s/step - loss: 0.9268 - sparse_categorical_accuracy: 0.6277 - val_loss: 0.8370 - val_sparse_categorical_accuracy: 0.6490\n",
      "Epoch 11/25\n",
      "91/91 [==============================] - 159s 2s/step - loss: 0.9331 - sparse_categorical_accuracy: 0.6202 - val_loss: 0.8391 - val_sparse_categorical_accuracy: 0.6538\n",
      "Epoch 12/25\n",
      "91/91 [==============================] - 148s 2s/step - loss: 0.9517 - sparse_categorical_accuracy: 0.6288 - val_loss: 0.8699 - val_sparse_categorical_accuracy: 0.6394\n"
     ]
    }
   ],
   "source": [
    "history = model.fit(train_set, \n",
    "                    epochs=epochs, \n",
    "                    steps_per_epoch=int(steps_factor * max_train_instance / batch_size),\n",
    "                    validation_data=valid_set,\n",
    "                    validation_steps=int(max_valid_instance / batch_size),\n",
    "                    callbacks=callbacks)"
   ]
  },
  {
   "cell_type": "code",
   "execution_count": 345,
   "id": "973f1122",
   "metadata": {},
   "outputs": [],
   "source": [
    "summary = {\"lrate\": onecycle_cb.rate,\n",
    "           \"b1\": onecycle_cb.b1,\n",
    "           \"loss\": onecycle_cb.loss,\n",
    "           \"accuracy\": onecycle_cb.accuracy}"
   ]
  },
  {
   "cell_type": "code",
   "execution_count": 346,
   "id": "5dd07f8b",
   "metadata": {},
   "outputs": [
    {
     "data": {
      "image/png": "[encoded data removed]",
      "text/plain": [
       "<Figure size 432x288 with 1 Axes>"
      ]
     },
     "metadata": {
      "needs_background": "light"
     },
     "output_type": "display_data"
    }
   ],
   "source": [
    "plt.plot(summary[\"lrate\"], summary[\"loss\"])\n",
    "plt.show()"
   ]
  },
  {
   "cell_type": "code",
   "execution_count": null,
   "id": "1b52ac16",
   "metadata": {},
   "outputs": [],
   "source": []
  },
  {
   "cell_type": "code",
   "execution_count": null,
   "id": "a2bb7684",
   "metadata": {},
   "outputs": [],
   "source": []
  },
  {
   "cell_type": "code",
   "execution_count": null,
   "id": "193323ab",
   "metadata": {},
   "outputs": [],
   "source": []
  },
  {
   "cell_type": "code",
   "execution_count": null,
   "id": "7d459380",
   "metadata": {},
   "outputs": [],
   "source": []
  },
  {
   "cell_type": "code",
   "execution_count": 321,
   "id": "8988e48d",
   "metadata": {},
   "outputs": [],
   "source": [
    "summary = {\"lrate\": onecycle_cb.rate,\n",
    "           \"b1\": onecycle_cb.momentum,\n",
    "           \"loss\": onecycle_cb.loss,\n",
    "           \"accuracy\": onecycle_cb.accuracy}"
   ]
  },
  {
   "cell_type": "code",
   "execution_count": 322,
   "id": "0b3747c4",
   "metadata": {},
   "outputs": [
    {
     "data": {
      "image/png": "[encoded data removed]",
      "text/plain": [
       "<Figure size 432x288 with 1 Axes>"
      ]
     },
     "metadata": {
      "needs_background": "light"
     },
     "output_type": "display_data"
    }
   ],
   "source": [
    "plt.plot(summary[\"lrate\"], summary[\"loss\"])\n",
    "plt.show()"
   ]
  },
  {
   "cell_type": "code",
   "execution_count": 323,
   "id": "4fe06b7a",
   "metadata": {},
   "outputs": [
    {
     "data": {
      "image/png": "[encoded data removed]",
      "text/plain": [
       "<Figure size 432x288 with 1 Axes>"
      ]
     },
     "metadata": {
      "needs_background": "light"
     },
     "output_type": "display_data"
    }
   ],
   "source": [
    "plt.plot(summary[\"lrate\"], summary[\"accuracy\"])\n",
    "plt.show()"
   ]
  },
  {
   "cell_type": "code",
   "execution_count": null,
   "id": "56aaebef",
   "metadata": {},
   "outputs": [],
   "source": [
    "keras.backend.clear_session()\n",
    "np.random.seed(42)\n",
    "tf.random.set_seed(42)\n",
    "\n",
    "def mini_resnet_9cl():\n",
    "    \n",
    "    model = keras.models.Sequential()\n",
    "    model.add(keras.layers.Conv2D(filters=64,\n",
    "                                kernel_size=5, \n",
    "                                strides=2, \n",
    "                                padding=\"same\", \n",
    "                                use_bias=False, \n",
    "                                input_shape=[dims[0], dims[1], channels]))\n",
    "    model.add(keras.layers.BatchNormalization())\n",
    "    model.add(keras.layers.Activation(\"relu\"))\n",
    "    model.add(keras.layers.MaxPool2D(pool_size=3, strides=2, padding=\"same\"))\n",
    "    pfm = 64\n",
    "    for fm in [64, 128, 256, 512]:\n",
    "        strides = 1 if pfm == fm else 2\n",
    "        model.add(ResidualLayer(fm=fm, strides=strides))\n",
    "        pfm = fm\n",
    "    model.add(keras.layers.GlobalAvgPool2D())\n",
    "    model.add(keras.layers.Flatten())\n",
    "    model.add(keras.layers.Dense(5, activation=\"softmax\"))\n",
    "    \n",
    "    model.compile(loss=keras.losses.sparse_categorical_crossentropy, \n",
    "                  optimizer=\"nadam\", \n",
    "                  metrics=keras.metrics.sparse_categorical_accuracy)\n",
    "    \n",
    "    model_target = os.path.join(BASE_DIR, \"models\", \"mini_resnet_9cl.h5\")\n",
    "    checkpoint_cb = keras.callbacks.ModelCheckpoint(model_target, save_best_only=True)\n",
    "    early_stop_cb = keras.callbacks.EarlyStopping(patience=10)\n",
    "    callbacks = [checkpoint_cb, early_stop_cb]\n",
    "    \n",
    "    return model, callbacks"
   ]
  }
 ],
 "metadata": {
  "kernelspec": {
   "display_name": "Python 3 (ipykernel)",
   "language": "python",
   "name": "python3"
  },
  "language_info": {
   "codemirror_mode": {
    "name": "ipython",
    "version": 3
   },
   "file_extension": ".py",
   "mimetype": "text/x-python",
   "name": "python",
   "nbconvert_exporter": "python",
   "pygments_lexer": "ipython3",
   "version": "3.9.9"
  }
 },
 "nbformat": 4,
 "nbformat_minor": 5
}
