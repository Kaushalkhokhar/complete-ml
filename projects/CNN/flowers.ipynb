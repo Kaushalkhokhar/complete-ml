{
 "cells": [
  {
   "cell_type": "code",
   "execution_count": 1,
   "id": "ed320900",
   "metadata": {},
   "outputs": [
    {
     "data": {
      "text/plain": [
       "227"
      ]
     },
     "execution_count": 1,
     "metadata": {},
     "output_type": "execute_result"
    }
   ],
   "source": [
    "import gc\n",
    "gc.collect()"
   ]
  },
  {
   "cell_type": "code",
   "execution_count": 2,
   "id": "f8548c11",
   "metadata": {},
   "outputs": [],
   "source": [
    "import numpy as np\n",
    "import pandas as pd\n",
    "import matplotlib as mpl\n",
    "import matplotlib.pyplot as plt\n",
    "%matplotlib inline"
   ]
  },
  {
   "cell_type": "code",
   "execution_count": 3,
   "id": "0ccb23e2",
   "metadata": {},
   "outputs": [],
   "source": [
    "import tensorflow as tf\n",
    "from tensorflow import keras"
   ]
  },
  {
   "cell_type": "code",
   "execution_count": 4,
   "id": "fc779a2d",
   "metadata": {},
   "outputs": [
    {
     "name": "stdout",
     "output_type": "stream",
     "text": [
      "Number of available GPU's:  1\n"
     ]
    }
   ],
   "source": [
    "print(\"Number of available GPU's: \", len(tf.config.experimental.list_physical_devices(\"GPU\")))"
   ]
  },
  {
   "cell_type": "code",
   "execution_count": 5,
   "id": "eaba9ec8",
   "metadata": {},
   "outputs": [
    {
     "data": {
      "text/plain": [
       "'D:\\\\TheCompleteML\\\\projects'"
      ]
     },
     "execution_count": 5,
     "metadata": {},
     "output_type": "execute_result"
    }
   ],
   "source": [
    "import os\n",
    "if \"CNN\" in os.path.abspath(os.curdir): os.chdir(\"..\")\n",
    "BASE_DIR = os.path.abspath(os.curdir)\n",
    "BASE_DIR"
   ]
  },
  {
   "cell_type": "code",
   "execution_count": 6,
   "id": "a4a7d8f3",
   "metadata": {},
   "outputs": [],
   "source": [
    "data_dir = os.path.join(BASE_DIR, \"datasets\", \"classification\", \"flowers\")"
   ]
  },
  {
   "cell_type": "code",
   "execution_count": 7,
   "id": "1158c94c",
   "metadata": {},
   "outputs": [],
   "source": [
    "data_dirs = [os.path.join(data_dir, dir_) for dir_ in os.listdir(data_dir) if \"processed\" not in dir_]"
   ]
  },
  {
   "cell_type": "code",
   "execution_count": 8,
   "id": "7b26ede8",
   "metadata": {},
   "outputs": [
    {
     "data": {
      "text/plain": [
       "['D:\\\\TheCompleteML\\\\projects\\\\datasets\\\\classification\\\\flowers\\\\daisy',\n",
       " 'D:\\\\TheCompleteML\\\\projects\\\\datasets\\\\classification\\\\flowers\\\\dandelion',\n",
       " 'D:\\\\TheCompleteML\\\\projects\\\\datasets\\\\classification\\\\flowers\\\\rose',\n",
       " 'D:\\\\TheCompleteML\\\\projects\\\\datasets\\\\classification\\\\flowers\\\\sunflower',\n",
       " 'D:\\\\TheCompleteML\\\\projects\\\\datasets\\\\classification\\\\flowers\\\\tulip']"
      ]
     },
     "execution_count": 8,
     "metadata": {},
     "output_type": "execute_result"
    }
   ],
   "source": [
    "data_dirs"
   ]
  },
  {
   "cell_type": "markdown",
   "id": "d683dd01",
   "metadata": {},
   "source": [
    "## Preprocessing"
   ]
  },
  {
   "cell_type": "code",
   "execution_count": 9,
   "id": "0de12a6c",
   "metadata": {},
   "outputs": [],
   "source": [
    "import random\n",
    "from skimage import io\n",
    "\n",
    "class loading_and_splitting:\n",
    "    \n",
    "    def __init__(self, data_dirs, dims, channels=3, target_dir=data_dir):\n",
    "        self.total_images = 0\n",
    "        self.minh = np.inf\n",
    "        self.minw = np.inf\n",
    "        self.dims = dims\n",
    "        self.channels = channels\n",
    "        self.target_dir = target_dir\n",
    "        self.data_dirs = data_dirs\n",
    "        self.class_map = {k:v.split(\"\\\\\")[-1] for k, v in enumerate(data_dirs)}\n",
    "        \n",
    "        self.header_list = [f\"x{i}\" for i in range(self.dims[0]*self.dims[1]*self.channels)] + [\"label\"]\n",
    "        self.sample_list = [random.sample(range(len(os.listdir(path))), \n",
    "                                          len(os.listdir(path))) for path in data_dirs]\n",
    "        for item in self.sample_list:\n",
    "            self.total_images += len(item)\n",
    "        self.generate_samples()\n",
    "        \n",
    "    \n",
    "    def generate_csvs(self):\n",
    "        header_list = [f\"x{i}\" for i in range(self.dims[0]*self.dims[1]*self.channels)] + [\"label\"]\n",
    "        for set_ in [\"train\", \"valid\", \"test\"]:\n",
    "            with open(os.path.join(self.target_dir, f\"{set_}.csv\"), \"w\") as f:\n",
    "                df = pd.DataFrame(list(), columns=header_list)\n",
    "                df.to_csv(f, index=False)\n",
    "                \n",
    "    def generate_samples(self):\n",
    "        self.sample_seq = random.sample(range(self.total_images), self.total_images)\n",
    "        self.train_seq = self.sample_seq[:int(len(self.sample_seq)*0.8)]\n",
    "        self.valid_seq = self.sample_seq[int(len(self.sample_seq)*0.8):int(len(self.sample_seq)*0.9)]\n",
    "        self.test_seq = self.sample_seq[int(len(self.sample_seq)*0.9):]\n",
    "    \n",
    "    def crop_image(self, image):\n",
    "        h, w, d = image.shape\n",
    "        if h >= self.minh and w >= self.minw:\n",
    "            image = image[int(h/2)-64:int(h/2)+64, \n",
    "                          int(w/2)-64:int(w/2)+64, \n",
    "                          :]\n",
    "            return image\n",
    "    \n",
    "    def crop_or_pad(self, image):\n",
    "        image = tf.image.resize_with_crop_or_pad(image, self.dims[0], self.dims[0])\n",
    "        return image.numpy()\n",
    "    \n",
    "    def shuffle_and_save(self):\n",
    "        empty = []\n",
    "        train = np.zeros((1, self.dims[0]*self.dims[1]*self.channels + 1))\n",
    "        valid = np.zeros((1, self.dims[0]*self.dims[1]*self.channels + 1))\n",
    "        test = np.zeros((1, self.dims[0]*self.dims[1]*self.channels + 1))\n",
    "        count = 0\n",
    "        while len(empty) != len(self.data_dirs):\n",
    "            sel_dir = np.random.randint(0, len(self.data_dirs))\n",
    "            if sel_dir in empty: continue\n",
    "            dir_ = self.data_dirs[sel_dir]\n",
    "            if not self.sample_list[sel_dir]:\n",
    "                empty.append(sel_dir)\n",
    "            else:\n",
    "                count += 1\n",
    "                print(f\"Processing: {count}\")\n",
    "                sel_image = self.sample_list[sel_dir].pop()\n",
    "                image = io.imread(os.path.join(dir_, os.listdir(dir_)[sel_image]))\n",
    "                \n",
    "                h, w, d = image.shape\n",
    "                if h < self.minh: self.minh = h\n",
    "                if w < self.minw: self.minw = w\n",
    "                if self.minh < self.dims[0]: self.minh = self.dims[0]\n",
    "                if self.minw < self.dims[1]: self.minw = self.dims[1]\n",
    "                \n",
    "                # image = self.crop_image(image)\n",
    "                image = self.crop_or_pad(image)\n",
    "                \n",
    "                if not isinstance(image, np.ndarray): continue\n",
    "                if sel_image in self.train_seq: \n",
    "                    train = np.append(train, np.append(image.flatten(), sel_dir).reshape(1,-1), axis=0)\n",
    "                elif sel_image in self.valid_seq: \n",
    "                    valid = np.append(valid, np.append(image.flatten(), sel_dir).reshape(1,-1), axis=0)\n",
    "                elif sel_image in self.test_seq: \n",
    "                    test = np.append(test, np.append(image.flatten(), sel_dir).reshape(1,-1), axis=0)\n",
    "        \n",
    "        train = train[1:, :]\n",
    "        valid = valid[1:, :]\n",
    "        test = test[1:, :]\n",
    "        \n",
    "        for prefix, arr in zip([\"train\", \"valid\", \"test\"], [train, valid, test]):\n",
    "            self.split_and_save(arr, os.path.join(self.target_dir, \"processed\", prefix), prefix)\n",
    "        \n",
    "    def split_and_save(self, arr, target_dir, prefix, split_count=10):\n",
    "        os.makedirs(target_dir, exist_ok=True)\n",
    "        for i in range(split_count):\n",
    "            df = pd.DataFrame(arr[i*int(arr.shape[0]//split_count):(i+1)*int(arr.shape[0]//split_count), :], \n",
    "                             columns=self.header_list)\n",
    "            df.to_csv(os.path.join(target_dir, \"{}_{}.csv\".format(prefix, i+1)), index=False)"
   ]
  },
  {
   "cell_type": "code",
   "execution_count": 10,
   "id": "5caf76c8",
   "metadata": {},
   "outputs": [
    {
     "data": {
      "text/plain": [
       "{0: 'daisy', 1: 'dandelion', 2: 'rose', 3: 'sunflower', 4: 'tulip'}"
      ]
     },
     "execution_count": 10,
     "metadata": {},
     "output_type": "execute_result"
    }
   ],
   "source": [
    "dims = (150, 150)\n",
    "channels = 3\n",
    "n_features = dims[0] * dims[1] * channels\n",
    "ls = loading_and_splitting(data_dirs=data_dirs, dims=dims, channels=channels, target_dir=data_dir)\n",
    "class_map = ls.class_map\n",
    "class_map\n",
    "# ls.shuffle_and_save()"
   ]
  },
  {
   "cell_type": "code",
   "execution_count": 11,
   "id": "5ae2df9e",
   "metadata": {},
   "outputs": [],
   "source": [
    "set_dir = os.path.join(data_dir, \"processed\")\n",
    "train_paths = [f\"{os.path.join(set_dir, 'train')}\\\\{item}\" for item in os.listdir(os.path.join(set_dir, \"train\"))]\n",
    "valid_paths = [f\"{os.path.join(set_dir, 'valid')}\\\\{item}\" for item in os.listdir(os.path.join(set_dir, \"valid\"))]\n",
    "test_paths = [f\"{os.path.join(set_dir, 'test')}\\\\{item}\" for item in os.listdir(os.path.join(set_dir, \"test\"))]"
   ]
  },
  {
   "cell_type": "code",
   "execution_count": 12,
   "id": "37a7146c",
   "metadata": {},
   "outputs": [],
   "source": [
    "data_augmentation = tf.keras.Sequential([keras.layers.RandomFlip(\"horizontal_and_vertical\"), \n",
    "                                         keras.layers.RandomRotation(0.2),\n",
    "                                         keras.layers.RandomContrast(0.5),\n",
    "                                         keras.layers.RandomZoom((-0.3, 0.3), (-0.3, 0.3))\n",
    "                                         ])\n",
    "\n",
    "def preprocess(line):\n",
    "    defs = [tf.constant([], dtype = tf.float32)] * (n_features + 1)\n",
    "    xy = tf.io.decode_csv(line, record_defaults=defs)\n",
    "    X = tf.stack(xy[:-1])\n",
    "    y = tf.stack(xy[-1:])\n",
    "    \n",
    "    # prcessing steps\n",
    "    X = tf.divide(X, 255)\n",
    "    X = tf.reshape(X, [dims[0], dims[1], channels])\n",
    "    X = data_augmentation(X)\n",
    "    X = tf.image.rot90(X)\n",
    "    X = tf.image.random_brightness(X, 0.2)\n",
    "    \n",
    "    return X, y\n",
    "\n",
    "\n",
    "def preprocess_test(X):\n",
    "    # prcessing steps\n",
    "    \n",
    "    X = tf.image.resize_with_crop_or_pad(X, 150 ,150)\n",
    "    X = data_augmentation(X)\n",
    "    X = tf.image.rot90(X)\n",
    "    X = tf.image.random_brightness(X, 0.2)\n",
    "    X = tf.divide(X, 255)\n",
    "    \n",
    "    return X"
   ]
  },
  {
   "cell_type": "code",
   "execution_count": 13,
   "id": "8d419350",
   "metadata": {},
   "outputs": [],
   "source": [
    "def read_csv_pipeline(paths, n_readers, n_repeat, shuffle_buffer_size, n_read_threds, n_parse_threads, batch_size):\n",
    "    filepaths = tf.data.Dataset.list_files(paths, seed=42)\n",
    "    dataset = filepaths.interleave(lambda filepath: tf.data.TextLineDataset(filepath).skip(1), cycle_length=n_readers)\n",
    "    dataset = dataset.shuffle(shuffle_buffer_size).repeat(n_repeat)\n",
    "    dataset = dataset.map(preprocess, num_parallel_calls=n_parse_threads)\n",
    "    return dataset.batch(batch_size).prefetch(1)"
   ]
  },
  {
   "cell_type": "code",
   "execution_count": null,
   "id": "7532e586",
   "metadata": {},
   "outputs": [],
   "source": [
    "n_readers = 5\n",
    "n_repeat = 8\n",
    "shuffle_buffer_size = 400\n",
    "n_read_threads = None\n",
    "n_parse_threads = 5\n",
    "batch_size = 32\n",
    "\n",
    "train_set = read_csv_pipeline(train_paths, n_readers, \n",
    "                              n_repeat, shuffle_buffer_size, \n",
    "                              n_read_threads, n_parse_threads, \n",
    "                              batch_size)\n",
    "\n",
    "valid_set = read_csv_pipeline(valid_paths, n_readers, \n",
    "                              n_repeat, shuffle_buffer_size, \n",
    "                              n_read_threads, n_parse_threads, \n",
    "                              batch_size)\n",
    "\n",
    "test_set = read_csv_pipeline(test_paths, n_readers, \n",
    "                              n_repeat, shuffle_buffer_size, \n",
    "                              n_read_threads, n_parse_threads, \n",
    "                              batch_size)"
   ]
  },
  {
   "cell_type": "markdown",
   "id": "c2c5fd09",
   "metadata": {},
   "source": [
    "### Model Training"
   ]
  },
  {
   "cell_type": "code",
   "execution_count": null,
   "id": "fc997a88",
   "metadata": {},
   "outputs": [],
   "source": [
    "class ResidualLayer(keras.layers.Layer):\n",
    "    \n",
    "    def __init__(self, fm, strides=1, ksize=3, padding=\"same\", activation=\"relu\", **kwargs):\n",
    "        super().__init__(**kwargs)\n",
    "        self.fm = fm\n",
    "        self.ksize = ksize\n",
    "        self.strides = strides\n",
    "        self.padding = padding\n",
    "        self.activation = keras.activations.get(activation)\n",
    "        self.normalization = keras.layers.BatchNormalization()\n",
    "        self.mainc_layers = [keras.layers.Conv2D(self.fm, \n",
    "                                                 kernel_size=self.ksize, \n",
    "                                                 strides=self.strides, \n",
    "                                                 padding=self.padding, \n",
    "                                                 use_bias=False),\n",
    "                            self.normalization, \n",
    "                            self.activation,\n",
    "                            keras.layers.Conv2D(self.fm, \n",
    "                                                kernel_size=self.ksize, \n",
    "                                                strides=1, \n",
    "                                                padding=self.padding, \n",
    "                                                use_bias=False),\n",
    "                            self.normalization]\n",
    "        self.skipc_layers = []\n",
    "        if strides > 1:\n",
    "            self.skipc_layers = [keras.layers.Conv2D(self.fm, \n",
    "                                                     kernel_size=1, \n",
    "                                                     strides=self.strides, \n",
    "                                                     padding=self.padding,\n",
    "                                                     use_bias=False),\n",
    "                                self.normalization]\n",
    "    def get_config(self):\n",
    "        config = super().get_config()\n",
    "        config.update({\"fm\": self.fm,\n",
    "                        \"ksize\": self.ksize,\n",
    "                        \"strides\": self.strides,\n",
    "                        \"padding\": self.padding,\n",
    "                        \"activation\": self.activation\n",
    "                        })\n",
    "        return config\n",
    "    \n",
    "    def call(self, inputs):\n",
    "        z = inputs\n",
    "        for layer in self.mainc_layers:\n",
    "            z = layer(z)\n",
    "        skip_z = inputs\n",
    "        for layer in self.skipc_layers:\n",
    "            skip_z = layer(skip_z)\n",
    "        return self.activation(z+skip_z)"
   ]
  },
  {
   "cell_type": "code",
   "execution_count": 27,
   "id": "0a060eef",
   "metadata": {},
   "outputs": [],
   "source": [
    "keras.backend.clear_session()\n",
    "np.random.seed(42)\n",
    "tf.random.set_seed(42)\n",
    "\n",
    "def resnet_model():\n",
    "\n",
    "    model = keras.models.Sequential()\n",
    "    model.add(keras.layers.Conv2D(filters=64, kernel_size=7, \n",
    "                                  strides=2, padding=\"same\", \n",
    "                                  use_bias=False,\n",
    "                                  input_shape=[dims[0], dims[1], channels]))\n",
    "    model.add(keras.layers.Normalization())\n",
    "    model.add(keras.layers.Activation(\"relu\"))\n",
    "    model.add(keras.layers.MaxPool2D(pool_size=2)) # pool size is three, strides is 2 and padding is same\n",
    "    pfm = 64\n",
    "    for fm in [64] * 3 + [128] * 4 + [256] * 6 + [512] * 6: # 512 should be repeated 3 times instead of 6\n",
    "        strides = 1 if fm == pfm else 2\n",
    "        model.add(ResidualLayer(fm=fm, strides=strides))\n",
    "        pfm = fm\n",
    "    model.add(keras.layers.GlobalAvgPool2D())\n",
    "    model.add(keras.layers.Flatten())\n",
    "    model.add(keras.layers.Dense(5, activation=\"softmax\"))\n",
    "    \n",
    "    model.compile(loss=keras.losses.sparse_categorical_crossentropy, \n",
    "              optimizer=keras.optimizers.Nadam(),\n",
    "              metrics=keras.metrics.sparse_categorical_accuracy)\n",
    "    \n",
    "    model_target = os.path.join(BASE_DIR, \"models\", \"flowers_cnn_with_resnet_model.h5\")\n",
    "    checkpoint_cb = keras.callbacks.ModelCheckpoint(model_target, save_best_only=True)\n",
    "    early_stop_cb = keras.callbacks.EarlyStopping(patience=10)\n",
    "    callbacks = [checkpoint_cb, early_stop_cb]\n",
    "    \n",
    "    return model, callbacks    "
   ]
  },
  {
   "cell_type": "code",
   "execution_count": 24,
   "id": "41e35806",
   "metadata": {},
   "outputs": [],
   "source": [
    "model, callbacks = resnet_model()"
   ]
  },
  {
   "cell_type": "code",
   "execution_count": 26,
   "id": "701d65b4",
   "metadata": {},
   "outputs": [
    {
     "name": "stdout",
     "output_type": "stream",
     "text": [
      "Epoch 1/25\n",
      "325/325 [==============================] - 534s 2s/step - loss: 1.5389 - sparse_categorical_accuracy: 0.4515 - val_loss: 2.0277 - val_sparse_categorical_accuracy: 0.2937\n",
      "Epoch 2/25\n",
      "325/325 [==============================] - 445s 1s/step - loss: 1.0884 - sparse_categorical_accuracy: 0.5789 - val_loss: 1.4646 - val_sparse_categorical_accuracy: 0.3603\n",
      "Epoch 3/25\n",
      "325/325 [==============================] - 351s 1s/step - loss: 0.9444 - sparse_categorical_accuracy: 0.6408 - val_loss: 1.6137 - val_sparse_categorical_accuracy: 0.2341\n",
      "Epoch 4/25\n",
      "325/325 [==============================] - 356s 1s/step - loss: 0.8733 - sparse_categorical_accuracy: 0.6674 - val_loss: 1.9676 - val_sparse_categorical_accuracy: 0.2389\n",
      "Epoch 5/25\n",
      "325/325 [==============================] - 349s 1s/step - loss: 0.7960 - sparse_categorical_accuracy: 0.6980 - val_loss: 1.6316 - val_sparse_categorical_accuracy: 0.3865\n",
      "Epoch 6/25\n",
      "325/325 [==============================] - 360s 1s/step - loss: 0.7178 - sparse_categorical_accuracy: 0.7359 - val_loss: 8.0242 - val_sparse_categorical_accuracy: 0.2198\n",
      "Epoch 7/25\n",
      "325/325 [==============================] - 339s 1s/step - loss: 0.6914 - sparse_categorical_accuracy: 0.7455 - val_loss: 3.6096 - val_sparse_categorical_accuracy: 0.2841\n",
      "Epoch 8/25\n",
      "325/325 [==============================] - 339s 1s/step - loss: 0.6408 - sparse_categorical_accuracy: 0.7649 - val_loss: 1.6123 - val_sparse_categorical_accuracy: 0.3143\n",
      "Epoch 9/25\n",
      "325/325 [==============================] - 343s 1s/step - loss: 0.5900 - sparse_categorical_accuracy: 0.7805 - val_loss: 1.4210 - val_sparse_categorical_accuracy: 0.3500\n",
      "Epoch 10/25\n",
      "325/325 [==============================] - 344s 1s/step - loss: 0.5553 - sparse_categorical_accuracy: 0.7950 - val_loss: 3.8512 - val_sparse_categorical_accuracy: 0.3302\n",
      "Epoch 11/25\n",
      "325/325 [==============================] - 344s 1s/step - loss: 0.5025 - sparse_categorical_accuracy: 0.8101 - val_loss: 1.7140 - val_sparse_categorical_accuracy: 0.2571\n",
      "Epoch 12/25\n",
      "325/325 [==============================] - 343s 1s/step - loss: 0.4803 - sparse_categorical_accuracy: 0.8227 - val_loss: 1.5824 - val_sparse_categorical_accuracy: 0.3460\n",
      "Epoch 13/25\n",
      "325/325 [==============================] - 342s 1s/step - loss: 0.4257 - sparse_categorical_accuracy: 0.8391 - val_loss: 1.5369 - val_sparse_categorical_accuracy: 0.3873\n",
      "Epoch 14/25\n",
      "325/325 [==============================] - 441s 1s/step - loss: 0.3981 - sparse_categorical_accuracy: 0.8531 - val_loss: 2.0978 - val_sparse_categorical_accuracy: 0.2325\n",
      "Epoch 15/25\n",
      "325/325 [==============================] - 498s 2s/step - loss: 0.3378 - sparse_categorical_accuracy: 0.8753 - val_loss: 1.5181 - val_sparse_categorical_accuracy: 0.4206\n",
      "Epoch 16/25\n",
      "325/325 [==============================] - 737s 2s/step - loss: 0.3031 - sparse_categorical_accuracy: 0.8866 - val_loss: 1.5073 - val_sparse_categorical_accuracy: 0.3008\n",
      "Epoch 17/25\n",
      "325/325 [==============================] - 538s 2s/step - loss: 0.2743 - sparse_categorical_accuracy: 0.9027 - val_loss: 1.7893 - val_sparse_categorical_accuracy: 0.2579\n",
      "Epoch 18/25\n",
      "325/325 [==============================] - 517s 2s/step - loss: 0.2292 - sparse_categorical_accuracy: 0.9152 - val_loss: 1.7341 - val_sparse_categorical_accuracy: 0.2579\n",
      "Epoch 19/25\n",
      "325/325 [==============================] - 504s 2s/step - loss: 0.2045 - sparse_categorical_accuracy: 0.9302 - val_loss: 1.6915 - val_sparse_categorical_accuracy: 0.2238\n"
     ]
    }
   ],
   "source": [
    "history = model.fit(train_set, epochs=25, validation_data=valid_set,\n",
    "                   callbacks=callbacks)"
   ]
  },
  {
   "cell_type": "code",
   "execution_count": 63,
   "id": "eee35e9c",
   "metadata": {},
   "outputs": [],
   "source": [
    "def plot_losses_and_accuracy(history, ylim=(0, 1)):\n",
    "    pd.DataFrame(history.history).plot(figsize=(8, 5)) \n",
    "    plt.grid(True) \n",
    "    plt.gca().set_ylim(*ylim) # set the vertical range to [0-1] \n",
    "    plt.show()"
   ]
  },
  {
   "cell_type": "code",
   "execution_count": 67,
   "id": "da83244d",
   "metadata": {
    "collapsed": true
   },
   "outputs": [
    {
     "data": {
      "image/png": "[encoded data removed]",
      "text/plain": [
       "<Figure size 576x360 with 1 Axes>"
      ]
     },
     "metadata": {
      "needs_background": "light"
     },
     "output_type": "display_data"
    }
   ],
   "source": [
    "plot_losses_and_accuracy(history, ylim=(0, 3))"
   ]
  },
  {
   "cell_type": "markdown",
   "id": "90a1cfe2",
   "metadata": {},
   "source": [
    "##### Observations\n",
    "\n",
    "Here model clearly seems to have overfitting. So we need to put some constraints to reduce the overfitting\n",
    "\n",
    "Constraints to reduce overfitting for CNN\n",
    "- Reduce layers and hidden units\n",
    "- Regularization\n",
    "- Weight Initilizatin\n",
    "- Dropout Regularization\n",
    "- Weight Constraints\n",
    "- Other methods"
   ]
  },
  {
   "cell_type": "code",
   "execution_count": 187,
   "id": "2ed13df8",
   "metadata": {},
   "outputs": [],
   "source": [
    "keras.backend.clear_session()\n",
    "np.random.seed(42)\n",
    "tf.random.set_seed(42)\n",
    "\n",
    "\n",
    "def cnn_mp_r3_de():\n",
    "    \"\"\"\n",
    "    name ecodes the model architecture\n",
    "    cnn followed by max pooling repeated three times, followed by dense layer\n",
    "    \"\"\"\n",
    "\n",
    "    model = keras.models.Sequential()\n",
    "    model.add(keras.layers.Conv2D(64, kernel_size=5, \n",
    "                                  strides=2, padding=\"same\", \n",
    "                                  use_bias=False, \n",
    "                                  input_shape=[dims[0], dims[0], channels], \n",
    "                                  activation=\"relu\"))\n",
    "    model.add(keras.layers.MaxPool2D(pool_size=2))\n",
    "    model.add(keras.layers.Conv2D(128, kernel_size=3, \n",
    "                                  strides=1, padding=\"same\", \n",
    "                                  use_bias=False, \n",
    "                                  activation=\"relu\"))\n",
    "    model.add(keras.layers.MaxPool2D(pool_size=2))\n",
    "    model.add(keras.layers.Conv2D(256, kernel_size=3, \n",
    "                                  strides=1, padding=\"same\", \n",
    "                                  use_bias=False, \n",
    "                                  activation=\"relu\"))\n",
    "    model.add(keras.layers.MaxPool2D(pool_size=2))\n",
    "    model.add(keras.layers.Flatten())\n",
    "    model.add(keras.layers.Dropout(0.3))\n",
    "    model.add(keras.layers.Dense(64, activation=\"relu\"))\n",
    "    model.add(keras.layers.Dropout(0.3))\n",
    "    model.add(keras.layers.Dense(5, activation=\"softmax\"))\n",
    "    \n",
    "    model.compile(loss=keras.losses.sparse_categorical_crossentropy, \n",
    "                  optimizer=\"nadam\", \n",
    "                  metrics=keras.metrics.sparse_categorical_accuracy)\n",
    "    \n",
    "    model_target = os.path.join(BASE_DIR, \"models\", \"flowers_cnn_mp_r3_de.h5\")\n",
    "    checkpoint_cb = keras.callbacks.ModelCheckpoint(model_target, save_best_only=True)\n",
    "    early_stop_cb = keras.callbacks.EarlyStopping(patience=10)\n",
    "    callbacks = [checkpoint_cb, early_stop_cb]\n",
    "    \n",
    "    return model, callbacks"
   ]
  },
  {
   "cell_type": "code",
   "execution_count": 188,
   "id": "6cf352e8",
   "metadata": {},
   "outputs": [],
   "source": [
    "model, callbacks = cnn_mp_r3_de()"
   ]
  },
  {
   "cell_type": "code",
   "execution_count": 192,
   "id": "ec1b13da",
   "metadata": {},
   "outputs": [
    {
     "name": "stdout",
     "output_type": "stream",
     "text": [
      "Epoch 1/25\n",
      "865/865 [==============================] - 901s 1s/step - loss: 1.2241 - sparse_categorical_accuracy: 0.4967 - val_loss: 1.0431 - val_sparse_categorical_accuracy: 0.5890\n",
      "Epoch 2/25\n",
      "865/865 [==============================] - 919s 1s/step - loss: 1.0072 - sparse_categorical_accuracy: 0.6105 - val_loss: 0.9015 - val_sparse_categorical_accuracy: 0.6292\n",
      "Epoch 3/25\n",
      "865/865 [==============================] - 950s 1s/step - loss: 0.8769 - sparse_categorical_accuracy: 0.6632 - val_loss: 0.8222 - val_sparse_categorical_accuracy: 0.6676\n",
      "Epoch 4/25\n",
      "865/865 [==============================] - 920s 1s/step - loss: 0.8119 - sparse_categorical_accuracy: 0.6933 - val_loss: 0.7644 - val_sparse_categorical_accuracy: 0.7042\n",
      "Epoch 5/25\n",
      "865/865 [==============================] - 913s 1s/step - loss: 0.7554 - sparse_categorical_accuracy: 0.7133 - val_loss: 0.7606 - val_sparse_categorical_accuracy: 0.7065\n",
      "Epoch 6/25\n",
      "865/865 [==============================] - 923s 1s/step - loss: 0.6971 - sparse_categorical_accuracy: 0.7374 - val_loss: 0.7478 - val_sparse_categorical_accuracy: 0.7146\n",
      "Epoch 7/25\n",
      "865/865 [==============================] - 926s 1s/step - loss: 0.6548 - sparse_categorical_accuracy: 0.7531 - val_loss: 0.7039 - val_sparse_categorical_accuracy: 0.7375\n",
      "Epoch 8/25\n",
      "865/865 [==============================] - 1597s 2s/step - loss: 0.6293 - sparse_categorical_accuracy: 0.7603 - val_loss: 0.7217 - val_sparse_categorical_accuracy: 0.7324\n",
      "Epoch 9/25\n",
      "865/865 [==============================] - 908s 1s/step - loss: 0.6105 - sparse_categorical_accuracy: 0.7697 - val_loss: 0.6650 - val_sparse_categorical_accuracy: 0.7458\n",
      "Epoch 10/25\n",
      "865/865 [==============================] - 874s 1s/step - loss: 0.5823 - sparse_categorical_accuracy: 0.7775 - val_loss: 0.7178 - val_sparse_categorical_accuracy: 0.7452\n",
      "Epoch 11/25\n",
      "865/865 [==============================] - 1390s 2s/step - loss: 0.5547 - sparse_categorical_accuracy: 0.7865 - val_loss: 0.6564 - val_sparse_categorical_accuracy: 0.7473\n",
      "Epoch 12/25\n",
      "865/865 [==============================] - 931s 1s/step - loss: 0.5368 - sparse_categorical_accuracy: 0.7948 - val_loss: 0.6829 - val_sparse_categorical_accuracy: 0.7574\n",
      "Epoch 13/25\n",
      "865/865 [==============================] - 930s 1s/step - loss: 0.5272 - sparse_categorical_accuracy: 0.8010 - val_loss: 0.7226 - val_sparse_categorical_accuracy: 0.7435\n",
      "Epoch 14/25\n",
      "865/865 [==============================] - 933s 1s/step - loss: 0.5096 - sparse_categorical_accuracy: 0.8051 - val_loss: 0.6982 - val_sparse_categorical_accuracy: 0.7545\n",
      "Epoch 15/25\n",
      "865/865 [==============================] - 1065s 1s/step - loss: 0.4958 - sparse_categorical_accuracy: 0.8121 - val_loss: 0.6867 - val_sparse_categorical_accuracy: 0.7512\n",
      "Epoch 16/25\n",
      "865/865 [==============================] - 883s 1s/step - loss: 0.4945 - sparse_categorical_accuracy: 0.8130 - val_loss: 0.6920 - val_sparse_categorical_accuracy: 0.7711\n",
      "Epoch 17/25\n",
      "865/865 [==============================] - 890s 1s/step - loss: 0.4747 - sparse_categorical_accuracy: 0.8200 - val_loss: 0.6996 - val_sparse_categorical_accuracy: 0.7616\n",
      "Epoch 18/25\n",
      "865/865 [==============================] - 888s 1s/step - loss: 0.4798 - sparse_categorical_accuracy: 0.8201 - val_loss: 0.7401 - val_sparse_categorical_accuracy: 0.7473\n",
      "Epoch 19/25\n",
      "865/865 [==============================] - 892s 1s/step - loss: 0.4596 - sparse_categorical_accuracy: 0.8283 - val_loss: 0.7139 - val_sparse_categorical_accuracy: 0.7455\n",
      "Epoch 20/25\n",
      "865/865 [==============================] - 885s 1s/step - loss: 0.4431 - sparse_categorical_accuracy: 0.8324 - val_loss: 0.6929 - val_sparse_categorical_accuracy: 0.7693\n",
      "Epoch 21/25\n",
      "865/865 [==============================] - 894s 1s/step - loss: 0.4259 - sparse_categorical_accuracy: 0.8407 - val_loss: 0.7567 - val_sparse_categorical_accuracy: 0.7482\n"
     ]
    }
   ],
   "source": [
    "history = model.fit(train_set, epochs=25, \n",
    "                    validation_data=valid_set, callbacks=callbacks)"
   ]
  },
  {
   "cell_type": "markdown",
   "id": "09b38fe9",
   "metadata": {},
   "source": [
    "##### Observations\n",
    "\n",
    "Here we have a vanishing gradient problem, we can use following aproch to reduce it. \n",
    "\n",
    "- He normal initializer with relu activations\n",
    "- Batch Normalization\n",
    "- Add some layers with reidualnetwork \n",
    "- Dropouts should be added to reduce the overfitting\n",
    "\n",
    "\n",
    "One approch is to use lower layers of already trained netowrk and implement some normalization, initilization and dropout techniques to appended layers and make freeze all the pretrained layer during training this updated model. But important point is that tranfer learning aproch will not work well for small dense network as compare to DNN,beacause lower layers in DNN learned more general patterns so can be usefull and improved."
   ]
  },
  {
   "cell_type": "code",
   "execution_count": null,
   "id": "cbf1bc55",
   "metadata": {},
   "outputs": [],
   "source": [
    "keras.backend.clear_session()\n",
    "np.random.seed(42)\n",
    "tf.random.set_seed(42)\n",
    "\n",
    "def mini_resnet_9cl():\n",
    "    \n",
    "    model = keras.models.Sequential()\n",
    "    model.add(keras.layers.Conv2D(filters=64,\n",
    "                                kernel_size=5, \n",
    "                                strides=2, \n",
    "                                padding=\"same\", \n",
    "                                use_bias=False, \n",
    "                                input_shape=[dims[0], dims[1], channels]))\n",
    "    model.add(keras.layers.BatchNormalization())\n",
    "    model.add(keras.layers.Activation(\"relu\"))\n",
    "    model.add(keras.layers.MaxPool2D(pool_size=3, strides=2, padding=\"same\"))\n",
    "    pfm = 64\n",
    "    for fm in [64, 128, 256, 512]:\n",
    "        strides = 1 if pfm == fm else 2\n",
    "        model.add(ResidualLayer(fm=fm, strides=strides))\n",
    "        pfm = fm\n",
    "    model.add(keras.layers.GlobalAvgPool2D())\n",
    "    model.add(keras.layers.Flatten())\n",
    "    model.add(keras.layers.Dense(5, activation=\"softmax\"))\n",
    "    \n",
    "    model.compile(loss=keras.losses.sparse_categorical_crossentropy, \n",
    "                  optimizer=\"nadam\", \n",
    "                  metrics=keras.metrics.sparse_categorical_accuracy)\n",
    "    \n",
    "    model_target = os.path.join(BASE_DIR, \"models\", \"mini_resnet_9cl.h5\")\n",
    "    checkpoint_cb = keras.callbacks.ModelCheckpoint(model_target, save_best_only=True)\n",
    "    early_stop_cb = keras.callbacks.EarlyStopping(patience=10)\n",
    "    callbacks = [checkpoint_cb, early_stop_cb]\n",
    "    \n",
    "    return model, callbacks"
   ]
  },
  {
   "cell_type": "code",
   "execution_count": null,
   "id": "b8287bee",
   "metadata": {},
   "outputs": [],
   "source": [
    "model, callbacks = mini_resnet_9cl()"
   ]
  },
  {
   "cell_type": "code",
   "execution_count": null,
   "id": "c20e576f",
   "metadata": {},
   "outputs": [],
   "source": [
    "history = model.fit(train_set, epochs=25, validation_data=valid_set, callbacks=callbacks)"
   ]
  },
  {
   "cell_type": "code",
   "execution_count": null,
   "id": "e74d4dc4",
   "metadata": {},
   "outputs": [],
   "source": []
  },
  {
   "cell_type": "code",
   "execution_count": null,
   "id": "68526f6a",
   "metadata": {},
   "outputs": [],
   "source": []
  },
  {
   "cell_type": "code",
   "execution_count": null,
   "id": "08b8612b",
   "metadata": {},
   "outputs": [],
   "source": []
  },
  {
   "cell_type": "code",
   "execution_count": null,
   "id": "f60747c2",
   "metadata": {},
   "outputs": [],
   "source": []
  },
  {
   "cell_type": "code",
   "execution_count": null,
   "id": "d6c4b2d6",
   "metadata": {},
   "outputs": [],
   "source": []
  },
  {
   "cell_type": "code",
   "execution_count": null,
   "id": "e3a9208f",
   "metadata": {},
   "outputs": [],
   "source": []
  },
  {
   "cell_type": "code",
   "execution_count": null,
   "id": "9fdb0b6c",
   "metadata": {},
   "outputs": [],
   "source": []
  }
 ],
 "metadata": {
  "kernelspec": {
   "display_name": "Python 3 (ipykernel)",
   "language": "python",
   "name": "python3"
  },
  "language_info": {
   "codemirror_mode": {
    "name": "ipython",
    "version": 3
   },
   "file_extension": ".py",
   "mimetype": "text/x-python",
   "name": "python",
   "nbconvert_exporter": "python",
   "pygments_lexer": "ipython3",
   "version": "3.9.9"
  }
 },
 "nbformat": 4,
 "nbformat_minor": 5
}
