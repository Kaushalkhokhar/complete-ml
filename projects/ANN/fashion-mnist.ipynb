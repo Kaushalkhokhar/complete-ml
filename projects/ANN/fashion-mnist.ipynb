{
 "cells": [
  {
   "cell_type": "code",
   "execution_count": 1,
   "id": "81d1ad8b",
   "metadata": {},
   "outputs": [],
   "source": [
    "import tensorflow as tf\n",
    "from tensorflow import keras"
   ]
  },
  {
   "cell_type": "code",
   "execution_count": 2,
   "id": "5f22cd97",
   "metadata": {},
   "outputs": [
    {
     "data": {
      "text/plain": [
       "'2.7.0'"
      ]
     },
     "execution_count": 2,
     "metadata": {},
     "output_type": "execute_result"
    }
   ],
   "source": [
    "tf.__version__"
   ]
  },
  {
   "cell_type": "code",
   "execution_count": 3,
   "id": "e7c4c614",
   "metadata": {},
   "outputs": [
    {
     "data": {
      "text/plain": [
       "'2.7.0'"
      ]
     },
     "execution_count": 3,
     "metadata": {},
     "output_type": "execute_result"
    }
   ],
   "source": [
    "keras.__version__"
   ]
  },
  {
   "cell_type": "code",
   "execution_count": 4,
   "id": "f13e6dd3",
   "metadata": {},
   "outputs": [],
   "source": [
    "fashion_mnist = keras.datasets.fashion_mnist"
   ]
  },
  {
   "cell_type": "code",
   "execution_count": 5,
   "id": "cc3fffb3",
   "metadata": {},
   "outputs": [
    {
     "name": "stdout",
     "output_type": "stream",
     "text": [
      "Downloading data from https://storage.googleapis.com/tensorflow/tf-keras-datasets/train-labels-idx1-ubyte.gz\n",
      "32768/29515 [=================================] - 0s 1us/step\n",
      "40960/29515 [=========================================] - 0s 1us/step\n",
      "Downloading data from https://storage.googleapis.com/tensorflow/tf-keras-datasets/train-images-idx3-ubyte.gz\n",
      "26427392/26421880 [==============================] - 4s 0us/step\n",
      "26435584/26421880 [==============================] - 4s 0us/step\n",
      "Downloading data from https://storage.googleapis.com/tensorflow/tf-keras-datasets/t10k-labels-idx1-ubyte.gz\n",
      "16384/5148 [===============================================================================================] - 0s 0s/step\n",
      "Downloading data from https://storage.googleapis.com/tensorflow/tf-keras-datasets/t10k-images-idx3-ubyte.gz\n",
      "4423680/4422102 [==============================] - 1s 0us/step\n",
      "4431872/4422102 [==============================] - 1s 0us/step\n"
     ]
    }
   ],
   "source": [
    "(X_train_full, y_train_full), (X_test, y_test) = fashion_mnist.load_data()"
   ]
  },
  {
   "cell_type": "code",
   "execution_count": 7,
   "id": "467ba34d",
   "metadata": {},
   "outputs": [
    {
     "data": {
      "text/plain": [
       "(60000, 28, 28)"
      ]
     },
     "execution_count": 7,
     "metadata": {},
     "output_type": "execute_result"
    }
   ],
   "source": [
    "X_train_full.shape"
   ]
  },
  {
   "cell_type": "code",
   "execution_count": 8,
   "id": "9ea839c9",
   "metadata": {},
   "outputs": [
    {
     "data": {
      "text/plain": [
       "dtype('uint8')"
      ]
     },
     "execution_count": 8,
     "metadata": {},
     "output_type": "execute_result"
    }
   ],
   "source": [
    "X_train_full.dtype"
   ]
  },
  {
   "cell_type": "code",
   "execution_count": 9,
   "id": "cb825830",
   "metadata": {},
   "outputs": [],
   "source": [
    "X_valid, X_train = X_train_full[:5000] / 255.0, X_train_full[5000:] / 255.0\n",
    "y_valid, y_train = y_train_full[:5000], y_train_full[5000:]\n",
    "X_test = X_test / 255.0"
   ]
  },
  {
   "cell_type": "code",
   "execution_count": 10,
   "id": "66416f7f",
   "metadata": {},
   "outputs": [
    {
     "data": {
      "text/plain": [
       "(55000, 28, 28)"
      ]
     },
     "execution_count": 10,
     "metadata": {},
     "output_type": "execute_result"
    }
   ],
   "source": [
    "X_train.shape"
   ]
  },
  {
   "cell_type": "code",
   "execution_count": 11,
   "id": "2e5dc8a4",
   "metadata": {},
   "outputs": [],
   "source": [
    "class_names = [\"T-shirt/ top\", \"Trouser\", \"Pullover\", \"Dress\", \"Coat\", \"Sandal\", \"Shirt\", \"Sneaker\", \"Bag\", \"Ankle boot\"]"
   ]
  },
  {
   "cell_type": "code",
   "execution_count": 12,
   "id": "4312c925",
   "metadata": {},
   "outputs": [
    {
     "data": {
      "text/plain": [
       "4"
      ]
     },
     "execution_count": 12,
     "metadata": {},
     "output_type": "execute_result"
    }
   ],
   "source": [
    "y_train[0]"
   ]
  },
  {
   "cell_type": "code",
   "execution_count": 13,
   "id": "bca2cd0b",
   "metadata": {},
   "outputs": [
    {
     "data": {
      "text/plain": [
       "'Coat'"
      ]
     },
     "execution_count": 13,
     "metadata": {},
     "output_type": "execute_result"
    }
   ],
   "source": [
    "class_names[y_train[0]]"
   ]
  },
  {
   "cell_type": "code",
   "execution_count": 14,
   "id": "0445f4cd",
   "metadata": {},
   "outputs": [],
   "source": [
    "import numpy as np\n",
    "import pandas as pd\n",
    "import matplotlib as mpl\n",
    "import matplotlib.pyplot as plt\n",
    "%matplotlib inline"
   ]
  },
  {
   "cell_type": "code",
   "execution_count": 23,
   "id": "4740ba41",
   "metadata": {},
   "outputs": [
    {
     "data": {
      "image/png": "[encoded data removed]",
      "text/plain": [
       "<Figure size 432x288 with 1 Axes>"
      ]
     },
     "metadata": {
      "needs_background": "light"
     },
     "output_type": "display_data"
    },
    {
     "data": {
      "text/plain": [
       "'Pullover'"
      ]
     },
     "execution_count": 23,
     "metadata": {},
     "output_type": "execute_result"
    }
   ],
   "source": [
    "arg = 50\n",
    "plt.imshow(X_train[arg], cmap=\"gray\")\n",
    "plt.show()\n",
    "class_names[y_train[arg]]"
   ]
  },
  {
   "cell_type": "markdown",
   "id": "a3b1401e",
   "metadata": {},
   "source": [
    "Training a sequential model using keras"
   ]
  },
  {
   "cell_type": "code",
   "execution_count": 26,
   "id": "dc23177a",
   "metadata": {},
   "outputs": [],
   "source": [
    "model = keras.models.Sequential()\n",
    "model.add(keras.layers.Flatten(input_shape=[28, 28]))\n",
    "model.add(keras.layers.Dense(300, activation=\"relu\"))\n",
    "model.add(keras.layers.Dense(100, activation=\"relu\"))\n",
    "model.add(keras.layers.Dense(10, activation=\"softmax\"))"
   ]
  },
  {
   "cell_type": "code",
   "execution_count": null,
   "id": "67dc14c4",
   "metadata": {},
   "outputs": [],
   "source": [
    "# same as obove code\n",
    "# model = keras.models.Sequential([keras.layers.Flatten( input_shape =[ 28, 28]), \n",
    "#                                  keras.layers.Dense( 300, activation =\" relu\"), \n",
    "#                                  keras.layers.Dense( 100, activation =\" relu\"), \n",
    "#                                  keras.layers.Dense( 10, activation =\" softmax\")\n",
    "#                                 ])"
   ]
  },
  {
   "cell_type": "code",
   "execution_count": 27,
   "id": "345fee40",
   "metadata": {},
   "outputs": [
    {
     "name": "stdout",
     "output_type": "stream",
     "text": [
      "Model: \"sequential\"\n",
      "_________________________________________________________________\n",
      " Layer (type)                Output Shape              Param #   \n",
      "=================================================================\n",
      " flatten (Flatten)           (None, 784)               0         \n",
      "                                                                 \n",
      " dense (Dense)               (None, 300)               235500    \n",
      "                                                                 \n",
      " dense_1 (Dense)             (None, 100)               30100     \n",
      "                                                                 \n",
      " dense_2 (Dense)             (None, 10)                1010      \n",
      "                                                                 \n",
      "=================================================================\n",
      "Total params: 266,610\n",
      "Trainable params: 266,610\n",
      "Non-trainable params: 0\n",
      "_________________________________________________________________\n"
     ]
    }
   ],
   "source": [
    "model.summary()"
   ]
  },
  {
   "cell_type": "code",
   "execution_count": 28,
   "id": "c6f67fea",
   "metadata": {},
   "outputs": [
    {
     "data": {
      "text/plain": [
       "[<keras.layers.core.flatten.Flatten at 0x19655f2c130>,\n",
       " <keras.layers.core.dense.Dense at 0x19655f2cee0>,\n",
       " <keras.layers.core.dense.Dense at 0x19655eb40a0>,\n",
       " <keras.layers.core.dense.Dense at 0x19655f14c10>]"
      ]
     },
     "execution_count": 28,
     "metadata": {},
     "output_type": "execute_result"
    }
   ],
   "source": [
    "model.layers"
   ]
  },
  {
   "cell_type": "code",
   "execution_count": 30,
   "id": "71706d93",
   "metadata": {},
   "outputs": [
    {
     "data": {
      "text/plain": [
       "'dense_1'"
      ]
     },
     "execution_count": 30,
     "metadata": {},
     "output_type": "execute_result"
    }
   ],
   "source": [
    "model.layers[2].name"
   ]
  },
  {
   "cell_type": "code",
   "execution_count": 31,
   "id": "6158c576",
   "metadata": {},
   "outputs": [
    {
     "data": {
      "text/plain": [
       "<keras.layers.core.dense.Dense at 0x19655eb40a0>"
      ]
     },
     "execution_count": 31,
     "metadata": {},
     "output_type": "execute_result"
    }
   ],
   "source": [
    "model.get_layer(\"dense_1\")"
   ]
  },
  {
   "cell_type": "code",
   "execution_count": 32,
   "id": "f0f05240",
   "metadata": {},
   "outputs": [],
   "source": [
    "hidden1 = model.layers[1]"
   ]
  },
  {
   "cell_type": "code",
   "execution_count": 33,
   "id": "eda1ea10",
   "metadata": {},
   "outputs": [],
   "source": [
    "weights, biase = hidden1.get_weights()"
   ]
  },
  {
   "cell_type": "code",
   "execution_count": 34,
   "id": "b0d25f59",
   "metadata": {},
   "outputs": [
    {
     "data": {
      "text/plain": [
       "(784, 300)"
      ]
     },
     "execution_count": 34,
     "metadata": {},
     "output_type": "execute_result"
    }
   ],
   "source": [
    "weights.shape"
   ]
  },
  {
   "cell_type": "code",
   "execution_count": 35,
   "id": "d9fd8dcf",
   "metadata": {},
   "outputs": [
    {
     "data": {
      "text/plain": [
       "array([[ 0.04592048,  0.05825417, -0.02200124, ...,  0.0457052 ,\n",
       "         0.07135387, -0.02649422],\n",
       "       [ 0.03100885, -0.00678283,  0.01582135, ..., -0.05781379,\n",
       "         0.06578465,  0.04959486],\n",
       "       [-0.07027292, -0.04643845, -0.0024431 , ...,  0.05464537,\n",
       "         0.05638133, -0.01263196],\n",
       "       ...,\n",
       "       [ 0.06104234, -0.01821578,  0.02651891, ..., -0.0125506 ,\n",
       "         0.03490114, -0.03569449],\n",
       "       [ 0.0249797 , -0.01318315, -0.00543376, ..., -0.00163623,\n",
       "         0.04148043, -0.07359751],\n",
       "       [ 0.05100965, -0.03570257,  0.05068088, ...,  0.0535605 ,\n",
       "        -0.01253571, -0.0168936 ]], dtype=float32)"
      ]
     },
     "execution_count": 35,
     "metadata": {},
     "output_type": "execute_result"
    }
   ],
   "source": [
    "weights"
   ]
  },
  {
   "cell_type": "code",
   "execution_count": 38,
   "id": "4f35cbb0",
   "metadata": {},
   "outputs": [
    {
     "data": {
      "text/plain": [
       "(300,)"
      ]
     },
     "execution_count": 38,
     "metadata": {},
     "output_type": "execute_result"
    }
   ],
   "source": [
    "biase.shape"
   ]
  },
  {
   "cell_type": "code",
   "execution_count": 39,
   "id": "9d871357",
   "metadata": {
    "collapsed": true
   },
   "outputs": [
    {
     "data": {
      "text/plain": [
       "array([0., 0., 0., 0., 0., 0., 0., 0., 0., 0., 0., 0., 0., 0., 0., 0., 0.,\n",
       "       0., 0., 0., 0., 0., 0., 0., 0., 0., 0., 0., 0., 0., 0., 0., 0., 0.,\n",
       "       0., 0., 0., 0., 0., 0., 0., 0., 0., 0., 0., 0., 0., 0., 0., 0., 0.,\n",
       "       0., 0., 0., 0., 0., 0., 0., 0., 0., 0., 0., 0., 0., 0., 0., 0., 0.,\n",
       "       0., 0., 0., 0., 0., 0., 0., 0., 0., 0., 0., 0., 0., 0., 0., 0., 0.,\n",
       "       0., 0., 0., 0., 0., 0., 0., 0., 0., 0., 0., 0., 0., 0., 0., 0., 0.,\n",
       "       0., 0., 0., 0., 0., 0., 0., 0., 0., 0., 0., 0., 0., 0., 0., 0., 0.,\n",
       "       0., 0., 0., 0., 0., 0., 0., 0., 0., 0., 0., 0., 0., 0., 0., 0., 0.,\n",
       "       0., 0., 0., 0., 0., 0., 0., 0., 0., 0., 0., 0., 0., 0., 0., 0., 0.,\n",
       "       0., 0., 0., 0., 0., 0., 0., 0., 0., 0., 0., 0., 0., 0., 0., 0., 0.,\n",
       "       0., 0., 0., 0., 0., 0., 0., 0., 0., 0., 0., 0., 0., 0., 0., 0., 0.,\n",
       "       0., 0., 0., 0., 0., 0., 0., 0., 0., 0., 0., 0., 0., 0., 0., 0., 0.,\n",
       "       0., 0., 0., 0., 0., 0., 0., 0., 0., 0., 0., 0., 0., 0., 0., 0., 0.,\n",
       "       0., 0., 0., 0., 0., 0., 0., 0., 0., 0., 0., 0., 0., 0., 0., 0., 0.,\n",
       "       0., 0., 0., 0., 0., 0., 0., 0., 0., 0., 0., 0., 0., 0., 0., 0., 0.,\n",
       "       0., 0., 0., 0., 0., 0., 0., 0., 0., 0., 0., 0., 0., 0., 0., 0., 0.,\n",
       "       0., 0., 0., 0., 0., 0., 0., 0., 0., 0., 0., 0., 0., 0., 0., 0., 0.,\n",
       "       0., 0., 0., 0., 0., 0., 0., 0., 0., 0., 0.], dtype=float32)"
      ]
     },
     "execution_count": 39,
     "metadata": {},
     "output_type": "execute_result"
    }
   ],
   "source": [
    "biase"
   ]
  },
  {
   "cell_type": "code",
   "execution_count": 40,
   "id": "df78f057",
   "metadata": {},
   "outputs": [],
   "source": [
    "model.compile(loss=keras.losses.sparse_categorical_crossentropy,\n",
    "             optimizer=keras.optimizers.SGD(), \n",
    "             metrics=keras.metrics.sparse_categorical_accuracy)"
   ]
  },
  {
   "cell_type": "code",
   "execution_count": 41,
   "id": "bab4c047",
   "metadata": {},
   "outputs": [],
   "source": [
    "# same as above\n",
    "# model.compile(loss=\"sparse_categorical_crossentropy\", \n",
    "#              optimizer=\"sgd\", \n",
    "#              metrics=\"accuracy\")"
   ]
  },
  {
   "cell_type": "code",
   "execution_count": 45,
   "id": "d1438f81",
   "metadata": {},
   "outputs": [
    {
     "name": "stdout",
     "output_type": "stream",
     "text": [
      "Epoch 1/30\n",
      "1719/1719 [==============================] - 17s 8ms/step - loss: 0.7218 - sparse_categorical_accuracy: 0.7687 - val_loss: 0.5337 - val_sparse_categorical_accuracy: 0.8152\n",
      "Epoch 2/30\n",
      "1719/1719 [==============================] - 13s 7ms/step - loss: 0.4885 - sparse_categorical_accuracy: 0.8295 - val_loss: 0.4464 - val_sparse_categorical_accuracy: 0.8440\n",
      "Epoch 3/30\n",
      "1719/1719 [==============================] - 13s 7ms/step - loss: 0.4443 - sparse_categorical_accuracy: 0.8438 - val_loss: 0.4200 - val_sparse_categorical_accuracy: 0.8596\n",
      "Epoch 4/30\n",
      "1719/1719 [==============================] - 13s 7ms/step - loss: 0.4170 - sparse_categorical_accuracy: 0.8523 - val_loss: 0.4009 - val_sparse_categorical_accuracy: 0.8620\n",
      "Epoch 5/30\n",
      "1719/1719 [==============================] - 13s 7ms/step - loss: 0.3962 - sparse_categorical_accuracy: 0.8605 - val_loss: 0.3998 - val_sparse_categorical_accuracy: 0.8638\n",
      "Epoch 6/30\n",
      "1719/1719 [==============================] - 13s 8ms/step - loss: 0.3796 - sparse_categorical_accuracy: 0.8668 - val_loss: 0.3708 - val_sparse_categorical_accuracy: 0.8744\n",
      "Epoch 7/30\n",
      "1719/1719 [==============================] - 13s 7ms/step - loss: 0.3657 - sparse_categorical_accuracy: 0.8705 - val_loss: 0.3586 - val_sparse_categorical_accuracy: 0.8768\n",
      "Epoch 8/30\n",
      "1719/1719 [==============================] - 13s 8ms/step - loss: 0.3542 - sparse_categorical_accuracy: 0.8744 - val_loss: 0.3526 - val_sparse_categorical_accuracy: 0.8774\n",
      "Epoch 9/30\n",
      "1719/1719 [==============================] - 13s 7ms/step - loss: 0.3435 - sparse_categorical_accuracy: 0.8773 - val_loss: 0.3526 - val_sparse_categorical_accuracy: 0.8788\n",
      "Epoch 10/30\n",
      "1719/1719 [==============================] - 13s 7ms/step - loss: 0.3347 - sparse_categorical_accuracy: 0.8805 - val_loss: 0.3617 - val_sparse_categorical_accuracy: 0.8686\n",
      "Epoch 11/30\n",
      "1719/1719 [==============================] - 13s 7ms/step - loss: 0.3256 - sparse_categorical_accuracy: 0.8834 - val_loss: 0.3447 - val_sparse_categorical_accuracy: 0.8786\n",
      "Epoch 12/30\n",
      "1719/1719 [==============================] - 13s 8ms/step - loss: 0.3182 - sparse_categorical_accuracy: 0.8863 - val_loss: 0.3419 - val_sparse_categorical_accuracy: 0.8796\n",
      "Epoch 13/30\n",
      "1719/1719 [==============================] - 13s 7ms/step - loss: 0.3107 - sparse_categorical_accuracy: 0.8872 - val_loss: 0.3356 - val_sparse_categorical_accuracy: 0.8814\n",
      "Epoch 14/30\n",
      "1719/1719 [==============================] - 13s 8ms/step - loss: 0.3030 - sparse_categorical_accuracy: 0.8915 - val_loss: 0.3330 - val_sparse_categorical_accuracy: 0.8820\n",
      "Epoch 15/30\n",
      "1719/1719 [==============================] - 13s 7ms/step - loss: 0.2962 - sparse_categorical_accuracy: 0.8931 - val_loss: 0.3424 - val_sparse_categorical_accuracy: 0.8764\n",
      "Epoch 16/30\n",
      "1719/1719 [==============================] - 13s 7ms/step - loss: 0.2908 - sparse_categorical_accuracy: 0.8939 - val_loss: 0.3136 - val_sparse_categorical_accuracy: 0.8888\n",
      "Epoch 17/30\n",
      "1719/1719 [==============================] - 13s 7ms/step - loss: 0.2845 - sparse_categorical_accuracy: 0.8975 - val_loss: 0.3162 - val_sparse_categorical_accuracy: 0.8854\n",
      "Epoch 18/30\n",
      "1719/1719 [==============================] - 13s 7ms/step - loss: 0.2798 - sparse_categorical_accuracy: 0.8993 - val_loss: 0.3145 - val_sparse_categorical_accuracy: 0.8866\n",
      "Epoch 19/30\n",
      "1719/1719 [==============================] - 13s 7ms/step - loss: 0.2736 - sparse_categorical_accuracy: 0.9019 - val_loss: 0.3199 - val_sparse_categorical_accuracy: 0.8830\n",
      "Epoch 20/30\n",
      "1719/1719 [==============================] - 13s 7ms/step - loss: 0.2692 - sparse_categorical_accuracy: 0.9030 - val_loss: 0.3167 - val_sparse_categorical_accuracy: 0.8854\n",
      "Epoch 21/30\n",
      "1719/1719 [==============================] - 13s 7ms/step - loss: 0.2653 - sparse_categorical_accuracy: 0.9032 - val_loss: 0.2995 - val_sparse_categorical_accuracy: 0.8878\n",
      "Epoch 22/30\n",
      "1719/1719 [==============================] - 13s 7ms/step - loss: 0.2590 - sparse_categorical_accuracy: 0.9072 - val_loss: 0.3269 - val_sparse_categorical_accuracy: 0.8812\n",
      "Epoch 23/30\n",
      "1719/1719 [==============================] - 13s 8ms/step - loss: 0.2548 - sparse_categorical_accuracy: 0.9078 - val_loss: 0.3100 - val_sparse_categorical_accuracy: 0.8854\n",
      "Epoch 24/30\n",
      "1719/1719 [==============================] - 13s 7ms/step - loss: 0.2506 - sparse_categorical_accuracy: 0.9098 - val_loss: 0.3039 - val_sparse_categorical_accuracy: 0.8886\n",
      "Epoch 25/30\n",
      "1719/1719 [==============================] - 13s 8ms/step - loss: 0.2467 - sparse_categorical_accuracy: 0.9108 - val_loss: 0.3150 - val_sparse_categorical_accuracy: 0.8872\n",
      "Epoch 26/30\n",
      "1719/1719 [==============================] - 13s 8ms/step - loss: 0.2426 - sparse_categorical_accuracy: 0.9131 - val_loss: 0.2972 - val_sparse_categorical_accuracy: 0.8884\n",
      "Epoch 27/30\n",
      "1719/1719 [==============================] - 13s 7ms/step - loss: 0.2378 - sparse_categorical_accuracy: 0.9148 - val_loss: 0.3016 - val_sparse_categorical_accuracy: 0.8900\n",
      "Epoch 28/30\n",
      "1719/1719 [==============================] - 13s 7ms/step - loss: 0.2338 - sparse_categorical_accuracy: 0.9157 - val_loss: 0.3088 - val_sparse_categorical_accuracy: 0.8852\n",
      "Epoch 29/30\n",
      "1719/1719 [==============================] - 13s 7ms/step - loss: 0.2300 - sparse_categorical_accuracy: 0.9167 - val_loss: 0.2944 - val_sparse_categorical_accuracy: 0.8906\n",
      "Epoch 30/30\n",
      "1719/1719 [==============================] - 13s 7ms/step - loss: 0.2266 - sparse_categorical_accuracy: 0.9188 - val_loss: 0.2905 - val_sparse_categorical_accuracy: 0.8936\n"
     ]
    }
   ],
   "source": [
    "history = model.fit(X_train, y_train, epochs=30, validation_data=(X_valid, y_valid))"
   ]
  },
  {
   "cell_type": "code",
   "execution_count": 46,
   "id": "0a5548a6",
   "metadata": {},
   "outputs": [
    {
     "data": {
      "text/plain": [
       "{'verbose': 1, 'epochs': 30, 'steps': 1719}"
      ]
     },
     "execution_count": 46,
     "metadata": {},
     "output_type": "execute_result"
    }
   ],
   "source": [
    "history.params"
   ]
  },
  {
   "cell_type": "code",
   "execution_count": 48,
   "id": "c0e58de1",
   "metadata": {},
   "outputs": [
    {
     "data": {
      "text/plain": [
       "dict_keys(['loss', 'sparse_categorical_accuracy', 'val_loss', 'val_sparse_categorical_accuracy'])"
      ]
     },
     "execution_count": 48,
     "metadata": {},
     "output_type": "execute_result"
    }
   ],
   "source": [
    "history.history.keys()"
   ]
  },
  {
   "cell_type": "code",
   "execution_count": 53,
   "id": "9616d2d3",
   "metadata": {},
   "outputs": [
    {
     "data": {
      "image/png": "[encoded data removed]",
      "text/plain": [
       "<Figure size 576x360 with 1 Axes>"
      ]
     },
     "metadata": {
      "needs_background": "light"
     },
     "output_type": "display_data"
    }
   ],
   "source": [
    "pd.DataFrame(history.history).plot(figsize=(8, 5)) \n",
    "plt.grid(True) \n",
    "plt.gca().set_ylim(0, 1) # set the vertical range to [0-1] \n",
    "plt.show()"
   ]
  },
  {
   "cell_type": "markdown",
   "id": "1e9721ef",
   "metadata": {},
   "source": [
    "If loss is decressing continuosly at the end of last epoch then still we can train to get more optimizations. Keras runs from where it ended.\n",
    "\n",
    "If performance of model is not enough then we can do hyperparameter tuning, first to check is learning rate, try another optimizer. If still not good, then try tuning model hyperparameter such as numbers of layers, neurons per layer, activation functions, batch size etc."
   ]
  },
  {
   "cell_type": "code",
   "execution_count": 54,
   "id": "228b57fa",
   "metadata": {},
   "outputs": [
    {
     "name": "stdout",
     "output_type": "stream",
     "text": [
      "Epoch 1/5\n",
      "1719/1719 [==============================] - 17s 10ms/step - loss: 0.2235 - sparse_categorical_accuracy: 0.9187 - val_loss: 0.2948 - val_sparse_categorical_accuracy: 0.8928\n",
      "Epoch 2/5\n",
      "1719/1719 [==============================] - 14s 8ms/step - loss: 0.2189 - sparse_categorical_accuracy: 0.9214 - val_loss: 0.3111 - val_sparse_categorical_accuracy: 0.8890\n",
      "Epoch 3/5\n",
      "1719/1719 [==============================] - 14s 8ms/step - loss: 0.2158 - sparse_categorical_accuracy: 0.9221 - val_loss: 0.2855 - val_sparse_categorical_accuracy: 0.8942\n",
      "Epoch 4/5\n",
      "1719/1719 [==============================] - 14s 8ms/step - loss: 0.2137 - sparse_categorical_accuracy: 0.9231 - val_loss: 0.3002 - val_sparse_categorical_accuracy: 0.8890\n",
      "Epoch 5/5\n",
      "1719/1719 [==============================] - 14s 8ms/step - loss: 0.2100 - sparse_categorical_accuracy: 0.9252 - val_loss: 0.2966 - val_sparse_categorical_accuracy: 0.8898\n"
     ]
    }
   ],
   "source": [
    "history1 = model.fit(X_train, y_train, epochs=5, validation_data=(X_valid, y_valid))"
   ]
  },
  {
   "cell_type": "code",
   "execution_count": 55,
   "id": "1ea97f3f",
   "metadata": {},
   "outputs": [
    {
     "name": "stdout",
     "output_type": "stream",
     "text": [
      "313/313 [==============================] - 3s 9ms/step - loss: 0.3390 - sparse_categorical_accuracy: 0.8798\n"
     ]
    },
    {
     "data": {
      "text/plain": [
       "[0.33896446228027344, 0.879800021648407]"
      ]
     },
     "execution_count": 55,
     "metadata": {},
     "output_type": "execute_result"
    }
   ],
   "source": [
    "model.evaluate(X_test, y_test)"
   ]
  },
  {
   "cell_type": "code",
   "execution_count": 59,
   "id": "ea30c9d1",
   "metadata": {},
   "outputs": [
    {
     "data": {
      "text/plain": [
       "array([[0.  , 0.  , 0.  , 0.  , 0.  , 0.  , 0.  , 0.01, 0.  , 0.99],\n",
       "       [0.  , 0.  , 1.  , 0.  , 0.  , 0.  , 0.  , 0.  , 0.  , 0.  ],\n",
       "       [0.  , 1.  , 0.  , 0.  , 0.  , 0.  , 0.  , 0.  , 0.  , 0.  ]],\n",
       "      dtype=float32)"
      ]
     },
     "execution_count": 59,
     "metadata": {},
     "output_type": "execute_result"
    }
   ],
   "source": [
    "X_new = X_test[:3]\n",
    "y_prob = model.predict(X_new)\n",
    "y_prob.round(2)"
   ]
  },
  {
   "cell_type": "code",
   "execution_count": 60,
   "id": "6293614b",
   "metadata": {},
   "outputs": [
    {
     "data": {
      "text/plain": [
       "(3, 10)"
      ]
     },
     "execution_count": 60,
     "metadata": {},
     "output_type": "execute_result"
    }
   ],
   "source": [
    "y_prob.shape"
   ]
  },
  {
   "cell_type": "code",
   "execution_count": 80,
   "id": "3b64ef0c",
   "metadata": {},
   "outputs": [
    {
     "data": {
      "text/plain": [
       "array(['Ankle boot', 'Pullover', 'Trouser'], dtype='<U13')"
      ]
     },
     "execution_count": 80,
     "metadata": {},
     "output_type": "execute_result"
    }
   ],
   "source": [
    "np.array(class_names)[np.argmax(y_prob, axis=1)]"
   ]
  },
  {
   "cell_type": "code",
   "execution_count": 83,
   "id": "501f990c",
   "metadata": {},
   "outputs": [
    {
     "data": {
      "text/plain": [
       "array(['Ankle boot', 'Pullover', 'Trouser'], dtype='<U13')"
      ]
     },
     "execution_count": 83,
     "metadata": {},
     "output_type": "execute_result"
    }
   ],
   "source": [
    "np.array(class_names)[y_test[:3]]"
   ]
  },
  {
   "cell_type": "markdown",
   "id": "081d0e95",
   "metadata": {},
   "source": [
    "Fortunatly all the predictions get correct"
   ]
  },
  {
   "cell_type": "code",
   "execution_count": null,
   "id": "778b5868",
   "metadata": {},
   "outputs": [],
   "source": []
  }
 ],
 "metadata": {
  "kernelspec": {
   "display_name": "Python 3 (ipykernel)",
   "language": "python",
   "name": "python3"
  },
  "language_info": {
   "codemirror_mode": {
    "name": "ipython",
    "version": 3
   },
   "file_extension": ".py",
   "mimetype": "text/x-python",
   "name": "python",
   "nbconvert_exporter": "python",
   "pygments_lexer": "ipython3",
   "version": "3.9.9"
  }
 },
 "nbformat": 4,
 "nbformat_minor": 5
}
