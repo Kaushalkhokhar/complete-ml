{
 "cells": [
  {
   "cell_type": "code",
   "execution_count": 1,
   "id": "790256d4",
   "metadata": {},
   "outputs": [],
   "source": [
    "import numpy as np\n",
    "import pandas as pd\n",
    "import matplotlib as mpl\n",
    "import matplotlib.pyplot as plt\n",
    "%matplotlib inline"
   ]
  },
  {
   "cell_type": "code",
   "execution_count": 2,
   "id": "a8b19a4e",
   "metadata": {},
   "outputs": [],
   "source": [
    "import tensorflow as tf\n",
    "from tensorflow import keras"
   ]
  },
  {
   "cell_type": "code",
   "execution_count": 17,
   "id": "fc8b85ea",
   "metadata": {},
   "outputs": [],
   "source": [
    "%load_ext tensorboard"
   ]
  },
  {
   "cell_type": "code",
   "execution_count": 3,
   "id": "d83faef2",
   "metadata": {},
   "outputs": [],
   "source": [
    "(X_train_full, y_train_full), (X_test, y_test) = keras.datasets.cifar10.load_data()"
   ]
  },
  {
   "cell_type": "code",
   "execution_count": 7,
   "id": "bf06a0b2",
   "metadata": {},
   "outputs": [
    {
     "data": {
      "text/plain": [
       "((50000, 32, 32, 3), (50000, 1), (10000, 32, 32, 3), (10000, 1))"
      ]
     },
     "execution_count": 7,
     "metadata": {},
     "output_type": "execute_result"
    }
   ],
   "source": [
    "X_train_full.shape, y_train_full.shape, X_test.shape, y_test.shape"
   ]
  },
  {
   "cell_type": "code",
   "execution_count": 4,
   "id": "445f3229",
   "metadata": {},
   "outputs": [],
   "source": [
    "from sklearn.model_selection import train_test_split\n",
    "\n",
    "X_train, X_valid, y_train, y_valid = train_test_split(X_train_full, y_train_full, test_size=0.1)"
   ]
  },
  {
   "cell_type": "code",
   "execution_count": 5,
   "id": "e6d1285a",
   "metadata": {},
   "outputs": [
    {
     "data": {
      "text/plain": [
       "((45000, 32, 32, 3), (5000, 32, 32, 3))"
      ]
     },
     "execution_count": 5,
     "metadata": {},
     "output_type": "execute_result"
    }
   ],
   "source": [
    "X_train.shape, X_valid.shape"
   ]
  },
  {
   "cell_type": "code",
   "execution_count": 8,
   "id": "cfae0dd6",
   "metadata": {},
   "outputs": [],
   "source": [
    "keras.backend.clear_session()\n",
    "np.random.seed(42)\n",
    "tf.random.set_seed(42)"
   ]
  },
  {
   "cell_type": "code",
   "execution_count": 9,
   "id": "faab1788",
   "metadata": {},
   "outputs": [],
   "source": [
    "model = keras.models.Sequential()\n",
    "model.add(keras.layers.Flatten(input_shape=[32, 32, 3]))\n",
    "for i in range(20):\n",
    "    model.add(keras.layers.Dense(100, \n",
    "                                kernel_initializer=keras.initializers.he_normal, \n",
    "                                activation=keras.activations.elu))\n",
    "model.add(keras.layers.Dense(10, activation=\"softmax\"))"
   ]
  },
  {
   "cell_type": "code",
   "execution_count": 11,
   "id": "f61131d4",
   "metadata": {},
   "outputs": [
    {
     "data": {
      "text/plain": [
       "'D:\\\\TheCompleteML\\\\projects'"
      ]
     },
     "execution_count": 11,
     "metadata": {},
     "output_type": "execute_result"
    }
   ],
   "source": [
    "import os\n",
    "if \"ANN\" in os.path.abspath(os.curdir): os.chdir(\"..\")\n",
    "BASE_DIR = os.path.abspath(os.curdir)\n",
    "BASE_DIR"
   ]
  },
  {
   "cell_type": "code",
   "execution_count": 54,
   "id": "c1264729",
   "metadata": {},
   "outputs": [],
   "source": [
    "if \"ANN\" not in os.path.abspath(os.curdir): \n",
    "    os.chdir(os.path.abspath(os.path.join(os.curdir, \"ANN\")))"
   ]
  },
  {
   "cell_type": "code",
   "execution_count": 12,
   "id": "dac34460",
   "metadata": {},
   "outputs": [],
   "source": [
    "model_checkpoint_cb = keras.callbacks.ModelCheckpoint(\"cifar10_best_model.h5\", save_best_only=True)\n",
    "early_stopping = keras.callbacks.EarlyStopping(patience=20)\n",
    "\n",
    "run_index = 1 # increment this at every run\n",
    "learning_rate = 1e-4\n",
    "logdir = os.path.join(BASE_DIR, \"logs\", \"dnn_cifar10_logs\")\n",
    "run_logdir = os.path.join(logdir, \"run_{:03d}_lr_{:.6f}\".format(run_index, learning_rate))\n",
    "\n",
    "tensorboard_cb = keras.callbacks.TensorBoard(run_logdir)"
   ]
  },
  {
   "cell_type": "code",
   "execution_count": 13,
   "id": "4e9e2435",
   "metadata": {},
   "outputs": [],
   "source": [
    "model.compile(loss=keras.losses.sparse_categorical_crossentropy, \n",
    "             optimizer=keras.optimizers.Nadam(learning_rate=learning_rate), \n",
    "             metrics=keras.metrics.sparse_categorical_accuracy)"
   ]
  },
  {
   "cell_type": "code",
   "execution_count": 14,
   "id": "a9c5c707",
   "metadata": {},
   "outputs": [],
   "source": [
    "callbacks = [model_checkpoint_cb, early_stopping, tensorboard_cb]"
   ]
  },
  {
   "cell_type": "code",
   "execution_count": 15,
   "id": "7a392438",
   "metadata": {
    "scrolled": true
   },
   "outputs": [
    {
     "name": "stdout",
     "output_type": "stream",
     "text": [
      "Epoch 1/10\n",
      "1407/1407 [==============================] - 14s 8ms/step - loss: 3.2680 - sparse_categorical_accuracy: 0.1904 - val_loss: 2.1388 - val_sparse_categorical_accuracy: 0.2098\n",
      "Epoch 2/10\n",
      "1407/1407 [==============================] - 11s 8ms/step - loss: 1.9686 - sparse_categorical_accuracy: 0.2754 - val_loss: 2.0011 - val_sparse_categorical_accuracy: 0.2770\n",
      "Epoch 3/10\n",
      "1407/1407 [==============================] - 11s 8ms/step - loss: 1.8687 - sparse_categorical_accuracy: 0.3181 - val_loss: 1.9585 - val_sparse_categorical_accuracy: 0.2844\n",
      "Epoch 4/10\n",
      "1407/1407 [==============================] - 11s 8ms/step - loss: 1.8079 - sparse_categorical_accuracy: 0.3405 - val_loss: 1.9394 - val_sparse_categorical_accuracy: 0.3054\n",
      "Epoch 5/10\n",
      "1407/1407 [==============================] - 10s 7ms/step - loss: 1.7493 - sparse_categorical_accuracy: 0.3630 - val_loss: 1.8228 - val_sparse_categorical_accuracy: 0.3402\n",
      "Epoch 6/10\n",
      "1407/1407 [==============================] - 11s 8ms/step - loss: 1.7074 - sparse_categorical_accuracy: 0.3825 - val_loss: 1.9816 - val_sparse_categorical_accuracy: 0.2984\n",
      "Epoch 7/10\n",
      "1407/1407 [==============================] - 11s 8ms/step - loss: 1.6654 - sparse_categorical_accuracy: 0.3980 - val_loss: 1.7205 - val_sparse_categorical_accuracy: 0.3814\n",
      "Epoch 8/10\n",
      "1407/1407 [==============================] - 11s 8ms/step - loss: 1.6339 - sparse_categorical_accuracy: 0.4102 - val_loss: 1.6618 - val_sparse_categorical_accuracy: 0.3990\n",
      "Epoch 9/10\n",
      "1407/1407 [==============================] - 11s 8ms/step - loss: 1.6042 - sparse_categorical_accuracy: 0.4193 - val_loss: 1.6697 - val_sparse_categorical_accuracy: 0.4008\n",
      "Epoch 10/10\n",
      "1407/1407 [==============================] - 10s 7ms/step - loss: 1.5820 - sparse_categorical_accuracy: 0.4265 - val_loss: 1.6349 - val_sparse_categorical_accuracy: 0.4142\n"
     ]
    }
   ],
   "source": [
    "history = model.fit(X_train, y_train, epochs=10, \n",
    "                    validation_data=(X_valid, y_valid),\n",
    "                    callbacks=callbacks)"
   ]
  },
  {
   "cell_type": "code",
   "execution_count": 40,
   "id": "8b5b3571",
   "metadata": {},
   "outputs": [],
   "source": [
    "log_path = 'D:\\TheCompleteML\\projects\\logs\\dnn_cifar10_logs'"
   ]
  },
  {
   "cell_type": "code",
   "execution_count": 55,
   "id": "28d9e265",
   "metadata": {
    "scrolled": true
   },
   "outputs": [
    {
     "data": {
      "text/plain": [
       "Reusing TensorBoard on port 6006 (pid 16044), started 0:01:28 ago. (Use '!kill 16044' to kill it.)"
      ]
     },
     "metadata": {},
     "output_type": "display_data"
    },
    {
     "data": {
      "text/html": [
       "\n",
       "      <iframe id=\"tensorboard-frame-3ef63172b435e81\" width=\"100%\" height=\"800\" frameborder=\"0\">\n",
       "      </iframe>\n",
       "      <script>\n",
       "        (function() {\n",
       "          const frame = document.getElementById(\"tensorboard-frame-3ef63172b435e81\");\n",
       "          const url = new URL(\"/\", window.location);\n",
       "          const port = 6006;\n",
       "          if (port) {\n",
       "            url.port = port;\n",
       "          }\n",
       "          frame.src = url;\n",
       "        })();\n",
       "      </script>\n",
       "    "
      ],
      "text/plain": [
       "<IPython.core.display.HTML object>"
      ]
     },
     "metadata": {},
     "output_type": "display_data"
    }
   ],
   "source": [
    "%tensorboard --logdir=./dnn_cifar10_logs --port=6006"
   ]
  },
  {
   "cell_type": "code",
   "execution_count": 51,
   "id": "db5ef5d4",
   "metadata": {},
   "outputs": [],
   "source": []
  },
  {
   "cell_type": "code",
   "execution_count": 56,
   "id": "df8773bc",
   "metadata": {},
   "outputs": [
    {
     "data": {
      "text/plain": [
       "'D:\\\\TheCompleteML\\\\projects\\\\ANN'"
      ]
     },
     "execution_count": 56,
     "metadata": {},
     "output_type": "execute_result"
    }
   ],
   "source": [
    "os.path.abspath(os.curdir)"
   ]
  },
  {
   "cell_type": "code",
   "execution_count": 46,
   "id": "1a9a84f6",
   "metadata": {},
   "outputs": [
    {
     "data": {
      "text/plain": [
       "'D:\\\\TheCompleteML\\\\projects\\\\ANN'"
      ]
     },
     "execution_count": 46,
     "metadata": {},
     "output_type": "execute_result"
    }
   ],
   "source": [
    "os.path.abspath(os.path.join(os.curdir, \"ANN\"))"
   ]
  },
  {
   "cell_type": "code",
   "execution_count": null,
   "id": "809f5456",
   "metadata": {},
   "outputs": [],
   "source": [
    "pd.DataFrame(history.history).plot(figsize=(15, 8))\n",
    "plt.grid(True)\n",
    "plt.gca().set_ylim(0, 5)\n",
    "plt.show()"
   ]
  },
  {
   "cell_type": "code",
   "execution_count": null,
   "id": "bddf63ab",
   "metadata": {},
   "outputs": [],
   "source": [
    "keras.backend.clear_session()\n",
    "np.random.seed(42)\n",
    "tf.random.set_seed(42) "
   ]
  },
  {
   "cell_type": "code",
   "execution_count": null,
   "id": "cdacdef4",
   "metadata": {},
   "outputs": [],
   "source": [
    "model = keras.models.Sequential()\n",
    "model.add(keras.layers.Flatten(input_shape=[32, 32, 3]))\n",
    "model.add(keras.layers.BatchNormalization())\n",
    "for i in range(20):\n",
    "    model.add(keras.layers.Dense(100, \n",
    "                                kernel_initializer=keras.initializers.he_normal, \n",
    "                                activation=keras.activations.elu))\n",
    "    model.add(keras.layers.BatchNormalization())\n",
    "model.add(keras.layers.Dense(10, \n",
    "                            activation=\"softmax\",\n",
    "                            kernel_initializer=keras.initializers.glorot_uniform))"
   ]
  },
  {
   "cell_type": "code",
   "execution_count": null,
   "id": "bea0e3c2",
   "metadata": {},
   "outputs": [],
   "source": [
    "model.compile(loss=keras.losses.sparse_categorical_crossentropy, \n",
    "             optimizer=keras.optimizers.Nadam(learning_rate=0.001, beta_1=0.9, beta_2=0.999), \n",
    "             metrics=keras.metrics.sparse_categorical_accuracy)"
   ]
  },
  {
   "cell_type": "code",
   "execution_count": null,
   "id": "23444662",
   "metadata": {},
   "outputs": [],
   "source": [
    "history = model.fit(X_train, y_train, epochs=100, validation_data=(X_valid, y_valid), \n",
    "         callbacks=[keras.callbacks.EarlyStopping(patience=10)])"
   ]
  },
  {
   "cell_type": "code",
   "execution_count": null,
   "id": "bdef308e",
   "metadata": {},
   "outputs": [],
   "source": [
    "pd.DataFrame(history.history).plot(figsize=(15, 8))\n",
    "plt.grid(True)\n",
    "# plt.gca().set_ylim(0, 1)\n",
    "plt.show()"
   ]
  },
  {
   "cell_type": "markdown",
   "id": "ef1d4115",
   "metadata": {},
   "source": [
    "##### Observations\n",
    "\n",
    "Convergence to optimum value is much more effective compare to precious result but the time complexity is high, and oveall accuracy is also improved."
   ]
  },
  {
   "cell_type": "markdown",
   "id": "1e1d4e5b",
   "metadata": {},
   "source": [
    "### Implementing SELU as activations functions"
   ]
  },
  {
   "cell_type": "code",
   "execution_count": null,
   "id": "c883d6eb",
   "metadata": {},
   "outputs": [],
   "source": [
    "from sklearn.preprocessing import StandardScaler\n",
    "\n",
    "scaler = StandardScaler()\n",
    "X_train = scaler.fit_transform(X_train.reshape(-1, 1)).reshape(-1, 32, 32, 3)\n",
    "X_valid = scaler.transform(X_valid.reshape(-1, 1)).reshape(-1, 32, 32, 3)\n",
    "X_test = scaler.transform(X_test.reshape(-1, 1)).reshape(-1, 32, 32, 3)"
   ]
  },
  {
   "cell_type": "code",
   "execution_count": null,
   "id": "82b71dce",
   "metadata": {},
   "outputs": [],
   "source": [
    "X_train.shape"
   ]
  },
  {
   "cell_type": "code",
   "execution_count": null,
   "id": "3b23ae22",
   "metadata": {},
   "outputs": [],
   "source": [
    "keras.backend.clear_session()\n",
    "np.random.seed(42)\n",
    "tf.random.set_seed(42)"
   ]
  },
  {
   "cell_type": "code",
   "execution_count": null,
   "id": "a65885f2",
   "metadata": {},
   "outputs": [],
   "source": [
    "model = keras.models.Sequential()\n",
    "model.add(keras.layers.Flatten(input_shape=[32, 32, 3]))\n",
    "for _ in range(20):\n",
    "    model.add(keras.layers.Dense(100,\n",
    "                                 activation=\"selu\",\n",
    "                                 kernel_initializer=keras.initializers.lecun_normal))\n",
    "model.add(keras.layers.Dense(10, activation=\"softmax\"))"
   ]
  },
  {
   "cell_type": "code",
   "execution_count": null,
   "id": "ce8be226",
   "metadata": {},
   "outputs": [],
   "source": [
    "model.compile(loss=keras.losses.sparse_categorical_crossentropy,\n",
    "             optimizer=keras.optimizers.Nadam(learning_rate=1e-3, beta_1=0.9, beta_2=0.999),\n",
    "             metrics=keras.metrics.sparse_categorical_accuracy)"
   ]
  },
  {
   "cell_type": "code",
   "execution_count": null,
   "id": "5ed52ff3",
   "metadata": {},
   "outputs": [],
   "source": [
    "history = model.fit(X_train, y_train, epochs=10, validation_data=(X_valid, y_valid))"
   ]
  },
  {
   "cell_type": "code",
   "execution_count": null,
   "id": "ac2696c0",
   "metadata": {},
   "outputs": [],
   "source": []
  }
 ],
 "metadata": {
  "kernelspec": {
   "display_name": "Python 3 (ipykernel)",
   "language": "python",
   "name": "python3"
  },
  "language_info": {
   "codemirror_mode": {
    "name": "ipython",
    "version": 3
   },
   "file_extension": ".py",
   "mimetype": "text/x-python",
   "name": "python",
   "nbconvert_exporter": "python",
   "pygments_lexer": "ipython3",
   "version": "3.9.10"
  }
 },
 "nbformat": 4,
 "nbformat_minor": 5
}
