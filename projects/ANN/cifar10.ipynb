{
 "cells": [
  {
   "cell_type": "code",
   "execution_count": 1,
   "id": "790256d4",
   "metadata": {},
   "outputs": [],
   "source": [
    "import numpy as np\n",
    "import pandas as pd\n",
    "import matplotlib as mpl\n",
    "import matplotlib.pyplot as plt\n",
    "%matplotlib inline"
   ]
  },
  {
   "cell_type": "code",
   "execution_count": 2,
   "id": "a8b19a4e",
   "metadata": {},
   "outputs": [],
   "source": [
    "import tensorflow as tf\n",
    "from tensorflow import keras"
   ]
  },
  {
   "cell_type": "code",
   "execution_count": 3,
   "id": "fc8b85ea",
   "metadata": {},
   "outputs": [],
   "source": [
    "%load_ext tensorboard"
   ]
  },
  {
   "cell_type": "code",
   "execution_count": 4,
   "id": "d83faef2",
   "metadata": {},
   "outputs": [],
   "source": [
    "(X_train_full, y_train_full), (X_test, y_test) = keras.datasets.cifar10.load_data()"
   ]
  },
  {
   "cell_type": "code",
   "execution_count": 5,
   "id": "bf06a0b2",
   "metadata": {},
   "outputs": [
    {
     "data": {
      "text/plain": [
       "((50000, 32, 32, 3), (50000, 1), (10000, 32, 32, 3), (10000, 1))"
      ]
     },
     "execution_count": 5,
     "metadata": {},
     "output_type": "execute_result"
    }
   ],
   "source": [
    "X_train_full.shape, y_train_full.shape, X_test.shape, y_test.shape"
   ]
  },
  {
   "cell_type": "code",
   "execution_count": 6,
   "id": "445f3229",
   "metadata": {},
   "outputs": [],
   "source": [
    "from sklearn.model_selection import train_test_split\n",
    "\n",
    "X_train, X_valid, y_train, y_valid = train_test_split(X_train_full, y_train_full, test_size=0.1)"
   ]
  },
  {
   "cell_type": "code",
   "execution_count": 7,
   "id": "e6d1285a",
   "metadata": {},
   "outputs": [
    {
     "data": {
      "text/plain": [
       "((45000, 32, 32, 3), (5000, 32, 32, 3))"
      ]
     },
     "execution_count": 7,
     "metadata": {},
     "output_type": "execute_result"
    }
   ],
   "source": [
    "X_train.shape, X_valid.shape"
   ]
  },
  {
   "cell_type": "code",
   "execution_count": 27,
   "id": "f61131d4",
   "metadata": {},
   "outputs": [
    {
     "data": {
      "text/plain": [
       "'D:\\\\TheCompleteML\\\\projects'"
      ]
     },
     "execution_count": 27,
     "metadata": {},
     "output_type": "execute_result"
    }
   ],
   "source": [
    "import os\n",
    "if \"ANN\" in os.path.abspath(os.curdir): os.chdir(\"..\")\n",
    "BASE_DIR = os.path.abspath(os.curdir)\n",
    "BASE_DIR"
   ]
  },
  {
   "cell_type": "code",
   "execution_count": 28,
   "id": "c1264729",
   "metadata": {},
   "outputs": [],
   "source": [
    "if \"ANN\" not in os.path.abspath(os.curdir): \n",
    "    os.chdir(os.path.abspath(os.path.join(os.curdir, \"ANN\")))"
   ]
  },
  {
   "cell_type": "code",
   "execution_count": 47,
   "id": "cfae0dd6",
   "metadata": {},
   "outputs": [],
   "source": [
    "keras.backend.clear_session()\n",
    "np.random.seed(42)\n",
    "tf.random.set_seed(42)"
   ]
  },
  {
   "cell_type": "code",
   "execution_count": 48,
   "id": "faab1788",
   "metadata": {},
   "outputs": [],
   "source": [
    "model = keras.models.Sequential()\n",
    "model.add(keras.layers.Flatten(input_shape=[32, 32, 3]))\n",
    "for i in range(20):\n",
    "    model.add(keras.layers.Dense(100, \n",
    "                                kernel_initializer=keras.initializers.he_normal, \n",
    "                                activation=keras.activations.elu))\n",
    "model.add(keras.layers.Dense(10, activation=\"softmax\"))"
   ]
  },
  {
   "cell_type": "markdown",
   "id": "3f136152",
   "metadata": {},
   "source": [
    "#### Learning Rate Estimations"
   ]
  },
  {
   "cell_type": "code",
   "execution_count": 49,
   "id": "dac34460",
   "metadata": {},
   "outputs": [],
   "source": [
    "run_index = 3 # increment this at every run\n",
    "learning_rate = 2e-5\n",
    "\n",
    "logdir = os.path.join(BASE_DIR, \"logs\", \"dnn_cifar10_logs\")\n",
    "run_logdir = os.path.join(logdir, \"run_{:03d}\".format(run_index))\n",
    "model_path = os.path.join(BASE_DIR, \"models\", f\"{'cifar10_' + str(learning_rate)[2:]}\")\n",
    "\n",
    "model_checkpoint_cb = keras.callbacks.ModelCheckpoint(model_path, save_best_only=True)\n",
    "early_stopping = keras.callbacks.EarlyStopping(patience=20)\n",
    "tensorboard_cb = keras.callbacks.TensorBoard(run_logdir)"
   ]
  },
  {
   "cell_type": "code",
   "execution_count": 50,
   "id": "4e9e2435",
   "metadata": {},
   "outputs": [],
   "source": [
    "model.compile(loss=keras.losses.sparse_categorical_crossentropy, \n",
    "             optimizer=keras.optimizers.Nadam(learning_rate=learning_rate), \n",
    "             metrics=keras.metrics.sparse_categorical_accuracy)"
   ]
  },
  {
   "cell_type": "code",
   "execution_count": 51,
   "id": "a9c5c707",
   "metadata": {},
   "outputs": [],
   "source": [
    "callbacks = [model_checkpoint_cb, early_stopping, tensorboard_cb]"
   ]
  },
  {
   "cell_type": "code",
   "execution_count": 40,
   "id": "7a392438",
   "metadata": {
    "collapsed": true
   },
   "outputs": [
    {
     "name": "stdout",
     "output_type": "stream",
     "text": [
      "Epoch 1/10\n",
      "1407/1407 [==============================] - ETA: 0s - loss: 6.4350 - sparse_categorical_accuracy: 0.2238- ETA: 2s INFO:tensorflow:Assets written to: D:\\TheCompleteML\\projects\\models\\cifar10_003\\assets\n",
      "1407/1407 [==============================] - 16s 9ms/step - loss: 6.4350 - sparse_categorical_accuracy: 0.2238 - val_loss: 2.3675 - val_sparse_categorical_accuracy: 0.1874\n",
      "Epoch 2/10\n",
      "1405/1407 [============================>.] - ETA: 0s - loss: 2.1500 - sparse_categorical_accuracy: 0.1785INFO:tensorflow:Assets written to: D:\\TheCompleteML\\projects\\models\\cifar10_003\\assets\n",
      "1407/1407 [==============================] - 12s 9ms/step - loss: 2.1497 - sparse_categorical_accuracy: 0.1786 - val_loss: 2.1194 - val_sparse_categorical_accuracy: 0.1678\n",
      "Epoch 3/10\n",
      "1400/1407 [============================>.] - ETA: 0s - loss: 2.0849 - sparse_categorical_accuracy: 0.1827INFO:tensorflow:Assets written to: D:\\TheCompleteML\\projects\\models\\cifar10_003\\assets\n",
      "1407/1407 [==============================] - 13s 9ms/step - loss: 2.0847 - sparse_categorical_accuracy: 0.1827 - val_loss: 2.0670 - val_sparse_categorical_accuracy: 0.2074\n",
      "Epoch 4/10\n",
      "1407/1407 [==============================] - 10s 7ms/step - loss: 2.0788 - sparse_categorical_accuracy: 0.1863 - val_loss: 2.0909 - val_sparse_categorical_accuracy: 0.1704\n",
      "Epoch 5/10\n",
      "1407/1407 [==============================] - 10s 7ms/step - loss: 2.1571 - sparse_categorical_accuracy: 0.1600 - val_loss: 2.1824 - val_sparse_categorical_accuracy: 0.1544\n",
      "Epoch 6/10\n",
      "1407/1407 [==============================] - 10s 7ms/step - loss: 2.1054 - sparse_categorical_accuracy: 0.1818 - val_loss: 2.2291 - val_sparse_categorical_accuracy: 0.1516\n",
      "Epoch 7/10\n",
      "1407/1407 [==============================] - 10s 7ms/step - loss: 3.0138 - sparse_categorical_accuracy: 0.1035 - val_loss: 2.3343 - val_sparse_categorical_accuracy: 0.0970\n",
      "Epoch 8/10\n",
      "1407/1407 [==============================] - 10s 7ms/step - loss: 2.3314 - sparse_categorical_accuracy: 0.0976 - val_loss: 2.3183 - val_sparse_categorical_accuracy: 0.0988\n",
      "Epoch 9/10\n",
      "1407/1407 [==============================] - 10s 7ms/step - loss: 2.3289 - sparse_categorical_accuracy: 0.1009 - val_loss: 2.3064 - val_sparse_categorical_accuracy: 0.0994\n",
      "Epoch 10/10\n",
      "1407/1407 [==============================] - 10s 7ms/step - loss: 2.3275 - sparse_categorical_accuracy: 0.1017 - val_loss: 2.3272 - val_sparse_categorical_accuracy: 0.0988\n"
     ]
    }
   ],
   "source": [
    "# # 3e-3\n",
    "# history = model.fit(X_train, y_train, epochs=10, \n",
    "#                     validation_data=(X_valid, y_valid),\n",
    "#                     callbacks=callbacks)"
   ]
  },
  {
   "cell_type": "code",
   "execution_count": 46,
   "id": "c2a383be",
   "metadata": {
    "collapsed": true
   },
   "outputs": [
    {
     "name": "stdout",
     "output_type": "stream",
     "text": [
      "Epoch 1/10\n",
      "1404/1407 [============================>.] - ETA: 0s - loss: 3.3942 - sparse_categorical_accuracy: 0.1924- ETA: 2s - lossINFO:tensorflow:Assets written to: D:\\TheCompleteML\\projects\\models\\cifar10_0001\\assets\n",
      "1407/1407 [==============================] - 16s 9ms/step - loss: 3.3919 - sparse_categorical_accuracy: 0.1924 - val_loss: 2.2258 - val_sparse_categorical_accuracy: 0.2120\n",
      "Epoch 2/10\n",
      "1406/1407 [============================>.] - ETA: 0s - loss: 1.9892 - sparse_categorical_accuracy: 0.2744INFO:tensorflow:Assets written to: D:\\TheCompleteML\\projects\\models\\cifar10_0001\\assets\n",
      "1407/1407 [==============================] - 13s 9ms/step - loss: 1.9891 - sparse_categorical_accuracy: 0.2744 - val_loss: 2.1193 - val_sparse_categorical_accuracy: 0.2464\n",
      "Epoch 3/10\n",
      "1406/1407 [============================>.] - ETA: 0s - loss: 1.8888 - sparse_categorical_accuracy: 0.3119INFO:tensorflow:Assets written to: D:\\TheCompleteML\\projects\\models\\cifar10_0001\\assets\n",
      "1407/1407 [==============================] - 13s 9ms/step - loss: 1.8888 - sparse_categorical_accuracy: 0.3119 - val_loss: 1.9566 - val_sparse_categorical_accuracy: 0.2984\n",
      "Epoch 4/10\n",
      "1407/1407 [==============================] - 11s 8ms/step - loss: 1.8120 - sparse_categorical_accuracy: 0.3404 - val_loss: 2.0654 - val_sparse_categorical_accuracy: 0.2614\n",
      "Epoch 5/10\n",
      "1407/1407 [==============================] - 10s 7ms/step - loss: 1.7658 - sparse_categorical_accuracy: 0.3589 - val_loss: 1.9702 - val_sparse_categorical_accuracy: 0.3074\n",
      "Epoch 6/10\n",
      "1401/1407 [============================>.] - ETA: 0s - loss: 1.7140 - sparse_categorical_accuracy: 0.3791INFO:tensorflow:Assets written to: D:\\TheCompleteML\\projects\\models\\cifar10_0001\\assets\n",
      "1407/1407 [==============================] - 13s 9ms/step - loss: 1.7138 - sparse_categorical_accuracy: 0.3792 - val_loss: 1.7081 - val_sparse_categorical_accuracy: 0.3762\n",
      "Epoch 7/10\n",
      "1407/1407 [==============================] - 10s 7ms/step - loss: 1.6791 - sparse_categorical_accuracy: 0.3957 - val_loss: 1.7350 - val_sparse_categorical_accuracy: 0.3666\n",
      "Epoch 8/10\n",
      "1407/1407 [==============================] - 10s 7ms/step - loss: 1.6458 - sparse_categorical_accuracy: 0.4076 - val_loss: 1.7166 - val_sparse_categorical_accuracy: 0.3868\n",
      "Epoch 9/10\n",
      "1406/1407 [============================>.] - ETA: 0s - loss: 1.6088 - sparse_categorical_accuracy: 0.4214INFO:tensorflow:Assets written to: D:\\TheCompleteML\\projects\\models\\cifar10_0001\\assets\n",
      "1407/1407 [==============================] - 13s 9ms/step - loss: 1.6089 - sparse_categorical_accuracy: 0.4214 - val_loss: 1.6572 - val_sparse_categorical_accuracy: 0.3970\n",
      "Epoch 10/10\n",
      "1406/1407 [============================>.] - ETA: 0s - loss: 1.5878 - sparse_categorical_accuracy: 0.4262INFO:tensorflow:Assets written to: D:\\TheCompleteML\\projects\\models\\cifar10_0001\\assets\n",
      "1407/1407 [==============================] - 13s 9ms/step - loss: 1.5877 - sparse_categorical_accuracy: 0.4262 - val_loss: 1.6526 - val_sparse_categorical_accuracy: 0.3932\n"
     ]
    }
   ],
   "source": [
    "# # 1e-4\n",
    "# history = model.fit(X_train, y_train, epochs=10, \n",
    "#                     validation_data=(X_valid, y_valid),\n",
    "#                     callbacks=callbacks)"
   ]
  },
  {
   "cell_type": "code",
   "execution_count": 52,
   "id": "86471c14",
   "metadata": {
    "collapsed": true
   },
   "outputs": [
    {
     "name": "stdout",
     "output_type": "stream",
     "text": [
      "Epoch 1/10\n",
      "1400/1407 [============================>.] - ETA: 0s - loss: 7.0574 - sparse_categorical_accuracy: 0.1251INFO:tensorflow:Assets written to: D:\\TheCompleteML\\projects\\models\\cifar10_-05\\assets\n",
      "1407/1407 [==============================] - 16s 9ms/step - loss: 7.0371 - sparse_categorical_accuracy: 0.1250 - val_loss: 2.5228 - val_sparse_categorical_accuracy: 0.1766\n",
      "Epoch 2/10\n",
      "1406/1407 [============================>.] - ETA: 0s - loss: 2.2992 - sparse_categorical_accuracy: 0.1876INFO:tensorflow:Assets written to: D:\\TheCompleteML\\projects\\models\\cifar10_-05\\assets\n",
      "1407/1407 [==============================] - 12s 9ms/step - loss: 2.2991 - sparse_categorical_accuracy: 0.1876 - val_loss: 2.1739 - val_sparse_categorical_accuracy: 0.2006\n",
      "Epoch 3/10\n",
      "1401/1407 [============================>.] - ETA: 0s - loss: 2.1062 - sparse_categorical_accuracy: 0.2289INFO:tensorflow:Assets written to: D:\\TheCompleteML\\projects\\models\\cifar10_-05\\assets\n",
      "1407/1407 [==============================] - 12s 9ms/step - loss: 2.1059 - sparse_categorical_accuracy: 0.2290 - val_loss: 2.0708 - val_sparse_categorical_accuracy: 0.2282\n",
      "Epoch 4/10\n",
      "1402/1407 [============================>.] - ETA: 0s - loss: 2.0132 - sparse_categorical_accuracy: 0.2610INFO:tensorflow:Assets written to: D:\\TheCompleteML\\projects\\models\\cifar10_-05\\assets\n",
      "1407/1407 [==============================] - 13s 9ms/step - loss: 2.0131 - sparse_categorical_accuracy: 0.2612 - val_loss: 2.0115 - val_sparse_categorical_accuracy: 0.2508\n",
      "Epoch 5/10\n",
      "1402/1407 [============================>.] - ETA: 0s - loss: 1.9339 - sparse_categorical_accuracy: 0.2887INFO:tensorflow:Assets written to: D:\\TheCompleteML\\projects\\models\\cifar10_-05\\assets\n",
      "1407/1407 [==============================] - 13s 9ms/step - loss: 1.9338 - sparse_categorical_accuracy: 0.2888 - val_loss: 1.9357 - val_sparse_categorical_accuracy: 0.2848\n",
      "Epoch 6/10\n",
      "1404/1407 [============================>.] - ETA: 0s - loss: 1.8669 - sparse_categorical_accuracy: 0.3151INFO:tensorflow:Assets written to: D:\\TheCompleteML\\projects\\models\\cifar10_-05\\assets\n",
      "1407/1407 [==============================] - 13s 9ms/step - loss: 1.8666 - sparse_categorical_accuracy: 0.3154 - val_loss: 1.8837 - val_sparse_categorical_accuracy: 0.3068\n",
      "Epoch 7/10\n",
      "1406/1407 [============================>.] - ETA: 0s - loss: 1.8191 - sparse_categorical_accuracy: 0.3360INFO:tensorflow:Assets written to: D:\\TheCompleteML\\projects\\models\\cifar10_-05\\assets\n",
      "1407/1407 [==============================] - 12s 9ms/step - loss: 1.8190 - sparse_categorical_accuracy: 0.3360 - val_loss: 1.8486 - val_sparse_categorical_accuracy: 0.3208\n",
      "Epoch 8/10\n",
      "1402/1407 [============================>.] - ETA: 0s - loss: 1.7758 - sparse_categorical_accuracy: 0.3509INFO:tensorflow:Assets written to: D:\\TheCompleteML\\projects\\models\\cifar10_-05\\assets\n",
      "1407/1407 [==============================] - 13s 9ms/step - loss: 1.7756 - sparse_categorical_accuracy: 0.3508 - val_loss: 1.7876 - val_sparse_categorical_accuracy: 0.3488\n",
      "Epoch 9/10\n",
      "1407/1407 [==============================] - ETA: 0s - loss: 1.7337 - sparse_categorical_accuracy: 0.3684INFO:tensorflow:Assets written to: D:\\TheCompleteML\\projects\\models\\cifar10_-05\\assets\n",
      "1407/1407 [==============================] - 12s 9ms/step - loss: 1.7337 - sparse_categorical_accuracy: 0.3684 - val_loss: 1.7866 - val_sparse_categorical_accuracy: 0.3504\n",
      "Epoch 10/10\n",
      "1406/1407 [============================>.] - ETA: 0s - loss: 1.7046 - sparse_categorical_accuracy: 0.3785INFO:tensorflow:Assets written to: D:\\TheCompleteML\\projects\\models\\cifar10_-05\\assets\n",
      "1407/1407 [==============================] - 12s 9ms/step - loss: 1.7046 - sparse_categorical_accuracy: 0.3784 - val_loss: 1.7486 - val_sparse_categorical_accuracy: 0.3590\n"
     ]
    }
   ],
   "source": [
    "# # 2e-5\n",
    "# history = model.fit(X_train, y_train, epochs=10, \n",
    "#                     validation_data=(X_valid, y_valid),\n",
    "#                     callbacks=callbacks)"
   ]
  },
  {
   "cell_type": "markdown",
   "id": "6e6b248f",
   "metadata": {},
   "source": [
    "##### Observations\n",
    "\n",
    "Learning rate around 1e-4 performs well compare to others, we can also tune it further for more accuracy\n",
    "Let's tune the model to 1e-4"
   ]
  },
  {
   "cell_type": "code",
   "execution_count": 56,
   "id": "bddf63ab",
   "metadata": {},
   "outputs": [],
   "source": [
    "keras.backend.clear_session()\n",
    "np.random.seed(42)\n",
    "tf.random.set_seed(42) "
   ]
  },
  {
   "cell_type": "code",
   "execution_count": 57,
   "id": "fb1ae8ac",
   "metadata": {},
   "outputs": [],
   "source": [
    "model = keras.models.Sequential()\n",
    "model.add(keras.layers.Flatten(input_shape=[32, 32, 3]))\n",
    "for i in range(20):\n",
    "    model.add(keras.layers.Dense(100, \n",
    "                                kernel_initializer=keras.initializers.he_normal, \n",
    "                                activation=keras.activations.elu))\n",
    "model.add(keras.layers.Dense(10, activation=\"softmax\"))\n",
    "\n",
    "run_index = 4 # increment this at every run\n",
    "learning_rate = 1e-4\n",
    "\n",
    "logdir = os.path.join(BASE_DIR, \"logs\", \"dnn_cifar10_logs\")\n",
    "run_logdir = os.path.join(logdir, \"run_{:03d}\".format(run_index))\n",
    "model_path = os.path.join(BASE_DIR, \"models\", f\"{'cifar10_' + str(learning_rate)[2:]}\")\n",
    "\n",
    "model_checkpoint_cb = keras.callbacks.ModelCheckpoint(model_path, save_best_only=True)\n",
    "early_stopping = keras.callbacks.EarlyStopping(patience=20)\n",
    "tensorboard_cb = keras.callbacks.TensorBoard(run_logdir)\n",
    "\n",
    "model.compile(loss=keras.losses.sparse_categorical_crossentropy, \n",
    "             optimizer=keras.optimizers.Nadam(learning_rate=learning_rate), \n",
    "             metrics=keras.metrics.sparse_categorical_accuracy)\n",
    "\n",
    "callbacks = [model_checkpoint_cb, early_stopping, tensorboard_cb]"
   ]
  },
  {
   "cell_type": "code",
   "execution_count": 58,
   "id": "ea707181",
   "metadata": {
    "scrolled": true
   },
   "outputs": [
    {
     "name": "stdout",
     "output_type": "stream",
     "text": [
      "Epoch 1/100\n",
      "1401/1407 [============================>.] - ETA: 0s - loss: 3.3969 - sparse_categorical_accuracy: 0.1922INFO:tensorflow:Assets written to: D:\\TheCompleteML\\projects\\models\\cifar10_0001\\assets\n",
      "1407/1407 [==============================] - 15s 9ms/step - loss: 3.3919 - sparse_categorical_accuracy: 0.1924 - val_loss: 2.2258 - val_sparse_categorical_accuracy: 0.2120\n",
      "Epoch 2/100\n",
      "1407/1407 [==============================] - ETA: 0s - loss: 1.9891 - sparse_categorical_accuracy: 0.2744INFO:tensorflow:Assets written to: D:\\TheCompleteML\\projects\\models\\cifar10_0001\\assets\n",
      "1407/1407 [==============================] - 13s 9ms/step - loss: 1.9891 - sparse_categorical_accuracy: 0.2744 - val_loss: 2.1193 - val_sparse_categorical_accuracy: 0.2464\n",
      "Epoch 3/100\n",
      "1403/1407 [============================>.] - ETA: 0s - loss: 1.8888 - sparse_categorical_accuracy: 0.3117INFO:tensorflow:Assets written to: D:\\TheCompleteML\\projects\\models\\cifar10_0001\\assets\n",
      "1407/1407 [==============================] - 13s 9ms/step - loss: 1.8888 - sparse_categorical_accuracy: 0.3119 - val_loss: 1.9566 - val_sparse_categorical_accuracy: 0.2984\n",
      "Epoch 4/100\n",
      "1407/1407 [==============================] - 10s 7ms/step - loss: 1.8120 - sparse_categorical_accuracy: 0.3404 - val_loss: 2.0654 - val_sparse_categorical_accuracy: 0.2614\n",
      "Epoch 5/100\n",
      "1407/1407 [==============================] - 10s 7ms/step - loss: 1.7658 - sparse_categorical_accuracy: 0.3589 - val_loss: 1.9702 - val_sparse_categorical_accuracy: 0.3074\n",
      "Epoch 6/100\n",
      "1406/1407 [============================>.] - ETA: 0s - loss: 1.7137 - sparse_categorical_accuracy: 0.3793INFO:tensorflow:Assets written to: D:\\TheCompleteML\\projects\\models\\cifar10_0001\\assets\n",
      "1407/1407 [==============================] - 12s 9ms/step - loss: 1.7138 - sparse_categorical_accuracy: 0.3792 - val_loss: 1.7081 - val_sparse_categorical_accuracy: 0.3762\n",
      "Epoch 7/100\n",
      "1407/1407 [==============================] - 10s 7ms/step - loss: 1.6791 - sparse_categorical_accuracy: 0.3957 - val_loss: 1.7350 - val_sparse_categorical_accuracy: 0.3666\n",
      "Epoch 8/100\n",
      "1407/1407 [==============================] - 10s 7ms/step - loss: 1.6458 - sparse_categorical_accuracy: 0.4076 - val_loss: 1.7166 - val_sparse_categorical_accuracy: 0.3868\n",
      "Epoch 9/100\n",
      "1402/1407 [============================>.] - ETA: 0s - loss: 1.6086 - sparse_categorical_accuracy: 0.4216INFO:tensorflow:Assets written to: D:\\TheCompleteML\\projects\\models\\cifar10_0001\\assets\n",
      "1407/1407 [==============================] - 12s 9ms/step - loss: 1.6089 - sparse_categorical_accuracy: 0.4214 - val_loss: 1.6572 - val_sparse_categorical_accuracy: 0.3970\n",
      "Epoch 10/100\n",
      "1403/1407 [============================>.] - ETA: 0s - loss: 1.5876 - sparse_categorical_accuracy: 0.4261INFO:tensorflow:Assets written to: D:\\TheCompleteML\\projects\\models\\cifar10_0001\\assets\n",
      "1407/1407 [==============================] - 12s 9ms/step - loss: 1.5877 - sparse_categorical_accuracy: 0.4262 - val_loss: 1.6526 - val_sparse_categorical_accuracy: 0.3932\n",
      "Epoch 11/100\n",
      "1407/1407 [==============================] - 10s 7ms/step - loss: 1.5631 - sparse_categorical_accuracy: 0.4392 - val_loss: 1.6528 - val_sparse_categorical_accuracy: 0.4056\n",
      "Epoch 12/100\n",
      "1407/1407 [==============================] - 10s 7ms/step - loss: 1.5445 - sparse_categorical_accuracy: 0.4467 - val_loss: 1.7493 - val_sparse_categorical_accuracy: 0.3960\n",
      "Epoch 13/100\n",
      "1406/1407 [============================>.] - ETA: 0s - loss: 1.5247 - sparse_categorical_accuracy: 0.4523INFO:tensorflow:Assets written to: D:\\TheCompleteML\\projects\\models\\cifar10_0001\\assets\n",
      "1407/1407 [==============================] - 13s 9ms/step - loss: 1.5247 - sparse_categorical_accuracy: 0.4524 - val_loss: 1.6230 - val_sparse_categorical_accuracy: 0.4188\n",
      "Epoch 14/100\n",
      "1407/1407 [==============================] - ETA: 0s - loss: 1.5070 - sparse_categorical_accuracy: 0.4580INFO:tensorflow:Assets written to: D:\\TheCompleteML\\projects\\models\\cifar10_0001\\assets\n",
      "1407/1407 [==============================] - 12s 9ms/step - loss: 1.5070 - sparse_categorical_accuracy: 0.4580 - val_loss: 1.6188 - val_sparse_categorical_accuracy: 0.4240\n",
      "Epoch 15/100\n",
      "1405/1407 [============================>.] - ETA: 0s - loss: 1.4949 - sparse_categorical_accuracy: 0.4633- ETA: 0s - loss: 1.4946 - sparse_categorical_accuracyINFO:tensorflow:Assets written to: D:\\TheCompleteML\\projects\\models\\cifar10_0001\\assets\n",
      "1407/1407 [==============================] - 13s 9ms/step - loss: 1.4949 - sparse_categorical_accuracy: 0.4633 - val_loss: 1.5909 - val_sparse_categorical_accuracy: 0.4308\n",
      "Epoch 16/100\n",
      "1407/1407 [==============================] - 10s 7ms/step - loss: 1.4752 - sparse_categorical_accuracy: 0.4687 - val_loss: 1.6215 - val_sparse_categorical_accuracy: 0.4138\n",
      "Epoch 17/100\n",
      "1399/1407 [============================>.] - ETA: 0s - loss: 1.4653 - sparse_categorical_accuracy: 0.4719INFO:tensorflow:Assets written to: D:\\TheCompleteML\\projects\\models\\cifar10_0001\\assets\n",
      "1407/1407 [==============================] - 12s 8ms/step - loss: 1.4645 - sparse_categorical_accuracy: 0.4721 - val_loss: 1.5610 - val_sparse_categorical_accuracy: 0.4448\n",
      "Epoch 18/100\n",
      "1407/1407 [==============================] - 9s 7ms/step - loss: 1.4505 - sparse_categorical_accuracy: 0.4792 - val_loss: 1.5819 - val_sparse_categorical_accuracy: 0.4320\n",
      "Epoch 19/100\n",
      "1407/1407 [==============================] - ETA: 0s - loss: 1.4400 - sparse_categorical_accuracy: 0.4844INFO:tensorflow:Assets written to: D:\\TheCompleteML\\projects\\models\\cifar10_0001\\assets\n",
      "1407/1407 [==============================] - 12s 8ms/step - loss: 1.4400 - sparse_categorical_accuracy: 0.4844 - val_loss: 1.5471 - val_sparse_categorical_accuracy: 0.4400\n",
      "Epoch 20/100\n",
      "1407/1407 [==============================] - 11s 8ms/step - loss: 1.4240 - sparse_categorical_accuracy: 0.4890 - val_loss: 1.5947 - val_sparse_categorical_accuracy: 0.4294\n",
      "Epoch 21/100\n",
      "1407/1407 [==============================] - 10s 7ms/step - loss: 1.4149 - sparse_categorical_accuracy: 0.4912 - val_loss: 1.5486 - val_sparse_categorical_accuracy: 0.4558\n",
      "Epoch 22/100\n",
      "1401/1407 [============================>.] - ETA: 0s - loss: 1.4012 - sparse_categorical_accuracy: 0.4976INFO:tensorflow:Assets written to: D:\\TheCompleteML\\projects\\models\\cifar10_0001\\assets\n",
      "1407/1407 [==============================] - 13s 9ms/step - loss: 1.4008 - sparse_categorical_accuracy: 0.4978 - val_loss: 1.5443 - val_sparse_categorical_accuracy: 0.4512\n",
      "Epoch 23/100\n",
      "1407/1407 [==============================] - 11s 7ms/step - loss: 1.3894 - sparse_categorical_accuracy: 0.5033 - val_loss: 1.5986 - val_sparse_categorical_accuracy: 0.4338\n",
      "Epoch 24/100\n",
      "1407/1407 [==============================] - 10s 7ms/step - loss: 1.3781 - sparse_categorical_accuracy: 0.5057 - val_loss: 1.5626 - val_sparse_categorical_accuracy: 0.4446\n",
      "Epoch 25/100\n",
      "1407/1407 [==============================] - 10s 7ms/step - loss: 1.3659 - sparse_categorical_accuracy: 0.5106 - val_loss: 1.5773 - val_sparse_categorical_accuracy: 0.4448\n",
      "Epoch 26/100\n",
      "1407/1407 [==============================] - 11s 8ms/step - loss: 1.3571 - sparse_categorical_accuracy: 0.5133 - val_loss: 1.5772 - val_sparse_categorical_accuracy: 0.4498rse_categorical_accuracy: 0.513\n",
      "Epoch 27/100\n",
      "1407/1407 [==============================] - 10s 7ms/step - loss: 1.3480 - sparse_categorical_accuracy: 0.5158 - val_loss: 1.5772 - val_sparse_categorical_accuracy: 0.4456\n",
      "Epoch 28/100\n",
      "1407/1407 [==============================] - 9s 7ms/step - loss: 1.3360 - sparse_categorical_accuracy: 0.5211 - val_loss: 1.5741 - val_sparse_categorical_accuracy: 0.4564\n",
      "Epoch 29/100\n",
      "1407/1407 [==============================] - 11s 8ms/step - loss: 1.3285 - sparse_categorical_accuracy: 0.5235 - val_loss: 1.5462 - val_sparse_categorical_accuracy: 0.4600\n",
      "Epoch 30/100\n",
      "1403/1407 [============================>.] - ETA: 0s - loss: 1.3178 - sparse_categorical_accuracy: 0.5273- ETA: 2s - loss: 1.314INFO:tensorflow:Assets written to: D:\\TheCompleteML\\projects\\models\\cifar10_0001\\assets\n",
      "1407/1407 [==============================] - 13s 10ms/step - loss: 1.3182 - sparse_categorical_accuracy: 0.5272 - val_loss: 1.5415 - val_sparse_categorical_accuracy: 0.4600\n",
      "Epoch 31/100\n"
     ]
    },
    {
     "name": "stdout",
     "output_type": "stream",
     "text": [
      "1407/1407 [==============================] - 10s 7ms/step - loss: 1.3074 - sparse_categorical_accuracy: 0.5283 - val_loss: 1.5743 - val_sparse_categorical_accuracy: 0.4516\n",
      "Epoch 32/100\n",
      "1407/1407 [==============================] - 10s 7ms/step - loss: 1.2952 - sparse_categorical_accuracy: 0.5343 - val_loss: 1.5704 - val_sparse_categorical_accuracy: 0.4584\n",
      "Epoch 33/100\n",
      "1407/1407 [==============================] - 10s 7ms/step - loss: 1.2894 - sparse_categorical_accuracy: 0.5370 - val_loss: 1.5472 - val_sparse_categorical_accuracy: 0.4582\n",
      "Epoch 34/100\n",
      "1407/1407 [==============================] - ETA: 0s - loss: 1.2784 - sparse_categorical_accuracy: 0.5407INFO:tensorflow:Assets written to: D:\\TheCompleteML\\projects\\models\\cifar10_0001\\assets\n",
      "1407/1407 [==============================] - 12s 8ms/step - loss: 1.2784 - sparse_categorical_accuracy: 0.5407 - val_loss: 1.5362 - val_sparse_categorical_accuracy: 0.4618\n",
      "Epoch 35/100\n",
      "1403/1407 [============================>.] - ETA: 0s - loss: 1.2700 - sparse_categorical_accuracy: 0.5438INFO:tensorflow:Assets written to: D:\\TheCompleteML\\projects\\models\\cifar10_0001\\assets\n",
      "1407/1407 [==============================] - 13s 9ms/step - loss: 1.2701 - sparse_categorical_accuracy: 0.5438 - val_loss: 1.5353 - val_sparse_categorical_accuracy: 0.4636\n",
      "Epoch 36/100\n",
      "1403/1407 [============================>.] - ETA: 0s - loss: 1.2609 - sparse_categorical_accuracy: 0.5472- ETA: 3s - loss: 1. - ETA: 1s - loss: 1.2619 - sparse_categorINFO:tensorflow:Assets written to: D:\\TheCompleteML\\projects\\models\\cifar10_0001\\assets\n",
      "1407/1407 [==============================] - 12s 9ms/step - loss: 1.2606 - sparse_categorical_accuracy: 0.5474 - val_loss: 1.5315 - val_sparse_categorical_accuracy: 0.4730\n",
      "Epoch 37/100\n",
      "1407/1407 [==============================] - 10s 7ms/step - loss: 1.2515 - sparse_categorical_accuracy: 0.5527 - val_loss: 1.6147 - val_sparse_categorical_accuracy: 0.4562\n",
      "Epoch 38/100\n",
      "1407/1407 [==============================] - 10s 7ms/step - loss: 1.2442 - sparse_categorical_accuracy: 0.5548 - val_loss: 1.5531 - val_sparse_categorical_accuracy: 0.4684\n",
      "Epoch 39/100\n",
      "1400/1407 [============================>.] - ETA: 0s - loss: 1.2384 - sparse_categorical_accuracy: 0.5571INFO:tensorflow:Assets written to: D:\\TheCompleteML\\projects\\models\\cifar10_0001\\assets\n",
      "1407/1407 [==============================] - 12s 8ms/step - loss: 1.2390 - sparse_categorical_accuracy: 0.5570 - val_loss: 1.5295 - val_sparse_categorical_accuracy: 0.4706\n",
      "Epoch 40/100\n",
      "1407/1407 [==============================] - 9s 7ms/step - loss: 1.2315 - sparse_categorical_accuracy: 0.5564 - val_loss: 1.5399 - val_sparse_categorical_accuracy: 0.4726\n",
      "Epoch 41/100\n",
      "1407/1407 [==============================] - 10s 7ms/step - loss: 1.2168 - sparse_categorical_accuracy: 0.5625 - val_loss: 1.5545 - val_sparse_categorical_accuracy: 0.4746\n",
      "Epoch 42/100\n",
      "1407/1407 [==============================] - 10s 7ms/step - loss: 1.2097 - sparse_categorical_accuracy: 0.5657 - val_loss: 1.5863 - val_sparse_categorical_accuracy: 0.4604\n",
      "Epoch 43/100\n",
      "1407/1407 [==============================] - 10s 7ms/step - loss: 1.2047 - sparse_categorical_accuracy: 0.5685 - val_loss: 1.5479 - val_sparse_categorical_accuracy: 0.4662\n",
      "Epoch 44/100\n",
      "1407/1407 [==============================] - 10s 7ms/step - loss: 1.1908 - sparse_categorical_accuracy: 0.5726 - val_loss: 1.5351 - val_sparse_categorical_accuracy: 0.4688\n",
      "Epoch 45/100\n",
      "1407/1407 [==============================] - 10s 7ms/step - loss: 1.1855 - sparse_categorical_accuracy: 0.5734 - val_loss: 1.5605 - val_sparse_categorical_accuracy: 0.4636\n",
      "Epoch 46/100\n",
      "1407/1407 [==============================] - 10s 7ms/step - loss: 1.1790 - sparse_categorical_accuracy: 0.5750 - val_loss: 1.6034 - val_sparse_categorical_accuracy: 0.4566\n",
      "Epoch 47/100\n",
      "1407/1407 [==============================] - 10s 7ms/step - loss: 1.1743 - sparse_categorical_accuracy: 0.5788 - val_loss: 1.5807 - val_sparse_categorical_accuracy: 0.4690\n",
      "Epoch 48/100\n",
      "1407/1407 [==============================] - 10s 7ms/step - loss: 1.1642 - sparse_categorical_accuracy: 0.5810 - val_loss: 1.5824 - val_sparse_categorical_accuracy: 0.4662\n",
      "Epoch 49/100\n",
      "1407/1407 [==============================] - 10s 7ms/step - loss: 1.1576 - sparse_categorical_accuracy: 0.5840 - val_loss: 1.6002 - val_sparse_categorical_accuracy: 0.4630\n",
      "Epoch 50/100\n",
      "1407/1407 [==============================] - 10s 7ms/step - loss: 1.1497 - sparse_categorical_accuracy: 0.5859 - val_loss: 1.6018 - val_sparse_categorical_accuracy: 0.4658\n",
      "Epoch 51/100\n",
      "1407/1407 [==============================] - 10s 7ms/step - loss: 1.1391 - sparse_categorical_accuracy: 0.5888 - val_loss: 1.5895 - val_sparse_categorical_accuracy: 0.4606\n",
      "Epoch 52/100\n",
      "1407/1407 [==============================] - 10s 7ms/step - loss: 1.1314 - sparse_categorical_accuracy: 0.5938 - val_loss: 1.6005 - val_sparse_categorical_accuracy: 0.4642\n",
      "Epoch 53/100\n",
      "1407/1407 [==============================] - 10s 7ms/step - loss: 1.1248 - sparse_categorical_accuracy: 0.5980 - val_loss: 1.6259 - val_sparse_categorical_accuracy: 0.4652\n",
      "Epoch 54/100\n",
      "1407/1407 [==============================] - 10s 7ms/step - loss: 1.1179 - sparse_categorical_accuracy: 0.5970 - val_loss: 1.5975 - val_sparse_categorical_accuracy: 0.4698\n",
      "Epoch 55/100\n",
      "1407/1407 [==============================] - 10s 7ms/step - loss: 1.1099 - sparse_categorical_accuracy: 0.5992 - val_loss: 1.5887 - val_sparse_categorical_accuracy: 0.4724\n",
      "Epoch 56/100\n",
      "1407/1407 [==============================] - 10s 7ms/step - loss: 1.1050 - sparse_categorical_accuracy: 0.6045 - val_loss: 1.6116 - val_sparse_categorical_accuracy: 0.4726\n",
      "Epoch 57/100\n",
      "1407/1407 [==============================] - 11s 8ms/step - loss: 1.0975 - sparse_categorical_accuracy: 0.6064 - val_loss: 1.6451 - val_sparse_categorical_accuracy: 0.4722\n",
      "Epoch 58/100\n",
      "1407/1407 [==============================] - 10s 7ms/step - loss: 1.0915 - sparse_categorical_accuracy: 0.6084 - val_loss: 1.5683 - val_sparse_categorical_accuracy: 0.4796\n",
      "Epoch 59/100\n",
      "1407/1407 [==============================] - 10s 7ms/step - loss: 1.0835 - sparse_categorical_accuracy: 0.6121 - val_loss: 1.6417 - val_sparse_categorical_accuracy: 0.4684\n"
     ]
    }
   ],
   "source": [
    "history = model.fit(X_train, y_train, epochs=100, \n",
    "                    validation_data=(X_valid, y_valid),\n",
    "                    callbacks=callbacks)"
   ]
  },
  {
   "cell_type": "code",
   "execution_count": 61,
   "id": "4421a3b9",
   "metadata": {},
   "outputs": [
    {
     "name": "stdout",
     "output_type": "stream",
     "text": [
      "157/157 [==============================] - 1s 3ms/step - loss: 1.5295 - sparse_categorical_accuracy: 0.4706\n"
     ]
    },
    {
     "data": {
      "text/plain": [
       "[1.5294785499572754, 0.4706000089645386]"
      ]
     },
     "execution_count": 61,
     "metadata": {},
     "output_type": "execute_result"
    }
   ],
   "source": [
    "model = keras.models.load_model(model_path)\n",
    "model.evaluate(X_valid, y_valid)"
   ]
  },
  {
   "cell_type": "markdown",
   "id": "052c98ec",
   "metadata": {},
   "source": [
    "### Batch Normalizaions"
   ]
  },
  {
   "cell_type": "code",
   "execution_count": 80,
   "id": "e8e44216",
   "metadata": {},
   "outputs": [],
   "source": [
    "keras.backend.clear_session()\n",
    "np.random.seed(42)\n",
    "tf.random.set_seed(42)\n",
    "\n",
    "model = keras.models.Sequential()\n",
    "model.add(keras.layers.Flatten(input_shape=[32, 32, 3]))\n",
    "model.add(keras.layers.BatchNormalization())\n",
    "\n",
    "for _ in range(20):\n",
    "    model.add(keras.layers.Dense(100, kernel_initializer=\"he_normal\"))\n",
    "    model.add(keras.layers.BatchNormalization())\n",
    "    model.add(keras.layers.Activation(activation=\"elu\"))\n",
    "\n",
    "model.add(keras.layers.Dense(10, activation=\"softmax\"))\n",
    "\n",
    "learnig_rate = 5e-4 # we can fine tune on 10 to 20 epochs based on time\n",
    "train_count = 1 # update on each train\n",
    "\n",
    "logdir = os.path.join(BASE_DIR, \"logs\", \"dnn_cifar10_logs\")\n",
    "run_logdir = os.path.join(logdir, \"run_{:03d}\".format(train_count))\n",
    "model_path = os.path.join(BASE_DIR, \"models\", f\"{'cifar10_batch_'+str(learning_rate)[2:]}\")\n",
    "\n",
    "model.compile(loss=keras.losses.sparse_categorical_crossentropy,\n",
    "              optimizer=keras.optimizers.Nadam(learning_rate=learnig_rate),\n",
    "              metrics=keras.metrics.sparse_categorical_accuracy)\n",
    "\n",
    "modelcheckpoint_cb = keras.callbacks.ModelCheckpoint(model_path, save_best_only=True)\n",
    "earlystoping_cb = keras.callbacks.EarlyStopping(patience=20)\n",
    "tensorboard_cb = keras.callbacks.TensorBoard(run_logdir)\n",
    "\n",
    "\n",
    "callbacks = [model_checkpoint_cb, early_stopping, tensorboard_cb]"
   ]
  },
  {
   "cell_type": "code",
   "execution_count": 81,
   "id": "fbedab10",
   "metadata": {},
   "outputs": [
    {
     "name": "stdout",
     "output_type": "stream",
     "text": [
      "Epoch 1/100\n",
      "1407/1407 [==============================] - 26s 12ms/step - loss: 1.8292 - sparse_categorical_accuracy: 0.3465 - val_loss: 1.6738 - val_sparse_categorical_accuracy: 0.3984\n",
      "Epoch 2/100\n",
      "1407/1407 [==============================] - 16s 12ms/step - loss: 1.6656 - sparse_categorical_accuracy: 0.4074 - val_loss: 1.6008 - val_sparse_categorical_accuracy: 0.4328\n",
      "Epoch 3/100\n",
      "1407/1407 [==============================] - 17s 12ms/step - loss: 1.5937 - sparse_categorical_accuracy: 0.4329 - val_loss: 1.5522 - val_sparse_categorical_accuracy: 0.4452\n",
      "Epoch 4/100\n",
      "1403/1407 [============================>.] - ETA: 0s - loss: 1.5430 - sparse_categorical_accuracy: 0.4502INFO:tensorflow:Assets written to: D:\\TheCompleteML\\projects\\models\\cifar10_0001\\assets\n",
      "1407/1407 [==============================] - 24s 17ms/step - loss: 1.5428 - sparse_categorical_accuracy: 0.4503 - val_loss: 1.5263 - val_sparse_categorical_accuracy: 0.4496\n",
      "Epoch 5/100\n",
      "1403/1407 [============================>.] - ETA: 0s - loss: 1.5007 - sparse_categorical_accuracy: 0.4637INFO:tensorflow:Assets written to: D:\\TheCompleteML\\projects\\models\\cifar10_0001\\assets\n",
      "1407/1407 [==============================] - 24s 17ms/step - loss: 1.5008 - sparse_categorical_accuracy: 0.4638 - val_loss: 1.5080 - val_sparse_categorical_accuracy: 0.4660\n",
      "Epoch 6/100\n",
      "1403/1407 [============================>.] - ETA: 0s - loss: 1.4615 - sparse_categorical_accuracy: 0.4819INFO:tensorflow:Assets written to: D:\\TheCompleteML\\projects\\models\\cifar10_0001\\assets\n",
      "1407/1407 [==============================] - 24s 17ms/step - loss: 1.4616 - sparse_categorical_accuracy: 0.4819 - val_loss: 1.4754 - val_sparse_categorical_accuracy: 0.4738\n",
      "Epoch 7/100\n",
      "1405/1407 [============================>.] - ETA: 0s - loss: 1.4268 - sparse_categorical_accuracy: 0.4931INFO:tensorflow:Assets written to: D:\\TheCompleteML\\projects\\models\\cifar10_0001\\assets\n",
      "1407/1407 [==============================] - 24s 17ms/step - loss: 1.4267 - sparse_categorical_accuracy: 0.4932 - val_loss: 1.4588 - val_sparse_categorical_accuracy: 0.4826\n",
      "Epoch 8/100\n",
      "1406/1407 [============================>.] - ETA: 0s - loss: 1.4043 - sparse_categorical_accuracy: 0.5011INFO:tensorflow:Assets written to: D:\\TheCompleteML\\projects\\models\\cifar10_0001\\assets\n",
      "1407/1407 [==============================] - 24s 17ms/step - loss: 1.4042 - sparse_categorical_accuracy: 0.5012 - val_loss: 1.4377 - val_sparse_categorical_accuracy: 0.4970\n",
      "Epoch 9/100\n",
      "1407/1407 [==============================] - 17s 12ms/step - loss: 1.3742 - sparse_categorical_accuracy: 0.5154 - val_loss: 1.4405 - val_sparse_categorical_accuracy: 0.4866\n",
      "Epoch 10/100\n",
      "1405/1407 [============================>.] - ETA: 0s - loss: 1.3557 - sparse_categorical_accuracy: 0.5197INFO:tensorflow:Assets written to: D:\\TheCompleteML\\projects\\models\\cifar10_0001\\assets\n",
      "1407/1407 [==============================] - 25s 18ms/step - loss: 1.3555 - sparse_categorical_accuracy: 0.5198 - val_loss: 1.4343 - val_sparse_categorical_accuracy: 0.4926\n",
      "Epoch 11/100\n",
      "1404/1407 [============================>.] - ETA: 0s - loss: 1.3325 - sparse_categorical_accuracy: 0.5282INFO:tensorflow:Assets written to: D:\\TheCompleteML\\projects\\models\\cifar10_0001\\assets\n",
      "1407/1407 [==============================] - 24s 17ms/step - loss: 1.3327 - sparse_categorical_accuracy: 0.5282 - val_loss: 1.3969 - val_sparse_categorical_accuracy: 0.5076\n",
      "Epoch 12/100\n",
      "1406/1407 [============================>.] - ETA: 0s - loss: 1.3185 - sparse_categorical_accuracy: 0.5318INFO:tensorflow:Assets written to: D:\\TheCompleteML\\projects\\models\\cifar10_0001\\assets\n",
      "1407/1407 [==============================] - 25s 18ms/step - loss: 1.3185 - sparse_categorical_accuracy: 0.5318 - val_loss: 1.3950 - val_sparse_categorical_accuracy: 0.5110\n",
      "Epoch 13/100\n",
      "1403/1407 [============================>.] - ETA: 0s - loss: 1.2947 - sparse_categorical_accuracy: 0.5389INFO:tensorflow:Assets written to: D:\\TheCompleteML\\projects\\models\\cifar10_0001\\assets\n",
      "1407/1407 [==============================] - 24s 17ms/step - loss: 1.2946 - sparse_categorical_accuracy: 0.5389 - val_loss: 1.3872 - val_sparse_categorical_accuracy: 0.5176\n",
      "Epoch 14/100\n",
      "1407/1407 [==============================] - 17s 12ms/step - loss: 1.2742 - sparse_categorical_accuracy: 0.5506 - val_loss: 1.3993 - val_sparse_categorical_accuracy: 0.5156\n",
      "Epoch 15/100\n",
      "1407/1407 [==============================] - 17s 12ms/step - loss: 1.2599 - sparse_categorical_accuracy: 0.5498 - val_loss: 1.4032 - val_sparse_categorical_accuracy: 0.5102\n",
      "Epoch 16/100\n",
      "1403/1407 [============================>.] - ETA: 0s - loss: 1.2397 - sparse_categorical_accuracy: 0.5604INFO:tensorflow:Assets written to: D:\\TheCompleteML\\projects\\models\\cifar10_0001\\assets\n",
      "1407/1407 [==============================] - 25s 18ms/step - loss: 1.2397 - sparse_categorical_accuracy: 0.5604 - val_loss: 1.3658 - val_sparse_categorical_accuracy: 0.5254\n",
      "Epoch 17/100\n",
      "1407/1407 [==============================] - 17s 12ms/step - loss: 1.2302 - sparse_categorical_accuracy: 0.5662 - val_loss: 1.3942 - val_sparse_categorical_accuracy: 0.5110\n",
      "Epoch 18/100\n",
      "1407/1407 [==============================] - 17s 12ms/step - loss: 1.2108 - sparse_categorical_accuracy: 0.5728 - val_loss: 1.3842 - val_sparse_categorical_accuracy: 0.5142\n",
      "Epoch 19/100\n",
      "1407/1407 [==============================] - 17s 12ms/step - loss: 1.1939 - sparse_categorical_accuracy: 0.5793 - val_loss: 1.3715 - val_sparse_categorical_accuracy: 0.5224\n",
      "Epoch 20/100\n",
      "1407/1407 [==============================] - 17s 12ms/step - loss: 1.1817 - sparse_categorical_accuracy: 0.5819 - val_loss: 1.3990 - val_sparse_categorical_accuracy: 0.5176\n",
      "Epoch 21/100\n",
      "1405/1407 [============================>.] - ETA: 0s - loss: 1.1623 - sparse_categorical_accuracy: 0.5882INFO:tensorflow:Assets written to: D:\\TheCompleteML\\projects\\models\\cifar10_0001\\assets\n",
      "1407/1407 [==============================] - 25s 18ms/step - loss: 1.1625 - sparse_categorical_accuracy: 0.5882 - val_loss: 1.3594 - val_sparse_categorical_accuracy: 0.5316\n",
      "Epoch 22/100\n",
      "1407/1407 [==============================] - 18s 12ms/step - loss: 1.1556 - sparse_categorical_accuracy: 0.5929 - val_loss: 1.4011 - val_sparse_categorical_accuracy: 0.5110\n",
      "Epoch 23/100\n",
      "1407/1407 [==============================] - 17s 12ms/step - loss: 1.1391 - sparse_categorical_accuracy: 0.5979 - val_loss: 1.3858 - val_sparse_categorical_accuracy: 0.5252\n",
      "Epoch 24/100\n",
      "1407/1407 [==============================] - 17s 12ms/step - loss: 1.1267 - sparse_categorical_accuracy: 0.6035 - val_loss: 1.3609 - val_sparse_categorical_accuracy: 0.5364\n",
      "Epoch 25/100\n",
      "1407/1407 [==============================] - 17s 12ms/step - loss: 1.1245 - sparse_categorical_accuracy: 0.6008 - val_loss: 1.4060 - val_sparse_categorical_accuracy: 0.5164\n",
      "Epoch 26/100\n",
      "1407/1407 [==============================] - 17s 12ms/step - loss: 1.1088 - sparse_categorical_accuracy: 0.6096 - val_loss: 1.3948 - val_sparse_categorical_accuracy: 0.5248\n",
      "Epoch 27/100\n",
      "1407/1407 [==============================] - 17s 12ms/step - loss: 1.1036 - sparse_categorical_accuracy: 0.6110 - val_loss: 1.3916 - val_sparse_categorical_accuracy: 0.5204\n",
      "Epoch 28/100\n",
      "1407/1407 [==============================] - 17s 12ms/step - loss: 1.0872 - sparse_categorical_accuracy: 0.6133 - val_loss: 1.3938 - val_sparse_categorical_accuracy: 0.5306\n",
      "Epoch 29/100\n",
      "1407/1407 [==============================] - 17s 12ms/step - loss: 1.0710 - sparse_categorical_accuracy: 0.6222 - val_loss: 1.3866 - val_sparse_categorical_accuracy: 0.5278\n",
      "Epoch 30/100\n",
      "1407/1407 [==============================] - 16s 12ms/step - loss: 1.0640 - sparse_categorical_accuracy: 0.6219 - val_loss: 1.3965 - val_sparse_categorical_accuracy: 0.5244\n",
      "Epoch 31/100\n",
      "1407/1407 [==============================] - 16s 12ms/step - loss: 1.0508 - sparse_categorical_accuracy: 0.6286 - val_loss: 1.3724 - val_sparse_categorical_accuracy: 0.5374\n",
      "Epoch 32/100\n",
      "1407/1407 [==============================] - 16s 12ms/step - loss: 1.0444 - sparse_categorical_accuracy: 0.6322 - val_loss: 1.4089 - val_sparse_categorical_accuracy: 0.5280\n",
      "Epoch 33/100\n",
      "1407/1407 [==============================] - 16s 12ms/step - loss: 1.0343 - sparse_categorical_accuracy: 0.6381 - val_loss: 1.3678 - val_sparse_categorical_accuracy: 0.5346\n"
     ]
    },
    {
     "name": "stdout",
     "output_type": "stream",
     "text": [
      "Epoch 34/100\n",
      "1407/1407 [==============================] - 16s 12ms/step - loss: 1.0220 - sparse_categorical_accuracy: 0.6408 - val_loss: 1.3975 - val_sparse_categorical_accuracy: 0.5296\n",
      "Epoch 35/100\n",
      "1407/1407 [==============================] - 16s 12ms/step - loss: 1.0105 - sparse_categorical_accuracy: 0.6435 - val_loss: 1.4120 - val_sparse_categorical_accuracy: 0.5232\n",
      "Epoch 36/100\n",
      "1407/1407 [==============================] - 16s 12ms/step - loss: 1.0049 - sparse_categorical_accuracy: 0.6452 - val_loss: 1.4133 - val_sparse_categorical_accuracy: 0.5248\n",
      "Epoch 37/100\n",
      "1407/1407 [==============================] - 16s 12ms/step - loss: 0.9952 - sparse_categorical_accuracy: 0.6473 - val_loss: 1.4214 - val_sparse_categorical_accuracy: 0.5292\n",
      "Epoch 38/100\n",
      "1407/1407 [==============================] - 17s 12ms/step - loss: 0.9766 - sparse_categorical_accuracy: 0.6563 - val_loss: 1.4079 - val_sparse_categorical_accuracy: 0.5368\n",
      "Epoch 39/100\n",
      "1407/1407 [==============================] - 16s 12ms/step - loss: 0.9789 - sparse_categorical_accuracy: 0.6547 - val_loss: 1.4413 - val_sparse_categorical_accuracy: 0.5148\n",
      "Epoch 40/100\n",
      "1407/1407 [==============================] - 16s 12ms/step - loss: 0.9697 - sparse_categorical_accuracy: 0.6576 - val_loss: 1.4291 - val_sparse_categorical_accuracy: 0.5278\n",
      "Epoch 41/100\n",
      "1407/1407 [==============================] - 16s 12ms/step - loss: 0.9698 - sparse_categorical_accuracy: 0.6567 - val_loss: 1.3990 - val_sparse_categorical_accuracy: 0.5334\n"
     ]
    }
   ],
   "source": [
    "histroy = model.fit(X_train, y_train, epochs=100, validation_data=(X_valid, y_valid), callbacks=callbacks)"
   ]
  },
  {
   "cell_type": "markdown",
   "id": "5fdfce01",
   "metadata": {},
   "source": [
    "##### Observations\n",
    "as due to batch normalization it takes more time per epoch but it converges much faster then the noramal method, 50% validations accuracy achieved in 12 epochs and same was in 60 epochs"
   ]
  },
  {
   "cell_type": "markdown",
   "id": "1e1d4e5b",
   "metadata": {},
   "source": [
    "### Implementing SELU as activations functions"
   ]
  },
  {
   "cell_type": "code",
   "execution_count": 82,
   "id": "c883d6eb",
   "metadata": {},
   "outputs": [],
   "source": [
    "from sklearn.preprocessing import StandardScaler\n",
    "\n",
    "scaler = StandardScaler()\n",
    "X_train = scaler.fit_transform(X_train.reshape(-1, 1)).reshape(-1, 32, 32, 3)\n",
    "X_valid = scaler.transform(X_valid.reshape(-1, 1)).reshape(-1, 32, 32, 3)\n",
    "X_test = scaler.transform(X_test.reshape(-1, 1)).reshape(-1, 32, 32, 3)"
   ]
  },
  {
   "cell_type": "code",
   "execution_count": 83,
   "id": "82b71dce",
   "metadata": {},
   "outputs": [
    {
     "data": {
      "text/plain": [
       "(45000, 32, 32, 3)"
      ]
     },
     "execution_count": 83,
     "metadata": {},
     "output_type": "execute_result"
    }
   ],
   "source": [
    "X_train.shape"
   ]
  },
  {
   "cell_type": "code",
   "execution_count": 84,
   "id": "3b23ae22",
   "metadata": {},
   "outputs": [],
   "source": [
    "keras.backend.clear_session()\n",
    "np.random.seed(42)\n",
    "tf.random.set_seed(42)"
   ]
  },
  {
   "cell_type": "code",
   "execution_count": 86,
   "id": "a65885f2",
   "metadata": {},
   "outputs": [],
   "source": [
    "model = keras.models.Sequential()\n",
    "model.add(keras.layers.Flatten(input_shape=[32, 32, 3]))\n",
    "for _ in range(20):\n",
    "    model.add(keras.layers.Dense(100,\n",
    "                                 activation=\"selu\",\n",
    "                                 kernel_initializer=keras.initializers.lecun_normal))\n",
    "model.add(keras.layers.Dense(10, activation=\"softmax\"))"
   ]
  },
  {
   "cell_type": "code",
   "execution_count": 87,
   "id": "ce8be226",
   "metadata": {},
   "outputs": [],
   "source": [
    "model.compile(loss=keras.losses.sparse_categorical_crossentropy,\n",
    "             optimizer=keras.optimizers.Nadam(learning_rate=7e-4), # we can tune for learning rate for 10 to 20 epochs\n",
    "             metrics=keras.metrics.sparse_categorical_accuracy)"
   ]
  },
  {
   "cell_type": "code",
   "execution_count": null,
   "id": "19381e69",
   "metadata": {},
   "outputs": [],
   "source": [
    "callbacks=[keras.callbacksbacksllbacks.EarlyStopping(patience=20)]"
   ]
  },
  {
   "cell_type": "code",
   "execution_count": 88,
   "id": "5ed52ff3",
   "metadata": {},
   "outputs": [
    {
     "name": "stdout",
     "output_type": "stream",
     "text": [
      "Epoch 1/100\n",
      "1407/1407 [==============================] - 14s 8ms/step - loss: 1.9222 - sparse_categorical_accuracy: 0.3138 - val_loss: 1.8392 - val_sparse_categorical_accuracy: 0.3484\n",
      "Epoch 2/100\n",
      "1407/1407 [==============================] - 10s 7ms/step - loss: 1.7126 - sparse_categorical_accuracy: 0.3942 - val_loss: 1.7876 - val_sparse_categorical_accuracy: 0.3696\n",
      "Epoch 3/100\n",
      "1407/1407 [==============================] - 10s 7ms/step - loss: 1.6177 - sparse_categorical_accuracy: 0.4282 - val_loss: 1.6275 - val_sparse_categorical_accuracy: 0.4260\n",
      "Epoch 4/100\n",
      "1407/1407 [==============================] - 10s 7ms/step - loss: 1.5495 - sparse_categorical_accuracy: 0.4555 - val_loss: 1.6281 - val_sparse_categorical_accuracy: 0.4082\n",
      "Epoch 5/100\n",
      "1407/1407 [==============================] - 10s 7ms/step - loss: 1.4936 - sparse_categorical_accuracy: 0.4768 - val_loss: 1.6068 - val_sparse_categorical_accuracy: 0.4218\n",
      "Epoch 6/100\n",
      "1407/1407 [==============================] - 10s 7ms/step - loss: 1.4423 - sparse_categorical_accuracy: 0.4970 - val_loss: 1.5946 - val_sparse_categorical_accuracy: 0.4522\n",
      "Epoch 7/100\n",
      "1407/1407 [==============================] - 10s 7ms/step - loss: 1.4030 - sparse_categorical_accuracy: 0.5078 - val_loss: 1.5663 - val_sparse_categorical_accuracy: 0.4634\n",
      "Epoch 8/100\n",
      "1407/1407 [==============================] - 10s 7ms/step - loss: 1.3686 - sparse_categorical_accuracy: 0.5230 - val_loss: 1.5306 - val_sparse_categorical_accuracy: 0.4764\n",
      "Epoch 9/100\n",
      "1407/1407 [==============================] - 10s 7ms/step - loss: 1.3280 - sparse_categorical_accuracy: 0.5377 - val_loss: 1.5450 - val_sparse_categorical_accuracy: 0.4786\n",
      "Epoch 10/100\n",
      "1407/1407 [==============================] - 10s 7ms/step - loss: 1.3042 - sparse_categorical_accuracy: 0.5443 - val_loss: 1.5782 - val_sparse_categorical_accuracy: 0.4722\n",
      "Epoch 11/100\n",
      "1407/1407 [==============================] - 10s 7ms/step - loss: 1.2680 - sparse_categorical_accuracy: 0.5574 - val_loss: 1.5331 - val_sparse_categorical_accuracy: 0.4830\n",
      "Epoch 12/100\n",
      "1407/1407 [==============================] - 10s 7ms/step - loss: 1.2426 - sparse_categorical_accuracy: 0.5667 - val_loss: 1.5283 - val_sparse_categorical_accuracy: 0.4734\n",
      "Epoch 13/100\n",
      "1407/1407 [==============================] - 10s 7ms/step - loss: 1.2133 - sparse_categorical_accuracy: 0.5810 - val_loss: 1.5257 - val_sparse_categorical_accuracy: 0.4934\n",
      "Epoch 14/100\n",
      "1407/1407 [==============================] - 10s 7ms/step - loss: 1.1861 - sparse_categorical_accuracy: 0.5903 - val_loss: 1.5533 - val_sparse_categorical_accuracy: 0.4766\n",
      "Epoch 15/100\n",
      "1407/1407 [==============================] - 11s 8ms/step - loss: 1.1788 - sparse_categorical_accuracy: 0.5918 - val_loss: 1.5052 - val_sparse_categorical_accuracy: 0.4956\n",
      "Epoch 16/100\n",
      "1407/1407 [==============================] - 10s 7ms/step - loss: 1.1433 - sparse_categorical_accuracy: 0.6054 - val_loss: 1.5591 - val_sparse_categorical_accuracy: 0.4962\n",
      "Epoch 17/100\n",
      "1407/1407 [==============================] - 10s 7ms/step - loss: 1.1240 - sparse_categorical_accuracy: 0.6100 - val_loss: 1.5580 - val_sparse_categorical_accuracy: 0.4890\n",
      "Epoch 18/100\n",
      "1407/1407 [==============================] - 10s 7ms/step - loss: 1.1127 - sparse_categorical_accuracy: 0.6179 - val_loss: 1.5865 - val_sparse_categorical_accuracy: 0.4806\n",
      "Epoch 19/100\n",
      "1407/1407 [==============================] - 10s 7ms/step - loss: 1.0861 - sparse_categorical_accuracy: 0.6258 - val_loss: 1.5294 - val_sparse_categorical_accuracy: 0.4854\n",
      "Epoch 20/100\n",
      "1407/1407 [==============================] - 10s 7ms/step - loss: 1.0757 - sparse_categorical_accuracy: 0.6290 - val_loss: 1.5456 - val_sparse_categorical_accuracy: 0.4940\n",
      "Epoch 21/100\n",
      "1407/1407 [==============================] - 10s 7ms/step - loss: 1.0506 - sparse_categorical_accuracy: 0.6412 - val_loss: 1.5350 - val_sparse_categorical_accuracy: 0.4960\n",
      "Epoch 22/100\n",
      "1407/1407 [==============================] - 10s 7ms/step - loss: 1.0365 - sparse_categorical_accuracy: 0.6446 - val_loss: 1.5719 - val_sparse_categorical_accuracy: 0.4892\n",
      "Epoch 23/100\n",
      "1407/1407 [==============================] - 10s 7ms/step - loss: 1.0094 - sparse_categorical_accuracy: 0.6553 - val_loss: 1.5877 - val_sparse_categorical_accuracy: 0.5056\n",
      "Epoch 24/100\n",
      "1407/1407 [==============================] - 10s 7ms/step - loss: 1.0133 - sparse_categorical_accuracy: 0.6554 - val_loss: 1.6266 - val_sparse_categorical_accuracy: 0.4930\n",
      "Epoch 25/100\n",
      "1407/1407 [==============================] - 10s 7ms/step - loss: 0.9881 - sparse_categorical_accuracy: 0.6636 - val_loss: 1.6458 - val_sparse_categorical_accuracy: 0.4880\n",
      "Epoch 26/100\n",
      "1407/1407 [==============================] - 10s 7ms/step - loss: 1.7150 - sparse_categorical_accuracy: 0.6167 - val_loss: 1.6315 - val_sparse_categorical_accuracy: 0.4386\n",
      "Epoch 27/100\n",
      "1407/1407 [==============================] - 10s 7ms/step - loss: 1.2432 - sparse_categorical_accuracy: 0.5679 - val_loss: 1.5751 - val_sparse_categorical_accuracy: 0.4766\n",
      "Epoch 28/100\n",
      "1407/1407 [==============================] - 10s 7ms/step - loss: 1.1346 - sparse_categorical_accuracy: 0.6090 - val_loss: 1.6068 - val_sparse_categorical_accuracy: 0.4814\n",
      "Epoch 29/100\n",
      "1407/1407 [==============================] - 10s 7ms/step - loss: 1.0641 - sparse_categorical_accuracy: 0.6336 - val_loss: 1.6032 - val_sparse_categorical_accuracy: 0.4942\n",
      "Epoch 30/100\n",
      "1407/1407 [==============================] - 10s 7ms/step - loss: 1.0189 - sparse_categorical_accuracy: 0.6499 - val_loss: 1.5930 - val_sparse_categorical_accuracy: 0.4984\n",
      "Epoch 31/100\n",
      "1407/1407 [==============================] - 10s 7ms/step - loss: 0.9733 - sparse_categorical_accuracy: 0.6663 - val_loss: 1.6257 - val_sparse_categorical_accuracy: 0.5052\n",
      "Epoch 32/100\n",
      "1407/1407 [==============================] - 10s 7ms/step - loss: 5.6701 - sparse_categorical_accuracy: 0.5714 - val_loss: 1.7136 - val_sparse_categorical_accuracy: 0.3946\n",
      "Epoch 33/100\n",
      "1407/1407 [==============================] - 10s 7ms/step - loss: 1.3918 - sparse_categorical_accuracy: 0.5096 - val_loss: 1.6624 - val_sparse_categorical_accuracy: 0.4308\n",
      "Epoch 34/100\n",
      "1407/1407 [==============================] - 10s 7ms/step - loss: 1.2802 - sparse_categorical_accuracy: 0.5475 - val_loss: 1.6337 - val_sparse_categorical_accuracy: 0.4582\n",
      "Epoch 35/100\n",
      "1407/1407 [==============================] - 10s 7ms/step - loss: 1.2138 - sparse_categorical_accuracy: 0.5747 - val_loss: 1.5974 - val_sparse_categorical_accuracy: 0.4682\n",
      "Epoch 36/100\n",
      "1407/1407 [==============================] - 10s 7ms/step - loss: 1.1710 - sparse_categorical_accuracy: 0.5926 - val_loss: 1.5916 - val_sparse_categorical_accuracy: 0.4754\n",
      "Epoch 37/100\n",
      "1407/1407 [==============================] - 10s 7ms/step - loss: 1.1647 - sparse_categorical_accuracy: 0.6005 - val_loss: 1.6121 - val_sparse_categorical_accuracy: 0.4648\n",
      "Epoch 38/100\n",
      "1407/1407 [==============================] - 10s 7ms/step - loss: 1.1514 - sparse_categorical_accuracy: 0.5997 - val_loss: 1.6193 - val_sparse_categorical_accuracy: 0.4822\n",
      "Epoch 39/100\n",
      "1407/1407 [==============================] - 10s 7ms/step - loss: 1.0939 - sparse_categorical_accuracy: 0.6210 - val_loss: 1.6022 - val_sparse_categorical_accuracy: 0.4792\n",
      "Epoch 40/100\n",
      "1407/1407 [==============================] - 10s 7ms/step - loss: 1.0751 - sparse_categorical_accuracy: 0.6261 - val_loss: 1.6129 - val_sparse_categorical_accuracy: 0.4796\n",
      "Epoch 41/100\n",
      "1407/1407 [==============================] - 11s 8ms/step - loss: 1.0522 - sparse_categorical_accuracy: 0.6367 - val_loss: 1.6010 - val_sparse_categorical_accuracy: 0.4830\n",
      "Epoch 42/100\n",
      "1407/1407 [==============================] - 11s 8ms/step - loss: 1.0322 - sparse_categorical_accuracy: 0.6441 - val_loss: 1.6007 - val_sparse_categorical_accuracy: 0.4912\n",
      "Epoch 43/100\n",
      "1407/1407 [==============================] - 11s 7ms/step - loss: 1.0155 - sparse_categorical_accuracy: 0.6500 - val_loss: 1.6767 - val_sparse_categorical_accuracy: 0.4904\n",
      "Epoch 44/100\n",
      "1407/1407 [==============================] - 11s 8ms/step - loss: 0.9869 - sparse_categorical_accuracy: 0.6631 - val_loss: 1.6276 - val_sparse_categorical_accuracy: 0.4918\n",
      "Epoch 45/100\n"
     ]
    },
    {
     "name": "stdout",
     "output_type": "stream",
     "text": [
      "1407/1407 [==============================] - 10s 7ms/step - loss: 0.9589 - sparse_categorical_accuracy: 0.6704 - val_loss: 1.6091 - val_sparse_categorical_accuracy: 0.4964\n",
      "Epoch 46/100\n",
      "1407/1407 [==============================] - 10s 7ms/step - loss: 0.9420 - sparse_categorical_accuracy: 0.6791 - val_loss: 1.6018 - val_sparse_categorical_accuracy: 0.5038\n",
      "Epoch 47/100\n",
      "1407/1407 [==============================] - 10s 7ms/step - loss: 0.9289 - sparse_categorical_accuracy: 0.6845 - val_loss: 1.6789 - val_sparse_categorical_accuracy: 0.4840\n",
      "Epoch 48/100\n",
      "1407/1407 [==============================] - 10s 7ms/step - loss: 0.9074 - sparse_categorical_accuracy: 0.6916 - val_loss: 1.6423 - val_sparse_categorical_accuracy: 0.5052\n",
      "Epoch 49/100\n",
      "1407/1407 [==============================] - 10s 7ms/step - loss: 0.8995 - sparse_categorical_accuracy: 0.6916 - val_loss: 1.6404 - val_sparse_categorical_accuracy: 0.4892\n",
      "Epoch 50/100\n",
      "1407/1407 [==============================] - 10s 7ms/step - loss: 0.8725 - sparse_categorical_accuracy: 0.7021 - val_loss: 1.7083 - val_sparse_categorical_accuracy: 0.5010\n",
      "Epoch 51/100\n",
      "1407/1407 [==============================] - 10s 7ms/step - loss: 0.8608 - sparse_categorical_accuracy: 0.7077 - val_loss: 1.8163 - val_sparse_categorical_accuracy: 0.4988\n",
      "Epoch 52/100\n",
      "1407/1407 [==============================] - 10s 7ms/step - loss: 0.8381 - sparse_categorical_accuracy: 0.7156 - val_loss: 1.7780 - val_sparse_categorical_accuracy: 0.4910\n",
      "Epoch 53/100\n",
      "1407/1407 [==============================] - 10s 7ms/step - loss: 0.8325 - sparse_categorical_accuracy: 0.7190 - val_loss: 1.6873 - val_sparse_categorical_accuracy: 0.5074\n",
      "Epoch 54/100\n",
      "1407/1407 [==============================] - 10s 7ms/step - loss: 1.5272 - sparse_categorical_accuracy: 0.7128 - val_loss: 2.2401 - val_sparse_categorical_accuracy: 0.4810\n",
      "Epoch 55/100\n",
      "1407/1407 [==============================] - 10s 7ms/step - loss: 1.0237 - sparse_categorical_accuracy: 0.6486 - val_loss: 1.6887 - val_sparse_categorical_accuracy: 0.4996\n",
      "Epoch 56/100\n",
      "1407/1407 [==============================] - 10s 7ms/step - loss: 0.9814 - sparse_categorical_accuracy: 0.6715 - val_loss: 1.6315 - val_sparse_categorical_accuracy: 0.4956\n",
      "Epoch 57/100\n",
      "1407/1407 [==============================] - 10s 7ms/step - loss: 0.8703 - sparse_categorical_accuracy: 0.6992 - val_loss: 1.7176 - val_sparse_categorical_accuracy: 0.4994\n",
      "Epoch 58/100\n",
      "1407/1407 [==============================] - 10s 7ms/step - loss: 0.8066 - sparse_categorical_accuracy: 0.7238 - val_loss: 1.7527 - val_sparse_categorical_accuracy: 0.5040\n",
      "Epoch 59/100\n",
      "1407/1407 [==============================] - 10s 7ms/step - loss: 0.7709 - sparse_categorical_accuracy: 0.7386 - val_loss: 1.7744 - val_sparse_categorical_accuracy: 0.5044\n",
      "Epoch 60/100\n",
      "1407/1407 [==============================] - 10s 7ms/step - loss: 0.7541 - sparse_categorical_accuracy: 0.7438 - val_loss: 1.8896 - val_sparse_categorical_accuracy: 0.5040\n",
      "Epoch 61/100\n",
      "1407/1407 [==============================] - 10s 7ms/step - loss: 0.7403 - sparse_categorical_accuracy: 0.7475 - val_loss: 1.8733 - val_sparse_categorical_accuracy: 0.5014\n",
      "Epoch 62/100\n",
      "1407/1407 [==============================] - 10s 7ms/step - loss: 0.7403 - sparse_categorical_accuracy: 0.7508 - val_loss: 1.9931 - val_sparse_categorical_accuracy: 0.4992\n",
      "Epoch 63/100\n",
      "1407/1407 [==============================] - 10s 7ms/step - loss: 0.7404 - sparse_categorical_accuracy: 0.7499 - val_loss: 1.9641 - val_sparse_categorical_accuracy: 0.4946\n",
      "Epoch 64/100\n",
      "1407/1407 [==============================] - 10s 7ms/step - loss: 0.7472 - sparse_categorical_accuracy: 0.7490 - val_loss: 1.8610 - val_sparse_categorical_accuracy: 0.5020\n",
      "Epoch 65/100\n",
      "1407/1407 [==============================] - 10s 7ms/step - loss: 0.7317 - sparse_categorical_accuracy: 0.7547 - val_loss: 1.8808 - val_sparse_categorical_accuracy: 0.4986\n",
      "Epoch 66/100\n",
      "1407/1407 [==============================] - 10s 7ms/step - loss: 0.7268 - sparse_categorical_accuracy: 0.7566 - val_loss: 1.8806 - val_sparse_categorical_accuracy: 0.4978\n",
      "Epoch 67/100\n",
      "1407/1407 [==============================] - 10s 7ms/step - loss: 0.7233 - sparse_categorical_accuracy: 0.7554 - val_loss: 1.8948 - val_sparse_categorical_accuracy: 0.4998\n",
      "Epoch 68/100\n",
      "1407/1407 [==============================] - 10s 7ms/step - loss: 0.7167 - sparse_categorical_accuracy: 0.7568 - val_loss: 1.9627 - val_sparse_categorical_accuracy: 0.5094\n",
      "Epoch 69/100\n",
      "1407/1407 [==============================] - 10s 7ms/step - loss: 0.7004 - sparse_categorical_accuracy: 0.7649 - val_loss: 1.7950 - val_sparse_categorical_accuracy: 0.5048\n",
      "Epoch 70/100\n",
      "1407/1407 [==============================] - 10s 7ms/step - loss: 0.6968 - sparse_categorical_accuracy: 0.7659 - val_loss: 1.8708 - val_sparse_categorical_accuracy: 0.4882\n",
      "Epoch 71/100\n",
      "1407/1407 [==============================] - 10s 7ms/step - loss: 0.6837 - sparse_categorical_accuracy: 0.7723 - val_loss: 1.9802 - val_sparse_categorical_accuracy: 0.4932\n",
      "Epoch 72/100\n",
      "1407/1407 [==============================] - 10s 7ms/step - loss: 0.6784 - sparse_categorical_accuracy: 0.7741 - val_loss: 1.9331 - val_sparse_categorical_accuracy: 0.4986\n",
      "Epoch 73/100\n",
      "1407/1407 [==============================] - 10s 7ms/step - loss: 0.6680 - sparse_categorical_accuracy: 0.7771 - val_loss: 2.0247 - val_sparse_categorical_accuracy: 0.5022\n",
      "Epoch 74/100\n",
      "1407/1407 [==============================] - 10s 7ms/step - loss: 0.6606 - sparse_categorical_accuracy: 0.7794 - val_loss: 1.9060 - val_sparse_categorical_accuracy: 0.4834\n",
      "Epoch 75/100\n",
      "1407/1407 [==============================] - 10s 7ms/step - loss: 0.6494 - sparse_categorical_accuracy: 0.7821 - val_loss: 1.9696 - val_sparse_categorical_accuracy: 0.4998\n",
      "Epoch 76/100\n",
      "1407/1407 [==============================] - 10s 7ms/step - loss: 0.6489 - sparse_categorical_accuracy: 0.7836 - val_loss: 2.0300 - val_sparse_categorical_accuracy: 0.4900\n",
      "Epoch 77/100\n",
      "1407/1407 [==============================] - 10s 7ms/step - loss: 0.6319 - sparse_categorical_accuracy: 0.7888 - val_loss: 1.9927 - val_sparse_categorical_accuracy: 0.5012\n",
      "Epoch 78/100\n",
      "1407/1407 [==============================] - 10s 7ms/step - loss: 0.6303 - sparse_categorical_accuracy: 0.7906 - val_loss: 1.9904 - val_sparse_categorical_accuracy: 0.4928\n",
      "Epoch 79/100\n",
      "1407/1407 [==============================] - 10s 7ms/step - loss: 0.6379 - sparse_categorical_accuracy: 0.7890 - val_loss: 2.0873 - val_sparse_categorical_accuracy: 0.5016\n",
      "Epoch 80/100\n",
      "1407/1407 [==============================] - 10s 7ms/step - loss: 0.6214 - sparse_categorical_accuracy: 0.7920 - val_loss: 1.9851 - val_sparse_categorical_accuracy: 0.4992\n",
      "Epoch 81/100\n",
      "1407/1407 [==============================] - 10s 7ms/step - loss: 0.5993 - sparse_categorical_accuracy: 0.7998 - val_loss: 2.1264 - val_sparse_categorical_accuracy: 0.4980\n",
      "Epoch 82/100\n",
      "1407/1407 [==============================] - 10s 7ms/step - loss: 0.9264 - sparse_categorical_accuracy: 0.7098 - val_loss: 1.8447 - val_sparse_categorical_accuracy: 0.4988\n",
      "Epoch 83/100\n",
      "1407/1407 [==============================] - 10s 7ms/step - loss: 0.7082 - sparse_categorical_accuracy: 0.7621 - val_loss: 1.9767 - val_sparse_categorical_accuracy: 0.4986\n",
      "Epoch 84/100\n",
      "1407/1407 [==============================] - 10s 7ms/step - loss: 0.6490 - sparse_categorical_accuracy: 0.7841 - val_loss: 2.0893 - val_sparse_categorical_accuracy: 0.4960\n",
      "Epoch 85/100\n",
      "1407/1407 [==============================] - 10s 7ms/step - loss: 0.5928 - sparse_categorical_accuracy: 0.8026 - val_loss: 2.0565 - val_sparse_categorical_accuracy: 0.4992\n",
      "Epoch 86/100\n",
      "1407/1407 [==============================] - 10s 7ms/step - loss: 0.5694 - sparse_categorical_accuracy: 0.8100 - val_loss: 2.1249 - val_sparse_categorical_accuracy: 0.4938\n",
      "Epoch 87/100\n",
      "1407/1407 [==============================] - 10s 7ms/step - loss: 0.5698 - sparse_categorical_accuracy: 0.8116 - val_loss: 2.2903 - val_sparse_categorical_accuracy: 0.5018\n",
      "Epoch 88/100\n",
      "1407/1407 [==============================] - 11s 8ms/step - loss: 0.5839 - sparse_categorical_accuracy: 0.8068 - val_loss: 2.0906 - val_sparse_categorical_accuracy: 0.4924\n",
      "Epoch 89/100\n"
     ]
    },
    {
     "name": "stdout",
     "output_type": "stream",
     "text": [
      "1407/1407 [==============================] - 10s 7ms/step - loss: 0.5613 - sparse_categorical_accuracy: 0.8126 - val_loss: 2.4398 - val_sparse_categorical_accuracy: 0.4898\n",
      "Epoch 90/100\n",
      "1407/1407 [==============================] - 11s 8ms/step - loss: 0.5697 - sparse_categorical_accuracy: 0.8130 - val_loss: 2.2557 - val_sparse_categorical_accuracy: 0.5010\n",
      "Epoch 91/100\n",
      "1407/1407 [==============================] - 11s 7ms/step - loss: 0.5698 - sparse_categorical_accuracy: 0.8124 - val_loss: 2.1950 - val_sparse_categorical_accuracy: 0.4948\n",
      "Epoch 92/100\n",
      "1407/1407 [==============================] - 10s 7ms/step - loss: 1.2792 - sparse_categorical_accuracy: 0.7607 - val_loss: 1.9420 - val_sparse_categorical_accuracy: 0.4896\n",
      "Epoch 93/100\n",
      "1407/1407 [==============================] - 10s 7ms/step - loss: 0.6895 - sparse_categorical_accuracy: 0.7718 - val_loss: 1.9997 - val_sparse_categorical_accuracy: 0.4882\n",
      "Epoch 94/100\n",
      "1407/1407 [==============================] - 10s 7ms/step - loss: 0.6407 - sparse_categorical_accuracy: 0.7873 - val_loss: 2.0258 - val_sparse_categorical_accuracy: 0.4924\n",
      "Epoch 95/100\n",
      "1407/1407 [==============================] - 10s 7ms/step - loss: 0.6067 - sparse_categorical_accuracy: 0.8001 - val_loss: 2.1403 - val_sparse_categorical_accuracy: 0.4972\n",
      "Epoch 96/100\n",
      "1407/1407 [==============================] - 10s 7ms/step - loss: 0.5744 - sparse_categorical_accuracy: 0.8084 - val_loss: 2.1850 - val_sparse_categorical_accuracy: 0.4960\n",
      "Epoch 97/100\n",
      "1407/1407 [==============================] - 10s 7ms/step - loss: 0.5509 - sparse_categorical_accuracy: 0.8184 - val_loss: 2.2465 - val_sparse_categorical_accuracy: 0.4932\n",
      "Epoch 98/100\n",
      "1407/1407 [==============================] - 10s 7ms/step - loss: 0.5438 - sparse_categorical_accuracy: 0.8210 - val_loss: 2.1775 - val_sparse_categorical_accuracy: 0.4978\n",
      "Epoch 99/100\n",
      "1407/1407 [==============================] - 10s 7ms/step - loss: 0.5290 - sparse_categorical_accuracy: 0.8251 - val_loss: 2.2603 - val_sparse_categorical_accuracy: 0.4924\n",
      "Epoch 100/100\n",
      "1407/1407 [==============================] - 10s 7ms/step - loss: 0.5333 - sparse_categorical_accuracy: 0.8230 - val_loss: 2.1293 - val_sparse_categorical_accuracy: 0.4948\n"
     ]
    }
   ],
   "source": [
    "history = model.fit(X_train, y_train, epochs=100, validation_data=(X_valid, y_valid), )"
   ]
  },
  {
   "cell_type": "code",
   "execution_count": null,
   "id": "ac2696c0",
   "metadata": {},
   "outputs": [],
   "source": []
  }
 ],
 "metadata": {
  "kernelspec": {
   "display_name": "Python 3 (ipykernel)",
   "language": "python",
   "name": "python3"
  },
  "language_info": {
   "codemirror_mode": {
    "name": "ipython",
    "version": 3
   },
   "file_extension": ".py",
   "mimetype": "text/x-python",
   "name": "python",
   "nbconvert_exporter": "python",
   "pygments_lexer": "ipython3",
   "version": "3.9.10"
  }
 },
 "nbformat": 4,
 "nbformat_minor": 5
}
