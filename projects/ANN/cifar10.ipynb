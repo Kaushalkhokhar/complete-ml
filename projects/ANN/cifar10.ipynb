{
 "cells": [
  {
   "cell_type": "code",
   "execution_count": 1,
   "id": "790256d4",
   "metadata": {},
   "outputs": [],
   "source": [
    "import numpy as np\n",
    "import pandas as pd\n",
    "import matplotlib as mpl\n",
    "import matplotlib.pyplot as plt\n",
    "%matplotlib inline"
   ]
  },
  {
   "cell_type": "code",
   "execution_count": 2,
   "id": "a8b19a4e",
   "metadata": {},
   "outputs": [],
   "source": [
    "import tensorflow as tf\n",
    "from tensorflow import keras"
   ]
  },
  {
   "cell_type": "code",
   "execution_count": 3,
   "id": "fc8b85ea",
   "metadata": {},
   "outputs": [],
   "source": [
    "%load_ext tensorboard"
   ]
  },
  {
   "cell_type": "code",
   "execution_count": 4,
   "id": "d83faef2",
   "metadata": {},
   "outputs": [
    {
     "name": "stdout",
     "output_type": "stream",
     "text": [
      "Downloading data from https://www.cs.toronto.edu/~kriz/cifar-10-python.tar.gz\n",
      "170500096/170498071 [==============================] - 43s 0us/step\n",
      "170508288/170498071 [==============================] - 43s 0us/step\n"
     ]
    }
   ],
   "source": [
    "(X_train_full, y_train_full), (X_test, y_test) = keras.datasets.cifar10.load_data()"
   ]
  },
  {
   "cell_type": "code",
   "execution_count": 5,
   "id": "bf06a0b2",
   "metadata": {},
   "outputs": [
    {
     "data": {
      "text/plain": [
       "((50000, 32, 32, 3), (50000, 1), (10000, 32, 32, 3), (10000, 1))"
      ]
     },
     "execution_count": 5,
     "metadata": {},
     "output_type": "execute_result"
    }
   ],
   "source": [
    "X_train_full.shape, y_train_full.shape, X_test.shape, y_test.shape"
   ]
  },
  {
   "cell_type": "code",
   "execution_count": 6,
   "id": "445f3229",
   "metadata": {},
   "outputs": [],
   "source": [
    "from sklearn.model_selection import train_test_split\n",
    "\n",
    "X_train, X_valid, y_train, y_valid = train_test_split(X_train_full, y_train_full, test_size=0.1)"
   ]
  },
  {
   "cell_type": "code",
   "execution_count": 7,
   "id": "e6d1285a",
   "metadata": {},
   "outputs": [
    {
     "data": {
      "text/plain": [
       "((45000, 32, 32, 3), (5000, 32, 32, 3))"
      ]
     },
     "execution_count": 7,
     "metadata": {},
     "output_type": "execute_result"
    }
   ],
   "source": [
    "X_train.shape, X_valid.shape"
   ]
  },
  {
   "cell_type": "code",
   "execution_count": 8,
   "id": "cfae0dd6",
   "metadata": {},
   "outputs": [],
   "source": [
    "keras.backend.clear_session()\n",
    "np.random.seed(42)\n",
    "tf.random.set_seed(42)"
   ]
  },
  {
   "cell_type": "code",
   "execution_count": 9,
   "id": "faab1788",
   "metadata": {},
   "outputs": [],
   "source": [
    "model = keras.models.Sequential()\n",
    "model.add(keras.layers.Flatten(input_shape=[32, 32, 3]))\n",
    "for i in range(20):\n",
    "    model.add(keras.layers.Dense(100, \n",
    "                                kernel_initializer=keras.initializers.he_normal, \n",
    "                                activation=keras.activations.elu))\n",
    "model.add(keras.layers.Dense(10, activation=\"softmax\"))"
   ]
  },
  {
   "cell_type": "code",
   "execution_count": 10,
   "id": "f61131d4",
   "metadata": {},
   "outputs": [
    {
     "data": {
      "text/plain": [
       "'D:\\\\programs\\\\TheCompleteML\\\\projects'"
      ]
     },
     "execution_count": 10,
     "metadata": {},
     "output_type": "execute_result"
    }
   ],
   "source": [
    "import os\n",
    "if \"ANN\" in os.path.abspath(os.curdir): os.chdir(\"..\")\n",
    "BASE_DIR = os.path.abspath(os.curdir)\n",
    "BASE_DIR"
   ]
  },
  {
   "cell_type": "code",
   "execution_count": 11,
   "id": "c1264729",
   "metadata": {},
   "outputs": [],
   "source": [
    "if \"ANN\" not in os.path.abspath(os.curdir): \n",
    "    os.chdir(os.path.abspath(os.path.join(os.curdir, \"ANN\")))"
   ]
  },
  {
   "cell_type": "code",
   "execution_count": 42,
   "id": "dac34460",
   "metadata": {},
   "outputs": [],
   "source": [
    "run_index = 1 # increment this at every run\n",
    "learning_rate = 3e-3\n",
    "\n",
    "logdir = os.path.join(BASE_DIR, \"logs\", \"dnn_cifar10_logs\")\n",
    "run_logdir = os.path.join(logdir, \"run_{:03d}_lr_{:.6f}\".format(run_index, learning_rate))\n",
    "model_path = os.path.join(BASE_DIR, \"models\", \"cifar10_{:06f}\".format(learning_rate))\n",
    "\n",
    "model_checkpoint_cb = keras.callbacks.ModelCheckpoint(model_path, save_best_only=True)\n",
    "early_stopping = keras.callbacks.EarlyStopping(patience=20)\n",
    "tensorboard_cb = keras.callbacks.TensorBoard(run_logdir)"
   ]
  },
  {
   "cell_type": "code",
   "execution_count": 43,
   "id": "4e9e2435",
   "metadata": {},
   "outputs": [],
   "source": [
    "model.compile(loss=keras.losses.sparse_categorical_crossentropy, \n",
    "             optimizer=keras.optimizers.Nadam(learning_rate=learning_rate), \n",
    "             metrics=keras.metrics.sparse_categorical_accuracy)"
   ]
  },
  {
   "cell_type": "code",
   "execution_count": 44,
   "id": "a9c5c707",
   "metadata": {},
   "outputs": [],
   "source": [
    "callbacks = [model_checkpoint_cb, early_stopping, tensorboard_cb]"
   ]
  },
  {
   "cell_type": "code",
   "execution_count": 15,
   "id": "7a392438",
   "metadata": {},
   "outputs": [
    {
     "name": "stdout",
     "output_type": "stream",
     "text": [
      "Epoch 1/10\n",
      "1407/1407 [==============================] - 113s 76ms/step - loss: 3.2808 - sparse_categorical_accuracy: 0.1902 - val_loss: 2.2000 - val_sparse_categorical_accuracy: 0.2108\n",
      "Epoch 2/10\n",
      "1407/1407 [==============================] - 108s 77ms/step - loss: 1.9742 - sparse_categorical_accuracy: 0.2728 - val_loss: 1.9455 - val_sparse_categorical_accuracy: 0.2820\n",
      "Epoch 3/10\n",
      "1407/1407 [==============================] - 108s 77ms/step - loss: 1.8735 - sparse_categorical_accuracy: 0.3200 - val_loss: 1.8451 - val_sparse_categorical_accuracy: 0.3272\n",
      "Epoch 4/10\n",
      "1407/1407 [==============================] - 101s 72ms/step - loss: 1.8160 - sparse_categorical_accuracy: 0.3419 - val_loss: 1.7892 - val_sparse_categorical_accuracy: 0.3548\n",
      "Epoch 5/10\n",
      "1407/1407 [==============================] - 112s 79ms/step - loss: 1.7589 - sparse_categorical_accuracy: 0.3627 - val_loss: 1.7398 - val_sparse_categorical_accuracy: 0.3752\n",
      "Epoch 6/10\n",
      "1407/1407 [==============================] - 107s 76ms/step - loss: 1.7111 - sparse_categorical_accuracy: 0.3808 - val_loss: 1.6959 - val_sparse_categorical_accuracy: 0.3836\n",
      "Epoch 7/10\n",
      "1407/1407 [==============================] - 107s 76ms/step - loss: 1.6680 - sparse_categorical_accuracy: 0.3999 - val_loss: 1.6886 - val_sparse_categorical_accuracy: 0.3918\n",
      "Epoch 8/10\n",
      "1407/1407 [==============================] - 110s 78ms/step - loss: 1.6329 - sparse_categorical_accuracy: 0.4159 - val_loss: 1.7027 - val_sparse_categorical_accuracy: 0.3906\n",
      "Epoch 9/10\n",
      "1407/1407 [==============================] - 104s 74ms/step - loss: 1.6016 - sparse_categorical_accuracy: 0.4250 - val_loss: 1.6082 - val_sparse_categorical_accuracy: 0.4202\n",
      "Epoch 10/10\n",
      "1407/1407 [==============================] - 108s 77ms/step - loss: 1.5749 - sparse_categorical_accuracy: 0.4366 - val_loss: 1.6838 - val_sparse_categorical_accuracy: 0.3986\n"
     ]
    }
   ],
   "source": [
    "history = model.fit(X_train, y_train, epochs=10, \n",
    "                    validation_data=(X_valid, y_valid),\n",
    "                    callbacks=callbacks)"
   ]
  },
  {
   "cell_type": "code",
   "execution_count": 45,
   "id": "c2a383be",
   "metadata": {
    "scrolled": true
   },
   "outputs": [
    {
     "name": "stdout",
     "output_type": "stream",
     "text": [
      "Epoch 1/10\n",
      "1407/1407 [==============================] - ETA: 0s - loss: 24.8036 - sparse_categorical_accuracy: 0.1025INFO:tensorflow:Assets written to: D:\\programs\\TheCompleteML\\projects\\models\\cifar10_0.003000\\assets\n",
      "1407/1407 [==============================] - 113s 78ms/step - loss: 24.8036 - sparse_categorical_accuracy: 0.1025 - val_loss: 2.3412 - val_sparse_categorical_accuracy: 0.1008\n",
      "Epoch 2/10\n",
      "1407/1407 [==============================] - ETA: 0s - loss: 2.3173 - sparse_categorical_accuracy: 0.0976INFO:tensorflow:Assets written to: D:\\programs\\TheCompleteML\\projects\\models\\cifar10_0.003000\\assets\n",
      "1407/1407 [==============================] - 109s 77ms/step - loss: 2.3173 - sparse_categorical_accuracy: 0.0976 - val_loss: 2.3155 - val_sparse_categorical_accuracy: 0.0962\n",
      "Epoch 3/10\n",
      "1407/1407 [==============================] - 107s 76ms/step - loss: 2.3168 - sparse_categorical_accuracy: 0.1007 - val_loss: 2.3165 - val_sparse_categorical_accuracy: 0.1012\n",
      "Epoch 4/10\n",
      "1407/1407 [==============================] - 107s 76ms/step - loss: 2.3181 - sparse_categorical_accuracy: 0.0971 - val_loss: 2.3202 - val_sparse_categorical_accuracy: 0.0960\n",
      "Epoch 5/10\n",
      "1407/1407 [==============================] - ETA: 0s - loss: 2.3177 - sparse_categorical_accuracy: 0.0990INFO:tensorflow:Assets written to: D:\\programs\\TheCompleteML\\projects\\models\\cifar10_0.003000\\assets\n",
      "1407/1407 [==============================] - 106s 76ms/step - loss: 2.3177 - sparse_categorical_accuracy: 0.0990 - val_loss: 2.3139 - val_sparse_categorical_accuracy: 0.0990\n",
      "Epoch 6/10\n",
      "1407/1407 [==============================] - 103s 73ms/step - loss: 2.3188 - sparse_categorical_accuracy: 0.0983 - val_loss: 2.3310 - val_sparse_categorical_accuracy: 0.1010\n",
      "Epoch 7/10\n",
      "1407/1407 [==============================] - 103s 73ms/step - loss: 2.3192 - sparse_categorical_accuracy: 0.0988 - val_loss: 2.3288 - val_sparse_categorical_accuracy: 0.1010\n",
      "Epoch 8/10\n",
      "1407/1407 [==============================] - 105s 75ms/step - loss: 2.3213 - sparse_categorical_accuracy: 0.1005 - val_loss: 2.3335 - val_sparse_categorical_accuracy: 0.1006\n",
      "Epoch 9/10\n",
      "1407/1407 [==============================] - ETA: 0s - loss: 2.3230 - sparse_categorical_accuracy: 0.0981INFO:tensorflow:Assets written to: D:\\programs\\TheCompleteML\\projects\\models\\cifar10_0.003000\\assets\n",
      "1407/1407 [==============================] - 119s 84ms/step - loss: 2.3230 - sparse_categorical_accuracy: 0.0981 - val_loss: 2.3137 - val_sparse_categorical_accuracy: 0.1008\n",
      "Epoch 10/10\n",
      "1407/1407 [==============================] - 123s 87ms/step - loss: 2.3258 - sparse_categorical_accuracy: 0.0983 - val_loss: 2.3245 - val_sparse_categorical_accuracy: 0.1006\n"
     ]
    }
   ],
   "source": [
    "history = model.fit(X_train, y_train, epochs=10, \n",
    "                    validation_data=(X_valid, y_valid),\n",
    "                    callbacks=callbacks)"
   ]
  },
  {
   "cell_type": "code",
   "execution_count": 28,
   "id": "809f5456",
   "metadata": {},
   "outputs": [
    {
     "data": {
      "image/png": "[encoded data removed]",
      "text/plain": [
       "<Figure size 1080x576 with 1 Axes>"
      ]
     },
     "metadata": {
      "needs_background": "light"
     },
     "output_type": "display_data"
    }
   ],
   "source": [
    "pd.DataFrame(history.history).plot(figsize=(15, 8))\n",
    "plt.grid(True)\n",
    "plt.gca().set_ylim(0, 5)\n",
    "plt.show()"
   ]
  },
  {
   "cell_type": "code",
   "execution_count": 29,
   "id": "bddf63ab",
   "metadata": {},
   "outputs": [],
   "source": [
    "keras.backend.clear_session()\n",
    "np.random.seed(42)\n",
    "tf.random.set_seed(42) "
   ]
  },
  {
   "cell_type": "code",
   "execution_count": null,
   "id": "fb1ae8ac",
   "metadata": {},
   "outputs": [],
   "source": []
  },
  {
   "cell_type": "code",
   "execution_count": null,
   "id": "ea707181",
   "metadata": {},
   "outputs": [],
   "source": []
  },
  {
   "cell_type": "code",
   "execution_count": null,
   "id": "9390cc20",
   "metadata": {},
   "outputs": [],
   "source": []
  },
  {
   "cell_type": "code",
   "execution_count": null,
   "id": "cdacdef4",
   "metadata": {},
   "outputs": [],
   "source": [
    "model = keras.models.Sequential()\n",
    "model.add(keras.layers.Flatten(input_shape=[32, 32, 3]))\n",
    "model.add(keras.layers.BatchNormalization())\n",
    "for i in range(20):\n",
    "    model.add(keras.layers.Dense(100, \n",
    "                                kernel_initializer=keras.initializers.he_normal, \n",
    "                                activation=keras.activations.elu))\n",
    "    model.add(keras.layers.BatchNormalization())\n",
    "model.add(keras.layers.Dense(10, \n",
    "                            activation=\"softmax\",\n",
    "                            kernel_initializer=keras.initializers.glorot_uniform))"
   ]
  },
  {
   "cell_type": "code",
   "execution_count": null,
   "id": "bea0e3c2",
   "metadata": {},
   "outputs": [],
   "source": [
    "model.compile(loss=keras.losses.sparse_categorical_crossentropy, \n",
    "             optimizer=keras.optimizers.Nadam(learning_rate=0.001, beta_1=0.9, beta_2=0.999), \n",
    "             metrics=keras.metrics.sparse_categorical_accuracy)"
   ]
  },
  {
   "cell_type": "code",
   "execution_count": null,
   "id": "23444662",
   "metadata": {},
   "outputs": [],
   "source": [
    "history = model.fit(X_train, y_train, epochs=100, validation_data=(X_valid, y_valid), \n",
    "         callbacks=[keras.callbacks.EarlyStopping(patience=10)])"
   ]
  },
  {
   "cell_type": "code",
   "execution_count": null,
   "id": "bdef308e",
   "metadata": {},
   "outputs": [],
   "source": [
    "pd.DataFrame(history.history).plot(figsize=(15, 8))\n",
    "plt.grid(True)\n",
    "# plt.gca().set_ylim(0, 1)\n",
    "plt.show()"
   ]
  },
  {
   "cell_type": "markdown",
   "id": "ef1d4115",
   "metadata": {},
   "source": [
    "##### Observations\n",
    "\n",
    "Convergence to optimum value is much more effective compare to precious result but the time complexity is high, and oveall accuracy is also improved."
   ]
  },
  {
   "cell_type": "markdown",
   "id": "1e1d4e5b",
   "metadata": {},
   "source": [
    "### Implementing SELU as activations functions"
   ]
  },
  {
   "cell_type": "code",
   "execution_count": null,
   "id": "c883d6eb",
   "metadata": {},
   "outputs": [],
   "source": [
    "from sklearn.preprocessing import StandardScaler\n",
    "\n",
    "scaler = StandardScaler()\n",
    "X_train = scaler.fit_transform(X_train.reshape(-1, 1)).reshape(-1, 32, 32, 3)\n",
    "X_valid = scaler.transform(X_valid.reshape(-1, 1)).reshape(-1, 32, 32, 3)\n",
    "X_test = scaler.transform(X_test.reshape(-1, 1)).reshape(-1, 32, 32, 3)"
   ]
  },
  {
   "cell_type": "code",
   "execution_count": null,
   "id": "82b71dce",
   "metadata": {},
   "outputs": [],
   "source": [
    "X_train.shape"
   ]
  },
  {
   "cell_type": "code",
   "execution_count": null,
   "id": "3b23ae22",
   "metadata": {},
   "outputs": [],
   "source": [
    "keras.backend.clear_session()\n",
    "np.random.seed(42)\n",
    "tf.random.set_seed(42)"
   ]
  },
  {
   "cell_type": "code",
   "execution_count": null,
   "id": "a65885f2",
   "metadata": {},
   "outputs": [],
   "source": [
    "model = keras.models.Sequential()\n",
    "model.add(keras.layers.Flatten(input_shape=[32, 32, 3]))\n",
    "for _ in range(20):\n",
    "    model.add(keras.layers.Dense(100,\n",
    "                                 activation=\"selu\",\n",
    "                                 kernel_initializer=keras.initializers.lecun_normal))\n",
    "model.add(keras.layers.Dense(10, activation=\"softmax\"))"
   ]
  },
  {
   "cell_type": "code",
   "execution_count": null,
   "id": "ce8be226",
   "metadata": {},
   "outputs": [],
   "source": [
    "model.compile(loss=keras.losses.sparse_categorical_crossentropy,\n",
    "             optimizer=keras.optimizers.Nadam(learning_rate=1e-3, beta_1=0.9, beta_2=0.999),\n",
    "             metrics=keras.metrics.sparse_categorical_accuracy)"
   ]
  },
  {
   "cell_type": "code",
   "execution_count": null,
   "id": "5ed52ff3",
   "metadata": {},
   "outputs": [],
   "source": [
    "history = model.fit(X_train, y_train, epochs=10, validation_data=(X_valid, y_valid))"
   ]
  },
  {
   "cell_type": "code",
   "execution_count": null,
   "id": "ac2696c0",
   "metadata": {},
   "outputs": [],
   "source": []
  }
 ],
 "metadata": {
  "kernelspec": {
   "display_name": "Python 3 (ipykernel)",
   "language": "python",
   "name": "python3"
  },
  "language_info": {
   "codemirror_mode": {
    "name": "ipython",
    "version": 3
   },
   "file_extension": ".py",
   "mimetype": "text/x-python",
   "name": "python",
   "nbconvert_exporter": "python",
   "pygments_lexer": "ipython3",
   "version": "3.9.9"
  }
 },
 "nbformat": 4,
 "nbformat_minor": 5
}
