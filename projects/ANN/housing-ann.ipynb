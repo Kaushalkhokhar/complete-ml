{
 "cells": [
  {
   "cell_type": "code",
   "execution_count": 2,
   "id": "6d1a88a2",
   "metadata": {},
   "outputs": [],
   "source": [
    "import numpy as np\n",
    "import pandas as pd\n",
    "import matplotlib as mlp\n",
    "import matplotlib.pyplot as plt\n",
    "%matplotlib inline"
   ]
  },
  {
   "cell_type": "code",
   "execution_count": 3,
   "id": "66e65c52",
   "metadata": {},
   "outputs": [],
   "source": [
    "import tensorflow as tf\n",
    "from tensorflow import keras"
   ]
  },
  {
   "cell_type": "code",
   "execution_count": 4,
   "id": "11e075ce",
   "metadata": {},
   "outputs": [],
   "source": [
    "from sklearn.datasets import fetch_california_housing\n",
    "from sklearn.model_selection import train_test_split\n",
    "from sklearn.preprocessing import StandardScaler"
   ]
  },
  {
   "cell_type": "code",
   "execution_count": 10,
   "id": "02c396a9",
   "metadata": {},
   "outputs": [],
   "source": [
    "housing = fetch_california_housing()\n",
    "X_train_full, X_test, y_train_full, y_test = train_test_split(housing.data, housing.target)"
   ]
  },
  {
   "cell_type": "code",
   "execution_count": 11,
   "id": "1c85f110",
   "metadata": {},
   "outputs": [],
   "source": [
    "X_train, X_valid, y_train, y_valid = train_test_split(X_train_full, y_train_full)"
   ]
  },
  {
   "cell_type": "code",
   "execution_count": 12,
   "id": "63b688dc",
   "metadata": {},
   "outputs": [],
   "source": [
    "scaler = StandardScaler()\n",
    "X_train = scaler.fit_transform(X_train)\n",
    "X_test = scaler.transform(X_test)\n",
    "X_valid = scaler.transform(X_valid)"
   ]
  },
  {
   "cell_type": "markdown",
   "id": "8754e220",
   "metadata": {},
   "source": [
    "Implemention regression using sequential API of keras"
   ]
  },
  {
   "cell_type": "code",
   "execution_count": 13,
   "id": "1934b2f6",
   "metadata": {},
   "outputs": [],
   "source": [
    "model = keras.models.Sequential([\n",
    "    keras.layers.Dense(30, activation=\"relu\", input_shape=X_train.shape[1:]),\n",
    "    keras.layers.Dense(1)\n",
    "])"
   ]
  },
  {
   "cell_type": "code",
   "execution_count": 14,
   "id": "42697871",
   "metadata": {},
   "outputs": [],
   "source": [
    "model.compile(\n",
    "    loss=keras.losses.mean_squared_error,\n",
    "    optimizer=\"sgd\"\n",
    ")"
   ]
  },
  {
   "cell_type": "code",
   "execution_count": 16,
   "id": "cc4e7e8d",
   "metadata": {},
   "outputs": [
    {
     "name": "stdout",
     "output_type": "stream",
     "text": [
      "Epoch 1/20\n",
      "363/363 [==============================] - 4s 10ms/step - loss: 0.3948 - val_loss: 0.3792\n",
      "Epoch 2/20\n",
      "363/363 [==============================] - 3s 9ms/step - loss: 0.3786 - val_loss: 0.3797\n",
      "Epoch 3/20\n",
      "363/363 [==============================] - 3s 9ms/step - loss: 0.3795 - val_loss: 0.3741\n",
      "Epoch 4/20\n",
      "363/363 [==============================] - 3s 10ms/step - loss: 0.3707 - val_loss: 0.3695\n",
      "Epoch 5/20\n",
      "363/363 [==============================] - 3s 8ms/step - loss: 0.3767 - val_loss: 0.3679\n",
      "Epoch 6/20\n",
      "363/363 [==============================] - 3s 7ms/step - loss: 0.3671 - val_loss: 0.3722\n",
      "Epoch 7/20\n",
      "363/363 [==============================] - 3s 8ms/step - loss: 0.3667 - val_loss: 0.3700\n",
      "Epoch 8/20\n",
      "363/363 [==============================] - 3s 9ms/step - loss: 0.3667 - val_loss: 0.3694\n",
      "Epoch 9/20\n",
      "363/363 [==============================] - 3s 9ms/step - loss: 0.3624 - val_loss: 0.3651\n",
      "Epoch 10/20\n",
      "363/363 [==============================] - 3s 9ms/step - loss: 0.3752 - val_loss: 0.3609\n",
      "Epoch 11/20\n",
      "363/363 [==============================] - 3s 9ms/step - loss: 0.3620 - val_loss: 0.3627\n",
      "Epoch 12/20\n",
      "363/363 [==============================] - 3s 9ms/step - loss: 0.3653 - val_loss: 0.3587\n",
      "Epoch 13/20\n",
      "363/363 [==============================] - 3s 8ms/step - loss: 0.3706 - val_loss: 0.3583\n",
      "Epoch 14/20\n",
      "363/363 [==============================] - 3s 9ms/step - loss: 0.3608 - val_loss: 0.3594\n",
      "Epoch 15/20\n",
      "363/363 [==============================] - 3s 9ms/step - loss: 0.3572 - val_loss: 0.3567\n",
      "Epoch 16/20\n",
      "363/363 [==============================] - 3s 9ms/step - loss: 0.3567 - val_loss: 0.3576\n",
      "Epoch 17/20\n",
      "363/363 [==============================] - 3s 9ms/step - loss: 0.3600 - val_loss: 0.3611\n",
      "Epoch 18/20\n",
      "363/363 [==============================] - 3s 9ms/step - loss: 0.3537 - val_loss: 0.3586\n",
      "Epoch 19/20\n",
      "363/363 [==============================] - 3s 9ms/step - loss: 0.3535 - val_loss: 0.3509\n",
      "Epoch 20/20\n",
      "363/363 [==============================] - 3s 9ms/step - loss: 0.3536 - val_loss: 0.3547\n"
     ]
    }
   ],
   "source": [
    "history = model.fit(X_train, y_train, epochs=20, validation_data=(X_valid, y_valid))"
   ]
  },
  {
   "cell_type": "code",
   "execution_count": 17,
   "id": "c667c8e0",
   "metadata": {},
   "outputs": [
    {
     "name": "stdout",
     "output_type": "stream",
     "text": [
      "162/162 [==============================] - 1s 7ms/step - loss: 0.3839\n"
     ]
    }
   ],
   "source": [
    "model_test = model.evaluate(X_test, y_test)"
   ]
  },
  {
   "cell_type": "code",
   "execution_count": 18,
   "id": "1bc7e6fe",
   "metadata": {},
   "outputs": [],
   "source": [
    "X_new = X_test[:3]\n",
    "y_pred = model.predict(X_new)"
   ]
  },
  {
   "cell_type": "code",
   "execution_count": 22,
   "id": "1213d9cd",
   "metadata": {},
   "outputs": [
    {
     "data": {
      "text/plain": [
       "array([[1.221],\n",
       "       [0.825],\n",
       "       [2.884]], dtype=float32)"
      ]
     },
     "execution_count": 22,
     "metadata": {},
     "output_type": "execute_result"
    }
   ],
   "source": [
    "y_pred.round(3)"
   ]
  },
  {
   "cell_type": "code",
   "execution_count": 20,
   "id": "1c7efdaf",
   "metadata": {},
   "outputs": [
    {
     "data": {
      "text/plain": [
       "array([1.139, 0.736, 2.1  ])"
      ]
     },
     "execution_count": 20,
     "metadata": {},
     "output_type": "execute_result"
    }
   ],
   "source": [
    "y_test[:3]"
   ]
  },
  {
   "cell_type": "markdown",
   "id": "e4721b89",
   "metadata": {},
   "source": [
    "**Functional** API using keras"
   ]
  },
  {
   "cell_type": "code",
   "execution_count": 23,
   "id": "6cf65218",
   "metadata": {},
   "outputs": [],
   "source": [
    "input_= keras.layers.Input(shape = X_train.shape[1:]) \n",
    "hidden1 = keras.layers.Dense(30, activation =\"relu\")(input_) \n",
    "hidden2 = keras.layers.Dense(30, activation =\"relu\")(hidden1) \n",
    "concat = keras.layers.Concatenate()([input_, hidden2]) \n",
    "output = keras.layers.Dense(1)(concat)\n",
    "model = keras.Model(inputs=[input_], outputs=[output])"
   ]
  },
  {
   "cell_type": "markdown",
   "id": "5c36a63b",
   "metadata": {},
   "source": [
    "compile and fit will be same as above\n",
    "\n",
    "**Multiinput** API's keras\n",
    "\n",
    "But what if you want to send a subset of the features through the wide path and a different subset (possibly overlapping) through the deep path.\n",
    "Example, suppose we have 5 fearues(0 to 4) through wide path and six features through(2 to 7) deep path"
   ]
  },
  {
   "cell_type": "code",
   "execution_count": 30,
   "id": "ebf2b010",
   "metadata": {},
   "outputs": [],
   "source": [
    "input_A = keras.layers.Input(shape=[5], name =\"wide_input\") \n",
    "input_B = keras.layers.Input(shape=[6], name =\"deep_input\") \n",
    "hidden1 = keras.layers.Dense(30, activation =\"relu\")(input_B) \n",
    "hidden2 = keras.layers.Dense(30, activation =\"relu\")(hidden1) \n",
    "concat = keras.layers.concatenate([input_A, hidden2]) \n",
    "output = keras.layers.Dense(1, name =\"output\")(concat)\n",
    "\n",
    "model = keras.Model(inputs=[input_A, input_B], outputs=[output])"
   ]
  },
  {
   "cell_type": "code",
   "execution_count": 32,
   "id": "aa491f6a",
   "metadata": {},
   "outputs": [],
   "source": [
    "model.compile(loss=keras.losses.mean_squared_error, \n",
    "             optimizer=keras.optimizers.SGD(learning_rate=1e-3))"
   ]
  },
  {
   "cell_type": "code",
   "execution_count": 34,
   "id": "9f516a17",
   "metadata": {},
   "outputs": [],
   "source": [
    "X_train_A, X_train_B = X_train[:, :5], X_train[:, 2:] \n",
    "X_valid_A, X_valid_B = X_valid[:, :5], X_valid[:, 2:] \n",
    "X_test_A, X_test_B = X_test[:, :5], X_test[:, 2:]\n",
    "X_new_A, X_new_B = X_test_A[: 3], X_test_B[: 3]"
   ]
  },
  {
   "cell_type": "code",
   "execution_count": 35,
   "id": "403b2f9d",
   "metadata": {},
   "outputs": [
    {
     "name": "stdout",
     "output_type": "stream",
     "text": [
      "Epoch 1/20\n",
      "363/363 [==============================] - 5s 13ms/step - loss: 2.5954 - val_loss: 0.9113\n",
      "Epoch 2/20\n",
      "363/363 [==============================] - 4s 10ms/step - loss: 0.7651 - val_loss: 0.6602\n",
      "Epoch 3/20\n",
      "363/363 [==============================] - 4s 10ms/step - loss: 0.6467 - val_loss: 0.6166\n",
      "Epoch 4/20\n",
      "363/363 [==============================] - 4s 10ms/step - loss: 0.6132 - val_loss: 0.5951\n",
      "Epoch 5/20\n",
      "363/363 [==============================] - 3s 9ms/step - loss: 0.5940 - val_loss: 0.5804\n",
      "Epoch 6/20\n",
      "363/363 [==============================] - 3s 8ms/step - loss: 0.5799 - val_loss: 0.5712\n",
      "Epoch 7/20\n",
      "363/363 [==============================] - 3s 9ms/step - loss: 0.5676 - val_loss: 0.5604\n",
      "Epoch 8/20\n",
      "363/363 [==============================] - 3s 8ms/step - loss: 0.5588 - val_loss: 0.5533\n",
      "Epoch 9/20\n",
      "363/363 [==============================] - 3s 8ms/step - loss: 0.5496 - val_loss: 0.5458\n",
      "Epoch 10/20\n",
      "363/363 [==============================] - 3s 9ms/step - loss: 0.5429 - val_loss: 0.5402\n",
      "Epoch 11/20\n",
      "363/363 [==============================] - 3s 9ms/step - loss: 0.5361 - val_loss: 0.5343\n",
      "Epoch 12/20\n",
      "363/363 [==============================] - 3s 8ms/step - loss: 0.5305 - val_loss: 0.5294\n",
      "Epoch 13/20\n",
      "363/363 [==============================] - 3s 8ms/step - loss: 0.5263 - val_loss: 0.5280\n",
      "Epoch 14/20\n",
      "363/363 [==============================] - 3s 8ms/step - loss: 0.5216 - val_loss: 0.5211\n",
      "Epoch 15/20\n",
      "363/363 [==============================] - 3s 8ms/step - loss: 0.5174 - val_loss: 0.5172\n",
      "Epoch 16/20\n",
      "363/363 [==============================] - 3s 7ms/step - loss: 0.5127 - val_loss: 0.5180\n",
      "Epoch 17/20\n",
      "363/363 [==============================] - 3s 7ms/step - loss: 0.5086 - val_loss: 0.5099\n",
      "Epoch 18/20\n",
      "363/363 [==============================] - 3s 8ms/step - loss: 0.5078 - val_loss: 0.5077\n",
      "Epoch 19/20\n",
      "363/363 [==============================] - 3s 8ms/step - loss: 0.5039 - val_loss: 0.5072\n",
      "Epoch 20/20\n",
      "363/363 [==============================] - 3s 9ms/step - loss: 0.5002 - val_loss: 0.5019\n"
     ]
    }
   ],
   "source": [
    "history = model.fit((X_train_A, X_train_B), y_train, epochs=20, validation_data=((X_valid_A, X_valid_B), y_valid))"
   ]
  },
  {
   "cell_type": "code",
   "execution_count": 36,
   "id": "1c934e22",
   "metadata": {},
   "outputs": [
    {
     "name": "stdout",
     "output_type": "stream",
     "text": [
      "162/162 [==============================] - 1s 6ms/step - loss: 0.5168\n"
     ]
    },
    {
     "data": {
      "text/plain": [
       "0.516836404800415"
      ]
     },
     "execution_count": 36,
     "metadata": {},
     "output_type": "execute_result"
    }
   ],
   "source": [
    "model.evaluate((X_test_A, X_test_B), y_test)"
   ]
  },
  {
   "cell_type": "code",
   "execution_count": 37,
   "id": "ee2e81c3",
   "metadata": {},
   "outputs": [],
   "source": [
    "y_pred = model.predict((X_new_A, X_new_B))"
   ]
  },
  {
   "cell_type": "code",
   "execution_count": 38,
   "id": "d05d8ac0",
   "metadata": {},
   "outputs": [
    {
     "data": {
      "text/plain": [
       "array([[1.2890582],\n",
       "       [1.6821191],\n",
       "       [2.5410814]], dtype=float32)"
      ]
     },
     "execution_count": 38,
     "metadata": {},
     "output_type": "execute_result"
    }
   ],
   "source": [
    "y_pred"
   ]
  },
  {
   "cell_type": "code",
   "execution_count": 39,
   "id": "e5b8031b",
   "metadata": {},
   "outputs": [
    {
     "data": {
      "text/plain": [
       "array([1.139, 0.736, 2.1  ])"
      ]
     },
     "execution_count": 39,
     "metadata": {},
     "output_type": "execute_result"
    }
   ],
   "source": [
    "y_test[:3]"
   ]
  },
  {
   "cell_type": "markdown",
   "id": "839358c7",
   "metadata": {},
   "source": [
    "To make **multioutput** API's in keras"
   ]
  },
  {
   "cell_type": "code",
   "execution_count": 40,
   "id": "7fe3314f",
   "metadata": {},
   "outputs": [],
   "source": [
    "input_A = keras.layers.Input(shape=[5], name =\"wide_input\") \n",
    "input_B = keras.layers.Input(shape=[6], name =\"deep_input\") \n",
    "hidden1 = keras.layers.Dense(30, activation =\"relu\")(input_B) \n",
    "hidden2 = keras.layers.Dense(30, activation =\"relu\")(hidden1) \n",
    "concat = keras.layers.concatenate([input_A, hidden2]) \n",
    "output = keras.layers.Dense(1, name =\"main_output\")(concat)\n",
    "aux_output = keras.layers.Dense(1, name=\"aux_output\")(hidden2)\n",
    "\n",
    "model = keras.Model(inputs=[input_A, input_B], \n",
    "                   outputs=[output, aux_output])"
   ]
  },
  {
   "cell_type": "code",
   "execution_count": 41,
   "id": "7651a320",
   "metadata": {},
   "outputs": [],
   "source": [
    "model.compile(loss=[\"mse\", \"mse\"], loss_weights=[0.9, 0.1], optimizer=\"sgd\")"
   ]
  },
  {
   "cell_type": "markdown",
   "id": "93cbb60c",
   "metadata": {},
   "source": [
    "**Observations**\n",
    "here we need to specify loss for each of the output and weights are the importants given to each of the loss"
   ]
  },
  {
   "cell_type": "code",
   "execution_count": 42,
   "id": "9d4fc5fc",
   "metadata": {},
   "outputs": [
    {
     "name": "stdout",
     "output_type": "stream",
     "text": [
      "Epoch 1/20\n",
      "363/363 [==============================] - 5s 12ms/step - loss: 1.0016 - main_output_loss: 0.9087 - aux_output_loss: 1.8374 - val_loss: 0.6514 - val_main_output_loss: 0.5883 - val_aux_output_loss: 1.2197\n",
      "Epoch 2/20\n",
      "363/363 [==============================] - 4s 11ms/step - loss: 0.6029 - main_output_loss: 0.5441 - aux_output_loss: 1.1329 - val_loss: 0.5556 - val_main_output_loss: 0.5027 - val_aux_output_loss: 1.0322\n",
      "Epoch 3/20\n",
      "363/363 [==============================] - 4s 11ms/step - loss: 0.5316 - main_output_loss: 0.4864 - aux_output_loss: 0.9384 - val_loss: 0.5083 - val_main_output_loss: 0.4677 - val_aux_output_loss: 0.8738\n",
      "Epoch 4/20\n",
      "363/363 [==============================] - 4s 11ms/step - loss: 0.5644 - main_output_loss: 0.5334 - aux_output_loss: 0.8436 - val_loss: 0.4928 - val_main_output_loss: 0.4598 - val_aux_output_loss: 0.7894\n",
      "Epoch 5/20\n",
      "363/363 [==============================] - 4s 10ms/step - loss: 0.4997 - main_output_loss: 0.4714 - aux_output_loss: 0.7549 - val_loss: 0.4813 - val_main_output_loss: 0.4543 - val_aux_output_loss: 0.7244\n",
      "Epoch 6/20\n",
      "363/363 [==============================] - 4s 11ms/step - loss: 0.4722 - main_output_loss: 0.4466 - aux_output_loss: 0.7020 - val_loss: 0.4679 - val_main_output_loss: 0.4435 - val_aux_output_loss: 0.6866\n",
      "Epoch 7/20\n",
      "363/363 [==============================] - 4s 11ms/step - loss: 0.4619 - main_output_loss: 0.4391 - aux_output_loss: 0.6669 - val_loss: 0.4646 - val_main_output_loss: 0.4424 - val_aux_output_loss: 0.6646\n",
      "Epoch 8/20\n",
      "363/363 [==============================] - 4s 10ms/step - loss: 0.4529 - main_output_loss: 0.4315 - aux_output_loss: 0.6450 - val_loss: 0.4469 - val_main_output_loss: 0.4254 - val_aux_output_loss: 0.6399\n",
      "Epoch 9/20\n",
      "363/363 [==============================] - 4s 11ms/step - loss: 0.4478 - main_output_loss: 0.4280 - aux_output_loss: 0.6258 - val_loss: 0.4377 - val_main_output_loss: 0.4176 - val_aux_output_loss: 0.6185\n",
      "Epoch 10/20\n",
      "363/363 [==============================] - 4s 11ms/step - loss: 0.4371 - main_output_loss: 0.4181 - aux_output_loss: 0.6078 - val_loss: 0.4312 - val_main_output_loss: 0.4121 - val_aux_output_loss: 0.6030\n",
      "Epoch 11/20\n",
      "363/363 [==============================] - 4s 11ms/step - loss: 0.4292 - main_output_loss: 0.4108 - aux_output_loss: 0.5945 - val_loss: 0.4226 - val_main_output_loss: 0.4039 - val_aux_output_loss: 0.5915\n",
      "Epoch 12/20\n",
      "363/363 [==============================] - 4s 11ms/step - loss: 0.4240 - main_output_loss: 0.4065 - aux_output_loss: 0.5813 - val_loss: 0.4194 - val_main_output_loss: 0.4010 - val_aux_output_loss: 0.5855\n",
      "Epoch 13/20\n",
      "363/363 [==============================] - 4s 10ms/step - loss: 0.4163 - main_output_loss: 0.3992 - aux_output_loss: 0.5709 - val_loss: 0.4090 - val_main_output_loss: 0.3911 - val_aux_output_loss: 0.5701\n",
      "Epoch 14/20\n",
      "363/363 [==============================] - 4s 11ms/step - loss: 0.4083 - main_output_loss: 0.3915 - aux_output_loss: 0.5590 - val_loss: 0.4063 - val_main_output_loss: 0.3897 - val_aux_output_loss: 0.5555\n",
      "Epoch 15/20\n",
      "363/363 [==============================] - 4s 10ms/step - loss: 0.4065 - main_output_loss: 0.3906 - aux_output_loss: 0.5495 - val_loss: 0.3977 - val_main_output_loss: 0.3805 - val_aux_output_loss: 0.5523\n",
      "Epoch 16/20\n",
      "363/363 [==============================] - 4s 11ms/step - loss: 0.3976 - main_output_loss: 0.3820 - aux_output_loss: 0.5381 - val_loss: 0.4025 - val_main_output_loss: 0.3866 - val_aux_output_loss: 0.5462\n",
      "Epoch 17/20\n",
      "363/363 [==============================] - 4s 10ms/step - loss: 0.3982 - main_output_loss: 0.3835 - aux_output_loss: 0.5308 - val_loss: 0.4048 - val_main_output_loss: 0.3905 - val_aux_output_loss: 0.5336\n",
      "Epoch 18/20\n",
      "363/363 [==============================] - 4s 10ms/step - loss: 0.3918 - main_output_loss: 0.3772 - aux_output_loss: 0.5238 - val_loss: 0.3867 - val_main_output_loss: 0.3715 - val_aux_output_loss: 0.5232\n",
      "Epoch 19/20\n",
      "363/363 [==============================] - 4s 11ms/step - loss: 0.3814 - main_output_loss: 0.3670 - aux_output_loss: 0.5114 - val_loss: 0.3801 - val_main_output_loss: 0.3650 - val_aux_output_loss: 0.5154\n",
      "Epoch 20/20\n",
      "363/363 [==============================] - 4s 11ms/step - loss: 0.3778 - main_output_loss: 0.3638 - aux_output_loss: 0.5031 - val_loss: 0.3765 - val_main_output_loss: 0.3618 - val_aux_output_loss: 0.5085\n"
     ]
    }
   ],
   "source": [
    "history = model.fit((X_train_A, X_train_B), (y_train, y_train), epochs=20, \n",
    "                    validation_data=((X_valid_A, X_valid_B), (y_valid, y_valid)))"
   ]
  },
  {
   "cell_type": "code",
   "execution_count": 43,
   "id": "d43b715e",
   "metadata": {},
   "outputs": [
    {
     "name": "stdout",
     "output_type": "stream",
     "text": [
      "162/162 [==============================] - 1s 6ms/step - loss: 0.4055 - main_output_loss: 0.3893 - aux_output_loss: 0.5512\n"
     ]
    }
   ],
   "source": [
    "total_loss, main_loss, aux_loss = model.evaluate((X_test_A, X_test_B), (y_test, y_test))"
   ]
  },
  {
   "cell_type": "code",
   "execution_count": 44,
   "id": "96c736b1",
   "metadata": {},
   "outputs": [
    {
     "data": {
      "text/plain": [
       "(0.40551453828811646, 0.38933122158050537, 0.5511640906333923)"
      ]
     },
     "execution_count": 44,
     "metadata": {},
     "output_type": "execute_result"
    }
   ],
   "source": [
    "total_loss, main_loss, aux_loss"
   ]
  },
  {
   "cell_type": "code",
   "execution_count": 45,
   "id": "0ead3704",
   "metadata": {},
   "outputs": [],
   "source": [
    "y_pred_main, y_pred_aux = model.predict((X_test_A, X_test_B))"
   ]
  },
  {
   "cell_type": "markdown",
   "id": "e0723796",
   "metadata": {},
   "source": [
    "**Subclassing API's**"
   ]
  },
  {
   "cell_type": "code",
   "execution_count": null,
   "id": "63cdea33",
   "metadata": {},
   "outputs": [],
   "source": []
  }
 ],
 "metadata": {
  "kernelspec": {
   "display_name": "Python 3 (ipykernel)",
   "language": "python",
   "name": "python3"
  },
  "language_info": {
   "codemirror_mode": {
    "name": "ipython",
    "version": 3
   },
   "file_extension": ".py",
   "mimetype": "text/x-python",
   "name": "python",
   "nbconvert_exporter": "python",
   "pygments_lexer": "ipython3",
   "version": "3.9.9"
  }
 },
 "nbformat": 4,
 "nbformat_minor": 5
}
