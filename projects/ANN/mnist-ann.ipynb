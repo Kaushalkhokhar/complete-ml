{
 "cells": [
  {
   "cell_type": "code",
   "execution_count": 1,
   "id": "f0041722",
   "metadata": {},
   "outputs": [],
   "source": [
    "import numpy as np\n",
    "import pandas as pd\n",
    "import matplotlib as mpl\n",
    "import matplotlib.pyplot as plt\n",
    "%matplotlib inline"
   ]
  },
  {
   "cell_type": "code",
   "execution_count": 2,
   "id": "011d7184",
   "metadata": {},
   "outputs": [],
   "source": [
    "import tensorflow as tf\n",
    "from tensorflow import keras"
   ]
  },
  {
   "cell_type": "code",
   "execution_count": 241,
   "id": "5a2c06c7",
   "metadata": {},
   "outputs": [],
   "source": [
    "import os\n",
    "os.chdir(\"..\")\n",
    "BASE_DIR = os.path.abspath(os.curdir)"
   ]
  },
  {
   "cell_type": "code",
   "execution_count": 201,
   "id": "18c1ac1a",
   "metadata": {},
   "outputs": [],
   "source": [
    "(X_train_full, y_train_full), (X_test, y_test) = keras.datasets.mnist.load_data()"
   ]
  },
  {
   "cell_type": "code",
   "execution_count": 202,
   "id": "cac1ecbc",
   "metadata": {},
   "outputs": [
    {
     "data": {
      "text/plain": [
       "(60000, 28, 28)"
      ]
     },
     "execution_count": 202,
     "metadata": {},
     "output_type": "execute_result"
    }
   ],
   "source": [
    "X_train_full.shape"
   ]
  },
  {
   "cell_type": "code",
   "execution_count": 203,
   "id": "90a36e64",
   "metadata": {},
   "outputs": [
    {
     "data": {
      "text/plain": [
       "(60000,)"
      ]
     },
     "execution_count": 203,
     "metadata": {},
     "output_type": "execute_result"
    }
   ],
   "source": [
    "y_train_full.shape"
   ]
  },
  {
   "cell_type": "code",
   "execution_count": 204,
   "id": "932cb1a9",
   "metadata": {},
   "outputs": [],
   "source": [
    "from sklearn.model_selection import train_test_split\n",
    "\n",
    "X_train, X_valid, y_train, y_valid = train_test_split(X_train_full, y_train_full, test_size=0.1)"
   ]
  },
  {
   "cell_type": "markdown",
   "id": "99220d6e",
   "metadata": {},
   "source": [
    "Scaling"
   ]
  },
  {
   "cell_type": "code",
   "execution_count": 205,
   "id": "b4212c49",
   "metadata": {},
   "outputs": [],
   "source": [
    "X_train = X_train / 255.0\n",
    "X_valid = X_valid / 255.0\n",
    "X_test = X_test / 255.0"
   ]
  },
  {
   "cell_type": "code",
   "execution_count": 206,
   "id": "29135522",
   "metadata": {
    "scrolled": true
   },
   "outputs": [
    {
     "data": {
      "text/plain": [
       "((54000, 28, 28), (6000, 28, 28), (10000, 28, 28), (54000,), (6000,), (10000,))"
      ]
     },
     "execution_count": 206,
     "metadata": {},
     "output_type": "execute_result"
    }
   ],
   "source": [
    "X_train.shape, X_valid.shape, X_test.shape, y_train.shape, y_valid.shape, y_test.shape"
   ]
  },
  {
   "cell_type": "code",
   "execution_count": 207,
   "id": "a552fe37",
   "metadata": {},
   "outputs": [
    {
     "data": {
      "text/plain": [
       "(dtype('float64'),\n",
       " dtype('float64'),\n",
       " dtype('float64'),\n",
       " dtype('uint8'),\n",
       " dtype('uint8'),\n",
       " dtype('uint8'))"
      ]
     },
     "execution_count": 207,
     "metadata": {},
     "output_type": "execute_result"
    }
   ],
   "source": [
    "X_train.dtype, X_valid.dtype, X_test.dtype, y_train.dtype, y_valid.dtype, y_test.dtype"
   ]
  },
  {
   "cell_type": "markdown",
   "id": "4876a2e2",
   "metadata": {},
   "source": [
    "Model training"
   ]
  },
  {
   "cell_type": "code",
   "execution_count": 30,
   "id": "ec4d427d",
   "metadata": {},
   "outputs": [],
   "source": [
    "model = keras.models.Sequential()\n",
    "model.add(keras.layers.Flatten(input_shape=[28, 28]))\n",
    "model.add(keras.layers.Dense(300, activation=\"relu\"))\n",
    "model.add(keras.layers.Dense(100, activation=\"relu\"))\n",
    "model.add(keras.layers.Dense(10, activation=\"softmax\"))\n",
    "\n",
    "# input_ = keras.layers.Input(shape=X_train.shape[1:])\n",
    "# hidden1 = keras.layers.Dense(100, activation=\"relu\")(input_)\n",
    "# hidden2 = keras.layers.Dense(100, activation=\"relu\")(hidden1)\n",
    "# output = keras.layers.Dense(10, activation=\"softmax\")(hidden2)\n",
    "\n",
    "# model = keras.Model(inputs=[input_], outputs=[output])"
   ]
  },
  {
   "cell_type": "code",
   "execution_count": 31,
   "id": "16cea3bc",
   "metadata": {},
   "outputs": [],
   "source": [
    "model.compile(loss=keras.losses.sparse_categorical_crossentropy, \n",
    "             optimizer=keras.optimizers.SGD(learning_rate=1e-2), \n",
    "             metrics=keras.metrics.sparse_categorical_accuracy)"
   ]
  },
  {
   "cell_type": "code",
   "execution_count": 32,
   "id": "06068f69",
   "metadata": {},
   "outputs": [
    {
     "name": "stdout",
     "output_type": "stream",
     "text": [
      "Epoch 1/30\n",
      "1688/1688 [==============================] - 17s 10ms/step - loss: 0.6392 - sparse_categorical_accuracy: 0.8356 - val_loss: 0.3308 - val_sparse_categorical_accuracy: 0.9065\n",
      "Epoch 2/30\n",
      "1688/1688 [==============================] - 14s 8ms/step - loss: 0.2931 - sparse_categorical_accuracy: 0.9169 - val_loss: 0.2646 - val_sparse_categorical_accuracy: 0.9218\n",
      "Epoch 3/30\n",
      "1688/1688 [==============================] - 14s 8ms/step - loss: 0.2385 - sparse_categorical_accuracy: 0.9333 - val_loss: 0.2187 - val_sparse_categorical_accuracy: 0.9405\n",
      "Epoch 4/30\n",
      "1688/1688 [==============================] - 14s 8ms/step - loss: 0.2035 - sparse_categorical_accuracy: 0.9422 - val_loss: 0.1946 - val_sparse_categorical_accuracy: 0.9435\n",
      "Epoch 5/30\n",
      "1688/1688 [==============================] - 14s 8ms/step - loss: 0.1776 - sparse_categorical_accuracy: 0.9496 - val_loss: 0.1730 - val_sparse_categorical_accuracy: 0.9495\n",
      "Epoch 6/30\n",
      "1688/1688 [==============================] - 14s 8ms/step - loss: 0.1575 - sparse_categorical_accuracy: 0.9547 - val_loss: 0.1545 - val_sparse_categorical_accuracy: 0.9565\n",
      "Epoch 7/30\n",
      "1688/1688 [==============================] - 14s 8ms/step - loss: 0.1413 - sparse_categorical_accuracy: 0.9603 - val_loss: 0.1421 - val_sparse_categorical_accuracy: 0.9607\n",
      "Epoch 8/30\n",
      "1688/1688 [==============================] - 13s 8ms/step - loss: 0.1274 - sparse_categorical_accuracy: 0.9633 - val_loss: 0.1316 - val_sparse_categorical_accuracy: 0.9617\n",
      "Epoch 9/30\n",
      "1688/1688 [==============================] - 14s 8ms/step - loss: 0.1162 - sparse_categorical_accuracy: 0.9671 - val_loss: 0.1271 - val_sparse_categorical_accuracy: 0.9623\n",
      "Epoch 10/30\n",
      "1688/1688 [==============================] - 13s 8ms/step - loss: 0.1062 - sparse_categorical_accuracy: 0.9696 - val_loss: 0.1152 - val_sparse_categorical_accuracy: 0.9667\n",
      "Epoch 11/30\n",
      "1688/1688 [==============================] - 12s 7ms/step - loss: 0.0974 - sparse_categorical_accuracy: 0.9726 - val_loss: 0.1141 - val_sparse_categorical_accuracy: 0.9660\n",
      "Epoch 12/30\n",
      "1688/1688 [==============================] - 12s 7ms/step - loss: 0.0901 - sparse_categorical_accuracy: 0.9749 - val_loss: 0.1042 - val_sparse_categorical_accuracy: 0.9695\n",
      "Epoch 13/30\n",
      "1688/1688 [==============================] - 12s 7ms/step - loss: 0.0833 - sparse_categorical_accuracy: 0.9768 - val_loss: 0.1005 - val_sparse_categorical_accuracy: 0.9713\n",
      "Epoch 14/30\n",
      "1688/1688 [==============================] - 12s 7ms/step - loss: 0.0773 - sparse_categorical_accuracy: 0.9783 - val_loss: 0.0984 - val_sparse_categorical_accuracy: 0.9692\n",
      "Epoch 15/30\n",
      "1688/1688 [==============================] - 12s 7ms/step - loss: 0.0722 - sparse_categorical_accuracy: 0.9798 - val_loss: 0.1020 - val_sparse_categorical_accuracy: 0.9697\n",
      "Epoch 16/30\n",
      "1688/1688 [==============================] - 12s 7ms/step - loss: 0.0673 - sparse_categorical_accuracy: 0.9818 - val_loss: 0.0929 - val_sparse_categorical_accuracy: 0.9723\n",
      "Epoch 17/30\n",
      "1688/1688 [==============================] - 12s 7ms/step - loss: 0.0628 - sparse_categorical_accuracy: 0.9827 - val_loss: 0.0861 - val_sparse_categorical_accuracy: 0.9745\n",
      "Epoch 18/30\n",
      "1688/1688 [==============================] - 12s 7ms/step - loss: 0.0588 - sparse_categorical_accuracy: 0.9843 - val_loss: 0.0839 - val_sparse_categorical_accuracy: 0.9758\n",
      "Epoch 19/30\n",
      "1688/1688 [==============================] - 12s 7ms/step - loss: 0.0554 - sparse_categorical_accuracy: 0.9847 - val_loss: 0.0836 - val_sparse_categorical_accuracy: 0.9750\n",
      "Epoch 20/30\n",
      "1688/1688 [==============================] - 12s 7ms/step - loss: 0.0517 - sparse_categorical_accuracy: 0.9861 - val_loss: 0.0808 - val_sparse_categorical_accuracy: 0.9755\n",
      "Epoch 21/30\n",
      "1688/1688 [==============================] - 12s 7ms/step - loss: 0.0488 - sparse_categorical_accuracy: 0.9868 - val_loss: 0.0787 - val_sparse_categorical_accuracy: 0.9770\n",
      "Epoch 22/30\n",
      "1688/1688 [==============================] - 12s 7ms/step - loss: 0.0460 - sparse_categorical_accuracy: 0.9878 - val_loss: 0.0773 - val_sparse_categorical_accuracy: 0.9763\n",
      "Epoch 23/30\n",
      "1688/1688 [==============================] - 12s 7ms/step - loss: 0.0433 - sparse_categorical_accuracy: 0.9891 - val_loss: 0.0759 - val_sparse_categorical_accuracy: 0.9775\n",
      "Epoch 24/30\n",
      "1688/1688 [==============================] - 12s 7ms/step - loss: 0.0410 - sparse_categorical_accuracy: 0.9898 - val_loss: 0.0745 - val_sparse_categorical_accuracy: 0.9775\n",
      "Epoch 25/30\n",
      "1688/1688 [==============================] - 12s 7ms/step - loss: 0.0387 - sparse_categorical_accuracy: 0.9904 - val_loss: 0.0745 - val_sparse_categorical_accuracy: 0.9790\n",
      "Epoch 26/30\n",
      "1688/1688 [==============================] - 12s 7ms/step - loss: 0.0365 - sparse_categorical_accuracy: 0.9909 - val_loss: 0.0714 - val_sparse_categorical_accuracy: 0.9790\n",
      "Epoch 27/30\n",
      "1688/1688 [==============================] - 12s 7ms/step - loss: 0.0341 - sparse_categorical_accuracy: 0.9921 - val_loss: 0.0728 - val_sparse_categorical_accuracy: 0.9787\n",
      "Epoch 28/30\n",
      "1688/1688 [==============================] - 12s 7ms/step - loss: 0.0325 - sparse_categorical_accuracy: 0.9922 - val_loss: 0.0718 - val_sparse_categorical_accuracy: 0.9798\n",
      "Epoch 29/30\n",
      "1688/1688 [==============================] - 12s 7ms/step - loss: 0.0306 - sparse_categorical_accuracy: 0.9929 - val_loss: 0.0699 - val_sparse_categorical_accuracy: 0.9800\n",
      "Epoch 30/30\n",
      "1688/1688 [==============================] - 12s 7ms/step - loss: 0.0290 - sparse_categorical_accuracy: 0.9937 - val_loss: 0.0763 - val_sparse_categorical_accuracy: 0.9782\n"
     ]
    }
   ],
   "source": [
    "history = model.fit(X_train, y_train, epochs=30, validation_data=(X_valid, y_valid))"
   ]
  },
  {
   "cell_type": "code",
   "execution_count": 35,
   "id": "81d4ba19",
   "metadata": {},
   "outputs": [
    {
     "data": {
      "text/plain": [
       "dict_keys(['loss', 'sparse_categorical_accuracy', 'val_loss', 'val_sparse_categorical_accuracy'])"
      ]
     },
     "execution_count": 35,
     "metadata": {},
     "output_type": "execute_result"
    }
   ],
   "source": [
    "history.history.keys()"
   ]
  },
  {
   "cell_type": "code",
   "execution_count": 41,
   "id": "ce20756b",
   "metadata": {},
   "outputs": [
    {
     "data": {
      "text/plain": [
       "30"
      ]
     },
     "execution_count": 41,
     "metadata": {},
     "output_type": "execute_result"
    }
   ],
   "source": [
    "history.history[\"loss\"].__len__()"
   ]
  },
  {
   "cell_type": "code",
   "execution_count": 52,
   "id": "48232153",
   "metadata": {},
   "outputs": [
    {
     "data": {
      "image/png": "[encoded data removed]",
      "text/plain": [
       "<Figure size 1080x576 with 1 Axes>"
      ]
     },
     "metadata": {
      "needs_background": "light"
     },
     "output_type": "display_data"
    }
   ],
   "source": [
    "pd.DataFrame(history.history).plot(figsize=(15, 8))\n",
    "plt.grid(True)\n",
    "plt.gca().set_ylim(0, 1)\n",
    "plt.show()"
   ]
  },
  {
   "cell_type": "code",
   "execution_count": 54,
   "id": "798175e3",
   "metadata": {},
   "outputs": [
    {
     "name": "stdout",
     "output_type": "stream",
     "text": [
      "Epoch 1/5\n",
      "1688/1688 [==============================] - 13s 7ms/step - loss: 0.0273 - sparse_categorical_accuracy: 0.9939 - val_loss: 0.0704 - val_sparse_categorical_accuracy: 0.9787\n",
      "Epoch 2/5\n",
      "1688/1688 [==============================] - 12s 7ms/step - loss: 0.0260 - sparse_categorical_accuracy: 0.9944 - val_loss: 0.0690 - val_sparse_categorical_accuracy: 0.9812\n",
      "Epoch 3/5\n",
      "1688/1688 [==============================] - 12s 7ms/step - loss: 0.0244 - sparse_categorical_accuracy: 0.9951 - val_loss: 0.0684 - val_sparse_categorical_accuracy: 0.9810\n",
      "Epoch 4/5\n",
      "1688/1688 [==============================] - 12s 7ms/step - loss: 0.0233 - sparse_categorical_accuracy: 0.9956 - val_loss: 0.0684 - val_sparse_categorical_accuracy: 0.9803\n",
      "Epoch 5/5\n",
      "1688/1688 [==============================] - 13s 7ms/step - loss: 0.0220 - sparse_categorical_accuracy: 0.9957 - val_loss: 0.0682 - val_sparse_categorical_accuracy: 0.9807\n"
     ]
    }
   ],
   "source": [
    "history1 = model.fit(X_train, y_train, epochs=5, validation_data=(X_valid, y_valid))"
   ]
  },
  {
   "cell_type": "code",
   "execution_count": 67,
   "id": "bb3f690d",
   "metadata": {},
   "outputs": [],
   "source": [
    "def update_history(his1, his2):\n",
    "    his = {}\n",
    "    assert his1.history.keys() == his2.history.keys(), \"both history object has different keys\"\n",
    "    for i, key in enumerate(his1.history.keys()):\n",
    "        his[key] = his1.history[key] + his2.history[key]\n",
    "    return his"
   ]
  },
  {
   "cell_type": "code",
   "execution_count": 69,
   "id": "fda2b487",
   "metadata": {},
   "outputs": [],
   "source": [
    "updated_history = update_history(history, history1)"
   ]
  },
  {
   "cell_type": "code",
   "execution_count": 70,
   "id": "5e7e1b6d",
   "metadata": {},
   "outputs": [
    {
     "data": {
      "image/png": "[encoded data removed]",
      "text/plain": [
       "<Figure size 1080x576 with 1 Axes>"
      ]
     },
     "metadata": {
      "needs_background": "light"
     },
     "output_type": "display_data"
    }
   ],
   "source": [
    "pd.DataFrame(updated_history).plot(figsize=(15, 8))\n",
    "plt.grid(True)\n",
    "plt.gca().set_ylim(0, 1)\n",
    "plt.show()"
   ]
  },
  {
   "cell_type": "code",
   "execution_count": 71,
   "id": "53572d4b",
   "metadata": {},
   "outputs": [
    {
     "name": "stdout",
     "output_type": "stream",
     "text": [
      "188/188 [==============================] - 1s 6ms/step - loss: 0.0682 - sparse_categorical_accuracy: 0.9807\n"
     ]
    },
    {
     "data": {
      "text/plain": [
       "[0.06818775087594986, 0.9806666374206543]"
      ]
     },
     "execution_count": 71,
     "metadata": {},
     "output_type": "execute_result"
    }
   ],
   "source": [
    "model.evaluate(X_valid, y_valid)"
   ]
  },
  {
   "cell_type": "code",
   "execution_count": 78,
   "id": "9d3eb11b",
   "metadata": {},
   "outputs": [],
   "source": [
    "y_prob = model.predict(X_test)"
   ]
  },
  {
   "cell_type": "code",
   "execution_count": 80,
   "id": "7b46765c",
   "metadata": {},
   "outputs": [
    {
     "data": {
      "text/plain": [
       "array([1.4514968e-06, 1.6821119e-07, 2.7013702e-05, 2.7823210e-04,\n",
       "       5.7902692e-09, 3.2421406e-06, 2.8361820e-12, 9.9962974e-01,\n",
       "       7.4133263e-06, 5.2753196e-05], dtype=float32)"
      ]
     },
     "execution_count": 80,
     "metadata": {},
     "output_type": "execute_result"
    }
   ],
   "source": [
    "y_prob[0]"
   ]
  },
  {
   "cell_type": "code",
   "execution_count": 87,
   "id": "d44e56ce",
   "metadata": {},
   "outputs": [],
   "source": [
    "y_pred = np.argmax(y_prob, axis=1)"
   ]
  },
  {
   "cell_type": "code",
   "execution_count": 91,
   "id": "0c21a943",
   "metadata": {},
   "outputs": [
    {
     "data": {
      "text/plain": [
       "0.9764123800866631"
      ]
     },
     "execution_count": 91,
     "metadata": {},
     "output_type": "execute_result"
    }
   ],
   "source": [
    "from sklearn.metrics import precision_score\n",
    "\n",
    "precision_score(y_test, y_pred, average=\"macro\")"
   ]
  },
  {
   "cell_type": "code",
   "execution_count": 95,
   "id": "8a9c890a",
   "metadata": {},
   "outputs": [
    {
     "name": "stdout",
     "output_type": "stream",
     "text": [
      "Epoch 1/5\n",
      "1688/1688 [==============================] - 10s 6ms/step - loss: 0.0209 - sparse_categorical_accuracy: 0.9960 - val_loss: 0.0681 - val_sparse_categorical_accuracy: 0.9800\n",
      "Epoch 2/5\n",
      "1688/1688 [==============================] - 12s 7ms/step - loss: 0.0197 - sparse_categorical_accuracy: 0.9964 - val_loss: 0.0699 - val_sparse_categorical_accuracy: 0.9808\n",
      "Epoch 3/5\n",
      "1688/1688 [==============================] - 12s 7ms/step - loss: 0.0187 - sparse_categorical_accuracy: 0.9966 - val_loss: 0.0681 - val_sparse_categorical_accuracy: 0.9802\n",
      "Epoch 4/5\n",
      "1688/1688 [==============================] - 12s 7ms/step - loss: 0.0178 - sparse_categorical_accuracy: 0.9969 - val_loss: 0.0666 - val_sparse_categorical_accuracy: 0.9810\n",
      "Epoch 5/5\n",
      "1688/1688 [==============================] - 12s 7ms/step - loss: 0.0168 - sparse_categorical_accuracy: 0.9975 - val_loss: 0.0675 - val_sparse_categorical_accuracy: 0.9800\n"
     ]
    }
   ],
   "source": [
    "hisory2 = model.fit(X_train, y_train, epochs=5, validation_data=(X_valid, y_valid))"
   ]
  },
  {
   "cell_type": "code",
   "execution_count": 96,
   "id": "8d1f586f",
   "metadata": {},
   "outputs": [
    {
     "data": {
      "text/plain": [
       "0.9776915802837507"
      ]
     },
     "execution_count": 96,
     "metadata": {},
     "output_type": "execute_result"
    }
   ],
   "source": [
    "y_prob = model.predict(X_test)\n",
    "y_pred = np.argmax(y_prob, axis=1)\n",
    "precision_score(y_test, y_pred, average=\"macro\")"
   ]
  },
  {
   "cell_type": "code",
   "execution_count": 208,
   "id": "7505e55f",
   "metadata": {},
   "outputs": [],
   "source": [
    "B = keras.backend\n",
    "\n",
    "class ExponentialRaisingLR(keras.callbacks.Callback):\n",
    "    \n",
    "    def __init__(self, factor):\n",
    "        self.factor = factor\n",
    "        self.rates = []\n",
    "        self.losses = []\n",
    "        \n",
    "    def on_batch_end(self, batch, logs):\n",
    "        self.rates.append(B.get_value(self.model.optimizer.learning_rate))\n",
    "        self.losses.append(logs[\"loss\"])\n",
    "        B.set_value(self.model.optimizer.learning_rate, self.model.optimizer.learning_rate*self.factor)"
   ]
  },
  {
   "cell_type": "code",
   "execution_count": 209,
   "id": "ad0511e0",
   "metadata": {},
   "outputs": [],
   "source": [
    "keras.backend.clear_session()\n",
    "np.random.seed(42)\n",
    "tf.random.set_seed(42)"
   ]
  },
  {
   "cell_type": "markdown",
   "id": "af318afa",
   "metadata": {},
   "source": [
    "We set learning rate to 1e-3 at start and exponentially rise by 0.5% of it's value"
   ]
  },
  {
   "cell_type": "code",
   "execution_count": 210,
   "id": "bf5cafbd",
   "metadata": {},
   "outputs": [],
   "source": [
    "expon_lr = ExponentialRaisingLR(factor=1.005)"
   ]
  },
  {
   "cell_type": "code",
   "execution_count": 211,
   "id": "ce96f153",
   "metadata": {},
   "outputs": [],
   "source": [
    "model = keras.models.Sequential()\n",
    "model.add(keras.layers.Flatten(input_shape=[28, 28]))\n",
    "model.add(keras.layers.Dense(300, activation=\"relu\"))\n",
    "model.add(keras.layers.Dense(100, activation=\"relu\"))\n",
    "model.add(keras.layers.Dense(10, activation=\"softmax\"))"
   ]
  },
  {
   "cell_type": "code",
   "execution_count": 212,
   "id": "7de9e806",
   "metadata": {},
   "outputs": [],
   "source": [
    "model.compile(loss=keras.losses.sparse_categorical_crossentropy,\n",
    "             optimizer=keras.optimizers.SGD(learning_rate=1e-3),\n",
    "             metrics=keras.metrics.sparse_categorical_accuracy)"
   ]
  },
  {
   "cell_type": "code",
   "execution_count": 213,
   "id": "fbad3062",
   "metadata": {},
   "outputs": [
    {
     "name": "stdout",
     "output_type": "stream",
     "text": [
      "   4/1688 [..............................] - ETA: 31s - loss: 2.4595 - sparse_categorical_accuracy: 0.0625  WARNING:tensorflow:Callback method `on_train_batch_end` is slow compared to the batch time (batch time: 0.0078s vs `on_train_batch_end` time: 0.0085s). Check your callbacks.\n",
      "1688/1688 [==============================] - 25s 15ms/step - loss: 1.4930 - sparse_categorical_accuracy: 0.5912 - val_loss: 2.3924 - val_sparse_categorical_accuracy: 0.1052\n"
     ]
    }
   ],
   "source": [
    "history = model.fit(X_train, y_train, epochs=1, \n",
    "                    validation_data=(X_valid, y_valid), \n",
    "                    callbacks=[expon_lr])"
   ]
  },
  {
   "cell_type": "markdown",
   "id": "79f5f566",
   "metadata": {},
   "source": [
    "Plot of Loss vs Learning rate"
   ]
  },
  {
   "cell_type": "code",
   "execution_count": 232,
   "id": "42aa74ca",
   "metadata": {},
   "outputs": [
    {
     "data": {
      "text/plain": [
       "Text(0, 0.5, 'Loss')"
      ]
     },
     "execution_count": 232,
     "metadata": {},
     "output_type": "execute_result"
    },
    {
     "data": {
      "image/png": "[encoded data removed]",
      "text/plain": [
       "<Figure size 432x288 with 1 Axes>"
      ]
     },
     "metadata": {
      "needs_background": "light"
     },
     "output_type": "display_data"
    }
   ],
   "source": [
    "plt.plot(expon_lr.rates, expon_lr.losses)\n",
    "plt.gca().set_xscale(\"log\")\n",
    "plt.hlines(min(expon_lr.losses), min(expon_lr.rates), max(expon_lr.rates))\n",
    "plt.axis([min(expon_lr.rates), max(expon_lr.rates), 0, expon_lr.losses[0]])\n",
    "plt.grid()\n",
    "plt.xlabel(\"Learning rate\")\n",
    "plt.ylabel(\"Loss\")"
   ]
  },
  {
   "cell_type": "markdown",
   "id": "dcd6565d",
   "metadata": {},
   "source": [
    "The loss starts growing up when learning rate is near to 6e-1, so we try learning rate to 3e-1 half of that."
   ]
  },
  {
   "cell_type": "code",
   "execution_count": 275,
   "id": "b1714bd6",
   "metadata": {},
   "outputs": [],
   "source": [
    "keras.backend.clear_session()\n",
    "np.random.seed(42)\n",
    "tf.random.set_seed(42)"
   ]
  },
  {
   "cell_type": "code",
   "execution_count": 276,
   "id": "4ad41ab8",
   "metadata": {},
   "outputs": [],
   "source": [
    "model = keras.models.Sequential()\n",
    "model.add(keras.layers.Flatten(input_shape=[28, 28]))\n",
    "model.add(keras.layers.Dense(300, activation=\"relu\"))\n",
    "model.add(keras.layers.Dense(100, activation=\"relu\"))\n",
    "model.add(keras.layers.Dense(10, activation=\"softmax\"))"
   ]
  },
  {
   "cell_type": "code",
   "execution_count": 277,
   "id": "eb3061a8",
   "metadata": {},
   "outputs": [],
   "source": [
    "model.compile(loss=keras.losses.sparse_categorical_crossentropy,\n",
    "             optimizer=keras.optimizers.SGD(learning_rate=3e-1),\n",
    "             metrics=keras.metrics.sparse_categorical_accuracy)"
   ]
  },
  {
   "cell_type": "code",
   "execution_count": 287,
   "id": "36086949",
   "metadata": {},
   "outputs": [
    {
     "data": {
      "text/plain": [
       "'D:\\\\programs\\\\TheCompleteML\\\\projects\\\\logs\\\\ann_mnist_logs\\\\run_001'"
      ]
     },
     "execution_count": 287,
     "metadata": {},
     "output_type": "execute_result"
    }
   ],
   "source": [
    "run_index = 1 # increment this at every run\n",
    "logdir = os.path.join(BASE_DIR, \"logs\", \"ann_mnist_logs\")\n",
    "run_logdir = os.path.join(logdir, \"run_{:03d}\".format(run_index))\n",
    "run_logdir"
   ]
  },
  {
   "cell_type": "code",
   "execution_count": 279,
   "id": "38cc227c",
   "metadata": {},
   "outputs": [
    {
     "data": {
      "text/plain": [
       "'D:\\\\programs\\\\TheCompleteML\\\\projects\\\\models\\\\ann_mnist_model.h5'"
      ]
     },
     "execution_count": 279,
     "metadata": {},
     "output_type": "execute_result"
    }
   ],
   "source": [
    "model_path = os.path.join(BASE_DIR, \"models\", \"ann_mnist_model.h5\")\n",
    "model_path"
   ]
  },
  {
   "cell_type": "code",
   "execution_count": 280,
   "id": "b5789e59",
   "metadata": {},
   "outputs": [],
   "source": [
    "early_stoping_cb = keras.callbacks.EarlyStopping(patience=20)\n",
    "checkpoint_cb = keras.callbacks.ModelCheckpoint(model_path, save_best_only=True)\n",
    "tensorboard_cb = keras.callbacks.TensorBoard(run_logdir)"
   ]
  },
  {
   "cell_type": "code",
   "execution_count": 281,
   "id": "f89155b9",
   "metadata": {},
   "outputs": [
    {
     "name": "stdout",
     "output_type": "stream",
     "text": [
      "Epoch 1/100\n",
      "1688/1688 [==============================] - 13s 8ms/step - loss: 0.2352 - sparse_categorical_accuracy: 0.9271 - val_loss: 0.1468 - val_sparse_categorical_accuracy: 0.9550\n",
      "Epoch 2/100\n",
      "1688/1688 [==============================] - 12s 7ms/step - loss: 0.0957 - sparse_categorical_accuracy: 0.9699 - val_loss: 0.1116 - val_sparse_categorical_accuracy: 0.9693\n",
      "Epoch 3/100\n",
      "1688/1688 [==============================] - 12s 7ms/step - loss: 0.0629 - sparse_categorical_accuracy: 0.9800 - val_loss: 0.2875 - val_sparse_categorical_accuracy: 0.9240\n",
      "Epoch 4/100\n",
      "1688/1688 [==============================] - 12s 7ms/step - loss: 0.0480 - sparse_categorical_accuracy: 0.9847 - val_loss: 0.0901 - val_sparse_categorical_accuracy: 0.9735\n",
      "Epoch 5/100\n",
      "1688/1688 [==============================] - 12s 7ms/step - loss: 0.0371 - sparse_categorical_accuracy: 0.9881 - val_loss: 0.0912 - val_sparse_categorical_accuracy: 0.9752\n",
      "Epoch 6/100\n",
      "1688/1688 [==============================] - 12s 7ms/step - loss: 0.0327 - sparse_categorical_accuracy: 0.9896 - val_loss: 0.0902 - val_sparse_categorical_accuracy: 0.9767\n",
      "Epoch 7/100\n",
      "1688/1688 [==============================] - 12s 7ms/step - loss: 0.0219 - sparse_categorical_accuracy: 0.9932 - val_loss: 0.1144 - val_sparse_categorical_accuracy: 0.9690\n",
      "Epoch 8/100\n",
      "1688/1688 [==============================] - 12s 7ms/step - loss: 0.0183 - sparse_categorical_accuracy: 0.9942 - val_loss: 0.1001 - val_sparse_categorical_accuracy: 0.9788\n",
      "Epoch 9/100\n",
      "1688/1688 [==============================] - 12s 7ms/step - loss: 0.0184 - sparse_categorical_accuracy: 0.9942 - val_loss: 0.0913 - val_sparse_categorical_accuracy: 0.9800\n",
      "Epoch 10/100\n",
      "1688/1688 [==============================] - 12s 7ms/step - loss: 0.0165 - sparse_categorical_accuracy: 0.9943 - val_loss: 0.1095 - val_sparse_categorical_accuracy: 0.9750\n",
      "Epoch 11/100\n",
      "1688/1688 [==============================] - 12s 7ms/step - loss: 0.0110 - sparse_categorical_accuracy: 0.9963 - val_loss: 0.0947 - val_sparse_categorical_accuracy: 0.9792\n",
      "Epoch 12/100\n",
      "1688/1688 [==============================] - 12s 7ms/step - loss: 0.0070 - sparse_categorical_accuracy: 0.9979 - val_loss: 0.1039 - val_sparse_categorical_accuracy: 0.9807\n",
      "Epoch 13/100\n",
      "1688/1688 [==============================] - 12s 7ms/step - loss: 0.0028 - sparse_categorical_accuracy: 0.9991 - val_loss: 0.1075 - val_sparse_categorical_accuracy: 0.9782\n",
      "Epoch 14/100\n",
      "1688/1688 [==============================] - 12s 7ms/step - loss: 0.0029 - sparse_categorical_accuracy: 0.9993 - val_loss: 0.1194 - val_sparse_categorical_accuracy: 0.9782\n",
      "Epoch 15/100\n",
      "1688/1688 [==============================] - 12s 7ms/step - loss: 0.0028 - sparse_categorical_accuracy: 0.9992 - val_loss: 0.1075 - val_sparse_categorical_accuracy: 0.9813\n",
      "Epoch 16/100\n",
      "1688/1688 [==============================] - 12s 7ms/step - loss: 0.0041 - sparse_categorical_accuracy: 0.9988 - val_loss: 0.1105 - val_sparse_categorical_accuracy: 0.9815\n",
      "Epoch 17/100\n",
      "1688/1688 [==============================] - 12s 7ms/step - loss: 0.0013 - sparse_categorical_accuracy: 0.9997 - val_loss: 0.1017 - val_sparse_categorical_accuracy: 0.9813\n",
      "Epoch 18/100\n",
      "1688/1688 [==============================] - 12s 7ms/step - loss: 2.9190e-04 - sparse_categorical_accuracy: 1.0000 - val_loss: 0.1065 - val_sparse_categorical_accuracy: 0.9818\n",
      "Epoch 19/100\n",
      "1688/1688 [==============================] - 12s 7ms/step - loss: 1.1838e-04 - sparse_categorical_accuracy: 1.0000 - val_loss: 0.1055 - val_sparse_categorical_accuracy: 0.9828\n",
      "Epoch 20/100\n",
      "1688/1688 [==============================] - 12s 7ms/step - loss: 8.4015e-05 - sparse_categorical_accuracy: 1.0000 - val_loss: 0.1056 - val_sparse_categorical_accuracy: 0.9830\n",
      "Epoch 21/100\n",
      "1688/1688 [==============================] - 12s 7ms/step - loss: 6.9812e-05 - sparse_categorical_accuracy: 1.0000 - val_loss: 0.1061 - val_sparse_categorical_accuracy: 0.9833\n",
      "Epoch 22/100\n",
      "1688/1688 [==============================] - 12s 7ms/step - loss: 6.0818e-05 - sparse_categorical_accuracy: 1.0000 - val_loss: 0.1067 - val_sparse_categorical_accuracy: 0.9833\n",
      "Epoch 23/100\n",
      "1688/1688 [==============================] - 12s 7ms/step - loss: 5.4062e-05 - sparse_categorical_accuracy: 1.0000 - val_loss: 0.1074 - val_sparse_categorical_accuracy: 0.9837\n",
      "Epoch 24/100\n",
      "1688/1688 [==============================] - 12s 7ms/step - loss: 4.8960e-05 - sparse_categorical_accuracy: 1.0000 - val_loss: 0.1078 - val_sparse_categorical_accuracy: 0.9833\n"
     ]
    }
   ],
   "source": [
    "history = model.fit(X_train, y_train, epochs=100, \n",
    "                   validation_data=(X_valid, y_valid), \n",
    "                   callbacks=[early_stoping_cb, checkpoint_cb, tensorboard_cb])"
   ]
  },
  {
   "cell_type": "code",
   "execution_count": 283,
   "id": "62fc48a1",
   "metadata": {},
   "outputs": [
    {
     "name": "stdout",
     "output_type": "stream",
     "text": [
      "313/313 [==============================] - 2s 5ms/step - loss: 0.0891 - sparse_categorical_accuracy: 0.9735\n"
     ]
    },
    {
     "data": {
      "text/plain": [
       "[0.08912378549575806, 0.9735000133514404]"
      ]
     },
     "execution_count": 283,
     "metadata": {},
     "output_type": "execute_result"
    }
   ],
   "source": [
    "model = keras.models.load_model(model_path)\n",
    "model.evaluate(X_test, y_test)"
   ]
  },
  {
   "cell_type": "code",
   "execution_count": 304,
   "id": "f5cadf1a",
   "metadata": {},
   "outputs": [
    {
     "data": {
      "text/plain": [
       "ERROR: Failed to launch TensorBoard (exited with 1).\n",
       "Contents of stderr:\n",
       "Traceback (most recent call last):\n",
       "  File \"D:\\programs\\TheCompleteML\\env\\lib\\site-packages\\tensorboard\\compat\\__init__.py\", line 42, in tf\n",
       "    from tensorboard.compat import notf  # noqa: F401\n",
       "ImportError: cannot import name 'notf' from 'tensorboard.compat' (D:\\programs\\TheCompleteML\\env\\lib\\site-packages\\tensorboard\\compat\\__init__.py)\n",
       "\n",
       "During handling of the above exception, another exception occurred:\n",
       "\n",
       "Traceback (most recent call last):\n",
       "  File \"C:\\Users\\hp\\AppData\\Local\\Programs\\Python\\Python39\\lib\\runpy.py\", line 197, in _run_module_as_main\n",
       "    return _run_code(code, main_globals, None,\n",
       "  File \"C:\\Users\\hp\\AppData\\Local\\Programs\\Python\\Python39\\lib\\runpy.py\", line 87, in _run_code\n",
       "    exec(code, run_globals)\n",
       "  File \"D:\\programs\\TheCompleteML\\env\\Scripts\\tensorboard.exe\\__main__.py\", line 7, in <module>\n",
       "  File \"D:\\programs\\TheCompleteML\\env\\lib\\site-packages\\tensorboard\\main.py\", line 39, in run_main\n",
       "    main_lib.global_init()\n",
       "  File \"D:\\programs\\TheCompleteML\\env\\lib\\site-packages\\tensorboard\\main_lib.py\", line 40, in global_init\n",
       "    if getattr(tf, \"__version__\", \"stub\") == \"stub\":\n",
       "  File \"D:\\programs\\TheCompleteML\\env\\lib\\site-packages\\tensorboard\\lazy.py\", line 65, in __getattr__\n",
       "    return getattr(load_once(self), attr_name)\n",
       "  File \"D:\\programs\\TheCompleteML\\env\\lib\\site-packages\\tensorboard\\lazy.py\", line 97, in wrapper\n",
       "    cache[arg] = f(arg)\n",
       "  File \"D:\\programs\\TheCompleteML\\env\\lib\\site-packages\\tensorboard\\lazy.py\", line 50, in load_once\n",
       "    module = load_fn()\n",
       "  File \"D:\\programs\\TheCompleteML\\env\\lib\\site-packages\\tensorboard\\compat\\__init__.py\", line 45, in tf\n",
       "    import tensorflow\n",
       "  File \"D:\\programs\\TheCompleteML\\env\\lib\\site-packages\\tensorflow\\__init__.py\", line 479, in <module>\n",
       "    keras._load()\n",
       "  File \"D:\\programs\\TheCompleteML\\env\\lib\\site-packages\\tensorflow\\python\\util\\lazy_loader.py\", line 45, in _load\n",
       "    module = importlib.import_module(self.__name__)\n",
       "  File \"C:\\Users\\hp\\AppData\\Local\\Programs\\Python\\Python39\\lib\\importlib\\__init__.py\", line 127, in import_module\n",
       "    return _bootstrap._gcd_import(name[level:], package, level)\n",
       "  File \"D:\\programs\\TheCompleteML\\env\\lib\\site-packages\\keras\\__init__.py\", line 25, in <module>\n",
       "    from keras import models\n",
       "  File \"D:\\programs\\TheCompleteML\\env\\lib\\site-packages\\keras\\models.py\", line 20, in <module>\n",
       "    from keras import metrics as metrics_module\n",
       "  File \"D:\\programs\\TheCompleteML\\env\\lib\\site-packages\\keras\\metrics.py\", line 26, in <module>\n",
       "    from keras import activations\n",
       "  File \"D:\\programs\\TheCompleteML\\env\\lib\\site-packages\\keras\\activations.py\", line 20, in <module>\n",
       "    from keras.layers import advanced_activations\n",
       "  File \"D:\\programs\\TheCompleteML\\env\\lib\\site-packages\\keras\\layers\\__init__.py\", line 30, in <module>\n",
       "    from keras.layers.preprocessing.image_preprocessing import CenterCrop\n",
       "  File \"D:\\programs\\TheCompleteML\\env\\lib\\site-packages\\keras\\layers\\preprocessing\\image_preprocessing.py\", line 23, in <module>\n",
       "    from keras.preprocessing.image import smart_resize\n",
       "  File \"D:\\programs\\TheCompleteML\\env\\lib\\site-packages\\keras\\preprocessing\\__init__.py\", line 26, in <module>\n",
       "    from keras.utils import all_utils as utils\n",
       "  File \"D:\\programs\\TheCompleteML\\env\\lib\\site-packages\\keras\\utils\\all_utils.py\", line 34, in <module>\n",
       "    from keras.utils.multi_gpu_utils import multi_gpu_model\n",
       "  File \"D:\\programs\\TheCompleteML\\env\\lib\\site-packages\\keras\\utils\\multi_gpu_utils.py\", line 19, in <module>\n",
       "    from keras.engine.training import Model\n",
       "  File \"<frozen importlib._bootstrap>\", line 1007, in _find_and_load\n",
       "  File \"<frozen importlib._bootstrap>\", line 986, in _find_and_load_unlocked\n",
       "  File \"<frozen importlib._bootstrap>\", line 680, in _load_unlocked\n",
       "  File \"<frozen importlib._bootstrap_external>\", line 846, in exec_module\n",
       "  File \"<frozen importlib._bootstrap_external>\", line 941, in get_code\n",
       "  File \"<frozen importlib._bootstrap_external>\", line 1040, in get_data\n",
       "MemoryError"
      ]
     },
     "metadata": {},
     "output_type": "display_data"
    }
   ],
   "source": [
    "%reload_ext tensorboard\n",
    "%tensorboard --logdir=../logs/ann_mnist_logs --port=6006"
   ]
  },
  {
   "cell_type": "code",
   "execution_count": 307,
   "id": "ce5cac73",
   "metadata": {},
   "outputs": [],
   "source": [
    "del y_prob"
   ]
  },
  {
   "cell_type": "code",
   "execution_count": 309,
   "id": "51246dc6",
   "metadata": {},
   "outputs": [
    {
     "ename": "NameError",
     "evalue": "name 'history' is not defined",
     "output_type": "error",
     "traceback": [
      "\u001b[1;31m---------------------------------------------------------------------------\u001b[0m",
      "\u001b[1;31mNameError\u001b[0m                                 Traceback (most recent call last)",
      "\u001b[1;32m~\\AppData\\Local\\Temp/ipykernel_27040/334316405.py\u001b[0m in \u001b[0;36m<module>\u001b[1;34m\u001b[0m\n\u001b[1;32m----> 1\u001b[1;33m \u001b[1;32mdel\u001b[0m \u001b[0mhistory\u001b[0m\u001b[1;33m\u001b[0m\u001b[1;33m\u001b[0m\u001b[0m\n\u001b[0m",
      "\u001b[1;31mNameError\u001b[0m: name 'history' is not defined"
     ]
    }
   ],
   "source": [
    "del history"
   ]
  },
  {
   "cell_type": "code",
   "execution_count": 308,
   "id": "52a7c777",
   "metadata": {},
   "outputs": [
    {
     "data": {
      "text/plain": [
       "121"
      ]
     },
     "execution_count": 308,
     "metadata": {},
     "output_type": "execute_result"
    }
   ],
   "source": [
    "import gc\n",
    "gc.collect()"
   ]
  },
  {
   "cell_type": "code",
   "execution_count": null,
   "id": "25f0e4c8",
   "metadata": {},
   "outputs": [],
   "source": []
  }
 ],
 "metadata": {
  "kernelspec": {
   "display_name": "Python 3 (ipykernel)",
   "language": "python",
   "name": "python3"
  },
  "language_info": {
   "codemirror_mode": {
    "name": "ipython",
    "version": 3
   },
   "file_extension": ".py",
   "mimetype": "text/x-python",
   "name": "python",
   "nbconvert_exporter": "python",
   "pygments_lexer": "ipython3",
   "version": "3.9.10"
  }
 },
 "nbformat": 4,
 "nbformat_minor": 5
}
