{
 "cells": [
  {
   "cell_type": "code",
   "execution_count": 104,
   "id": "db5d2ced",
   "metadata": {},
   "outputs": [],
   "source": [
    "import numpy as np\n",
    "import pandas as pd\n",
    "import matplotlib as mpl\n",
    "import matplotlib.pyplot as plt\n",
    "%matplotlib inline"
   ]
  },
  {
   "cell_type": "code",
   "execution_count": 2,
   "id": "1397a821",
   "metadata": {},
   "outputs": [],
   "source": [
    "from sklearn.datasets import fetch_openml\n",
    "mnist = fetch_openml(\"mnist_784\" ,version=1)"
   ]
  },
  {
   "cell_type": "code",
   "execution_count": 3,
   "id": "1f82ba83",
   "metadata": {},
   "outputs": [
    {
     "data": {
      "text/plain": [
       "dict_keys(['data', 'target', 'frame', 'categories', 'feature_names', 'target_names', 'DESCR', 'details', 'url'])"
      ]
     },
     "execution_count": 3,
     "metadata": {},
     "output_type": "execute_result"
    }
   ],
   "source": [
    "mnist.keys()"
   ]
  },
  {
   "cell_type": "code",
   "execution_count": 4,
   "id": "559fb874",
   "metadata": {},
   "outputs": [
    {
     "data": {
      "text/plain": [
       "(70000, 784)"
      ]
     },
     "execution_count": 4,
     "metadata": {},
     "output_type": "execute_result"
    }
   ],
   "source": [
    "mnist.data.shape # features"
   ]
  },
  {
   "cell_type": "code",
   "execution_count": 5,
   "id": "9ede0bf8",
   "metadata": {},
   "outputs": [
    {
     "data": {
      "text/plain": [
       "(70000,)"
      ]
     },
     "execution_count": 5,
     "metadata": {},
     "output_type": "execute_result"
    }
   ],
   "source": [
    "mnist.target.shape # target"
   ]
  },
  {
   "cell_type": "code",
   "execution_count": 6,
   "id": "284daadb",
   "metadata": {},
   "outputs": [
    {
     "data": {
      "text/plain": [
       "(70000, 785)"
      ]
     },
     "execution_count": 6,
     "metadata": {},
     "output_type": "execute_result"
    }
   ],
   "source": [
    "mnist.frame.shape # combined"
   ]
  },
  {
   "cell_type": "code",
   "execution_count": 7,
   "id": "17cc2651",
   "metadata": {},
   "outputs": [],
   "source": [
    "X = mnist[\"data\"]\n",
    "y = mnist[\"target\"]"
   ]
  },
  {
   "cell_type": "markdown",
   "id": "d105a332",
   "metadata": {},
   "source": [
    "### Basis EDA"
   ]
  },
  {
   "cell_type": "code",
   "execution_count": 8,
   "id": "b738dd8a",
   "metadata": {},
   "outputs": [],
   "source": [
    "sample_digit = X.iloc[11]"
   ]
  },
  {
   "cell_type": "code",
   "execution_count": 9,
   "id": "e454e297",
   "metadata": {},
   "outputs": [],
   "source": [
    "sample_image = sample_digit.values.reshape(28, 28)"
   ]
  },
  {
   "cell_type": "code",
   "execution_count": 10,
   "id": "04f5f336",
   "metadata": {},
   "outputs": [
    {
     "data": {
      "image/png": "[encoded data removed]",
      "text/plain": [
       "<Figure size 432x288 with 1 Axes>"
      ]
     },
     "metadata": {
      "needs_background": "light"
     },
     "output_type": "display_data"
    }
   ],
   "source": [
    "plt.imshow(sample_image, cmap=\"binary\")\n",
    "# plt.axis(\"off\")\n",
    "plt.show()"
   ]
  },
  {
   "cell_type": "code",
   "execution_count": 11,
   "id": "357ea870",
   "metadata": {},
   "outputs": [
    {
     "data": {
      "text/plain": [
       "'5'"
      ]
     },
     "execution_count": 11,
     "metadata": {},
     "output_type": "execute_result"
    }
   ],
   "source": [
    "sample_label = y[11]\n",
    "sample_label"
   ]
  },
  {
   "cell_type": "code",
   "execution_count": 12,
   "id": "4b8c191b",
   "metadata": {},
   "outputs": [],
   "source": [
    "y = y.astype(np.uint8) # converting string labels to integers"
   ]
  },
  {
   "cell_type": "code",
   "execution_count": 135,
   "id": "373ae27b",
   "metadata": {},
   "outputs": [],
   "source": [
    "X_train, X_test, y_train, y_test = X.iloc[:60000], X.iloc[60000:], y.iloc[:60000], y.iloc[60000:]"
   ]
  },
  {
   "cell_type": "markdown",
   "id": "c61eddd3",
   "metadata": {},
   "source": [
    "### Implementing binary classifier"
   ]
  },
  {
   "cell_type": "code",
   "execution_count": 14,
   "id": "90c93e1a",
   "metadata": {},
   "outputs": [],
   "source": [
    "y_train_5 = (y_train == 5)\n",
    "y_test_5 = (y_test == 5)"
   ]
  },
  {
   "cell_type": "code",
   "execution_count": 15,
   "id": "de9616dd",
   "metadata": {},
   "outputs": [
    {
     "data": {
      "text/plain": [
       "SGDClassifier(random_state=42)"
      ]
     },
     "execution_count": 15,
     "metadata": {},
     "output_type": "execute_result"
    }
   ],
   "source": [
    "from sklearn.linear_model import SGDClassifier \n",
    "\n",
    "sgd_clf = SGDClassifier(random_state = 42)\n",
    "sgd_clf.fit(X_train, y_train_5)"
   ]
  },
  {
   "cell_type": "markdown",
   "id": "a3db2457",
   "metadata": {},
   "source": [
    "##### Note:\n",
    "    - SGDclassifier relies on randomness during training. So to get reproducible results set random_state to 42"
   ]
  },
  {
   "cell_type": "code",
   "execution_count": 16,
   "id": "75788881",
   "metadata": {},
   "outputs": [
    {
     "name": "stderr",
     "output_type": "stream",
     "text": [
      "D:\\programs\\TheCompleteML\\env\\lib\\site-packages\\sklearn\\base.py:450: UserWarning: X does not have valid feature names, but SGDClassifier was fitted with feature names\n",
      "  warnings.warn(\n"
     ]
    },
    {
     "data": {
      "text/plain": [
       "array([ True])"
      ]
     },
     "execution_count": 16,
     "metadata": {},
     "output_type": "execute_result"
    }
   ],
   "source": [
    "sgd_clf.predict([sample_digit])"
   ]
  },
  {
   "cell_type": "markdown",
   "id": "285e2eab",
   "metadata": {},
   "source": [
    "#### Performance measures"
   ]
  },
  {
   "cell_type": "code",
   "execution_count": 17,
   "id": "df8b8ca3",
   "metadata": {},
   "outputs": [
    {
     "name": "stdout",
     "output_type": "stream",
     "text": [
      "0.9669\n",
      "0.91625\n",
      "0.96785\n"
     ]
    }
   ],
   "source": [
    "\"\"\"Occasionally you will need more control over the cross-validation \n",
    "process than what Scikit-Learn provides off the shelf. \n",
    "In these cases, you can implement cross-validation yourself. \n",
    "The following code does roughly the same thing as Scikit-Learn’s \n",
    "cross_val_score() function, and it prints the same result:\"\"\"\n",
    "\n",
    "\n",
    "from sklearn.model_selection import StratifiedKFold\n",
    "from sklearn.base import clone\n",
    "\n",
    "sk_fold = StratifiedKFold(n_splits=3, shuffle=True, random_state=42)\n",
    "\n",
    "for train_index, test_index in sk_fold.split(X_train, y_train_5):\n",
    "    X_train_fold = X_train.iloc[train_index]\n",
    "    y_train_fold = y_train_5.iloc[train_index]\n",
    "    X_test_fold = X_train.iloc[test_index]\n",
    "    y_test_fold = y_train_5.iloc[test_index]\n",
    "    \n",
    "    clone_clf = clone(sgd_clf)\n",
    "    clone_clf.fit(X_train_fold, y_train_fold)\n",
    "    y_pred = clone_clf.predict(X_test_fold)\n",
    "    n_correct = sum(y_pred == y_test_fold)\n",
    "    print(n_correct/len(y_pred))"
   ]
  },
  {
   "cell_type": "code",
   "execution_count": 18,
   "id": "c72cb718",
   "metadata": {},
   "outputs": [
    {
     "data": {
      "text/plain": [
       "array([0.95035, 0.96035, 0.9604 ])"
      ]
     },
     "execution_count": 18,
     "metadata": {},
     "output_type": "execute_result"
    }
   ],
   "source": [
    "# replication of above method with the coss-validation score\n",
    "from sklearn.model_selection import cross_val_score\n",
    "\n",
    "clone_clf = clone(sgd_clf)\n",
    "cross_val_score(clone_clf, X_train, y_train_5, cv=3, scoring=\"accuracy\")"
   ]
  },
  {
   "cell_type": "markdown",
   "id": "002405cd",
   "metadata": {},
   "source": [
    "##### Observations \n",
    "    - Here accuracy is about 92% and also higher than it. But unfortunately it is due to more skewed datasets. It hase 90% false(not five) and 10% true(five) values.\n",
    "    - So accuracy is not preferred performance measure for classifiers specially when we have skewed datasets"
   ]
  },
  {
   "cell_type": "markdown",
   "id": "a4b7bddb",
   "metadata": {},
   "source": [
    "#### Confusion Matrix"
   ]
  },
  {
   "cell_type": "code",
   "execution_count": 19,
   "id": "c27963bb",
   "metadata": {},
   "outputs": [],
   "source": [
    "from sklearn.model_selection import cross_val_predict\n",
    "\n",
    "y_train_pred = cross_val_predict(sgd_clf, X_train, y_train_5, cv=3)"
   ]
  },
  {
   "cell_type": "code",
   "execution_count": 20,
   "id": "793818fd",
   "metadata": {},
   "outputs": [
    {
     "data": {
      "text/plain": [
       "array([[53892,   687],\n",
       "       [ 1891,  3530]], dtype=int64)"
      ]
     },
     "execution_count": 20,
     "metadata": {},
     "output_type": "execute_result"
    }
   ],
   "source": [
    "from sklearn.metrics import confusion_matrix\n",
    "confusion_matrix(y_train_5, y_train_pred)"
   ]
  },
  {
   "cell_type": "markdown",
   "id": "a2dc436c",
   "metadata": {},
   "source": [
    "##### Observations\n",
    "    - True Negative: 53892\n",
    "    - False Positive: 687\n",
    "    - False Negative: 1891\n",
    "    - True Positive: 3530\n",
    "    \n",
    "    Precision: \n",
    "        - measure of accuracy of postive predictions \n",
    "        - Equation: TP/TP + FP\n",
    "    Recall: \n",
    "        - measurre of positive instances that are correcly classified\n",
    "        - Equation: TP/TP + FN"
   ]
  },
  {
   "cell_type": "markdown",
   "id": "ad43f4cd",
   "metadata": {},
   "source": [
    "#### Precision and Recall"
   ]
  },
  {
   "cell_type": "code",
   "execution_count": 21,
   "id": "669cec37",
   "metadata": {},
   "outputs": [
    {
     "data": {
      "text/plain": [
       "0.8370879772350012"
      ]
     },
     "execution_count": 21,
     "metadata": {},
     "output_type": "execute_result"
    }
   ],
   "source": [
    "from sklearn.metrics import precision_score, recall_score\n",
    "\n",
    "precision_score(y_train_5, y_train_pred)"
   ]
  },
  {
   "cell_type": "code",
   "execution_count": 22,
   "id": "30d578d0",
   "metadata": {},
   "outputs": [
    {
     "data": {
      "text/plain": [
       "0.6511713705958311"
      ]
     },
     "execution_count": 22,
     "metadata": {},
     "output_type": "execute_result"
    }
   ],
   "source": [
    "recall_score(y_train_5, y_train_pred)"
   ]
  },
  {
   "cell_type": "markdown",
   "id": "6defb219",
   "metadata": {},
   "source": [
    "##### Observations\n",
    "    - when it claims an image represents a 5, it is coorect only 83.71% of time and it detects 65.12% of the 5s"
   ]
  },
  {
   "cell_type": "markdown",
   "id": "a88616ab",
   "metadata": {},
   "source": [
    "#### F1 score"
   ]
  },
  {
   "cell_type": "code",
   "execution_count": 23,
   "id": "c0e51039",
   "metadata": {},
   "outputs": [
    {
     "data": {
      "text/plain": [
       "0.7325171197343846"
      ]
     },
     "execution_count": 23,
     "metadata": {},
     "output_type": "execute_result"
    }
   ],
   "source": [
    "from sklearn.metrics import f1_score\n",
    "\n",
    "f1_score(y_train_5, y_train_pred)"
   ]
  },
  {
   "cell_type": "markdown",
   "id": "90b1a8ec",
   "metadata": {},
   "source": [
    "##### Notes\n",
    "    - The F1 score is hamrmonic mean of precision and recall. Regular mean treats all the values equally, the harmonis mean gives much more weight to low values. As a result, the classifier only get a high F1 score if both recall and precision are high"
   ]
  },
  {
   "cell_type": "markdown",
   "id": "6f945857",
   "metadata": {},
   "source": [
    "#### To get classifier score "
   ]
  },
  {
   "cell_type": "code",
   "execution_count": 24,
   "id": "ebe8fbd9",
   "metadata": {},
   "outputs": [
    {
     "name": "stderr",
     "output_type": "stream",
     "text": [
      "D:\\programs\\TheCompleteML\\env\\lib\\site-packages\\sklearn\\base.py:450: UserWarning: X does not have valid feature names, but SGDClassifier was fitted with feature names\n",
      "  warnings.warn(\n"
     ]
    }
   ],
   "source": [
    "y_scores = sgd_clf.decision_function([sample_digit])"
   ]
  },
  {
   "cell_type": "code",
   "execution_count": 25,
   "id": "27a3f586",
   "metadata": {},
   "outputs": [
    {
     "data": {
      "text/plain": [
       "array([4742.52813158])"
      ]
     },
     "execution_count": 25,
     "metadata": {},
     "output_type": "execute_result"
    }
   ],
   "source": [
    "y_scores"
   ]
  },
  {
   "cell_type": "code",
   "execution_count": 26,
   "id": "c00afb6e",
   "metadata": {},
   "outputs": [
    {
     "data": {
      "text/plain": [
       "array([ True])"
      ]
     },
     "execution_count": 26,
     "metadata": {},
     "output_type": "execute_result"
    }
   ],
   "source": [
    "threshold =  0\n",
    "(y_scores>threshold)"
   ]
  },
  {
   "cell_type": "code",
   "execution_count": 27,
   "id": "e2fb0748",
   "metadata": {},
   "outputs": [
    {
     "data": {
      "text/plain": [
       "array([False])"
      ]
     },
     "execution_count": 27,
     "metadata": {},
     "output_type": "execute_result"
    }
   ],
   "source": [
    "threshold =  8000\n",
    "(y_scores>threshold)"
   ]
  },
  {
   "cell_type": "markdown",
   "id": "1f39ab47",
   "metadata": {},
   "source": [
    "##### Observations\n",
    "    - as we increase the threshold recall score will decrease and precision score increases, and vice versa"
   ]
  },
  {
   "cell_type": "markdown",
   "id": "020f8b7c",
   "metadata": {},
   "source": [
    "#### Deciding the threshold?"
   ]
  },
  {
   "cell_type": "code",
   "execution_count": 28,
   "id": "7db4c3e5",
   "metadata": {},
   "outputs": [],
   "source": [
    "clone_clf = clone(sgd_clf)"
   ]
  },
  {
   "cell_type": "code",
   "execution_count": 29,
   "id": "f8f09979",
   "metadata": {},
   "outputs": [],
   "source": [
    "y_scores = cross_val_predict(clone_clf, X_train, y_train_5, cv=3, method=\"decision_function\")"
   ]
  },
  {
   "cell_type": "code",
   "execution_count": 30,
   "id": "ae4511ab",
   "metadata": {},
   "outputs": [],
   "source": [
    "from sklearn.metrics import precision_recall_curve\n",
    "\n",
    "precisions, recalls, thresholds = precision_recall_curve(y_train_5, y_scores)"
   ]
  },
  {
   "cell_type": "code",
   "execution_count": 31,
   "id": "cda15a84",
   "metadata": {},
   "outputs": [],
   "source": [
    "def plot_precision_recall_vs_threshold(precisions, recalls, thresholds):\n",
    "    plt.plot(thresholds, precisions[:-1], \"b--\", label=\"Precision\")\n",
    "    plt.plot(thresholds, recalls[:-1], \"g-\", label=\"Recall\")\n",
    "    plt.legend((\"Precision\", \"Recall\"))\n",
    "    plt.xlabel(\"Threshold\")\n",
    "    plt.ylabel(\"Score\")\n",
    "    plt.grid()\n",
    "    plt.show()"
   ]
  },
  {
   "cell_type": "code",
   "execution_count": 32,
   "id": "b89c869c",
   "metadata": {},
   "outputs": [
    {
     "data": {
      "image/png": "[encoded data removed]",
      "text/plain": [
       "<Figure size 432x288 with 1 Axes>"
      ]
     },
     "metadata": {
      "needs_background": "light"
     },
     "output_type": "display_data"
    }
   ],
   "source": [
    "plot_precision_recall_vs_threshold(precisions, recalls, thresholds)"
   ]
  },
  {
   "cell_type": "code",
   "execution_count": 33,
   "id": "0b898236",
   "metadata": {},
   "outputs": [],
   "source": [
    "def plot_precision_vs_recall(precisions, recalls):\n",
    "    plt.plot(recalls, precisions)\n",
    "    plt.xlabel(\"Recalls\")\n",
    "    plt.ylabel(\"Precisions\")\n",
    "    plt.grid()\n",
    "    plt.show()"
   ]
  },
  {
   "cell_type": "code",
   "execution_count": 34,
   "id": "c13a8650",
   "metadata": {},
   "outputs": [
    {
     "data": {
      "image/png": "[encoded data removed]",
      "text/plain": [
       "<Figure size 432x288 with 1 Axes>"
      ]
     },
     "metadata": {
      "needs_background": "light"
     },
     "output_type": "display_data"
    }
   ],
   "source": [
    "plot_precision_vs_recall(precisions, recalls)"
   ]
  },
  {
   "cell_type": "markdown",
   "id": "0c48359d",
   "metadata": {},
   "source": [
    "#### To get 90% precision values\n",
    "    - first we need to get the value of thresholds where precision is just crossing above 90%\n",
    "    - prediction should be done based on that threshold value rathre then predict method"
   ]
  },
  {
   "cell_type": "code",
   "execution_count": 35,
   "id": "3117e511",
   "metadata": {},
   "outputs": [],
   "source": [
    "threshold_90_precision = thresholds[np.argmax(precisions>=0.90)]"
   ]
  },
  {
   "cell_type": "code",
   "execution_count": 36,
   "id": "20f352b8",
   "metadata": {},
   "outputs": [],
   "source": [
    "y_train_pred_90 = (y_scores >= threshold_90_precision)"
   ]
  },
  {
   "cell_type": "code",
   "execution_count": 37,
   "id": "0e9385a2",
   "metadata": {},
   "outputs": [
    {
     "data": {
      "text/plain": [
       "0.9000345901072293"
      ]
     },
     "execution_count": 37,
     "metadata": {},
     "output_type": "execute_result"
    }
   ],
   "source": [
    "precision_score(y_train_5, y_train_pred_90)"
   ]
  },
  {
   "cell_type": "code",
   "execution_count": 38,
   "id": "adea90a4",
   "metadata": {},
   "outputs": [
    {
     "data": {
      "text/plain": [
       "0.4799852425751706"
      ]
     },
     "execution_count": 38,
     "metadata": {},
     "output_type": "execute_result"
    }
   ],
   "source": [
    "recall_score(y_train_5, y_train_pred_90)"
   ]
  },
  {
   "cell_type": "markdown",
   "id": "af8d6e12",
   "metadata": {},
   "source": [
    "##### Observations\n",
    "    - Thus like this we can get whatever precision and recall score.\n",
    "    - but high precision model with recall is too low can't be used much\n",
    "    \n",
    "    Note:\n",
    "        - If someone says, “Let’s reach 99% precision,” you should ask, “At what recall?”"
   ]
  },
  {
   "cell_type": "markdown",
   "id": "78e2d2f7",
   "metadata": {},
   "source": [
    "#### ROC(Receiver operating characteristic) Curve\n",
    "    - ROC curve the TPR(True positive rate) againts the FPR(False positive rate)\n",
    "    - FPR is the ratio negative instances that are incorrectly classified\n",
    "    - Equation: FPR = 1 - TNR\n",
    "    - TNR is ratio of negative instances that are correctly classsified. Which is also known as specificity\n",
    "    - Hence ROC curve plots sensitivity vs 1 - specificity "
   ]
  },
  {
   "cell_type": "code",
   "execution_count": 39,
   "id": "0896d5ec",
   "metadata": {},
   "outputs": [],
   "source": [
    "from sklearn.metrics import roc_curve\n",
    "\n",
    "fpr, tpr, thresholds = roc_curve(y_train_5, y_scores)"
   ]
  },
  {
   "cell_type": "code",
   "execution_count": 40,
   "id": "10fbbdce",
   "metadata": {},
   "outputs": [],
   "source": [
    "def plot_roc_curve(fpr, tpr, label=None):\n",
    "    plt.plot(fpr, tpr, linewidth=2, label=label)\n",
    "    plt.plot([0, 1], [0, 1], \"k--\")\n",
    "    plt.title(label)\n",
    "    plt.xlabel(\"False Positive Rate\")\n",
    "    plt.ylabel(\"True Negative Rate\")\n",
    "    plt.grid()\n",
    "    plt.show()"
   ]
  },
  {
   "cell_type": "code",
   "execution_count": 41,
   "id": "0c12eb57",
   "metadata": {},
   "outputs": [
    {
     "data": {
      "image/png": "[encoded data removed]",
      "text/plain": [
       "<Figure size 432x288 with 1 Axes>"
      ]
     },
     "metadata": {
      "needs_background": "light"
     },
     "output_type": "display_data"
    }
   ],
   "source": [
    "plot_roc_curve(fpr, tpr, label=\"SGD\")"
   ]
  },
  {
   "cell_type": "markdown",
   "id": "db433307",
   "metadata": {},
   "source": [
    "##### Observations\n",
    "    - Again trade-off here, the higher the TPR lower the FPR\n",
    "    - The dotted line here represents the ROC curve of purely random cladssifier, a good classifier stays as far away from that line\n",
    "    \n",
    "##### Note:\n",
    "        - One way to compare the classifier is to measure the area under the curve(AUC).\n",
    "        - Perfect classifier will have a ROC AUC 1, where as random classfier will have ROC AUC value 0.5"
   ]
  },
  {
   "cell_type": "code",
   "execution_count": 42,
   "id": "90744384",
   "metadata": {},
   "outputs": [
    {
     "data": {
      "text/plain": [
       "0.9604938554008616"
      ]
     },
     "execution_count": 42,
     "metadata": {},
     "output_type": "execute_result"
    }
   ],
   "source": [
    "from sklearn.metrics import roc_auc_score\n",
    "\n",
    "roc_auc_score(y_train_5, y_scores)"
   ]
  },
  {
   "cell_type": "markdown",
   "id": "a035b1c1",
   "metadata": {},
   "source": [
    "##### Note\n",
    "    - As a rule of thumb, one should prefer the PR curve whenever the positive class is rare or when one care more about the\n",
    "    false positives then the false negatives. Otherwise use the ROC curve."
   ]
  },
  {
   "cell_type": "markdown",
   "id": "0cfab915",
   "metadata": {},
   "source": [
    "### Using RandomForestClassfier\n",
    "    -RandomForestClassifier do not have decision_function method because the way it works. Instead, it has predict_proba method. Sklearn classifier do have either of one or both methods.\n",
    "    - The predict_proba() method returns an array containing a row per instance and a column per class, each containing the probability that the given instance belongs to the given class"
   ]
  },
  {
   "cell_type": "code",
   "execution_count": 43,
   "id": "53470078",
   "metadata": {},
   "outputs": [],
   "source": [
    "from sklearn.ensemble import RandomForestClassifier\n",
    "\n",
    "rf_clf = RandomForestClassifier(random_state=42)\n",
    "y_probas_forest = cross_val_predict(rf_clf, X_train, y_train_5, method=\"predict_proba\")"
   ]
  },
  {
   "cell_type": "code",
   "execution_count": 44,
   "id": "91cb3370",
   "metadata": {},
   "outputs": [
    {
     "data": {
      "text/plain": [
       "array([[0.14, 0.86],\n",
       "       [0.99, 0.01],\n",
       "       [0.98, 0.02],\n",
       "       ...,\n",
       "       [0.01, 0.99],\n",
       "       [0.96, 0.04],\n",
       "       [0.96, 0.04]])"
      ]
     },
     "execution_count": 44,
     "metadata": {},
     "output_type": "execute_result"
    }
   ],
   "source": [
    "y_probas_forest"
   ]
  },
  {
   "cell_type": "code",
   "execution_count": 45,
   "id": "7bb2aaf4",
   "metadata": {},
   "outputs": [
    {
     "data": {
      "text/plain": [
       "False"
      ]
     },
     "execution_count": 45,
     "metadata": {},
     "output_type": "execute_result"
    }
   ],
   "source": [
    "y_test_5.iloc[0]"
   ]
  },
  {
   "cell_type": "markdown",
   "id": "15575765",
   "metadata": {},
   "source": [
    "##### Note\n",
    "    - Let's take the positive class's probabalities as a score for ROC curve"
   ]
  },
  {
   "cell_type": "markdown",
   "id": "88900e08",
   "metadata": {},
   "source": [
    "#### ROC curve"
   ]
  },
  {
   "cell_type": "code",
   "execution_count": 46,
   "id": "233140e3",
   "metadata": {},
   "outputs": [],
   "source": [
    "y_scores_forest = y_probas_forest[:, 1]"
   ]
  },
  {
   "cell_type": "code",
   "execution_count": 47,
   "id": "4a39bdbb",
   "metadata": {},
   "outputs": [],
   "source": [
    "fpr_forest, tpr_forest, thresholds_forest = roc_curve(y_train_5, y_scores_forest)"
   ]
  },
  {
   "cell_type": "code",
   "execution_count": 48,
   "id": "b64b1c58",
   "metadata": {},
   "outputs": [
    {
     "data": {
      "image/png": "[encoded data removed]",
      "text/plain": [
       "<Figure size 432x288 with 1 Axes>"
      ]
     },
     "metadata": {
      "needs_background": "light"
     },
     "output_type": "display_data"
    }
   ],
   "source": [
    "plt.plot(fpr, tpr, \"b--\", label=\"SGD\")\n",
    "plot_roc_curve(fpr_forest, tpr_forest, \"Random Forest\")"
   ]
  },
  {
   "cell_type": "code",
   "execution_count": 49,
   "id": "4dff76a2",
   "metadata": {},
   "outputs": [
    {
     "data": {
      "text/plain": [
       "0.998402186461512"
      ]
     },
     "execution_count": 49,
     "metadata": {},
     "output_type": "execute_result"
    }
   ],
   "source": [
    "roc_auc_score(y_train_5, y_scores_forest)"
   ]
  },
  {
   "cell_type": "markdown",
   "id": "9f65b10f",
   "metadata": {},
   "source": [
    "##### Observations\n",
    "    - ROC is much closer to left corner so subsequently ROC AUC also quite high"
   ]
  },
  {
   "cell_type": "markdown",
   "id": "6f8a35c8",
   "metadata": {},
   "source": [
    "#### PR Curve"
   ]
  },
  {
   "cell_type": "code",
   "execution_count": 50,
   "id": "79976fdf",
   "metadata": {},
   "outputs": [],
   "source": [
    "pr_forest, re_forest, th_forest = precision_recall_curve(y_train_5, y_scores_forest)"
   ]
  },
  {
   "cell_type": "code",
   "execution_count": 51,
   "id": "9847ebbc",
   "metadata": {},
   "outputs": [
    {
     "data": {
      "image/png": "[encoded data removed]",
      "text/plain": [
       "<Figure size 432x288 with 1 Axes>"
      ]
     },
     "metadata": {
      "needs_background": "light"
     },
     "output_type": "display_data"
    }
   ],
   "source": [
    "plot_precision_recall_vs_threshold(pr_forest, re_forest, th_forest)"
   ]
  },
  {
   "cell_type": "code",
   "execution_count": 52,
   "id": "82299409",
   "metadata": {},
   "outputs": [
    {
     "data": {
      "image/png": "[encoded data removed]",
      "text/plain": [
       "<Figure size 432x288 with 1 Axes>"
      ]
     },
     "metadata": {
      "needs_background": "light"
     },
     "output_type": "display_data"
    }
   ],
   "source": [
    "plot_precision_vs_recall(pr_forest, re_forest)"
   ]
  },
  {
   "cell_type": "code",
   "execution_count": 53,
   "id": "fc5c9c63",
   "metadata": {},
   "outputs": [],
   "source": [
    "y_train_predi_forest_60 = (y_probas_forest[:, 1]>=0.60)"
   ]
  },
  {
   "cell_type": "code",
   "execution_count": 54,
   "id": "ffbec66b",
   "metadata": {},
   "outputs": [
    {
     "data": {
      "text/plain": [
       "0.9953020134228188"
      ]
     },
     "execution_count": 54,
     "metadata": {},
     "output_type": "execute_result"
    }
   ],
   "source": [
    "precision_score(y_train_5, y_train_predi_forest_60)"
   ]
  },
  {
   "cell_type": "code",
   "execution_count": 55,
   "id": "2c5e64a3",
   "metadata": {},
   "outputs": [
    {
     "data": {
      "text/plain": [
       "0.8206972883231876"
      ]
     },
     "execution_count": 55,
     "metadata": {},
     "output_type": "execute_result"
    }
   ],
   "source": [
    "recall_score(y_train_5, y_train_predi_forest_60)"
   ]
  },
  {
   "cell_type": "markdown",
   "id": "9e900f35",
   "metadata": {},
   "source": [
    "##### Observations\n",
    "    - By changing the probabality thresholds we can extend the values for precision and recall score"
   ]
  },
  {
   "cell_type": "markdown",
   "id": "557a3161",
   "metadata": {},
   "source": [
    "#### Confusion Matrix"
   ]
  },
  {
   "cell_type": "code",
   "execution_count": 56,
   "id": "5dd34680",
   "metadata": {},
   "outputs": [
    {
     "data": {
      "text/plain": [
       "array([[54558,    21],\n",
       "       [  972,  4449]], dtype=int64)"
      ]
     },
     "execution_count": 56,
     "metadata": {},
     "output_type": "execute_result"
    }
   ],
   "source": [
    "confusion_matrix(y_train_5, y_train_predi_forest_60)"
   ]
  },
  {
   "cell_type": "markdown",
   "id": "55a2a588",
   "metadata": {},
   "source": [
    "## Multiclass Classifications\n",
    "    - Some of the classfiers are capable of handling the multiclass natively such as Logistic Regression, Random Forest, Naive Bayes, where as others such as SGD or SVM are purely binary classifiers.\n",
    "    - There are two method for multiclass classifications using binary classfiers\n",
    "        - OneVsRest(OVR)\n",
    "            - One class is detected against all the other classes.(i.e 0 detector , 1 detector, 2 detector..etc)\n",
    "        - OneVsOne(OVO)\n",
    "            - One class is detected against the other one class.(i.e 0 vs 1, 0 vs 2 etc)\n",
    "    - So in mnist dataset case, first method OVR implements the 10 classifier and, second method OVO implements (N*N-1)/2 means 45 classifiers. OVO can be good method where models scalability decreases with the size of datasets, such as SVM.\n",
    "    - Scikit-learn automatically detects which of above method to use when we implement the multiclass classifications using binary classifiers"
   ]
  },
  {
   "cell_type": "code",
   "execution_count": 60,
   "id": "70cc477c",
   "metadata": {},
   "outputs": [
    {
     "name": "stderr",
     "output_type": "stream",
     "text": [
      "D:\\programs\\TheCompleteML\\env\\lib\\site-packages\\sklearn\\base.py:450: UserWarning: X does not have valid feature names, but SVC was fitted with feature names\n",
      "  warnings.warn(\n"
     ]
    },
    {
     "data": {
      "text/plain": [
       "array([5], dtype=uint8)"
      ]
     },
     "execution_count": 60,
     "metadata": {},
     "output_type": "execute_result"
    }
   ],
   "source": [
    "from sklearn.svm import SVC\n",
    "\n",
    "svm_clf = SVC()\n",
    "svm_clf.fit(X_train, y_train)\n",
    "svm_clf.predict([sample_digit])"
   ]
  },
  {
   "cell_type": "markdown",
   "id": "293e7540",
   "metadata": {},
   "source": [
    "##### Note: \n",
    "    - By defaults SVM uses OVO method for classifying the multiclass problem"
   ]
  },
  {
   "cell_type": "code",
   "execution_count": 61,
   "id": "22e86895",
   "metadata": {},
   "outputs": [
    {
     "name": "stderr",
     "output_type": "stream",
     "text": [
      "D:\\programs\\TheCompleteML\\env\\lib\\site-packages\\sklearn\\base.py:450: UserWarning: X does not have valid feature names, but SVC was fitted with feature names\n",
      "  warnings.warn(\n"
     ]
    }
   ],
   "source": [
    "sample_digit_score = svm_clf.decision_function([sample_digit])"
   ]
  },
  {
   "cell_type": "code",
   "execution_count": 62,
   "id": "2244a106",
   "metadata": {},
   "outputs": [
    {
     "data": {
      "text/plain": [
       "array([[ 2.75218106,  7.18427251,  7.26545981,  3.7477651 ,  2.78645349,\n",
       "         9.3143754 ,  3.77326799,  0.71912451,  7.25839697, -0.3027696 ]])"
      ]
     },
     "execution_count": 62,
     "metadata": {},
     "output_type": "execute_result"
    }
   ],
   "source": [
    "sample_digit_score"
   ]
  },
  {
   "cell_type": "markdown",
   "id": "b5d373b6",
   "metadata": {},
   "source": [
    "##### Observations \n",
    "    - This gives 10 scores insted of one, each representing the score of each class"
   ]
  },
  {
   "cell_type": "code",
   "execution_count": 65,
   "id": "e57a231e",
   "metadata": {},
   "outputs": [
    {
     "data": {
      "text/plain": [
       "array([0, 1, 2, 3, 4, 5, 6, 7, 8, 9], dtype=uint8)"
      ]
     },
     "execution_count": 65,
     "metadata": {},
     "output_type": "execute_result"
    }
   ],
   "source": [
    "svm_clf.classes_"
   ]
  },
  {
   "cell_type": "code",
   "execution_count": 66,
   "id": "cb30d511",
   "metadata": {},
   "outputs": [
    {
     "data": {
      "text/plain": [
       "5"
      ]
     },
     "execution_count": 66,
     "metadata": {},
     "output_type": "execute_result"
    }
   ],
   "source": [
    "svm_clf.classes_[np.argmax(sample_digit_score)]"
   ]
  },
  {
   "cell_type": "markdown",
   "id": "5a1da5c5",
   "metadata": {},
   "source": [
    "#### To Explicitly Order the method to be used for multiclass classifications"
   ]
  },
  {
   "cell_type": "code",
   "execution_count": 67,
   "id": "cba9de3f",
   "metadata": {},
   "outputs": [
    {
     "name": "stderr",
     "output_type": "stream",
     "text": [
      "D:\\programs\\TheCompleteML\\env\\lib\\site-packages\\sklearn\\base.py:450: UserWarning: X does not have valid feature names, but SVC was fitted with feature names\n",
      "  warnings.warn(\n",
      "D:\\programs\\TheCompleteML\\env\\lib\\site-packages\\sklearn\\base.py:450: UserWarning: X does not have valid feature names, but SVC was fitted with feature names\n",
      "  warnings.warn(\n",
      "D:\\programs\\TheCompleteML\\env\\lib\\site-packages\\sklearn\\base.py:450: UserWarning: X does not have valid feature names, but SVC was fitted with feature names\n",
      "  warnings.warn(\n",
      "D:\\programs\\TheCompleteML\\env\\lib\\site-packages\\sklearn\\base.py:450: UserWarning: X does not have valid feature names, but SVC was fitted with feature names\n",
      "  warnings.warn(\n",
      "D:\\programs\\TheCompleteML\\env\\lib\\site-packages\\sklearn\\base.py:450: UserWarning: X does not have valid feature names, but SVC was fitted with feature names\n",
      "  warnings.warn(\n",
      "D:\\programs\\TheCompleteML\\env\\lib\\site-packages\\sklearn\\base.py:450: UserWarning: X does not have valid feature names, but SVC was fitted with feature names\n",
      "  warnings.warn(\n",
      "D:\\programs\\TheCompleteML\\env\\lib\\site-packages\\sklearn\\base.py:450: UserWarning: X does not have valid feature names, but SVC was fitted with feature names\n",
      "  warnings.warn(\n",
      "D:\\programs\\TheCompleteML\\env\\lib\\site-packages\\sklearn\\base.py:450: UserWarning: X does not have valid feature names, but SVC was fitted with feature names\n",
      "  warnings.warn(\n",
      "D:\\programs\\TheCompleteML\\env\\lib\\site-packages\\sklearn\\base.py:450: UserWarning: X does not have valid feature names, but SVC was fitted with feature names\n",
      "  warnings.warn(\n",
      "D:\\programs\\TheCompleteML\\env\\lib\\site-packages\\sklearn\\base.py:450: UserWarning: X does not have valid feature names, but SVC was fitted with feature names\n",
      "  warnings.warn(\n"
     ]
    },
    {
     "data": {
      "text/plain": [
       "array([5], dtype=uint8)"
      ]
     },
     "execution_count": 67,
     "metadata": {},
     "output_type": "execute_result"
    }
   ],
   "source": [
    "from sklearn.multiclass import OneVsRestClassifier\n",
    "\n",
    "ovr_clf = OneVsRestClassifier(SVC())\n",
    "ovr_clf.fit(X_train, y_train)\n",
    "ovr_clf.predict([sample_digit])"
   ]
  },
  {
   "cell_type": "markdown",
   "id": "6b342a7b",
   "metadata": {},
   "source": [
    "### SGD Classifier"
   ]
  },
  {
   "cell_type": "code",
   "execution_count": 68,
   "id": "00f4ce98",
   "metadata": {},
   "outputs": [
    {
     "name": "stderr",
     "output_type": "stream",
     "text": [
      "D:\\programs\\TheCompleteML\\env\\lib\\site-packages\\sklearn\\base.py:450: UserWarning: X does not have valid feature names, but SGDClassifier was fitted with feature names\n",
      "  warnings.warn(\n"
     ]
    },
    {
     "data": {
      "text/plain": [
       "array([5], dtype=uint8)"
      ]
     },
     "execution_count": 68,
     "metadata": {},
     "output_type": "execute_result"
    }
   ],
   "source": [
    "sgd_clf.fit(X_train, y_train)\n",
    "sgd_clf.predict([sample_digit])"
   ]
  },
  {
   "cell_type": "code",
   "execution_count": 69,
   "id": "5bd5bb84",
   "metadata": {},
   "outputs": [
    {
     "name": "stderr",
     "output_type": "stream",
     "text": [
      "D:\\programs\\TheCompleteML\\env\\lib\\site-packages\\sklearn\\base.py:450: UserWarning: X does not have valid feature names, but SGDClassifier was fitted with feature names\n",
      "  warnings.warn(\n"
     ]
    },
    {
     "data": {
      "text/plain": [
       "array([[-30446.28807622, -20771.5971377 ,  -4069.97324426,\n",
       "         -7297.18084344,  -2335.35560779,   3839.63697115,\n",
       "        -27845.48223256, -11660.53889926,   -540.54962964,\n",
       "        -11918.2854924 ]])"
      ]
     },
     "execution_count": 69,
     "metadata": {},
     "output_type": "execute_result"
    }
   ],
   "source": [
    "sgd_clf.decision_function([sample_digit])"
   ]
  },
  {
   "cell_type": "code",
   "execution_count": 72,
   "id": "6b687e6f",
   "metadata": {},
   "outputs": [
    {
     "data": {
      "text/plain": [
       "array([0.87365, 0.85835, 0.8689 ])"
      ]
     },
     "execution_count": 72,
     "metadata": {},
     "output_type": "execute_result"
    }
   ],
   "source": [
    "clone_clf = clone(sgd_clf)\n",
    "cross_val_score(clone_clf, X_train, y_train, cv=3, scoring=\"accuracy\")"
   ]
  },
  {
   "cell_type": "markdown",
   "id": "b79819c6",
   "metadata": {},
   "source": [
    "#### Scaling the features"
   ]
  },
  {
   "cell_type": "code",
   "execution_count": 74,
   "id": "a9a26f67",
   "metadata": {},
   "outputs": [],
   "source": [
    "from sklearn.preprocessing import StandardScaler\n",
    "\n",
    "scaler = StandardScaler()\n",
    "X_train_scaled = scaler.fit_transform(X_train.astype(np.float64))"
   ]
  },
  {
   "cell_type": "code",
   "execution_count": 75,
   "id": "b635dd7c",
   "metadata": {},
   "outputs": [
    {
     "data": {
      "text/plain": [
       "array([0.8983, 0.891 , 0.9018])"
      ]
     },
     "execution_count": 75,
     "metadata": {},
     "output_type": "execute_result"
    }
   ],
   "source": [
    "cross_val_score(clone_clf, X_train_scaled, y_train, cv=3, scoring=\"accuracy\")"
   ]
  },
  {
   "cell_type": "markdown",
   "id": "b6ba6126",
   "metadata": {},
   "source": [
    "##### Observations\n",
    "    - Scaling the features will significantly improves accuracy from 86% to 89%"
   ]
  },
  {
   "cell_type": "markdown",
   "id": "51227fce",
   "metadata": {},
   "source": [
    "### Error Analysis\n",
    "##### Note:\n",
    "    Before error analysis we need to implement some of the steps like data preparations options, selecting models by training some of the model and fine tune the best one using the GridSearchCV"
   ]
  },
  {
   "cell_type": "code",
   "execution_count": 76,
   "id": "fc346411",
   "metadata": {},
   "outputs": [],
   "source": [
    "y_train_pred = cross_val_predict(sgd_clf, X_train_scaled, y_train, cv=3)\n",
    "conf_mat = confusion_matrix(y_train, y_train_pred)"
   ]
  },
  {
   "cell_type": "code",
   "execution_count": 77,
   "id": "87d646ef",
   "metadata": {},
   "outputs": [
    {
     "data": {
      "text/plain": [
       "array([[5577,    0,   22,    5,    8,   43,   36,    6,  225,    1],\n",
       "       [   0, 6400,   37,   24,    4,   44,    4,    7,  212,   10],\n",
       "       [  27,   27, 5220,   92,   73,   27,   67,   36,  378,   11],\n",
       "       [  22,   17,  117, 5227,    2,  203,   27,   40,  403,   73],\n",
       "       [  12,   14,   41,    9, 5182,   12,   34,   27,  347,  164],\n",
       "       [  27,   15,   30,  168,   53, 4444,   75,   14,  535,   60],\n",
       "       [  30,   15,   42,    3,   44,   97, 5552,    3,  131,    1],\n",
       "       [  21,   10,   51,   30,   49,   12,    3, 5684,  195,  210],\n",
       "       [  17,   63,   48,   86,    3,  126,   25,   10, 5429,   44],\n",
       "       [  25,   18,   30,   64,  118,   36,    1,  179,  371, 5107]],\n",
       "      dtype=int64)"
      ]
     },
     "execution_count": 77,
     "metadata": {},
     "output_type": "execute_result"
    }
   ],
   "source": [
    "conf_mat"
   ]
  },
  {
   "cell_type": "code",
   "execution_count": 79,
   "id": "1e03e45f",
   "metadata": {},
   "outputs": [
    {
     "data": {
      "image/png": "[encoded data removed]",
      "text/plain": [
       "<Figure size 288x288 with 1 Axes>"
      ]
     },
     "metadata": {
      "needs_background": "light"
     },
     "output_type": "display_data"
    }
   ],
   "source": [
    "plt.matshow(conf_mat, cmap=plt.cm.gray)\n",
    "plt.show()"
   ]
  },
  {
   "cell_type": "markdown",
   "id": "09bba61f",
   "metadata": {},
   "source": [
    "##### Observations\n",
    "    - Lighter means more accurate, Darker means less accurate\n",
    "    - Image 5 shows more darker, means it can be two possibilities that there are fewer images of 5 or classfier does not perfoms well on 5 then on others.\n",
    "    - First, divide each value in the confusion matrix by the number of images in the corresponding class so that you can compare error rates instead of absolute numbers of errors (which would make abundant classes look unfairly bad)"
   ]
  },
  {
   "cell_type": "code",
   "execution_count": 86,
   "id": "3f6d5d9b",
   "metadata": {},
   "outputs": [],
   "source": [
    "row_sums = conf_mat.sum(axis=1, keepdims=True)"
   ]
  },
  {
   "cell_type": "code",
   "execution_count": 91,
   "id": "f27ace4d",
   "metadata": {},
   "outputs": [],
   "source": [
    "norm_conf_mat = conf_mat/row_sums"
   ]
  },
  {
   "cell_type": "code",
   "execution_count": 98,
   "id": "a4a9b376",
   "metadata": {},
   "outputs": [
    {
     "data": {
      "image/png": "[encoded data removed]",
      "text/plain": [
       "<Figure size 288x288 with 1 Axes>"
      ]
     },
     "metadata": {
      "needs_background": "light"
     },
     "output_type": "display_data"
    }
   ],
   "source": [
    "np.fill_diagonal(norm_conf_mat, 0) # this makes opening of errors\n",
    "plt.matshow(norm_conf_mat, cmap=plt.cm.gray)\n",
    "plt.show()"
   ]
  },
  {
   "cell_type": "markdown",
   "id": "f06f095a",
   "metadata": {},
   "source": [
    "##### Observations\n",
    "    - Here column 8 has so many birght spots, means so many other classes predicted as 8 most is 5, 3 etc and important thing is row 8 has fue bright spot means actual 8s are correctly predicted.\n",
    "    - Other then 8 column 5 and 3 has bright spot and also symetrical which can't be for all the cases. Means 3 and 5 are misclassified mutually.\n",
    "    - Analyzing the confusion matrix often gives us insights into ways to improve your classifier. Looking at this plot, it seems that efforts should be spent on reducing the false 8s. For example, you could try to gather more training data for digits that look like 8s (but are not) so that the classifier can learn to distinguish them from real 8s. Or you could engineer new features that would help the classifier — for example, writing an algorithm to count the number of closed loops (e.g., 8 has two, 6 has one, 5 has none). Or you could preprocess the images (e.g., using Scikit-Image, Pillow, or OpenCV) to make some patterns, such as closed loops, stand out more."
   ]
  },
  {
   "cell_type": "code",
   "execution_count": 99,
   "id": "c057ce3a",
   "metadata": {},
   "outputs": [],
   "source": [
    "cl_a, cl_b = 3, 5\n",
    "X_aa = X_train[(y_train==cl_a) & (y_train_pred==cl_a)]\n",
    "X_ab = X_train[(y_train==cl_a) & (y_train_pred==cl_b)]\n",
    "X_ba = X_train[(y_train==cl_b) & (y_train_pred==cl_a)]\n",
    "X_bb = X_train[(y_train==cl_b) & (y_train_pred==cl_b)]"
   ]
  },
  {
   "cell_type": "code",
   "execution_count": 142,
   "id": "c0d5726f",
   "metadata": {},
   "outputs": [],
   "source": [
    "def plot_digit(data):\n",
    "    image = data.reshape(28, 28)\n",
    "    plt.imshow(image, cmap = mpl.cm.binary,\n",
    "               interpolation=\"nearest\")\n",
    "    plt.axis(\"off\")"
   ]
  },
  {
   "cell_type": "code",
   "execution_count": 114,
   "id": "b9e897ce",
   "metadata": {},
   "outputs": [],
   "source": [
    "# EXTRA\n",
    "def plot_digits(instances, images_per_row=10, **options):\n",
    "    size = 28\n",
    "    images_per_row = min(len(instances), images_per_row)\n",
    "    # This is equivalent to n_rows = ceil(len(instances) / images_per_row):\n",
    "    n_rows = (len(instances) - 1) // images_per_row + 1\n",
    "\n",
    "    # Append empty images to fill the end of the grid, if needed:\n",
    "    n_empty = n_rows * images_per_row - len(instances)\n",
    "    padded_instances = np.concatenate([instances, np.zeros((n_empty, size * size))], axis=0)\n",
    "\n",
    "    # Reshape the array so it's organized as a grid containing 28×28 images:\n",
    "    image_grid = padded_instances.reshape((n_rows, images_per_row, size, size))\n",
    "\n",
    "    # Combine axes 0 and 2 (vertical image grid axis, and vertical image axis),\n",
    "    # and axes 1 and 3 (horizontal axes). We first need to move the axes that we\n",
    "    # want to combine next to each other, using transpose(), and only then we\n",
    "    # can reshape:\n",
    "    big_image = image_grid.transpose(0, 2, 1, 3).reshape(n_rows * size,\n",
    "                                                         images_per_row * size)\n",
    "    # Now that we have a big image, we just need to show it:\n",
    "    plt.imshow(big_image, cmap = mpl.cm.binary, **options)\n",
    "    plt.axis(\"off\")"
   ]
  },
  {
   "cell_type": "code",
   "execution_count": 115,
   "id": "79d7494c",
   "metadata": {},
   "outputs": [
    {
     "data": {
      "image/png": "[encoded data removed]",
      "text/plain": [
       "<Figure size 576x576 with 4 Axes>"
      ]
     },
     "metadata": {
      "needs_background": "light"
     },
     "output_type": "display_data"
    }
   ],
   "source": [
    "plt.figure(figsize =( 8,8)) \n",
    "plt.subplot(221) \n",
    "plot_digits(X_aa[: 25], images_per_row = 5) \n",
    "plt.subplot(222) \n",
    "plot_digits(X_ab[: 25], images_per_row = 5) \n",
    "plt.subplot(223) \n",
    "plot_digits(X_ba[: 25], images_per_row = 5) \n",
    "plt.subplot(224) \n",
    "plot_digits(X_bb[: 25], images_per_row = 5) \n",
    "plt.show()"
   ]
  },
  {
   "cell_type": "markdown",
   "id": "f9d15b58",
   "metadata": {},
   "source": [
    " ##### Observations\n",
    "     - Here see it as confusion matrix. Some of the digits are hard to find with human eyes also.\n",
    "     - The reason is that we used a simple SGDClassifier, which is a linear model. All it does is assign a weight per class to each pixel, and when it sees a new image it just sums up the weighted pixel intensities to get a score for each class. So since 3s and 5s differ only by a few pixels, this model will easily confuse them. \n",
    "     - The main difference between 3s and 5s is the position of the small line that joins the top line to the bottom arc. If you draw a 3 with the junction slightly shifted to the left, the classifier might classify it as a 5, and vice versa. In other words, this classifier is quite sensitive to image shifting and rotation. So one way to reduce the 3/ 5 confusion would be to preprocess the images to ensure that they are well centered and not too rotated. This will probably help reduce other errors as well."
   ]
  },
  {
   "cell_type": "markdown",
   "id": "5b441d41",
   "metadata": {},
   "source": [
    "## Multilabel Classifications\n",
    "    - Multilabel means if you have more then one label to identify.\n",
    "    - Example: Suppose in the face-recognition system we have to identify each of the faces in the images. i.e to identify the faces Arya, Ananya and Kartavya model should predict like [1, 0, 1], detecting arya and kartavya in image"
   ]
  },
  {
   "cell_type": "code",
   "execution_count": 121,
   "id": "6753be24",
   "metadata": {},
   "outputs": [
    {
     "data": {
      "text/plain": [
       "KNeighborsClassifier()"
      ]
     },
     "execution_count": 121,
     "metadata": {},
     "output_type": "execute_result"
    }
   ],
   "source": [
    "from sklearn.neighbors import KNeighborsClassifier\n",
    "\n",
    "y_train_large = (y_train >= 7)\n",
    "y_train_odd = (y_train % 2 == 1)\n",
    "y_multilabel = np.c_[y_train_large, y_train_odd]\n",
    "\n",
    "knn_clf = KNeighborsClassifier()\n",
    "knn_clf.fit(X_train, y_multilabel)"
   ]
  },
  {
   "cell_type": "code",
   "execution_count": 123,
   "id": "029b8d16",
   "metadata": {},
   "outputs": [
    {
     "name": "stderr",
     "output_type": "stream",
     "text": [
      "D:\\programs\\TheCompleteML\\env\\lib\\site-packages\\sklearn\\base.py:450: UserWarning: X does not have valid feature names, but KNeighborsClassifier was fitted with feature names\n",
      "  warnings.warn(\n"
     ]
    },
    {
     "data": {
      "text/plain": [
       "array([[False,  True]])"
      ]
     },
     "execution_count": 123,
     "metadata": {},
     "output_type": "execute_result"
    }
   ],
   "source": [
    "knn_clf.predict([sample_digit])"
   ]
  },
  {
   "cell_type": "markdown",
   "id": "45250b8f",
   "metadata": {},
   "source": [
    "##### Observations\n",
    "    - Correctely identified: five is not large and odd"
   ]
  },
  {
   "cell_type": "markdown",
   "id": "23b84651",
   "metadata": {},
   "source": [
    "### Performance Measure of Multilabel\n",
    "    - There are many ways to do it. One is to measure the F1-score of individual labels, as binary classifier, and count the average of it."
   ]
  },
  {
   "cell_type": "code",
   "execution_count": 125,
   "id": "66e892e3",
   "metadata": {},
   "outputs": [],
   "source": [
    "y_multilabel_pred = cross_val_predict(knn_clf, X_train, y_multilabel, cv=3)"
   ]
  },
  {
   "cell_type": "code",
   "execution_count": 128,
   "id": "b0ba4dfa",
   "metadata": {},
   "outputs": [
    {
     "data": {
      "text/plain": [
       "0.976410265560605"
      ]
     },
     "execution_count": 128,
     "metadata": {},
     "output_type": "execute_result"
    }
   ],
   "source": [
    "f1_score(y_multilabel, y_multilabel_pred, average=\"macro\")"
   ]
  },
  {
   "cell_type": "markdown",
   "id": "a560bbb4",
   "metadata": {},
   "source": [
    "##### Note:\n",
    "    - This assumes that all labels are equally important, however, which may not be the case. In particular, if you have many more pictures of Ananya than of Arya or Kartavya, you may want to give more weight to the classifier’s score on pictures of Ananya. One simple option is to give each label a weight equal to its support (i.e., the number of instances with that target label). To do this, simply set average =\" weighted\" in the preceding code."
   ]
  },
  {
   "cell_type": "markdown",
   "id": "fc1799b4",
   "metadata": {},
   "source": [
    "## Multioutput Classifications\n",
    "    - More than one label and each label can have more than one values\n",
    "    - Example: Removing noise from the images, that takes input as noisy images and predicts the cleanded image data. So here output image data will be of size 784 columns and each columns will be having values from 0 to 255"
   ]
  },
  {
   "cell_type": "code",
   "execution_count": 131,
   "id": "7d113628",
   "metadata": {},
   "outputs": [],
   "source": [
    "noise = np.random.randint(0, 100, (len(X_train), 784))\n",
    "X_train_mod = X_train + noise\n",
    "noise = np.random.randint(0, 100, (len(X_test), 784))\n",
    "X_test_mod = X_test + noise"
   ]
  },
  {
   "cell_type": "code",
   "execution_count": 136,
   "id": "929ce52d",
   "metadata": {},
   "outputs": [],
   "source": [
    "y_train_mod = X_train\n",
    "y_test_mod = X_test"
   ]
  },
  {
   "cell_type": "code",
   "execution_count": 140,
   "id": "0728394b",
   "metadata": {},
   "outputs": [
    {
     "name": "stderr",
     "output_type": "stream",
     "text": [
      "D:\\programs\\TheCompleteML\\env\\lib\\site-packages\\sklearn\\base.py:450: UserWarning: X does not have valid feature names, but KNeighborsClassifier was fitted with feature names\n",
      "  warnings.warn(\n"
     ]
    }
   ],
   "source": [
    "knn_clf.fit(X_train_mod, y_train_mod)\n",
    "clean_digit = knn_clf.predict([X_test_mod.iloc[11]])"
   ]
  },
  {
   "cell_type": "code",
   "execution_count": 143,
   "id": "4e00d8bf",
   "metadata": {},
   "outputs": [
    {
     "data": {
      "image/png": "[encoded data removed]",
      "text/plain": [
       "<Figure size 432x288 with 1 Axes>"
      ]
     },
     "metadata": {
      "needs_background": "light"
     },
     "output_type": "display_data"
    }
   ],
   "source": [
    "plot_digit(clean_digit)"
   ]
  },
  {
   "cell_type": "code",
   "execution_count": 148,
   "id": "6b614411",
   "metadata": {},
   "outputs": [
    {
     "data": {
      "image/png": "[encoded data removed]",
      "text/plain": [
       "<Figure size 432x288 with 1 Axes>"
      ]
     },
     "metadata": {
      "needs_background": "light"
     },
     "output_type": "display_data"
    }
   ],
   "source": [
    "plot_digit(np.array(X_test_mod.iloc[11]))"
   ]
  },
  {
   "cell_type": "markdown",
   "id": "45477d5d",
   "metadata": {},
   "source": [
    "## Exercises"
   ]
  },
  {
   "cell_type": "markdown",
   "id": "2471821d",
   "metadata": {},
   "source": [
    "### MNIST with 90% accuracy"
   ]
  },
  {
   "cell_type": "code",
   "execution_count": 149,
   "id": "90ab1a92",
   "metadata": {},
   "outputs": [
    {
     "data": {
      "text/plain": [
       "GridSearchCV(cv=3, estimator=KNeighborsClassifier(),\n",
       "             param_grid=[{'n_neighbors': [5, 7, 9, 11, 13, 15],\n",
       "                          'weights': ['uniform', 'distance']}],\n",
       "             scoring='accuracy')"
      ]
     },
     "execution_count": 149,
     "metadata": {},
     "output_type": "execute_result"
    }
   ],
   "source": [
    "from sklearn.model_selection import GridSearchCV\n",
    "\n",
    "param_grid = [{ 'n_neighbors' : [5,7,9,11,13,15],\n",
    "               'weights' : ['uniform','distance']}]\n",
    "\n",
    "clone_clf = clone(knn_clf)\n",
    "grid_search = GridSearchCV(clone_clf, param_grid, cv=3, scoring=\"accuracy\")\n",
    "grid_search.fit(X_train, y_train)"
   ]
  },
  {
   "cell_type": "code",
   "execution_count": 150,
   "id": "b5892fd0",
   "metadata": {},
   "outputs": [
    {
     "data": {
      "text/plain": [
       "{'n_neighbors': 5, 'weights': 'distance'}"
      ]
     },
     "execution_count": 150,
     "metadata": {},
     "output_type": "execute_result"
    }
   ],
   "source": [
    "grid_search.best_params_"
   ]
  },
  {
   "cell_type": "code",
   "execution_count": 152,
   "id": "df6b8093",
   "metadata": {},
   "outputs": [
    {
     "data": {
      "text/plain": [
       "KNeighborsClassifier(weights='distance')"
      ]
     },
     "execution_count": 152,
     "metadata": {},
     "output_type": "execute_result"
    }
   ],
   "source": [
    "grid_search.best_estimator_"
   ]
  },
  {
   "cell_type": "code",
   "execution_count": 154,
   "id": "13b57b09",
   "metadata": {},
   "outputs": [
    {
     "data": {
      "text/plain": [
       "array([0.9688 , 0.96795, 0.96905])"
      ]
     },
     "execution_count": 154,
     "metadata": {},
     "output_type": "execute_result"
    }
   ],
   "source": [
    "final_model = grid_search.best_estimator_\n",
    "cross_val_score(final_model, X_train, y_train, cv=3, scoring=\"accuracy\")"
   ]
  },
  {
   "cell_type": "markdown",
   "id": "a2287f73",
   "metadata": {},
   "source": [
    "##### Observations\n",
    "    - Got 96% accuracy which is quite good."
   ]
  },
  {
   "cell_type": "markdown",
   "id": "9b440f28",
   "metadata": {},
   "source": [
    "### MNIST with data augmentation"
   ]
  },
  {
   "cell_type": "code",
   "execution_count": 351,
   "id": "278afa0e",
   "metadata": {},
   "outputs": [],
   "source": [
    "from scipy.ndimage.interpolation import shift\n",
    "\n",
    "def add_shifted_images(X, y, shift_=[(0, 1), (0, -1), (-1, 0), (1, 0)]):\n",
    "    \n",
    "    \"\"\"\n",
    "    Functoin adds the more intances to the training data\n",
    "    \n",
    "    Details  One each of the instances it creates the the four copy shifted one pixel towards each of the four directions.\n",
    "             Also added datas are shuffled before concatenating to the actual data.\n",
    "    \"\"\"\n",
    "    \n",
    "    if not isinstance(X, np.ndarray): X = np.array(X)\n",
    "    if not isinstance(y, np.ndarray): y = np.array(y)\n",
    "    \n",
    "    dim_ = int(np.sqrt(X.shape[1]))\n",
    "    X = X.reshape(X.shape[0], dim_, dim_)\n",
    "    X_shifted = np.empty((X.shape[0]*len(shift_), X.shape[1], X.shape[2]))\n",
    "    y_ = np.empty(y.shape[0]*len(shift_), dtype=\"uint8\")\n",
    "    \n",
    "    for i in range(len(X_shifted)):\n",
    "        si = i % 4\n",
    "        xyi = int(i/4)\n",
    "        X_shifted[i] = shift(X[xyi], shift_[si], cval=0)\n",
    "        y_[i] = y[xyi]\n",
    "            \n",
    "    # reshape\n",
    "    X_shifted = X_shifted.reshape(X_shifted.shape[0], dim_*dim_)\n",
    "    X = X.reshape(X.shape[0], dim_*dim_)\n",
    "    \n",
    "    # random shuffling of data\n",
    "    xy = np.c_[X_shifted, y_]\n",
    "    np.random.seed(42)\n",
    "    np.random.shuffle(xy)\n",
    "    X_shifted = xy[:, :-1]\n",
    "    y_ = xy[:, -1:].ravel()\n",
    "    del xy\n",
    "    \n",
    "    X = np.r_[X, X_shifted]\n",
    "    y = np.r_[y, y_]\n",
    "    \n",
    "    return X, y"
   ]
  },
  {
   "cell_type": "code",
   "execution_count": 327,
   "id": "3cb58e68",
   "metadata": {
    "scrolled": true
   },
   "outputs": [],
   "source": [
    "X_train_added, y_train_added = add_shifted_images(X_train, y_train)"
   ]
  },
  {
   "cell_type": "code",
   "execution_count": 328,
   "id": "df6f7d09",
   "metadata": {},
   "outputs": [
    {
     "data": {
      "text/plain": [
       "(300000, 784)"
      ]
     },
     "execution_count": 328,
     "metadata": {},
     "output_type": "execute_result"
    }
   ],
   "source": [
    "X_train_added.shape"
   ]
  },
  {
   "cell_type": "code",
   "execution_count": 329,
   "id": "5cac35a0",
   "metadata": {},
   "outputs": [
    {
     "data": {
      "text/plain": [
       "(300000,)"
      ]
     },
     "execution_count": 329,
     "metadata": {},
     "output_type": "execute_result"
    }
   ],
   "source": [
    "y_train_added.shape"
   ]
  },
  {
   "cell_type": "code",
   "execution_count": 350,
   "id": "6b41919e",
   "metadata": {},
   "outputs": [
    {
     "data": {
      "image/png": "[encoded data removed]",
      "text/plain": [
       "<Figure size 432x288 with 1 Axes>"
      ]
     },
     "metadata": {
      "needs_background": "light"
     },
     "output_type": "display_data"
    }
   ],
   "source": [
    "arg = np.random.randint(0, len(X_train_added))\n",
    "plt.imshow(X_train_added[arg].reshape(28, 28))\n",
    "plt.title(f\"The digit is: {y_train_added[arg]}\")\n",
    "plt.show()"
   ]
  },
  {
   "cell_type": "code",
   "execution_count": 352,
   "id": "f62060d8",
   "metadata": {},
   "outputs": [
    {
     "data": {
      "text/plain": [
       "array([0.9853 , 0.97996, 0.98032])"
      ]
     },
     "execution_count": 352,
     "metadata": {},
     "output_type": "execute_result"
    }
   ],
   "source": [
    "cross_val_score(final_model, X_train_added, y_train_added, cv=3, scoring=\"accuracy\")"
   ]
  },
  {
   "cell_type": "markdown",
   "id": "8eb64c4e",
   "metadata": {},
   "source": [
    "##### Observations\n",
    "    - Data augmentation improves accuracy significantely."
   ]
  },
  {
   "cell_type": "code",
   "execution_count": null,
   "id": "8115bff7",
   "metadata": {},
   "outputs": [],
   "source": []
  }
 ],
 "metadata": {
  "kernelspec": {
   "display_name": "Python 3 (ipykernel)",
   "language": "python",
   "name": "python3"
  },
  "language_info": {
   "codemirror_mode": {
    "name": "ipython",
    "version": 3
   },
   "file_extension": ".py",
   "mimetype": "text/x-python",
   "name": "python",
   "nbconvert_exporter": "python",
   "pygments_lexer": "ipython3",
   "version": "3.9.9"
  }
 },
 "nbformat": 4,
 "nbformat_minor": 5
}
