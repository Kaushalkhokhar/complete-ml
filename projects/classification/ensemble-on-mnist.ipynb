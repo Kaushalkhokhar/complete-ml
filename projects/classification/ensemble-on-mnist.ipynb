{
 "cells": [
  {
   "cell_type": "code",
   "execution_count": 1,
   "id": "11e3795a",
   "metadata": {},
   "outputs": [],
   "source": [
    "import numpy as np\n",
    "import pandas as pd\n",
    "import matplotlib as mpl\n",
    "import matplotlib.pyplot as plt\n",
    "%matplotlib inline"
   ]
  },
  {
   "cell_type": "code",
   "execution_count": 2,
   "id": "61c4953f",
   "metadata": {},
   "outputs": [],
   "source": [
    "from sklearn.datasets import fetch_openml\n",
    "mnist = fetch_openml(\"mnist_784\" ,version=1)"
   ]
  },
  {
   "cell_type": "code",
   "execution_count": 3,
   "id": "84116378",
   "metadata": {},
   "outputs": [],
   "source": [
    "X = mnist[\"data\"]\n",
    "y = mnist[\"target\"]"
   ]
  },
  {
   "cell_type": "code",
   "execution_count": 4,
   "id": "1df0bfb8",
   "metadata": {},
   "outputs": [],
   "source": [
    "y = y.astype(np.uint8) # converting string labels to integers"
   ]
  },
  {
   "cell_type": "code",
   "execution_count": 8,
   "id": "f0e828b8",
   "metadata": {},
   "outputs": [],
   "source": [
    "X_train, X_valid, X_test, y_train, y_valid, y_test = X.iloc[:50000], X.iloc[50000:60000], X.iloc[60000:], y.iloc[:50000], y.iloc[50000:60000], y.iloc[60000:]"
   ]
  },
  {
   "cell_type": "code",
   "execution_count": 15,
   "id": "f35bdd51",
   "metadata": {
    "collapsed": true
   },
   "outputs": [
    {
     "name": "stdout",
     "output_type": "stream",
     "text": [
      "Fitting 3 folds for each of 9 candidates, totalling 27 fits\n",
      "[CV] END .....................max_depth=10, n_estimators=100; total time=   2.3s\n",
      "[CV] END .....................max_depth=10, n_estimators=100; total time=   1.2s\n",
      "[CV] END .....................max_depth=10, n_estimators=100; total time=   1.0s\n",
      "[CV] END .....................max_depth=10, n_estimators=200; total time=   1.6s\n",
      "[CV] END .....................max_depth=10, n_estimators=200; total time=   1.6s\n",
      "[CV] END .....................max_depth=10, n_estimators=200; total time=   1.6s\n",
      "[CV] END .....................max_depth=10, n_estimators=300; total time=   2.3s\n",
      "[CV] END .....................max_depth=10, n_estimators=300; total time=   2.2s\n",
      "[CV] END .....................max_depth=10, n_estimators=300; total time=   2.3s\n",
      "[CV] END .....................max_depth=20, n_estimators=100; total time=   0.9s\n",
      "[CV] END .....................max_depth=20, n_estimators=100; total time=   1.0s\n",
      "[CV] END .....................max_depth=20, n_estimators=100; total time=   0.9s\n",
      "[CV] END .....................max_depth=20, n_estimators=200; total time=   1.7s\n",
      "[CV] END .....................max_depth=20, n_estimators=200; total time=   1.8s\n",
      "[CV] END .....................max_depth=20, n_estimators=200; total time=   1.8s\n",
      "[CV] END .....................max_depth=20, n_estimators=300; total time=   2.4s\n",
      "[CV] END .....................max_depth=20, n_estimators=300; total time=   2.5s\n",
      "[CV] END .....................max_depth=20, n_estimators=300; total time=   2.4s\n",
      "[CV] END .....................max_depth=30, n_estimators=100; total time=   1.0s\n",
      "[CV] END .....................max_depth=30, n_estimators=100; total time=   0.9s\n",
      "[CV] END .....................max_depth=30, n_estimators=100; total time=   1.0s\n",
      "[CV] END .....................max_depth=30, n_estimators=200; total time=   1.6s\n",
      "[CV] END .....................max_depth=30, n_estimators=200; total time=   1.7s\n",
      "[CV] END .....................max_depth=30, n_estimators=200; total time=   1.6s\n",
      "[CV] END .....................max_depth=30, n_estimators=300; total time=   2.6s\n",
      "[CV] END .....................max_depth=30, n_estimators=300; total time=   2.5s\n",
      "[CV] END .....................max_depth=30, n_estimators=300; total time=   2.5s\n"
     ]
    },
    {
     "data": {
      "text/plain": [
       "GridSearchCV(cv=3, estimator=RandomForestClassifier(n_jobs=-1),\n",
       "             param_grid=[{'max_depth': [10, 20, 30],\n",
       "                          'n_estimators': [100, 200, 300]}],\n",
       "             scoring='accuracy', verbose=2)"
      ]
     },
     "execution_count": 15,
     "metadata": {},
     "output_type": "execute_result"
    }
   ],
   "source": [
    "from sklearn.ensemble import RandomForestClassifier\n",
    "from sklearn.metrics import accuracy_score\n",
    "from sklearn.model_selection import GridSearchCV, cross_val_score\n",
    "\n",
    "param_grid = [{\"n_estimators\": [100, 200, 300], \n",
    "              \"max_depth\": [10, 20, 30]}]\n",
    "\n",
    "rf_clf = RandomForestClassifier(n_jobs=-1)\n",
    "grid_cv = GridSearchCV(rf_clf, param_grid, cv=3, scoring=\"accuracy\", verbose=2)\n",
    "grid_cv.fit(X_train[:5000], y_train[:5000])"
   ]
  },
  {
   "cell_type": "code",
   "execution_count": 16,
   "id": "7809770f",
   "metadata": {},
   "outputs": [
    {
     "data": {
      "text/plain": [
       "RandomForestClassifier(max_depth=30, n_estimators=300, n_jobs=-1)"
      ]
     },
     "execution_count": 16,
     "metadata": {},
     "output_type": "execute_result"
    }
   ],
   "source": [
    "grid_cv.best_estimator_"
   ]
  },
  {
   "cell_type": "code",
   "execution_count": 18,
   "id": "734c590e",
   "metadata": {},
   "outputs": [
    {
     "name": "stderr",
     "output_type": "stream",
     "text": [
      "[Parallel(n_jobs=1)]: Using backend SequentialBackend with 1 concurrent workers.\n"
     ]
    },
    {
     "name": "stdout",
     "output_type": "stream",
     "text": [
      "[CV] END .................................................... total time=  34.7s\n"
     ]
    },
    {
     "name": "stderr",
     "output_type": "stream",
     "text": [
      "[Parallel(n_jobs=1)]: Done   1 out of   1 | elapsed:   34.8s remaining:    0.0s\n"
     ]
    },
    {
     "name": "stdout",
     "output_type": "stream",
     "text": [
      "[CV] END .................................................... total time=  34.4s\n",
      "[CV] END .................................................... total time=  34.5s\n"
     ]
    },
    {
     "name": "stderr",
     "output_type": "stream",
     "text": [
      "[Parallel(n_jobs=1)]: Done   3 out of   3 | elapsed:  1.7min finished\n"
     ]
    },
    {
     "data": {
      "text/plain": [
       "array([0.9649607 , 0.96298074, 0.9648986 ])"
      ]
     },
     "execution_count": 18,
     "metadata": {},
     "output_type": "execute_result"
    }
   ],
   "source": [
    "final_model = grid_cv.best_estimator_\n",
    "cross_val_score(final_model, X_train, y_train, cv=3, scoring=\"accuracy\", verbose=2)"
   ]
  },
  {
   "cell_type": "code",
   "execution_count": 19,
   "id": "67221023",
   "metadata": {},
   "outputs": [
    {
     "name": "stderr",
     "output_type": "stream",
     "text": [
      "[Parallel(n_jobs=1)]: Using backend SequentialBackend with 1 concurrent workers.\n"
     ]
    },
    {
     "name": "stdout",
     "output_type": "stream",
     "text": [
      "[CV] END .................................................... total time= 1.1min\n"
     ]
    },
    {
     "name": "stderr",
     "output_type": "stream",
     "text": [
      "[Parallel(n_jobs=1)]: Done   1 out of   1 | elapsed:  1.1min remaining:    0.0s\n"
     ]
    },
    {
     "name": "stdout",
     "output_type": "stream",
     "text": [
      "[CV] END .................................................... total time= 1.1min\n",
      "[CV] END .................................................... total time= 1.1min\n"
     ]
    },
    {
     "name": "stderr",
     "output_type": "stream",
     "text": [
      "[Parallel(n_jobs=1)]: Done   3 out of   3 | elapsed:  3.4min finished\n"
     ]
    },
    {
     "data": {
      "text/plain": [
       "array([0.9698806 , 0.96640067, 0.96639866])"
      ]
     },
     "execution_count": 19,
     "metadata": {},
     "output_type": "execute_result"
    }
   ],
   "source": [
    "from sklearn.ensemble import ExtraTreesClassifier\n",
    "\n",
    "et_clf = ExtraTreesClassifier(n_estimators=300, max_depth=30)\n",
    "cross_val_score(et_clf, X_train, y_train, cv=3, scoring=\"accuracy\", verbose=2)"
   ]
  },
  {
   "cell_type": "markdown",
   "id": "b0d2a586",
   "metadata": {},
   "source": [
    "**Note** We use svm grid search model from previously train on mnist"
   ]
  },
  {
   "cell_type": "code",
   "execution_count": 20,
   "id": "5cf57549",
   "metadata": {},
   "outputs": [],
   "source": [
    "from sklearn.preprocessing import StandardScaler\n",
    "\n",
    "scaler = StandardScaler()\n",
    "X_train_scaled = scaler.fit_transform(X_train)\n",
    "X_valid_scaled = scaler.transform(X_valid)\n",
    "X_test_scaled = scaler.transform(X_test)"
   ]
  },
  {
   "cell_type": "code",
   "execution_count": 25,
   "id": "0e76a381",
   "metadata": {},
   "outputs": [
    {
     "data": {
      "text/plain": [
       "0.9742"
      ]
     },
     "execution_count": 25,
     "metadata": {},
     "output_type": "execute_result"
    }
   ],
   "source": [
    "from sklearn.svm import SVC\n",
    "\n",
    "svc_clf = SVC(C=2.49816047538945, gamma=0.0015227525095137954, probability=True)\n",
    "svc_clf.fit(X_train_scaled, y_train)\n",
    "y_pred = svc_clf.predict(X_valid_scaled)\n",
    "accuracy_score(y_valid, y_pred)"
   ]
  },
  {
   "cell_type": "code",
   "execution_count": 24,
   "id": "fb007929",
   "metadata": {},
   "outputs": [
    {
     "data": {
      "text/plain": [
       "0.9776"
      ]
     },
     "execution_count": 24,
     "metadata": {},
     "output_type": "execute_result"
    }
   ],
   "source": [
    "from sklearn.ensemble import VotingClassifier\n",
    "\n",
    "estimators = [(\"rf\", rf_clf), (\"et\", et_clf), (\"svc\", svc_clf)]\n",
    "vtg_clf = VotingClassifier(estimators=estimators, voting=\"hard\")\n",
    "vtg_clf.fit(X_train_scaled, y_train)\n",
    "y_pred = vtg_clf.predict(X_valid_scaled)\n",
    "accuracy_score(y_valid, y_pred)"
   ]
  },
  {
   "cell_type": "code",
   "execution_count": null,
   "id": "a50eeca0",
   "metadata": {},
   "outputs": [],
   "source": [
    "from sklearn.ensemble import VotingClassifier\n",
    "\n",
    "estimators = [(\"rf\", rf_clf), (\"et\", et_clf), (\"svc\", svc_clf)]\n",
    "vtg_clf_soft = VotingClassifier(estimators=estimators, voting=\"soft\")\n",
    "vtg_clf_soft.fit(X_train_scaled, y_train)\n",
    "y_pred = vtg_clf_soft.predict(X_valid_scaled)\n",
    "accuracy_score(y_valid, y_pred)"
   ]
  },
  {
   "cell_type": "code",
   "execution_count": null,
   "id": "16a5474e",
   "metadata": {},
   "outputs": [],
   "source": []
  }
 ],
 "metadata": {
  "kernelspec": {
   "display_name": "Python 3 (ipykernel)",
   "language": "python",
   "name": "python3"
  },
  "language_info": {
   "codemirror_mode": {
    "name": "ipython",
    "version": 3
   },
   "file_extension": ".py",
   "mimetype": "text/x-python",
   "name": "python",
   "nbconvert_exporter": "python",
   "pygments_lexer": "ipython3",
   "version": "3.9.10"
  }
 },
 "nbformat": 4,
 "nbformat_minor": 5
}
