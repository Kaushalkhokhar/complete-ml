{
 "cells": [
  {
   "cell_type": "code",
   "execution_count": 1,
   "id": "d36407fa",
   "metadata": {},
   "outputs": [],
   "source": [
    "import numpy as np\n",
    "import pandas as pd\n",
    "import matplotlib as mpl\n",
    "import matplotlib.pyplot as plt\n",
    "%matplotlib inline"
   ]
  },
  {
   "cell_type": "code",
   "execution_count": 2,
   "id": "aa89e43b",
   "metadata": {},
   "outputs": [],
   "source": [
    "from sklearn.datasets import fetch_openml\n",
    "mnist = fetch_openml(\"mnist_784\" ,version=1)"
   ]
  },
  {
   "cell_type": "code",
   "execution_count": 3,
   "id": "f4a86966",
   "metadata": {},
   "outputs": [],
   "source": [
    "X = mnist[\"data\"]\n",
    "y = mnist[\"target\"]"
   ]
  },
  {
   "cell_type": "code",
   "execution_count": 4,
   "id": "b8e1ee03",
   "metadata": {},
   "outputs": [],
   "source": [
    "y = y.astype(np.uint8) # converting string labels to integers"
   ]
  },
  {
   "cell_type": "code",
   "execution_count": 5,
   "id": "94477174",
   "metadata": {},
   "outputs": [],
   "source": [
    "X_train, X_valid, X_test, y_train, y_valid, y_test = X.iloc[:50000], X.iloc[50000:60000], X.iloc[60000:], y.iloc[:50000], y.iloc[50000:60000], y.iloc[60000:]"
   ]
  },
  {
   "cell_type": "code",
   "execution_count": 6,
   "id": "c374fa77",
   "metadata": {},
   "outputs": [],
   "source": [
    "from sklearn.preprocessing import StandardScaler\n",
    "\n",
    "scaler = StandardScaler()\n",
    "X_train_scaled = scaler.fit_transform(X_train)\n",
    "X_valid_scaled = scaler.transform(X_valid)\n",
    "X_test_scaled = scaler.transform(X_test)"
   ]
  },
  {
   "cell_type": "code",
   "execution_count": 7,
   "id": "25324119",
   "metadata": {},
   "outputs": [],
   "source": [
    "from sklearn.ensemble import RandomForestClassifier\n",
    "from sklearn.metrics import accuracy_score\n",
    "from sklearn.model_selection import GridSearchCV, cross_val_score"
   ]
  },
  {
   "cell_type": "code",
   "execution_count": 8,
   "id": "48875930",
   "metadata": {},
   "outputs": [
    {
     "data": {
      "text/plain": [
       "0.9744"
      ]
     },
     "execution_count": 8,
     "metadata": {},
     "output_type": "execute_result"
    }
   ],
   "source": [
    "rf_clf = RandomForestClassifier(max_depth=30, n_estimators=300, n_jobs=-1)\n",
    "rf_clf.fit(X_train_scaled, y_train)\n",
    "y_pred = rf_clf.predict(X_valid_scaled)\n",
    "accuracy_score(y_valid, y_pred)"
   ]
  },
  {
   "cell_type": "code",
   "execution_count": 9,
   "id": "f88a9d1d",
   "metadata": {
    "scrolled": true
   },
   "outputs": [
    {
     "data": {
      "text/plain": [
       "0.9756"
      ]
     },
     "execution_count": 9,
     "metadata": {},
     "output_type": "execute_result"
    }
   ],
   "source": [
    "from sklearn.ensemble import ExtraTreesClassifier\n",
    "\n",
    "et_clf = ExtraTreesClassifier(n_estimators=300, max_depth=30, n_jobs=-1)\n",
    "et_clf.fit(X_train_scaled, y_train)\n",
    "y_pred = et_clf.predict(X_valid_scaled)\n",
    "accuracy_score(y_valid, y_pred)"
   ]
  },
  {
   "cell_type": "markdown",
   "id": "edd21f66",
   "metadata": {},
   "source": [
    "**Note** We use svm grid search model from previously train on mnist"
   ]
  },
  {
   "cell_type": "code",
   "execution_count": 10,
   "id": "9df08729",
   "metadata": {
    "scrolled": true
   },
   "outputs": [
    {
     "data": {
      "text/plain": [
       "0.9742"
      ]
     },
     "execution_count": 10,
     "metadata": {},
     "output_type": "execute_result"
    }
   ],
   "source": [
    "from sklearn.svm import SVC\n",
    "\n",
    "svc_clf = SVC(C=2.49816047538945, gamma=0.0015227525095137954, probability=True) # default kernel will be 'rbf'\n",
    "svc_clf.fit(X_train_scaled, y_train)\n",
    "y_pred = svc_clf.predict(X_valid_scaled)\n",
    "accuracy_score(y_valid, y_pred)"
   ]
  },
  {
   "cell_type": "markdown",
   "id": "75bf9587",
   "metadata": {},
   "source": [
    "**Voting Classifier**"
   ]
  },
  {
   "cell_type": "code",
   "execution_count": 11,
   "id": "ea71de7e",
   "metadata": {},
   "outputs": [
    {
     "data": {
      "text/plain": [
       "0.9779"
      ]
     },
     "execution_count": 11,
     "metadata": {},
     "output_type": "execute_result"
    }
   ],
   "source": [
    "from sklearn.ensemble import VotingClassifier\n",
    "\n",
    "estimators = [(\"rf\", rf_clf), (\"et\", et_clf), (\"svc\", svc_clf)]\n",
    "vtg_clf = VotingClassifier(estimators=estimators, voting=\"hard\")\n",
    "vtg_clf.fit(X_train_scaled, y_train)\n",
    "y_pred = vtg_clf.predict(X_valid_scaled)\n",
    "accuracy_score(y_valid, y_pred)"
   ]
  },
  {
   "cell_type": "code",
   "execution_count": 12,
   "id": "d0302502",
   "metadata": {},
   "outputs": [
    {
     "data": {
      "text/plain": [
       "0.982"
      ]
     },
     "execution_count": 12,
     "metadata": {},
     "output_type": "execute_result"
    }
   ],
   "source": [
    "from sklearn.ensemble import VotingClassifier\n",
    "\n",
    "estimators = [(\"rf\", rf_clf), (\"et\", et_clf), (\"svc\", svc_clf)]\n",
    "vtg_clf_soft = VotingClassifier(estimators=estimators, voting=\"soft\")\n",
    "vtg_clf_soft.fit(X_train_scaled, y_train)\n",
    "y_pred = vtg_clf_soft.predict(X_valid_scaled)\n",
    "accuracy_score(y_valid, y_pred)"
   ]
  },
  {
   "cell_type": "code",
   "execution_count": 13,
   "id": "b96ece63",
   "metadata": {},
   "outputs": [
    {
     "data": {
      "text/plain": [
       "0.9769"
      ]
     },
     "execution_count": 13,
     "metadata": {},
     "output_type": "execute_result"
    }
   ],
   "source": [
    "y_pred = vtg_clf_soft.predict(X_test_scaled)\n",
    "accuracy_score(y_test, y_pred)"
   ]
  },
  {
   "cell_type": "markdown",
   "id": "2ea8f53a",
   "metadata": {},
   "source": [
    "**Stacking and Blender**"
   ]
  },
  {
   "cell_type": "code",
   "execution_count": 14,
   "id": "a43b0f48",
   "metadata": {},
   "outputs": [
    {
     "data": {
      "text/plain": [
       "ExtraTreesClassifier(max_depth=30, n_estimators=300, n_jobs=-1)"
      ]
     },
     "execution_count": 14,
     "metadata": {},
     "output_type": "execute_result"
    }
   ],
   "source": [
    "rf_clf.fit(X_train_scaled, y_train)\n",
    "et_clf.fit(X_train_scaled, y_train)"
   ]
  },
  {
   "cell_type": "code",
   "execution_count": 15,
   "id": "e542d438",
   "metadata": {},
   "outputs": [],
   "source": [
    "from sklearn.base import BaseEstimator, TransformerMixin\n",
    "\n",
    "class MakeBlender(BaseEstimator, TransformerMixin):\n",
    "    \n",
    "    def __init__(self):\n",
    "        pass\n",
    "    \n",
    "    def fit(self, X, y=None):\n",
    "        return self\n",
    "    \n",
    "    def transform(self, X, y=None):\n",
    "        y1 = rf_clf.predict(X)\n",
    "        y2 = et_clf.predict(X)\n",
    "        y3 = svc_clf.predict(X)\n",
    "    \n",
    "        return np.c_[y1, y2, y3]"
   ]
  },
  {
   "cell_type": "code",
   "execution_count": 16,
   "id": "51b796f1",
   "metadata": {},
   "outputs": [],
   "source": [
    "blender = MakeBlender()\n",
    "X_blender = blender.fit_transform(X_valid_scaled)"
   ]
  },
  {
   "cell_type": "markdown",
   "id": "d3904223",
   "metadata": {},
   "source": [
    "Training a blender"
   ]
  },
  {
   "cell_type": "code",
   "execution_count": 17,
   "id": "8582ea4b",
   "metadata": {},
   "outputs": [
    {
     "data": {
      "text/plain": [
       "LinearSVC(C=1, loss='hinge')"
      ]
     },
     "execution_count": 17,
     "metadata": {},
     "output_type": "execute_result"
    }
   ],
   "source": [
    "from sklearn.svm import LinearSVC\n",
    "\n",
    "lsvc_clf = LinearSVC(loss=\"hinge\", C=1)\n",
    "lsvc_clf.fit(X_blender[:5000], y_valid[:5000])"
   ]
  },
  {
   "cell_type": "code",
   "execution_count": 18,
   "id": "6faf8cc2",
   "metadata": {},
   "outputs": [
    {
     "data": {
      "text/plain": [
       "0.4046"
      ]
     },
     "execution_count": 18,
     "metadata": {},
     "output_type": "execute_result"
    }
   ],
   "source": [
    "y_pred = lsvc_clf.predict(X_blender[5000:])\n",
    "accuracy_score(y_valid[5000:], y_pred)"
   ]
  },
  {
   "cell_type": "code",
   "execution_count": 19,
   "id": "39389984",
   "metadata": {},
   "outputs": [
    {
     "data": {
      "text/plain": [
       "DecisionTreeClassifier(max_depth=5)"
      ]
     },
     "execution_count": 19,
     "metadata": {},
     "output_type": "execute_result"
    }
   ],
   "source": [
    "from sklearn.tree import DecisionTreeClassifier\n",
    "\n",
    "dt_clf = DecisionTreeClassifier(max_depth=5)\n",
    "dt_clf.fit(X_blender[:5000], y_valid[:5000])"
   ]
  },
  {
   "cell_type": "code",
   "execution_count": 20,
   "id": "b3851ff1",
   "metadata": {},
   "outputs": [
    {
     "data": {
      "text/plain": [
       "0.9766"
      ]
     },
     "execution_count": 20,
     "metadata": {},
     "output_type": "execute_result"
    }
   ],
   "source": [
    "y_pred = dt_clf.predict(X_blender[5000:])\n",
    "accuracy_score(y_valid[5000:], y_pred)"
   ]
  },
  {
   "cell_type": "markdown",
   "id": "237d52b0",
   "metadata": {},
   "source": [
    "**Observations**: DecisionTree Outperforms the LinearSVC due to categorical nature of independent features(blender)\n",
    "\n",
    "Performance Measure of Stacking"
   ]
  },
  {
   "cell_type": "code",
   "execution_count": 21,
   "id": "69419452",
   "metadata": {},
   "outputs": [
    {
     "data": {
      "text/plain": [
       "0.9692"
      ]
     },
     "execution_count": 21,
     "metadata": {},
     "output_type": "execute_result"
    }
   ],
   "source": [
    "X_blender = blender.transform(X_test_scaled)\n",
    "y_pred = dt_clf.predict(X_blender)\n",
    "accuracy_score(y_test, y_pred)"
   ]
  },
  {
   "cell_type": "markdown",
   "id": "dfedf3db",
   "metadata": {},
   "source": [
    "This stacking ensemble does not perform as well as the voting classifier we trained earlier, even as the individual classifier"
   ]
  },
  {
   "cell_type": "code",
   "execution_count": null,
   "id": "6ce25791",
   "metadata": {},
   "outputs": [],
   "source": []
  }
 ],
 "metadata": {
  "kernelspec": {
   "display_name": "Python 3 (ipykernel)",
   "language": "python",
   "name": "python3"
  },
  "language_info": {
   "codemirror_mode": {
    "name": "ipython",
    "version": 3
   },
   "file_extension": ".py",
   "mimetype": "text/x-python",
   "name": "python",
   "nbconvert_exporter": "python",
   "pygments_lexer": "ipython3",
   "version": "3.9.9"
  }
 },
 "nbformat": 4,
 "nbformat_minor": 5
}
