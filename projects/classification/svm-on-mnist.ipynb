{
 "cells": [
  {
   "cell_type": "code",
   "execution_count": 1,
   "id": "d6c97ddb",
   "metadata": {},
   "outputs": [],
   "source": [
    "import numpy as np\n",
    "import pandas as pd\n",
    "import matplotlib as mpl\n",
    "import matplotlib.pyplot as plt\n",
    "%matplotlib inline"
   ]
  },
  {
   "cell_type": "code",
   "execution_count": 2,
   "id": "dcc6a687",
   "metadata": {},
   "outputs": [],
   "source": [
    "from sklearn.datasets import fetch_openml\n",
    "mnist = fetch_openml(\"mnist_784\" ,version=1)"
   ]
  },
  {
   "cell_type": "code",
   "execution_count": 3,
   "id": "9c8e8228",
   "metadata": {},
   "outputs": [],
   "source": [
    "X = mnist[\"data\"]\n",
    "y = mnist[\"target\"]"
   ]
  },
  {
   "cell_type": "code",
   "execution_count": 4,
   "id": "c38e6ec0",
   "metadata": {},
   "outputs": [],
   "source": [
    "y = y.astype(np.uint8) # converting string labels to integers"
   ]
  },
  {
   "cell_type": "code",
   "execution_count": 5,
   "id": "9da55a95",
   "metadata": {},
   "outputs": [],
   "source": [
    "X_train, X_test, y_train, y_test = X.iloc[:60000], X.iloc[60000:], y.iloc[:60000], y.iloc[60000:]"
   ]
  },
  {
   "cell_type": "code",
   "execution_count": 6,
   "id": "9b3cdcb2",
   "metadata": {},
   "outputs": [],
   "source": [
    "from sklearn.preprocessing import StandardScaler\n",
    "\n",
    "scaler = StandardScaler()\n",
    "X_train_scaled = scaler.fit_transform(X_train)"
   ]
  },
  {
   "cell_type": "code",
   "execution_count": 10,
   "id": "cd7deab5",
   "metadata": {},
   "outputs": [
    {
     "data": {
      "text/plain": [
       "0.9821"
      ]
     },
     "execution_count": 10,
     "metadata": {},
     "output_type": "execute_result"
    }
   ],
   "source": [
    "from sklearn.svm import SVC\n",
    "from sklearn.model_selection import cross_val_score\n",
    "from sklearn.metrics import accuracy_score\n",
    "\n",
    "svm_clf = SVC(kernel=\"linear\", C=1.0) # we can also use LinearSVM instead\n",
    "svm_clf.fit(X_train_scaled, y_train)\n",
    "y_pred = svm_clf.predict(X_train_scaled)\n",
    "sum(y_pred==y_train)/len(y_train)"
   ]
  },
  {
   "cell_type": "code",
   "execution_count": 13,
   "id": "fdb3b256",
   "metadata": {},
   "outputs": [
    {
     "data": {
      "text/plain": [
       "array([0.9154, 0.9172, 0.9185])"
      ]
     },
     "execution_count": 13,
     "metadata": {},
     "output_type": "execute_result"
    }
   ],
   "source": [
    "cross_val_score(svm_clf, X_train_scaled, y_train, cv=3, scoring=\"accuracy\")"
   ]
  },
  {
   "cell_type": "markdown",
   "id": "b7236522",
   "metadata": {},
   "source": [
    "##### Observations\n",
    "    - Cross validation accuracy is reduced arround 91.50%. Clearly there is overfitting issues with model.\n",
    "    - To overcome overfitting we should reduce the value of \"C\". GridSearch is option for that"
   ]
  },
  {
   "cell_type": "code",
   "execution_count": 14,
   "id": "ebb51c8a",
   "metadata": {},
   "outputs": [
    {
     "data": {
      "text/plain": [
       "GridSearchCV(cv=3, estimator=SVC(kernel='linear'),\n",
       "             param_grid=[{'C': array([0.55252955, 0.51938365, 0.71316527])}],\n",
       "             scoring='accuracy')"
      ]
     },
     "execution_count": 14,
     "metadata": {},
     "output_type": "execute_result"
    }
   ],
   "source": [
    "from sklearn.model_selection import GridSearchCV\n",
    "\n",
    "svm_clf = SVC(kernel=\"linear\")\n",
    "param_grid = [{\"C\": np.random.uniform(0.5, 1, 3)}]\n",
    "grid_cv = GridSearchCV(svm_clf, param_grid, cv=3, scoring=\"accuracy\")\n",
    "grid_cv.fit(X_train_scaled, y_train)"
   ]
  },
  {
   "cell_type": "code",
   "execution_count": 15,
   "id": "1316cf74",
   "metadata": {},
   "outputs": [
    {
     "data": {
      "text/plain": [
       "{'C': 0.5193836540260357}"
      ]
     },
     "execution_count": 15,
     "metadata": {},
     "output_type": "execute_result"
    }
   ],
   "source": [
    "grid_cv.best_params_"
   ]
  },
  {
   "cell_type": "code",
   "execution_count": 16,
   "id": "e958d173",
   "metadata": {},
   "outputs": [
    {
     "data": {
      "text/plain": [
       "SVC(C=0.5193836540260357, kernel='linear')"
      ]
     },
     "execution_count": 16,
     "metadata": {},
     "output_type": "execute_result"
    }
   ],
   "source": [
    "grid_cv.best_estimator_"
   ]
  },
  {
   "cell_type": "markdown",
   "id": "acac6035",
   "metadata": {},
   "source": [
    "##### Note:\n",
    "    - Due to more time complexity we will consider fue intances to GridSearch and cross validations"
   ]
  },
  {
   "cell_type": "code",
   "execution_count": 70,
   "id": "9983e400",
   "metadata": {},
   "outputs": [
    {
     "data": {
      "text/plain": [
       "GridSearchCV(cv=3, estimator=SVC(kernel='linear'),\n",
       "             param_grid=[{'C': array([0.18727006, 0.47535715, 0.36599697])}],\n",
       "             scoring='accuracy')"
      ]
     },
     "execution_count": 70,
     "metadata": {},
     "output_type": "execute_result"
    }
   ],
   "source": [
    "np.random.seed(42)\n",
    "param_grid = [{\"C\": np.random.uniform(0, 0.5, 3)}]\n",
    "grid_cv = GridSearchCV(svm_clf, param_grid, cv=3, scoring=\"accuracy\")\n",
    "grid_cv.fit(X_train_scaled[:3000], y_train[:3000])"
   ]
  },
  {
   "cell_type": "code",
   "execution_count": 71,
   "id": "0bdd72ba",
   "metadata": {},
   "outputs": [
    {
     "data": {
      "text/plain": [
       "{'C': 0.18727005942368125}"
      ]
     },
     "execution_count": 71,
     "metadata": {},
     "output_type": "execute_result"
    }
   ],
   "source": [
    "grid_cv.best_params_"
   ]
  },
  {
   "cell_type": "code",
   "execution_count": 72,
   "id": "f582e1bf",
   "metadata": {},
   "outputs": [
    {
     "data": {
      "text/plain": [
       "SVC(C=0.18727005942368125, kernel='linear')"
      ]
     },
     "execution_count": 72,
     "metadata": {},
     "output_type": "execute_result"
    }
   ],
   "source": [
    "grid_cv.best_estimator_"
   ]
  },
  {
   "cell_type": "markdown",
   "id": "931eb68a",
   "metadata": {},
   "source": [
    "#### Observations\n",
    "    - Here with linear kernal very less regularization is required do we found the lowest value of C. If we aproch more towards the zero then GridSearch also prefere the lesser value "
   ]
  },
  {
   "cell_type": "code",
   "execution_count": 76,
   "id": "2309bf74",
   "metadata": {},
   "outputs": [
    {
     "data": {
      "text/plain": [
       "GridSearchCV(cv=3, estimator=SVC(kernel='linear'),\n",
       "             param_grid=[{'C': array([0.03745401, 0.09507143, 0.07319939])}],\n",
       "             scoring='accuracy')"
      ]
     },
     "execution_count": 76,
     "metadata": {},
     "output_type": "execute_result"
    }
   ],
   "source": [
    "np.random.seed(42)\n",
    "param_grid = [{\"C\": np.random.uniform(0, 0.1, 3)}]\n",
    "grid_cv = GridSearchCV(svm_clf, param_grid, cv=3, scoring=\"accuracy\")\n",
    "grid_cv.fit(X_train_scaled[:5000], y_train[:5000])"
   ]
  },
  {
   "cell_type": "code",
   "execution_count": 77,
   "id": "f7ffea5f",
   "metadata": {},
   "outputs": [
    {
     "data": {
      "text/plain": [
       "{'C': 0.03745401188473625}"
      ]
     },
     "execution_count": 77,
     "metadata": {},
     "output_type": "execute_result"
    }
   ],
   "source": [
    "grid_cv.best_params_"
   ]
  },
  {
   "cell_type": "code",
   "execution_count": 78,
   "id": "95319390",
   "metadata": {},
   "outputs": [
    {
     "data": {
      "text/plain": [
       "SVC(C=0.03745401188473625, kernel='linear')"
      ]
     },
     "execution_count": 78,
     "metadata": {},
     "output_type": "execute_result"
    }
   ],
   "source": [
    "grid_cv.best_estimator_"
   ]
  },
  {
   "cell_type": "code",
   "execution_count": 79,
   "id": "273afe41",
   "metadata": {},
   "outputs": [
    {
     "data": {
      "text/plain": [
       "array([0.92111578, 0.92439244, 0.90669067])"
      ]
     },
     "execution_count": 79,
     "metadata": {},
     "output_type": "execute_result"
    }
   ],
   "source": [
    "best_svm_model = grid_cv.best_estimator_\n",
    "cross_val_score(best_svm_model, X_train_scaled[:10000], y_train[:10000], cv=3, scoring=\"accuracy\")"
   ]
  },
  {
   "cell_type": "markdown",
   "id": "0914ac4b",
   "metadata": {},
   "source": [
    "##### Observations\n",
    "    - As reducing the regularization parameter the accuracy increases by 1%.\n",
    "    - If further grid search is done with \"C\", we can improve accuracy by some value"
   ]
  },
  {
   "cell_type": "code",
   "execution_count": 82,
   "id": "c90bebdc",
   "metadata": {},
   "outputs": [
    {
     "data": {
      "text/plain": [
       "0.9449166666666666"
      ]
     },
     "execution_count": 82,
     "metadata": {},
     "output_type": "execute_result"
    }
   ],
   "source": [
    "svm_clf = SVC(kernel=\"rbf\", gamma=\"auto\") # rbf is default kernel in SVC\n",
    "svm_clf.fit(X_train_scaled[:10000], y_train[:10000])\n",
    "y_pred = svm_clf.predict(X_train_scaled)\n",
    "accuracy_score(y_train, y_pred)"
   ]
  },
  {
   "cell_type": "markdown",
   "id": "39368b43",
   "metadata": {},
   "source": [
    "##### Observations:\n",
    "    Overall quite good accuracy with rbf kernel, though we have used only 16% of the data to train the model. If we use more instances then we can have more accuracy \n",
    "    \n",
    "    Tunning hyperparameter will be more accurate then this"
   ]
  },
  {
   "cell_type": "code",
   "execution_count": 107,
   "id": "bdc9e169",
   "metadata": {},
   "outputs": [
    {
     "data": {
      "text/plain": [
       "GridSearchCV(cv=3, estimator=SVC(),\n",
       "             param_grid=[{'C': array([4.37086107, 9.55642876, 7.58794548, 6.38792636, 2.40416776]),\n",
       "                          'gamma': array([0.01644346, 0.00675028, 0.08675144, 0.06051039, 0.07109919])}],\n",
       "             scoring='accuracy')"
      ]
     },
     "execution_count": 107,
     "metadata": {},
     "output_type": "execute_result"
    }
   ],
   "source": [
    "np.random.seed(42)\n",
    "svm_clf = SVC() # rbf is default kernel in svc\n",
    "param_grid = [{\"C\": np.random.uniform(1, 10, 5),\n",
    "              \"gamma\": np.random.uniform(0.001, 0.1, 5)}]\n",
    "grid_cv = GridSearchCV(svm_clf, param_grid, cv=3, scoring=\"accuracy\")\n",
    "grid_cv.fit(X_train_scaled[:2500], y_train[:2500])"
   ]
  },
  {
   "cell_type": "code",
   "execution_count": 108,
   "id": "1f9c6ce6",
   "metadata": {},
   "outputs": [
    {
     "data": {
      "text/plain": [
       "SVC(C=4.370861069626263, gamma=0.006750277604651747)"
      ]
     },
     "execution_count": 108,
     "metadata": {},
     "output_type": "execute_result"
    }
   ],
   "source": [
    "grid_cv.best_estimator_"
   ]
  },
  {
   "cell_type": "code",
   "execution_count": 109,
   "id": "358aef5f",
   "metadata": {},
   "outputs": [
    {
     "data": {
      "text/plain": [
       "0.8819"
      ]
     },
     "execution_count": 109,
     "metadata": {},
     "output_type": "execute_result"
    }
   ],
   "source": [
    "best_model = grid_cv.best_estimator_\n",
    "best_model.fit(X_train_scaled[:10000], y_train[:10000])\n",
    "y_pred = best_model.predict(X_train_scaled) \n",
    "accuracy_score(y_train, y_pred)"
   ]
  },
  {
   "cell_type": "markdown",
   "id": "d1590abf",
   "metadata": {},
   "source": [
    "More fine grid search"
   ]
  },
  {
   "cell_type": "code",
   "execution_count": 111,
   "id": "eaae3c7e",
   "metadata": {},
   "outputs": [
    {
     "data": {
      "text/plain": [
       "GridSearchCV(cv=3, estimator=SVC(),\n",
       "             param_grid=[{'C': array([2.49816048, 4.80285723, 3.92797577, 3.39463394, 1.62407456]),\n",
       "                          'gamma': array([0.00240395, 0.00152275, 0.00879559, 0.00641004, 0.00737265])}],\n",
       "             scoring='accuracy')"
      ]
     },
     "execution_count": 111,
     "metadata": {},
     "output_type": "execute_result"
    }
   ],
   "source": [
    "np.random.seed(42)\n",
    "svm_clf = SVC() # rbf is default kernel in svc\n",
    "param_grid = [{\"C\": np.random.uniform(1, 5, 5),\n",
    "              \"gamma\": np.random.uniform(0.001, 0.01, 5)}]\n",
    "grid_cv = GridSearchCV(svm_clf, param_grid, cv=3, scoring=\"accuracy\")\n",
    "grid_cv.fit(X_train_scaled[:2500], y_train[:2500])"
   ]
  },
  {
   "cell_type": "code",
   "execution_count": 112,
   "id": "67fdd4ab",
   "metadata": {},
   "outputs": [
    {
     "data": {
      "text/plain": [
       "SVC(C=2.49816047538945, gamma=0.0015227525095137954)"
      ]
     },
     "execution_count": 112,
     "metadata": {},
     "output_type": "execute_result"
    }
   ],
   "source": [
    "grid_cv.best_estimator_"
   ]
  },
  {
   "cell_type": "code",
   "execution_count": 113,
   "id": "2e2a4ac0",
   "metadata": {},
   "outputs": [
    {
     "data": {
      "text/plain": [
       "0.9528833333333333"
      ]
     },
     "execution_count": 113,
     "metadata": {},
     "output_type": "execute_result"
    }
   ],
   "source": [
    "best_model = grid_cv.best_estimator_\n",
    "best_model.fit(X_train_scaled[:10000], y_train[:10000])\n",
    "y_pred = best_model.predict(X_train_scaled) \n",
    "accuracy_score(y_train, y_pred)"
   ]
  },
  {
   "cell_type": "markdown",
   "id": "823478ab",
   "metadata": {},
   "source": [
    "##### Observations\n",
    "    Model is trained with only 16% of the data, if it is trained with more training data instaces then it can produce more accuracy"
   ]
  },
  {
   "cell_type": "code",
   "execution_count": null,
   "id": "6fc0a336",
   "metadata": {},
   "outputs": [],
   "source": []
  },
  {
   "cell_type": "code",
   "execution_count": null,
   "id": "90ea1f69",
   "metadata": {},
   "outputs": [],
   "source": []
  },
  {
   "cell_type": "code",
   "execution_count": null,
   "id": "f2304d9c",
   "metadata": {},
   "outputs": [],
   "source": []
  }
 ],
 "metadata": {
  "kernelspec": {
   "display_name": "Python 3 (ipykernel)",
   "language": "python",
   "name": "python3"
  },
  "language_info": {
   "codemirror_mode": {
    "name": "ipython",
    "version": 3
   },
   "file_extension": ".py",
   "mimetype": "text/x-python",
   "name": "python",
   "nbconvert_exporter": "python",
   "pygments_lexer": "ipython3",
   "version": "3.9.10"
  }
 },
 "nbformat": 4,
 "nbformat_minor": 5
}
